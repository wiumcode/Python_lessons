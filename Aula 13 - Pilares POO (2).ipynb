{
 "cells": [
  {
   "cell_type": "markdown",
   "id": "351ed731-7244-4d4b-bf38-b34ce2e68817",
   "metadata": {},
   "source": [
    "# Programação Orientada à Objetos"
   ]
  },
  {
   "cell_type": "markdown",
   "id": "1f73adac-5871-4a28-8047-9ff14a1201c7",
   "metadata": {},
   "source": [
    "# Abstração"
   ]
  },
  {
   "cell_type": "markdown",
   "id": "df0210ec-814c-4605-b5a1-b5294e9ebdfe",
   "metadata": {},
   "source": [
    "Na programação as classes sempre vão ser abstrações de entidades do mundo real"
   ]
  },
  {
   "cell_type": "markdown",
   "id": "72c2041c-74a5-47a4-8121-13c0a5146d84",
   "metadata": {},
   "source": [
    "Isto é, devemos apenas colocar atributos e métodos importantes para a nossa solução dentro das classes"
   ]
  },
  {
   "cell_type": "code",
   "execution_count": null,
   "id": "f832a7f8-ff38-40cf-be02-cf689b1e1d93",
   "metadata": {},
   "outputs": [],
   "source": [
    "class Cliente():\n",
    "    \n",
    "    def __init__(self, matricula, nome, idade):\n",
    "        self.matricula = matricula\n",
    "        self.nome = nome\n",
    "        self.idade = idade\n",
    "        \n",
    "    def apresentacao(self):\n",
    "        return \"Prazer meu nome eh \"+self.nome+\", eu tenho \"+str(self.idade)+\" anos.\""
   ]
  },
  {
   "cell_type": "markdown",
   "id": "b5db8c83-e996-4647-aec2-c8d576ac5786",
   "metadata": {},
   "source": [
    "# Encapsulamento"
   ]
  },
  {
   "cell_type": "markdown",
   "id": "52a29e22-5b0c-4395-92b2-2ca5d1d78606",
   "metadata": {},
   "source": [
    "### Exemplo Conta corrente"
   ]
  },
  {
   "cell_type": "code",
   "execution_count": null,
   "id": "303a8740-822f-4926-b5f9-0b074557dae0",
   "metadata": {},
   "outputs": [],
   "source": [
    "class Conta_corrente():\n",
    "    \n",
    "    __taxaBanco = 0.01 # atributo de classe privado ou encapsulado na classe\n",
    "    moeda = \"euro\" # atributo de classe publico\n",
    "    \n",
    "    def __init__(self, proprietario, conta, agencia, saldo_inicial):\n",
    "        self.proprietario = proprietario\n",
    "        self.conta = conta\n",
    "        self.agencia = agencia\n",
    "        self.saldo = saldo_inicial\n",
    "        \n",
    "    def get_saldo(self):\n",
    "        \"\"\"\n",
    "        Retorna o valor na saldo da conta corrente.\n",
    "        \n",
    "        return:\n",
    "            saldo da conta menos a taxa do banco.\n",
    "        \"\"\"\n",
    "        self.__get_cookies()\n",
    "        return self.saldo*(1-self.__taxaBanco)\n",
    "    \n",
    "    def add_dinheiro(self, money):\n",
    "        \"\"\"\n",
    "        Adiciona dinheiro ao saldo da conta corrente.\n",
    "        \n",
    "        params:\n",
    "            money (float) : dinheiro para ser depositado\n",
    "        \"\"\"\n",
    "        self.saldo+=money\n",
    "        \n",
    "    def levanta_dinheiro(self, money): # método publico\n",
    "        \"\"\"\n",
    "        Retira dinheiro do saldo da conta corrente.\n",
    "        \n",
    "        params:\n",
    "            money (float) : dinheiro para ser levantado\n",
    "        \"\"\"\n",
    "        self.saldo-=money\n",
    "        \n",
    "    def __get_cookies(self): # método privado\n",
    "        print(\"peguei os cookies\")"
   ]
  },
  {
   "cell_type": "code",
   "execution_count": null,
   "id": "115fbccc-69b6-42df-a871-ebf9f708bc63",
   "metadata": {},
   "outputs": [],
   "source": [
    "willem_cc = Conta_corrente(\"Willem\", 1, 2, 300)"
   ]
  },
  {
   "cell_type": "code",
   "execution_count": null,
   "id": "fd8c297e-8638-47f0-8533-25fded988764",
   "metadata": {},
   "outputs": [],
   "source": [
    "willem_cc.__taxaBanco"
   ]
  },
  {
   "cell_type": "code",
   "execution_count": null,
   "id": "685e82ba-acbb-420b-ae0c-69c42585bde5",
   "metadata": {},
   "outputs": [],
   "source": [
    "willem_cc.get_saldo()"
   ]
  },
  {
   "cell_type": "code",
   "execution_count": null,
   "id": "25943461-c13c-4c33-803f-2c6f36aa2436",
   "metadata": {},
   "outputs": [],
   "source": [
    "willem_cc.__get_cookies()"
   ]
  },
  {
   "cell_type": "markdown",
   "id": "664cd5e1-90a5-4446-8b81-c66e6094d8c2",
   "metadata": {},
   "source": [
    "### Exemplo Carro"
   ]
  },
  {
   "cell_type": "code",
   "execution_count": null,
   "id": "4e6a5eea-edf8-48d4-9638-ef8c7573263f",
   "metadata": {},
   "outputs": [],
   "source": [
    "from veiculos import Carro"
   ]
  },
  {
   "cell_type": "code",
   "execution_count": null,
   "id": "67f50e79-3683-408b-89cf-77ea4fff1a18",
   "metadata": {},
   "outputs": [],
   "source": [
    "car1 = Carro(\"Renault\", \"Duster\", 2019)\n",
    "car2 = Carro(\"Ford\", \"Ka\", 2023)"
   ]
  },
  {
   "cell_type": "code",
   "execution_count": null,
   "id": "71090b98-3ac1-412d-a8c1-b6924b97c0f7",
   "metadata": {},
   "outputs": [],
   "source": [
    "car1.acelerar()\n",
    "car1.get_velocidade()"
   ]
  },
  {
   "cell_type": "code",
   "execution_count": null,
   "id": "e1005d79-8783-44ba-878e-fd45165d81fd",
   "metadata": {},
   "outputs": [],
   "source": [
    "car2.modelo"
   ]
  },
  {
   "cell_type": "code",
   "execution_count": null,
   "id": "a16f97d3-540a-4b72-a689-ed2f5c0c0694",
   "metadata": {},
   "outputs": [],
   "source": [
    "car1.marca"
   ]
  },
  {
   "cell_type": "markdown",
   "id": "1bcc0935-5593-4638-9187-736a587fa7d7",
   "metadata": {},
   "source": [
    "### Documentação ajuda a entender classes"
   ]
  },
  {
   "cell_type": "code",
   "execution_count": null,
   "id": "97f7c3b7-34cd-4542-a339-bdfe985de781",
   "metadata": {
    "tags": []
   },
   "outputs": [],
   "source": [
    "import veiculos\n",
    "help(veiculos.Carro)"
   ]
  },
  {
   "cell_type": "code",
   "execution_count": null,
   "id": "d9d2e436-4435-4548-960d-f9f38691f736",
   "metadata": {
    "tags": []
   },
   "outputs": [],
   "source": [
    "help(Conta_corrente)"
   ]
  },
  {
   "cell_type": "code",
   "execution_count": null,
   "id": "40f94433-77f3-480a-b1cc-3b01204be008",
   "metadata": {
    "tags": []
   },
   "outputs": [],
   "source": [
    "dir(Conta_corrente) # dir mostra os métodos e atributos privados"
   ]
  },
  {
   "cell_type": "markdown",
   "id": "bdbf3eef-d4ba-46d4-9455-d57d271ef593",
   "metadata": {},
   "source": [
    "# Herança"
   ]
  },
  {
   "cell_type": "markdown",
   "id": "5b62165a-0455-4956-9df5-02af29f3092b",
   "metadata": {},
   "source": [
    "### Exemplo 1"
   ]
  },
  {
   "cell_type": "code",
   "execution_count": null,
   "id": "f68e10cb-e3c7-4aca-b1a6-2f5a3b0d7453",
   "metadata": {},
   "outputs": [],
   "source": [
    "class Animal():\n",
    "    \n",
    "    def __init__(self, nome):\n",
    "        print(\"Animal criado\")\n",
    "        self.nome = nome\n",
    "        \n",
    "    def oQueSou(self):\n",
    "        return \"Animal\"\n",
    "    \n",
    "    def come(self):\n",
    "        return \"comendo\"\n",
    "    \n",
    "    def som(self):\n",
    "        return \"AAAAA\""
   ]
  },
  {
   "cell_type": "code",
   "execution_count": null,
   "id": "b3888a15-a025-45a5-bc72-e762cae9847a",
   "metadata": {},
   "outputs": [],
   "source": [
    "class Cao(Animal):\n",
    "    \n",
    "    # herança = come e o init\n",
    "    \n",
    "    def oQueSou(self): #overwrite\n",
    "        return \"Cao\"\n",
    "    \n",
    "    def som(self):  #overwrite\n",
    "        return \"Auau\""
   ]
  },
  {
   "cell_type": "code",
   "execution_count": null,
   "id": "ba18fa68-1568-4583-9b99-c670a57d690f",
   "metadata": {},
   "outputs": [],
   "source": [
    "class Gato(Animal):\n",
    "    \n",
    "    def oQueSou(self):\n",
    "        return \"Gato\"\n",
    "    \n",
    "    def som(self):\n",
    "        return \"Miau\""
   ]
  },
  {
   "cell_type": "code",
   "execution_count": null,
   "id": "3c153b7f-ed13-4350-9493-61389bda3e2d",
   "metadata": {},
   "outputs": [],
   "source": [
    "cao1 = Cao(\"Rex\")\n",
    "gato1 = Gato(\"Garfield\")"
   ]
  },
  {
   "cell_type": "code",
   "execution_count": null,
   "id": "5cec8667-4769-4281-8291-3b02308d1f24",
   "metadata": {},
   "outputs": [],
   "source": [
    "cao1.som()"
   ]
  },
  {
   "cell_type": "code",
   "execution_count": null,
   "id": "a59ae929-cd54-4f55-96cb-31a5a97509ee",
   "metadata": {},
   "outputs": [],
   "source": [
    "cao1.come()"
   ]
  },
  {
   "cell_type": "code",
   "execution_count": null,
   "id": "b8768ce3-0121-4b3f-b611-fb5bf539c93b",
   "metadata": {},
   "outputs": [],
   "source": [
    "cao1.oQueSou()"
   ]
  },
  {
   "cell_type": "code",
   "execution_count": null,
   "id": "44ce52e3-6fce-4e2c-ad47-7eeab3fb24f3",
   "metadata": {},
   "outputs": [],
   "source": [
    "gato1.come()"
   ]
  },
  {
   "cell_type": "code",
   "execution_count": null,
   "id": "0f1e539f-2f93-45a4-82df-f95a1a853273",
   "metadata": {},
   "outputs": [],
   "source": [
    "gato1.som()"
   ]
  },
  {
   "cell_type": "markdown",
   "id": "29f1f96b-6bf2-4525-a30e-c3cf16c2127e",
   "metadata": {},
   "source": [
    "### Exemplo 2"
   ]
  },
  {
   "cell_type": "code",
   "execution_count": null,
   "id": "7fe3d2c7-7146-4066-b493-4fc95fbfa925",
   "metadata": {},
   "outputs": [],
   "source": [
    "class Rectangulo():\n",
    "    \n",
    "    def __init__(self, ladoA, ladoB):\n",
    "        self.ladoA = ladoA\n",
    "        self.ladoB = ladoB\n",
    "        \n",
    "    def area(self):\n",
    "        return self.ladoA * self.ladoB\n",
    "    \n",
    "\n",
    "class Quadrado(Rectangulo):\n",
    "    \n",
    "    def __init__(self, lado):\n",
    "        super().__init__(lado,lado)\n",
    "        \n",
    "    def area(self):\n",
    "        return \"Area: \" + str(super().area())\n",
    "    "
   ]
  },
  {
   "cell_type": "code",
   "execution_count": null,
   "id": "56d930eb-adac-4bfa-b49c-3a81f64b5e51",
   "metadata": {},
   "outputs": [],
   "source": [
    "retangle = Rectangulo(10,50)\n",
    "square = Quadrado(10)"
   ]
  },
  {
   "cell_type": "code",
   "execution_count": null,
   "id": "d766c7dc-b50c-4803-ac71-cb432797a344",
   "metadata": {},
   "outputs": [],
   "source": [
    "retangle.area()"
   ]
  },
  {
   "cell_type": "code",
   "execution_count": null,
   "id": "0366cf8d-4d1f-4d21-b3c0-f28137446c9a",
   "metadata": {},
   "outputs": [],
   "source": [
    "square.area()"
   ]
  },
  {
   "cell_type": "markdown",
   "id": "30c9d123-79dc-4220-a7fd-00cc9981b5af",
   "metadata": {},
   "source": [
    "### Exemplo 3"
   ]
  },
  {
   "cell_type": "code",
   "execution_count": null,
   "id": "c35734a8-903e-47af-a36e-e9d663aabf07",
   "metadata": {},
   "outputs": [],
   "source": [
    "class Cliente():\n",
    "    \n",
    "    def __init__(self, nome, matricula):\n",
    "        self.nome = nome\n",
    "        self.matricula = matricula\n",
    "        self.historico_compras = []\n",
    "        \n",
    "    def add_compra(self, nova_compra, valor):\n",
    "        item = {nova_compra:valor}\n",
    "        self.historico_compras.append(item)\n",
    "        \n",
    "    def valor_para_pagar(self, valor):\n",
    "        return valor\n",
    "        "
   ]
  },
  {
   "cell_type": "code",
   "execution_count": null,
   "id": "b594f90c-fd0e-4d4f-84dd-2344ee732a88",
   "metadata": {},
   "outputs": [],
   "source": [
    "class Cliente_VIP(Cliente):\n",
    "    \n",
    "    pontos = 0\n",
    "    \n",
    "    def add_compra(self, nova_compra, valor):\n",
    "        super().add_compra(nova_compra, valor)\n",
    "        self.pontos += 1\n",
    "        \n",
    "    def valor_para_pagar(self, valor):\n",
    "        return valor - self.pontos/100"
   ]
  },
  {
   "cell_type": "code",
   "execution_count": null,
   "id": "63212373-e661-4383-866e-379a6f6f8818",
   "metadata": {},
   "outputs": [],
   "source": [
    "marcio = Cliente(\"Marcio\", 1)\n",
    "willem = Cliente_VIP(\"Willem\", 2)"
   ]
  },
  {
   "cell_type": "code",
   "execution_count": null,
   "id": "0d158c39-dd05-4210-b978-ed438f733d16",
   "metadata": {},
   "outputs": [],
   "source": [
    "marcio.add_compra(\"tenis\", 40)\n",
    "marcio.add_compra(\"chapeu\", 20)\n",
    "willem.add_compra(\"laptop\", 5000)\n",
    "willem.add_compra(\"ps5\", 3000)"
   ]
  },
  {
   "cell_type": "code",
   "execution_count": null,
   "id": "bfdfb258-0353-4e6e-b023-9bbc5e48fa28",
   "metadata": {},
   "outputs": [],
   "source": [
    "marcio.historico_compras"
   ]
  },
  {
   "cell_type": "code",
   "execution_count": null,
   "id": "624154f4-0914-4373-b7ea-24d10966286e",
   "metadata": {},
   "outputs": [],
   "source": [
    "willem.historico_compras"
   ]
  },
  {
   "cell_type": "code",
   "execution_count": null,
   "id": "43baac6e-f43f-441e-9719-c0f38f40a380",
   "metadata": {},
   "outputs": [],
   "source": [
    "willem.pontos"
   ]
  },
  {
   "cell_type": "code",
   "execution_count": null,
   "id": "4af2104a-af7e-466b-a7e2-dac082d5fa75",
   "metadata": {},
   "outputs": [],
   "source": [
    "willem.valor_para_pagar(100)"
   ]
  },
  {
   "cell_type": "code",
   "execution_count": null,
   "id": "8b583d93-9a82-4077-8832-61a42a5a9bb5",
   "metadata": {},
   "outputs": [],
   "source": [
    "marcio.valor_para_pagar(100)"
   ]
  },
  {
   "cell_type": "markdown",
   "id": "4397b544-3454-406c-b188-58c580feb9c0",
   "metadata": {
    "tags": []
   },
   "source": [
    "### Herança Multipla"
   ]
  },
  {
   "cell_type": "code",
   "execution_count": null,
   "id": "37c458b6-7e42-4474-b619-3c2a75e58a00",
   "metadata": {},
   "outputs": [],
   "source": [
    "class Pessoa():\n",
    "    \n",
    "    def __init__(self, nome, idade):\n",
    "        self.nome = nome\n",
    "        self.idade = idade\n",
    "        \n",
    "    def diz_nome(self):\n",
    "        return \"Meu nome é \"+self.nome\n",
    "    \n",
    "class Professor(Pessoa):\n",
    "    \n",
    "    def __init__(self, nome, idade, materia):\n",
    "        super().__init__(nome, idade)\n",
    "        self.materia = materia\n",
    "        \n",
    "    \n",
    "    def leciona(self):\n",
    "        return self.materia\n",
    "    \n",
    "    \n",
    "class Aluno(Pessoa):\n",
    "    \n",
    "    def chora(self):\n",
    "        return \"Buaaa\"\n",
    "      \n",
    "class Professor_Aluno(Professor, Aluno):\n",
    "    \n",
    "    def reclama_da_vida(self):\n",
    "        frase = super().chora()\n",
    "        frase += \" \"+ super().leciona()\n",
    "        frase += \" eh muito dificil\"\n",
    "        return frase\n",
    "    \n",
    "\n",
    "class Jogador_Futebol(Pessoa):\n",
    "    \n",
    "    def joga(self):\n",
    "        return \"jogando\"\n",
    "    \n",
    "\n",
    "class Casado(Professor, Jogador_Futebol):\n",
    "    \n",
    "    def engorda(self):\n",
    "        return \"comendo\""
   ]
  },
  {
   "cell_type": "code",
   "execution_count": null,
   "id": "a00bacb7-bbea-49ab-a4b7-f96a1ee3014f",
   "metadata": {},
   "outputs": [],
   "source": [
    "marcio = Professor(\"Marcio\", 34, \"Python\")\n",
    "willem = Aluno(\"Willem\", 27)"
   ]
  },
  {
   "cell_type": "code",
   "execution_count": null,
   "id": "19ec7319-6def-447d-b27b-6a140d89476f",
   "metadata": {},
   "outputs": [],
   "source": [
    "marcio.diz_nome()"
   ]
  },
  {
   "cell_type": "code",
   "execution_count": null,
   "id": "d39f4857-0c69-48fc-b900-2400fa049997",
   "metadata": {},
   "outputs": [],
   "source": [
    "willem.diz_nome()"
   ]
  },
  {
   "cell_type": "code",
   "execution_count": null,
   "id": "e68dff04-abe9-4cf6-9ac5-baba992f84b2",
   "metadata": {},
   "outputs": [],
   "source": [
    "willem.chora()"
   ]
  },
  {
   "cell_type": "code",
   "execution_count": null,
   "id": "f230c135-992e-454f-bbf7-162fb68150fc",
   "metadata": {},
   "outputs": [],
   "source": [
    "willem = Professor_Aluno(\"Willem\", 28, \"Business\")"
   ]
  },
  {
   "cell_type": "code",
   "execution_count": null,
   "id": "44bb918e-3f3d-47a0-b98e-72c4cfcfd017",
   "metadata": {},
   "outputs": [],
   "source": [
    "willem.chora()"
   ]
  },
  {
   "cell_type": "code",
   "execution_count": null,
   "id": "36d59303-51be-4550-80c5-503c5e71bbd1",
   "metadata": {},
   "outputs": [],
   "source": [
    "willem.leciona()"
   ]
  },
  {
   "cell_type": "code",
   "execution_count": null,
   "id": "34d95f80-7f7b-4e10-a020-02e28707b715",
   "metadata": {},
   "outputs": [],
   "source": [
    "willem.reclama_da_vida()"
   ]
  },
  {
   "cell_type": "code",
   "execution_count": null,
   "id": "fef01fee-da7e-4898-bbb2-9c9dfe9cc630",
   "metadata": {},
   "outputs": [],
   "source": [
    "ze = Casado(\"Jose\", 50, \"Vida\")"
   ]
  },
  {
   "cell_type": "code",
   "execution_count": null,
   "id": "0ef5131e-609c-4712-b2b5-bfff2af80f32",
   "metadata": {},
   "outputs": [],
   "source": [
    "ze.engorda()"
   ]
  },
  {
   "cell_type": "code",
   "execution_count": null,
   "id": "d3735a6a-3691-4839-8c4d-bd9d79ef5137",
   "metadata": {},
   "outputs": [],
   "source": [
    "ze.leciona()"
   ]
  },
  {
   "cell_type": "code",
   "execution_count": null,
   "id": "e6d42434-3938-4e88-9759-72a712113630",
   "metadata": {},
   "outputs": [],
   "source": [
    "ze.joga()"
   ]
  },
  {
   "cell_type": "markdown",
   "id": "8ebefd60-2b01-465e-8b5a-bd43516b1b93",
   "metadata": {},
   "source": [
    "# Polimorfismo"
   ]
  },
  {
   "cell_type": "code",
   "execution_count": 137,
   "id": "d1b7bc07-7c29-45f3-b78c-a0d832d35050",
   "metadata": {},
   "outputs": [],
   "source": [
    "class Animal():\n",
    "    \n",
    "    def __init__(self, nome):\n",
    "        self.nome = nome\n",
    "        \n",
    "    def som(self):\n",
    "        return \"AAAAA\"\n",
    "    \n",
    "class Cao(Animal):\n",
    "    \n",
    "    def som(self):\n",
    "        return \"Auau\"\n",
    "    \n",
    "class Gato(Animal):\n",
    "    \n",
    "    def som(self):\n",
    "        return \"Miau\"\n",
    "    \n",
    "class Piano():\n",
    "    \n",
    "    def som(self):\n",
    "        return \"Do ré mi fá fá fá\""
   ]
  },
  {
   "cell_type": "code",
   "execution_count": 140,
   "id": "386cc0e4-4893-41da-a510-fdd77dd9b083",
   "metadata": {},
   "outputs": [
    {
     "name": "stdin",
     "output_type": "stream",
     "text": [
      "Digite o nome do PET:  1\n",
      "Qual a raça?  cao\n",
      "Digite o nome do PET:  2\n",
      "Qual a raça?  gato\n",
      "Digite o nome do PET:  3\n",
      "Qual a raça?  piano\n",
      "Digite o nome do PET:  4\n",
      "Qual a raça?  cao\n"
     ]
    }
   ],
   "source": [
    "cliente_pet = []\n",
    "\n",
    "for rodada in range(4):\n",
    "    nome_pet = input(\"Digite o nome do PET: \")\n",
    "    raca = input(\"Qual a raça? \")\n",
    "    if raca == \"cao\":\n",
    "        bicho = Cao(nome_pet)\n",
    "    elif raca == \"gato\":\n",
    "        bicho = Gato(nome_pet)\n",
    "    else:\n",
    "        bicho = Animal(nome_pet)\n",
    "        \n",
    "    cliente_pet.append(bicho)\n",
    "    "
   ]
  },
  {
   "cell_type": "code",
   "execution_count": 147,
   "id": "2b80fdda-71dc-420a-80f0-e4e4fadedf9f",
   "metadata": {},
   "outputs": [
    {
     "name": "stdout",
     "output_type": "stream",
     "text": [
      "Auau\n",
      "Miau\n",
      "AAAAA\n",
      "Auau\n"
     ]
    }
   ],
   "source": [
    "for rodada in range(4):\n",
    "    print(cliente_pet[rodada].som())"
   ]
  },
  {
   "cell_type": "code",
   "execution_count": 134,
   "id": "5b8989d0-ac42-4fa7-abb7-25e1956633b6",
   "metadata": {},
   "outputs": [
    {
     "ename": "NameError",
     "evalue": "name 'Pessoa' is not defined",
     "output_type": "error",
     "traceback": [
      "\u001b[1;31m---------------------------------------------------------------------------\u001b[0m",
      "\u001b[1;31mNameError\u001b[0m                                 Traceback (most recent call last)",
      "\u001b[1;32m~\\AppData\\Local\\Temp\\ipykernel_21052\\3892481480.py\u001b[0m in \u001b[0;36m<module>\u001b[1;34m\u001b[0m\n\u001b[0;32m      2\u001b[0m \u001b[0my\u001b[0m \u001b[1;33m=\u001b[0m \u001b[0mCao\u001b[0m\u001b[1;33m(\u001b[0m\u001b[1;34m\"Rex\"\u001b[0m\u001b[1;33m)\u001b[0m\u001b[1;33m\u001b[0m\u001b[1;33m\u001b[0m\u001b[0m\n\u001b[0;32m      3\u001b[0m \u001b[0mz\u001b[0m \u001b[1;33m=\u001b[0m \u001b[0mGato\u001b[0m\u001b[1;33m(\u001b[0m\u001b[1;34m\"Mingau\"\u001b[0m\u001b[1;33m)\u001b[0m\u001b[1;33m\u001b[0m\u001b[1;33m\u001b[0m\u001b[0m\n\u001b[1;32m----> 4\u001b[1;33m \u001b[0mw\u001b[0m \u001b[1;33m=\u001b[0m \u001b[0mPessoa\u001b[0m\u001b[1;33m(\u001b[0m\u001b[1;34m\"Willem\"\u001b[0m\u001b[1;33m,\u001b[0m \u001b[1;36m20\u001b[0m\u001b[1;33m)\u001b[0m\u001b[1;33m\u001b[0m\u001b[1;33m\u001b[0m\u001b[0m\n\u001b[0m\u001b[0;32m      5\u001b[0m \u001b[1;33m\u001b[0m\u001b[0m\n\u001b[0;32m      6\u001b[0m \u001b[0mlista2\u001b[0m \u001b[1;33m=\u001b[0m \u001b[1;33m[\u001b[0m\u001b[0my\u001b[0m\u001b[1;33m,\u001b[0m\u001b[0mz\u001b[0m\u001b[1;33m,\u001b[0m\u001b[0mx\u001b[0m\u001b[1;33m,\u001b[0m\u001b[0mw\u001b[0m\u001b[1;33m]\u001b[0m\u001b[1;33m\u001b[0m\u001b[1;33m\u001b[0m\u001b[0m\n",
      "\u001b[1;31mNameError\u001b[0m: name 'Pessoa' is not defined"
     ]
    }
   ],
   "source": [
    "x = Piano()\n",
    "y = Cao(\"Rex\")\n",
    "z = Gato(\"Mingau\")\n",
    "w = Pessoa(\"Willem\", 20)\n",
    "\n",
    "lista2 = [y,z,x,w]"
   ]
  },
  {
   "cell_type": "code",
   "execution_count": 135,
   "id": "1186f9d8-18ff-488c-932f-d10c5c00972b",
   "metadata": {},
   "outputs": [
    {
     "ename": "NameError",
     "evalue": "name 'lista2' is not defined",
     "output_type": "error",
     "traceback": [
      "\u001b[1;31m---------------------------------------------------------------------------\u001b[0m",
      "\u001b[1;31mNameError\u001b[0m                                 Traceback (most recent call last)",
      "\u001b[1;32m~\\AppData\\Local\\Temp\\ipykernel_21052\\3647969880.py\u001b[0m in \u001b[0;36m<module>\u001b[1;34m\u001b[0m\n\u001b[1;32m----> 1\u001b[1;33m \u001b[0mlista2\u001b[0m\u001b[1;33m[\u001b[0m\u001b[1;36m2\u001b[0m\u001b[1;33m]\u001b[0m\u001b[1;33m.\u001b[0m\u001b[0msom\u001b[0m\u001b[1;33m(\u001b[0m\u001b[1;33m)\u001b[0m \u001b[1;31m# funciona para qualquer objeto que tiver som, ou seja, que implementar a interface som()\u001b[0m\u001b[1;33m\u001b[0m\u001b[1;33m\u001b[0m\u001b[0m\n\u001b[0m",
      "\u001b[1;31mNameError\u001b[0m: name 'lista2' is not defined"
     ]
    }
   ],
   "source": [
    "lista2[2].som() # funciona para qualquer objeto que tiver som, ou seja, que implementar a interface som()"
   ]
  },
  {
   "cell_type": "markdown",
   "id": "610e58bd-074e-4a9d-b753-4c55ec4f1cbe",
   "metadata": {},
   "source": [
    "### Interface"
   ]
  },
  {
   "cell_type": "markdown",
   "id": "a399ba79-2084-45d4-9751-e42887832bd2",
   "metadata": {},
   "source": [
    "Como uma classe é vista (atributos e métodos) por outras partes do código"
   ]
  },
  {
   "cell_type": "markdown",
   "id": "df0569cc-c7ff-45a2-9426-706650681d7a",
   "metadata": {},
   "source": [
    "# Exemplo Registrando Animais"
   ]
  },
  {
   "cell_type": "code",
   "execution_count": null,
   "id": "e80e1d85-7557-4832-b741-2fb35eca7e03",
   "metadata": {
    "tags": []
   },
   "outputs": [],
   "source": [
    "with open(\"registro_pet.txt\", \"a+\") as file:\n",
    "    for rodada in range(4):\n",
    "        nome_pet = input(\"Digite o nome do PET: \")\n",
    "        raca = input(\"Qual a raça? \")\n",
    "        if raca == \"cao\":\n",
    "            bicho = Cao(nome_pet)\n",
    "        elif raca == \"gato\":\n",
    "            bicho = Gato(nome_pet)\n",
    "        else:\n",
    "            bicho = Animal(nome_pet)\n",
    "            \n",
    "            \n",
    "        file.write(\"\\n\"+bicho.nome)\n",
    "        file.write(\"\\n\"+bicho.som())\n",
    "        \n",
    "# esse código funciona com qualquer classe que tiver nome e som. Isto é, que tiver a mesma interface que eu preciso"
   ]
  },
  {
   "cell_type": "markdown",
   "id": "a84a129e-9d93-4a98-99d5-0fdfa8addb03",
   "metadata": {},
   "source": [
    "# Missão "
   ]
  },
  {
   "cell_type": "markdown",
   "id": "4f2ba010-8f53-445c-9340-78a430471881",
   "metadata": {},
   "source": [
    "1 - Criar uma abstração (classe) de uma entidade do mundo real - A partir de uma descrição de exercício do beecrowd"
   ]
  },
  {
   "cell_type": "markdown",
   "id": "69fb81b0-b8de-4270-bd53-762f74fb3b0b",
   "metadata": {},
   "source": [
    "2 - Adicionar na abstração que vc criou: atributos privados e métodos privados"
   ]
  },
  {
   "cell_type": "markdown",
   "id": "0625e9f9-decf-483e-8955-5863af7188c4",
   "metadata": {},
   "source": [
    "3 - Crie dois exemplos de herança (um deles sendo D&d)"
   ]
  },
  {
   "cell_type": "markdown",
   "id": "fa4307c5-b24c-4104-8283-3c6706fddc84",
   "metadata": {},
   "source": [
    "4 - Criar um exemplo de herança multipla"
   ]
  },
  {
   "cell_type": "code",
   "execution_count": 27,
   "id": "cc277ec1-7ac6-47ec-90fe-c0cd5b199a3b",
   "metadata": {},
   "outputs": [],
   "source": [
    "class Character():\n",
    "    \n",
    "    def __init__(self, name):\n",
    "        self.name = name\n",
    "        self.strength = 0\n",
    "        self.dexterity = 0\n",
    "        self.constitution = 0\n",
    "        self.intelligence = 0\n",
    "        self.wisdom = 0\n",
    "        self.charisma = 0\n",
    "        \n",
    "    def add_strength(self, amount):\n",
    "        self.strength += amount\n",
    "    \n",
    "    def add_dexterity(self, amount):\n",
    "        self.dexterity += amount\n",
    "    \n",
    "    def add_constitution(self, amount):\n",
    "        self.constitution += amount\n",
    "    \n",
    "    def add_intelligence(self, amount):\n",
    "        self.intelligence += amount\n",
    "    \n",
    "    def add_wisdom(self, amount):\n",
    "        self.wisdom += amount\n",
    "\n",
    "    def add_charisma(self, amount):\n",
    "        self.charisma += amount\n",
    "\n",
    "    def get_name(self):\n",
    "        return \"character name is: \" + self.name\n",
    "    \n",
    "    def get_stats(self):\n",
    "        return print(\"character stats are:\\nstrength: \" + str(self.strength) + \"\\ndexterity: \" + str(self.dexterity) + \"\\nconstitution: \" + str(self.constitution) + \"\\nintelligence: \" + str(self.intelligence) + \"\\nwisdom: \" + str(self.wisdom) + \"\\ncharisma: \" + str(self.charisma))\n",
    "    \n",
    "class Class_fighter(Character):\n",
    "    \n",
    "    def __init__(self, name):\n",
    "        super().__init__(name)\n",
    "        self.strength += 1\n",
    "        self.constitution += 2\n",
    "        self.charisma += 1\n",
    "        \n",
    "    def get_class_f(self):\n",
    "        return \"fighter\"\n",
    "        \n",
    "    def get_stats(self):\n",
    "        base_stats = super().get_stats()\n",
    "        fighter_stats = \"strength: {}, constitution: {}, charisma: {}\".format(self.strength, self.constitution, self.charisma)\n",
    "        return base_stats + \"\\n\" + fighter_stats\n",
    "\n",
    "class Class_rogue(Character):\n",
    "    \n",
    "    def __init__(self, name):\n",
    "        super().__init__(name)\n",
    "        self.dexterity += 2\n",
    "        self.constitution += 1\n",
    "        self.charisma += 1\n",
    "        \n",
    "    def get_class_r(self):\n",
    "        return \"rogue\"\n",
    "        \n",
    "    def get_stats(self):\n",
    "        base_stats = super().get_stats()\n",
    "        rogue_stats = \"strength: {}, constitution: {}, charisma: {}\".format(self.strength, self.constitution, self.charisma)\n",
    "        return base_stats + \"\\n\" + rogue_stats\n",
    "\n",
    "class Class_wizard(Character):\n",
    "    \n",
    "    def __init__(self, name):\n",
    "        super().__init__(name)\n",
    "        self.intelligence += 1\n",
    "        self.wisdom += 2\n",
    "        \n",
    "    def get_class_w(self):\n",
    "        return \"wizard\"\n",
    "        \n",
    "    def get_stats(self):\n",
    "        base_stats = super().get_stats()\n",
    "        wizard_stats = \"strength: {}, constitution: {}, charisma: {}\".format(self.strength, self.constitution, self.charisma)\n",
    "        return base_stats + \"\\n\" + wizardr_stats\n",
    "    \n",
    "class Multiclass_fighter_wizard(Class_fighter, Class_wizard):\n",
    "    \n",
    "    def __init__(self, name):\n",
    "        super().__init__(name)\n",
    "        \n",
    "    def get_class_fw(self):\n",
    "        return super().get_class_f()+super().get_class_w()\n",
    "        \n",
    "        "
   ]
  },
  {
   "cell_type": "code",
   "execution_count": 28,
   "id": "7c3edada-db13-418a-9998-84a4cf4fcb3e",
   "metadata": {},
   "outputs": [],
   "source": [
    "player1 = Character(\"mike\")"
   ]
  },
  {
   "cell_type": "code",
   "execution_count": 13,
   "id": "f3e0914b-43b5-4ccc-9734-1d739eafd6d9",
   "metadata": {},
   "outputs": [
    {
     "data": {
      "text/plain": [
       "'character name is: mike'"
      ]
     },
     "execution_count": 13,
     "metadata": {},
     "output_type": "execute_result"
    }
   ],
   "source": [
    "player1.get_name()"
   ]
  },
  {
   "cell_type": "code",
   "execution_count": 14,
   "id": "69edd341-7413-4adf-ab9d-1378ac090cb8",
   "metadata": {},
   "outputs": [
    {
     "name": "stdout",
     "output_type": "stream",
     "text": [
      "character stats are:\n",
      "strength: 0\n",
      "dexterity: 0\n",
      "constitution: 0\n",
      "intelligence: 0\n",
      "wisdom: 0\n",
      "charisma: 0\n"
     ]
    }
   ],
   "source": [
    "player1.get_stats()"
   ]
  },
  {
   "cell_type": "code",
   "execution_count": 16,
   "id": "38a26e91-1f34-477b-a55b-719f16e87819",
   "metadata": {},
   "outputs": [],
   "source": [
    "player1.add_strength(10)\n",
    "player1.add_dexterity(10)\n",
    "player1.add_constitution(10)\n",
    "player1.add_intelligence(10)\n",
    "player1.add_wisdom(10)\n",
    "player1.add_charisma(10)"
   ]
  },
  {
   "cell_type": "code",
   "execution_count": 17,
   "id": "17abd995-ad38-494b-852f-bf178498bd7c",
   "metadata": {},
   "outputs": [
    {
     "name": "stdout",
     "output_type": "stream",
     "text": [
      "character stats are:\n",
      "strength: 10\n",
      "dexterity: 10\n",
      "constitution: 10\n",
      "intelligence: 10\n",
      "wisdom: 10\n",
      "charisma: 10\n"
     ]
    }
   ],
   "source": [
    "player1.get_stats()"
   ]
  },
  {
   "cell_type": "code",
   "execution_count": 19,
   "id": "c344b899-5af6-4a3c-bdcb-aaff349273ae",
   "metadata": {},
   "outputs": [
    {
     "name": "stdout",
     "output_type": "stream",
     "text": [
      "character stats are:\n",
      "strength: 11\n",
      "dexterity: 10\n",
      "constitution: 12\n",
      "intelligence: 10\n",
      "wisdom: 10\n",
      "charisma: 11\n"
     ]
    }
   ],
   "source": [
    "fighter1 = Class_fighter(\"mike\")\n",
    "player1.add_strength(fighter1.strength)\n",
    "player1.add_dexterity(fighter1.dexterity)\n",
    "player1.add_constitution(fighter1.constitution)\n",
    "player1.add_intelligence(fighter1.intelligence)\n",
    "player1.add_wisdom(fighter1.wisdom)\n",
    "player1.add_charisma(fighter1.charisma)\n",
    "player1.get_stats()"
   ]
  },
  {
   "cell_type": "code",
   "execution_count": 29,
   "id": "c48acab9-a855-4a79-a6a6-6fbcc6984bc6",
   "metadata": {
    "tags": []
   },
   "outputs": [
    {
     "name": "stdout",
     "output_type": "stream",
     "text": [
      "character stats are:\n",
      "strength: 1\n",
      "dexterity: 0\n",
      "constitution: 2\n",
      "intelligence: 1\n",
      "wisdom: 2\n",
      "charisma: 1\n"
     ]
    }
   ],
   "source": [
    "fighter_wizard = Multiclass_fighter_wizard(\"john\")\n",
    "player1.add_strength(fighter_wizard.strength)\n",
    "player1.add_dexterity(fighter_wizard.dexterity)\n",
    "player1.add_constitution(fighter_wizard.constitution)\n",
    "player1.add_intelligence(fighter_wizard.intelligence)\n",
    "player1.add_wisdom(fighter_wizard.wisdom)\n",
    "player1.add_charisma(fighter_wizard.charisma)\n",
    "player1.get_stats()"
   ]
  },
  {
   "cell_type": "code",
   "execution_count": 30,
   "id": "9c0b904c-85a8-4c6d-8fd9-d5b041389841",
   "metadata": {},
   "outputs": [
    {
     "data": {
      "text/plain": [
       "'fighterwizard'"
      ]
     },
     "execution_count": 30,
     "metadata": {},
     "output_type": "execute_result"
    }
   ],
   "source": [
    "fighter_wizard.get_class_fw()"
   ]
  },
  {
   "cell_type": "markdown",
   "id": "38f078c1-8ecd-4c0f-ad63-377c1eaa5d5a",
   "metadata": {},
   "source": [
    "5 - Criar um exemplo com polimorfimos"
   ]
  },
  {
   "cell_type": "code",
   "execution_count": 8,
   "id": "b0b200d5-ad10-436e-a3f2-513d9c67a2da",
   "metadata": {},
   "outputs": [],
   "source": [
    "class Fruta():\n",
    "    \n",
    "    def __init__(self, quantidade):\n",
    "        self.quantidade = quantidade\n",
    "        \n",
    "    def nutricao(self):\n",
    "        return \"n/a\"\n",
    "    \n",
    "class Morango(Fruta):\n",
    "    \n",
    "    def sabor(self):\n",
    "        return \"alto\"\n",
    "    \n",
    "class Ananas(Fruta):\n",
    "    \n",
    "    def sabor(self):\n",
    "        return \"baixo\"\n",
    "    \n",
    "class Salada():\n",
    "    \n",
    "    def __init__(self):\n",
    "        pass\n",
    "    \n",
    "    def sabor(self):\n",
    "        return \"Não é fruta!\""
   ]
  },
  {
   "cell_type": "code",
   "execution_count": 9,
   "id": "e1324c8f-eb27-418b-9064-4c76680691b3",
   "metadata": {},
   "outputs": [
    {
     "name": "stdin",
     "output_type": "stream",
     "text": [
      "Indique quantidade da fruta 1\n",
      "Qual o nome da fruta? morango\n"
     ]
    },
    {
     "name": "stdout",
     "output_type": "stream",
     "text": [
      "<class '__main__.Morango'>\n"
     ]
    },
    {
     "name": "stdin",
     "output_type": "stream",
     "text": [
      "Indique quantidade da fruta 1\n",
      "Qual o nome da fruta? ananas\n"
     ]
    },
    {
     "name": "stdout",
     "output_type": "stream",
     "text": [
      "<class '__main__.Ananas'>\n"
     ]
    },
    {
     "name": "stdin",
     "output_type": "stream",
     "text": [
      "Indique quantidade da fruta 1\n",
      "Qual o nome da fruta? salada\n"
     ]
    },
    {
     "name": "stdout",
     "output_type": "stream",
     "text": [
      "<class '__main__.Salada'>\n"
     ]
    },
    {
     "name": "stdin",
     "output_type": "stream",
     "text": [
      "Indique quantidade da fruta 1\n",
      "Qual o nome da fruta? morango\n"
     ]
    },
    {
     "name": "stdout",
     "output_type": "stream",
     "text": [
      "<class '__main__.Morango'>\n"
     ]
    },
    {
     "name": "stdin",
     "output_type": "stream",
     "text": [
      "Indique quantidade da fruta 1\n",
      "Qual o nome da fruta? ananas\n"
     ]
    },
    {
     "name": "stdout",
     "output_type": "stream",
     "text": [
      "<class '__main__.Ananas'>\n"
     ]
    }
   ],
   "source": [
    "cesta_frutas = []\n",
    "\n",
    "for i in range(5):\n",
    "    quantidade_da_fruta = int(input(\"Indique quantidade da fruta\"))\n",
    "    nome_fruta = input(\"Qual o nome da fruta?\")\n",
    "    if nome_fruta == \"morango\":\n",
    "        fruta = Morango(quantidade_da_fruta)\n",
    "    elif nome_fruta == \"ananas\":\n",
    "        fruta = Ananas(quantidade_da_fruta)\n",
    "    else:\n",
    "        fruta = Salada()\n",
    "        \n",
    "    print(type(fruta))\n",
    "    cesta_frutas.append(fruta)"
   ]
  },
  {
   "cell_type": "code",
   "execution_count": 10,
   "id": "d2f294a6-dabf-4efc-8b07-6f26dc9cffe9",
   "metadata": {},
   "outputs": [
    {
     "name": "stdout",
     "output_type": "stream",
     "text": [
      "alto\n",
      "baixo\n",
      "Não é fruta!\n",
      "alto\n",
      "baixo\n"
     ]
    }
   ],
   "source": [
    "for i in range(5):\n",
    "    print(cesta_frutas[i].sabor())"
   ]
  },
  {
   "cell_type": "code",
   "execution_count": null,
   "id": "9077a8d4-6dae-471b-894b-e20807585ac2",
   "metadata": {},
   "outputs": [],
   "source": []
  }
 ],
 "metadata": {
  "kernelspec": {
   "display_name": "Python 3 (ipykernel)",
   "language": "python",
   "name": "python3"
  },
  "language_info": {
   "codemirror_mode": {
    "name": "ipython",
    "version": 3
   },
   "file_extension": ".py",
   "mimetype": "text/x-python",
   "name": "python",
   "nbconvert_exporter": "python",
   "pygments_lexer": "ipython3",
   "version": "3.9.13"
  }
 },
 "nbformat": 4,
 "nbformat_minor": 5
}
