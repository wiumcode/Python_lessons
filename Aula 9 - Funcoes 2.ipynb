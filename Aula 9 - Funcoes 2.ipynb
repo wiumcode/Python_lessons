{
 "cells": [
  {
   "cell_type": "markdown",
   "id": "dcd2d79d-5752-43ba-97a8-d92ebb3db48a",
   "metadata": {},
   "source": [
    "# Definindo uma função"
   ]
  },
  {
   "cell_type": "code",
   "execution_count": 12,
   "id": "d2358d98-ac3d-4f82-bdb3-9fcb6ac3945d",
   "metadata": {},
   "outputs": [],
   "source": [
    "def boas_vindas():\n",
    "    print(\"Bem vindo de volta!\")"
   ]
  },
  {
   "cell_type": "markdown",
   "id": "a8ce2170-796d-459b-abf0-d17885c095ed",
   "metadata": {},
   "source": [
    "# Chamar função"
   ]
  },
  {
   "cell_type": "code",
   "execution_count": 13,
   "id": "91523ad6-e902-4e43-8014-c6f41c36b01a",
   "metadata": {},
   "outputs": [
    {
     "name": "stdout",
     "output_type": "stream",
     "text": [
      "Bem vindo de volta!\n"
     ]
    }
   ],
   "source": [
    "boas_vindas()"
   ]
  },
  {
   "cell_type": "markdown",
   "id": "361b9f4b-e8eb-4054-9ee6-52e6cbe52fff",
   "metadata": {},
   "source": [
    "# Utilizando parametros"
   ]
  },
  {
   "cell_type": "code",
   "execution_count": 29,
   "id": "ef1681c2-face-4a8c-a683-5a81f4bf7761",
   "metadata": {},
   "outputs": [],
   "source": [
    "def boas_vindas(nomeDoUsuario):\n",
    "    print(\"Bem-vindo de volta!\", nomeDoUsuario)"
   ]
  },
  {
   "cell_type": "code",
   "execution_count": 30,
   "id": "0f3599cd-34d2-4d92-9f19-7dc72d2a42b6",
   "metadata": {},
   "outputs": [
    {
     "name": "stdout",
     "output_type": "stream",
     "text": [
      "Bem-vindo de volta! Willem\n"
     ]
    }
   ],
   "source": [
    "boas_vindas(\"Willem\")"
   ]
  },
  {
   "cell_type": "code",
   "execution_count": 31,
   "id": "108970d2-b80b-47fc-a2f8-f0e394053a2a",
   "metadata": {},
   "outputs": [
    {
     "name": "stdout",
     "output_type": "stream",
     "text": [
      "Bem-vindo de volta! Marcio\n"
     ]
    }
   ],
   "source": [
    "boas_vindas(\"Marcio\")"
   ]
  },
  {
   "cell_type": "code",
   "execution_count": 20,
   "id": "af114a18-7c36-4ae1-b2ef-400c72fdb134",
   "metadata": {},
   "outputs": [],
   "source": [
    "def media(num1, num2, num3):\n",
    "    print(\"Media dos tres numeros =\", (num1+num2+num3)/3)"
   ]
  },
  {
   "cell_type": "code",
   "execution_count": 22,
   "id": "186ff930-cfba-4197-9f11-a4eae57b2ef6",
   "metadata": {},
   "outputs": [
    {
     "name": "stdout",
     "output_type": "stream",
     "text": [
      "Media dos tres numeros = 44.0\n"
     ]
    }
   ],
   "source": [
    "media(52,63,17)"
   ]
  },
  {
   "cell_type": "code",
   "execution_count": 23,
   "id": "1ae9b69f-067d-4922-ac84-a3cba9552bdb",
   "metadata": {},
   "outputs": [
    {
     "name": "stdout",
     "output_type": "stream",
     "text": [
      "Media dos tres numeros = 230.33333333333334\n"
     ]
    }
   ],
   "source": [
    "media(52,639,0)"
   ]
  },
  {
   "cell_type": "code",
   "execution_count": 25,
   "id": "172d1ee3-6fbf-429c-8f10-c970917b3901",
   "metadata": {},
   "outputs": [],
   "source": [
    "def media(lista_numeros):\n",
    "    print(\"Media dos numeros =\", sum(lista_numeros)/len(lista_numeros))"
   ]
  },
  {
   "cell_type": "code",
   "execution_count": 27,
   "id": "10329ed9-0f13-4375-874e-c19841469007",
   "metadata": {},
   "outputs": [
    {
     "name": "stdout",
     "output_type": "stream",
     "text": [
      "Media dos numeros = 38.833333333333336\n"
     ]
    }
   ],
   "source": [
    "media([34,78,23,88,9,1])"
   ]
  },
  {
   "cell_type": "code",
   "execution_count": 28,
   "id": "92c21145-93b7-4a3b-81e1-38657f87caf2",
   "metadata": {},
   "outputs": [
    {
     "name": "stdout",
     "output_type": "stream",
     "text": [
      "Media dos numeros = 56.0\n"
     ]
    }
   ],
   "source": [
    "media([34,78])"
   ]
  },
  {
   "cell_type": "code",
   "execution_count": 32,
   "id": "71f60235-b3b9-4859-9d1a-dbc3c7ccd98f",
   "metadata": {},
   "outputs": [],
   "source": [
    "def boas_vindas(nomeDoUsuario, sexo):\n",
    "    if sexo == \"M\":\n",
    "        print(\"Bem-vindo de volta! Senhor\", nomeDoUsuario)\n",
    "    else:\n",
    "        print(\"Bem-vinda de volta! Senhora\", nomeDoUsuario)"
   ]
  },
  {
   "cell_type": "code",
   "execution_count": 33,
   "id": "a1431fbd-76bb-49f4-a7ed-0ba6626b1b01",
   "metadata": {},
   "outputs": [
    {
     "name": "stdout",
     "output_type": "stream",
     "text": [
      "Bem-vindo de volta! Senhor Willem\n",
      "Bem-vinda de volta! Senhora Beatriz\n"
     ]
    }
   ],
   "source": [
    "boas_vindas(\"Willem\", \"M\")\n",
    "boas_vindas(\"Beatriz\", \"F\")"
   ]
  },
  {
   "cell_type": "code",
   "execution_count": 34,
   "id": "71e2ae1f-75df-49d2-bb04-787915557df5",
   "metadata": {},
   "outputs": [],
   "source": [
    "def boas_vindas():\n",
    "    nome = input(\"Digite seu nome:\")\n",
    "    sexo = input(\"Digite seu sexo (M/F): \")\n",
    "    if sexo == \"M\":\n",
    "        print(\"Bem-vindo de volta! Senhor\", nome)\n",
    "    else:\n",
    "        print(\"Bem-vinda de volta! Senhora\", nome)"
   ]
  },
  {
   "cell_type": "code",
   "execution_count": 35,
   "id": "aeda137c-d8c5-4caf-ab15-6f103e3f3c01",
   "metadata": {},
   "outputs": [
    {
     "name": "stdin",
     "output_type": "stream",
     "text": [
      "Digite seu nome: Jose\n",
      "Digite seu sexo: Muito bom\n"
     ]
    },
    {
     "name": "stdout",
     "output_type": "stream",
     "text": [
      "Bem-vinda de volta! Senhora Jose\n"
     ]
    }
   ],
   "source": [
    "boas_vindas()"
   ]
  },
  {
   "cell_type": "markdown",
   "id": "a65332f0-7ab5-44d5-ba43-3136928245ed",
   "metadata": {},
   "source": [
    "# Combinando funções com funções"
   ]
  },
  {
   "cell_type": "code",
   "execution_count": 45,
   "id": "ef4e2838-cf57-414d-9b49-291e22a19b81",
   "metadata": {},
   "outputs": [],
   "source": [
    "def soma(num1, num2):\n",
    "    print(\"Soma de {} com {} é igual a {}\".format(num1,num2,num1+num2))\n",
    "\n",
    "def subtracao(num1, num2):\n",
    "    if num1>num2:\n",
    "        print(\"Subtracao de {} com {} é igual a {}\".format(num1,num2,num1-num2))\n",
    "    else:\n",
    "        print(\"Subtracao de {} com {} é igual a {}\".format(num2,num1,num2-num1))\n",
    "    \n",
    "def calculadora(num1,num2, operacao):\n",
    "    if operacao==\"soma\":\n",
    "        soma(num1, num2)\n",
    "    elif operacao==\"subtracao\":\n",
    "        subtracao(num1,num2)\n",
    "        \n",
    "    # Missão adicionar multiplicacao e divisao"
   ]
  },
  {
   "cell_type": "code",
   "execution_count": 44,
   "id": "3c483c1e-88ff-47a6-b025-12e49edf1dea",
   "metadata": {},
   "outputs": [
    {
     "name": "stdout",
     "output_type": "stream",
     "text": [
      "Soma de 4 com 5 é igual a 9\n",
      "Subtracao de 5 com 4 é igual a 1\n"
     ]
    }
   ],
   "source": [
    "calculadora(4,5,\"soma\")\n",
    "calculadora(4,5,\"subtracao\")"
   ]
  },
  {
   "cell_type": "markdown",
   "id": "f39fc87c-b4ca-4e8a-b13f-bf0b68f63917",
   "metadata": {},
   "source": [
    "# Ordem dos parametros"
   ]
  },
  {
   "cell_type": "code",
   "execution_count": 48,
   "id": "b8f16a83-7db5-44b4-bb5f-c12709c13d44",
   "metadata": {},
   "outputs": [],
   "source": [
    "def velocidade(distancia, tempo):\n",
    "    print(distancia/tempo, \"km/h\")"
   ]
  },
  {
   "cell_type": "code",
   "execution_count": 49,
   "id": "717a5157-26cc-4a9f-83b2-0505e1a16b1e",
   "metadata": {},
   "outputs": [
    {
     "name": "stdout",
     "output_type": "stream",
     "text": [
      "50.0 km/h\n"
     ]
    }
   ],
   "source": [
    "velocidade(150, 3)"
   ]
  },
  {
   "cell_type": "code",
   "execution_count": 50,
   "id": "b77b9263-04fe-4392-85ba-4915ba7ea437",
   "metadata": {},
   "outputs": [
    {
     "name": "stdout",
     "output_type": "stream",
     "text": [
      "0.02 km/h\n"
     ]
    }
   ],
   "source": [
    "velocidade(3, 150)"
   ]
  },
  {
   "cell_type": "markdown",
   "id": "a5f05267-5e45-4c7a-8df1-909b1fde9628",
   "metadata": {},
   "source": [
    "# Argumentos nomeados"
   ]
  },
  {
   "cell_type": "code",
   "execution_count": 51,
   "id": "938272de-fd2a-4e44-9c67-166975766555",
   "metadata": {},
   "outputs": [
    {
     "name": "stdout",
     "output_type": "stream",
     "text": [
      "50.0 km/h\n"
     ]
    }
   ],
   "source": [
    "velocidade(tempo=3, distancia=150)"
   ]
  },
  {
   "cell_type": "markdown",
   "id": "16d8b12a-eb67-472f-8f56-a57d52a179ac",
   "metadata": {},
   "source": [
    "# Valores predefinidos"
   ]
  },
  {
   "cell_type": "code",
   "execution_count": 55,
   "id": "cfd401ab-394e-4578-8b57-58f237686c2c",
   "metadata": {},
   "outputs": [],
   "source": [
    "def velocidade(tempo, distancia=100):\n",
    "    print(round(distancia/tempo), \"km/h\")"
   ]
  },
  {
   "cell_type": "code",
   "execution_count": 56,
   "id": "c46b46a6-94bf-46a4-bca7-453622b4f1cf",
   "metadata": {},
   "outputs": [
    {
     "name": "stdout",
     "output_type": "stream",
     "text": [
      "33 km/h\n"
     ]
    }
   ],
   "source": [
    "velocidade(3)"
   ]
  },
  {
   "cell_type": "code",
   "execution_count": 57,
   "id": "3c05876f-4bb7-4056-8688-502fbf8a0bf6",
   "metadata": {},
   "outputs": [
    {
     "name": "stdout",
     "output_type": "stream",
     "text": [
      "50 km/h\n"
     ]
    }
   ],
   "source": [
    "velocidade(3, 150)"
   ]
  },
  {
   "cell_type": "code",
   "execution_count": 58,
   "id": "568b759d-3936-43de-a468-adb778947a27",
   "metadata": {},
   "outputs": [
    {
     "name": "stdout",
     "output_type": "stream",
     "text": [
      "50 km/h\n"
     ]
    }
   ],
   "source": [
    "velocidade(tempo=3, distancia=150)"
   ]
  },
  {
   "cell_type": "code",
   "execution_count": 59,
   "id": "8af79ee7-70b6-46b3-ad3d-418541108eab",
   "metadata": {},
   "outputs": [
    {
     "name": "stdout",
     "output_type": "stream",
     "text": [
      "33 km/h\n"
     ]
    }
   ],
   "source": [
    "velocidade(tempo=3)"
   ]
  },
  {
   "cell_type": "code",
   "execution_count": 60,
   "id": "50a36516-6387-4d2a-b73d-b613bd5648d8",
   "metadata": {},
   "outputs": [],
   "source": [
    "def boas_vindas(nome, sexo=\"M\"):\n",
    "    if sexo == \"M\":\n",
    "        print(\"Bem-vindo de volta! Senhor\", nome)\n",
    "    else:\n",
    "        print(\"Bem-vinda de volta! Senhora\", nome)"
   ]
  },
  {
   "cell_type": "code",
   "execution_count": 61,
   "id": "13276ea8-87eb-4c23-962b-c29f263fb0db",
   "metadata": {},
   "outputs": [
    {
     "name": "stdout",
     "output_type": "stream",
     "text": [
      "Bem-vindo de volta! Senhor Willem\n"
     ]
    }
   ],
   "source": [
    "boas_vindas(\"Willem\")"
   ]
  },
  {
   "cell_type": "code",
   "execution_count": 63,
   "id": "9734cdc4-f29f-446d-8cc5-facdd9040b8c",
   "metadata": {},
   "outputs": [
    {
     "name": "stdout",
     "output_type": "stream",
     "text": [
      "Bem-vinda de volta! Senhora Maria\n"
     ]
    }
   ],
   "source": [
    "boas_vindas(\"Maria\", sexo=\"F\")"
   ]
  },
  {
   "cell_type": "code",
   "execution_count": 64,
   "id": "5e748396-dd49-4aa6-ba2e-4f228fbd006a",
   "metadata": {},
   "outputs": [
    {
     "name": "stdout",
     "output_type": "stream",
     "text": [
      "Bem-vindo de volta! Senhor Willem\n"
     ]
    }
   ],
   "source": [
    "boas_vindas(\"Willem\", \"M\")"
   ]
  },
  {
   "cell_type": "markdown",
   "id": "fe64458c-3c3f-44b5-b797-a2cbea9598fc",
   "metadata": {},
   "source": [
    "# Retornando valores"
   ]
  },
  {
   "cell_type": "code",
   "execution_count": 66,
   "id": "e07d0ed3-9365-43dc-840c-9e6ca37bda77",
   "metadata": {},
   "outputs": [],
   "source": [
    "def velocidade(tempo, distancia):\n",
    "    return round(distancia/tempo)"
   ]
  },
  {
   "cell_type": "code",
   "execution_count": 68,
   "id": "5b55933c-092a-4890-b22c-363641305ee6",
   "metadata": {},
   "outputs": [
    {
     "name": "stdin",
     "output_type": "stream",
     "text": [
      "Digite a distancia percorrida:  10\n",
      "Digite o tempo necessario para percorrer essa distancia:  100\n"
     ]
    },
    {
     "name": "stdout",
     "output_type": "stream",
     "text": [
      "Corre! Voce vai se atrasar\n"
     ]
    }
   ],
   "source": [
    "distancia = int(input(\"Digite a distancia percorrida: \"))\n",
    "tempo = int(input(\"Digite o tempo necessario para percorrer essa distancia: \"))\n",
    "\n",
    "v = velocidade(tempo,distancia)\n",
    "            \n",
    "if v > 100:\n",
    "    print(\"Cuidado! Voce esta muito rapido\")\n",
    "elif v<30:\n",
    "    print(\"Corre! Voce vai se atrasar\")"
   ]
  },
  {
   "cell_type": "code",
   "execution_count": 69,
   "id": "0e3d970b-c6bf-4d15-82c4-197c2e1288ca",
   "metadata": {},
   "outputs": [],
   "source": [
    "def menor(a, b):\n",
    "    if a<=b:\n",
    "        return a\n",
    "    else:\n",
    "        return b"
   ]
  },
  {
   "cell_type": "code",
   "execution_count": 70,
   "id": "4970d2af-0d39-4c03-a4b3-7050c3e8640e",
   "metadata": {},
   "outputs": [],
   "source": [
    "x = menor(15,6)"
   ]
  },
  {
   "cell_type": "code",
   "execution_count": 71,
   "id": "92a9469d-e7cf-4096-adde-18eca8d3d358",
   "metadata": {},
   "outputs": [
    {
     "name": "stdout",
     "output_type": "stream",
     "text": [
      "6\n"
     ]
    }
   ],
   "source": [
    "print(x)"
   ]
  },
  {
   "cell_type": "markdown",
   "id": "ebce5dc2-1890-4823-aa98-6a48a9adea75",
   "metadata": {},
   "source": [
    "# Função com funções"
   ]
  },
  {
   "cell_type": "code",
   "execution_count": 3,
   "id": "ae3cebf4-4e91-4683-a8e0-dcff13844498",
   "metadata": {},
   "outputs": [
    {
     "name": "stdout",
     "output_type": "stream",
     "text": [
      "Maior: 5\n",
      "Menor: 1\n"
     ]
    }
   ],
   "source": [
    "def get_menor(lista):\n",
    "    menor = lista[0]\n",
    "    for elemento in lista:\n",
    "        if elemento < menor:\n",
    "            menor = elemento\n",
    "    return menor\n",
    "\n",
    "def get_maior(lista):\n",
    "    maior = lista[0]\n",
    "    for elemento in lista:\n",
    "        if elemento > maior:\n",
    "            maior = elemento\n",
    "    return maior\n",
    "    \n",
    "def maior_E_menor(lista):\n",
    "    print(\"Maior:\", get_maior(lista))\n",
    "    print(\"Menor:\", get_menor(lista))\n",
    "\n",
    "    \n",
    "maior_E_menor([1,2,3,4,5])"
   ]
  },
  {
   "cell_type": "markdown",
   "id": "d33980bd-2d6c-4dd6-92a1-458bb5df538b",
   "metadata": {},
   "source": [
    "# Funções recursivas"
   ]
  },
  {
   "cell_type": "code",
   "execution_count": null,
   "id": "ae01a96d-d4f3-4eb1-b48d-5eb193139336",
   "metadata": {},
   "outputs": [],
   "source": [
    "1 1 2 3 5 8 13 ..."
   ]
  },
  {
   "cell_type": "code",
   "execution_count": 6,
   "id": "2b877ea2-c43b-434f-a36c-30313ca61310",
   "metadata": {},
   "outputs": [],
   "source": [
    "lista_inicial = [1, 1]\n",
    "\n",
    "def fibonnaci(lista, tamanho):\n",
    "    if len(lista) < tamanho: # condicao de parada\n",
    "        lista.append(lista[-1]+lista[-2])\n",
    "        return fibonnaci(lista, tamanho) # chama a propria função\n",
    "    else:\n",
    "        return lista"
   ]
  },
  {
   "cell_type": "code",
   "execution_count": 7,
   "id": "46892e79-0c7f-4ed3-b5ee-65914663b6b7",
   "metadata": {},
   "outputs": [
    {
     "data": {
      "text/plain": [
       "[1,\n",
       " 1,\n",
       " 2,\n",
       " 3,\n",
       " 5,\n",
       " 8,\n",
       " 13,\n",
       " 21,\n",
       " 34,\n",
       " 55,\n",
       " 89,\n",
       " 144,\n",
       " 233,\n",
       " 377,\n",
       " 610,\n",
       " 987,\n",
       " 1597,\n",
       " 2584,\n",
       " 4181,\n",
       " 6765]"
      ]
     },
     "execution_count": 7,
     "metadata": {},
     "output_type": "execute_result"
    }
   ],
   "source": [
    "fibonnaci(lista_inicial, 20)"
   ]
  },
  {
   "cell_type": "code",
   "execution_count": 10,
   "id": "d4e5b435-cc42-4c2e-b272-a1413ea602ae",
   "metadata": {},
   "outputs": [],
   "source": [
    "def fatorial(numero):\n",
    "    if numero == 1: # condicao de parada\n",
    "        return 1\n",
    "    else:\n",
    "        return numero * fatorial(numero-1) # chama ele mesmo"
   ]
  },
  {
   "cell_type": "code",
   "execution_count": 11,
   "id": "82369284-1c14-4677-8f85-db4cbf8ea8a3",
   "metadata": {},
   "outputs": [
    {
     "data": {
      "text/plain": [
       "120"
      ]
     },
     "execution_count": 11,
     "metadata": {},
     "output_type": "execute_result"
    }
   ],
   "source": [
    "fatorial(5)"
   ]
  },
  {
   "cell_type": "code",
   "execution_count": 12,
   "id": "af5ef60b-abb1-459d-a06e-fdfb7f8dd5ff",
   "metadata": {},
   "outputs": [
    {
     "data": {
      "text/plain": [
       "93326215443944152681699238856266700490715968264381621468592963895217599993229915608941463976156518286253697920827223758251185210916864000000000000000000000000"
      ]
     },
     "execution_count": 12,
     "metadata": {},
     "output_type": "execute_result"
    }
   ],
   "source": [
    "fatorial(100)"
   ]
  },
  {
   "cell_type": "code",
   "execution_count": 2,
   "id": "a87f07f9-aa32-45b3-a310-ca4b98530e7d",
   "metadata": {},
   "outputs": [
    {
     "ename": "SyntaxError",
     "evalue": "invalid syntax (4146668956.py, line 1)",
     "output_type": "error",
     "traceback": [
      "\u001b[1;36m  File \u001b[1;32m\"C:\\Users\\Proprietario\\AppData\\Local\\Temp\\ipykernel_17688\\4146668956.py\"\u001b[1;36m, line \u001b[1;32m1\u001b[0m\n\u001b[1;33m    5! = 5 *4! 120\u001b[0m\n\u001b[1;37m     ^\u001b[0m\n\u001b[1;31mSyntaxError\u001b[0m\u001b[1;31m:\u001b[0m invalid syntax\n"
     ]
    }
   ],
   "source": [
    "5! = 5 *4! 120\n",
    "4! = 4 *3! 24\n",
    "3! = 3 *2! 6\n",
    "2! = 2 *1! 2\n",
    "1! = 1\n",
    "\n",
    "5! = 5 * 4 * 3 * 2 * 1\n",
    "6! 6 *5 * 4 * 3 * 2 * 1"
   ]
  },
  {
   "cell_type": "code",
   "execution_count": 3,
   "id": "6a696f4b-722d-4bdf-aafa-45f02a17b148",
   "metadata": {},
   "outputs": [],
   "source": [
    "def dobraLencol(lencol, gaveta):\n",
    "    if lencol <= gaveta:\n",
    "        return 0\n",
    "    else:\n",
    "        return 1 + dobraLencol(lencol/2,gaveta)\n",
    "    "
   ]
  },
  {
   "cell_type": "code",
   "execution_count": 34,
   "id": "a90fb865-17d5-4a92-a8e2-5ee429b62e34",
   "metadata": {},
   "outputs": [
    {
     "name": "stdout",
     "output_type": "stream",
     "text": [
      "CPU times: total: 0 ns\n",
      "Wall time: 0 ns\n"
     ]
    },
    {
     "data": {
      "text/plain": [
       "23"
      ]
     },
     "execution_count": 34,
     "metadata": {},
     "output_type": "execute_result"
    }
   ],
   "source": [
    "%%time\n",
    "dobraLencol(200000000, 25)"
   ]
  },
  {
   "cell_type": "code",
   "execution_count": 35,
   "id": "8694082b-cd41-4521-90dc-ca7dc05a12d8",
   "metadata": {},
   "outputs": [],
   "source": [
    "def dobraLencol_semrecursao(lencol, gaveta):\n",
    "    dobras = 0\n",
    "    while lencol > gaveta:\n",
    "        lencol /= 2\n",
    "        dobras += 1\n",
    "        \n",
    "    return dobras\n",
    "        "
   ]
  },
  {
   "cell_type": "code",
   "execution_count": 37,
   "id": "593067a7-8b61-46cd-97b3-0ff98ae97c0e",
   "metadata": {},
   "outputs": [
    {
     "name": "stdout",
     "output_type": "stream",
     "text": [
      "CPU times: total: 0 ns\n",
      "Wall time: 0 ns\n"
     ]
    },
    {
     "data": {
      "text/plain": [
       "23"
      ]
     },
     "execution_count": 37,
     "metadata": {},
     "output_type": "execute_result"
    }
   ],
   "source": [
    "%%time\n",
    "dobraLencol_semrecursao(200000000,25)"
   ]
  },
  {
   "cell_type": "markdown",
   "id": "693deb4b-9a29-44ab-9192-8c5435e7ecc3",
   "metadata": {
    "tags": []
   },
   "source": [
    "# Missão"
   ]
  },
  {
   "cell_type": "markdown",
   "id": "24634c07-0386-4dbb-9f74-2192dd465088",
   "metadata": {},
   "source": [
    "Função 'heroi' que recebe um nome e imprime \"Super-\"+nome"
   ]
  },
  {
   "cell_type": "markdown",
   "id": "a25d9fc4-3e7e-4159-83d1-34f958abd20d",
   "metadata": {
    "jp-MarkdownHeadingCollapsed": true,
    "tags": []
   },
   "source": [
    "Funcao conversor de moeda = recebe um valor, uma moeda origem e uma destino e retorna o valor na moeda destino\n",
    "\n",
    "Exemplo:\n",
    "    conversor(10, 'euros', 'reais') = '55 reais'"
   ]
  },
  {
   "cell_type": "markdown",
   "id": "a00ac13b-a35e-4ef6-b9ee-92a7513ddc2d",
   "metadata": {},
   "source": [
    "beecrowd DDD, Animal, Lanche com funções"
   ]
  },
  {
   "cell_type": "markdown",
   "id": "f9081897-bcec-4e87-bda4-7db611b3c453",
   "metadata": {},
   "source": [
    "Recursao: Cédulas, O Maior"
   ]
  },
  {
   "cell_type": "markdown",
   "id": "7423c128-8947-44b9-9af6-b28da999a3d1",
   "metadata": {},
   "source": [
    "https://www.beecrowd.com.br/judge/pt/problems/view/1018"
   ]
  },
  {
   "cell_type": "code",
   "execution_count": null,
   "id": "e5fa01bd-7caa-429c-8914-d20e4511e7a9",
   "metadata": {},
   "outputs": [],
   "source": [
    "condicao de parada: ficar sem dinheiro depois de dar todo o trocado"
   ]
  },
  {
   "cell_type": "code",
   "execution_count": 1,
   "id": "c901a055-7721-4f87-a1f0-8fdd36d2ba95",
   "metadata": {},
   "outputs": [
    {
     "name": "stdin",
     "output_type": "stream",
     "text": [
      " 576\n"
     ]
    },
    {
     "name": "stdout",
     "output_type": "stream",
     "text": [
      "576\n",
      "5 nota(s) de R$ 100,00\n",
      "1 nota(s) de R$ 50,00\n",
      "1 nota(s) de R$ 20,00\n",
      "0 nota(s) de R$ 10,00\n",
      "1 nota(s) de R$ 5,00\n",
      "0 nota(s) de R$ 2,00\n",
      "1 nota(s) de R$ 1,00\n"
     ]
    }
   ],
   "source": [
    "notes = int(input())\n",
    "print(notes)\n",
    "print(\"{} nota(s) de R$ 100,00\".format(int(notes/100)))\n",
    "aux = (notes%100)\n",
    "print(\"{} nota(s) de R$ 50,00\".format(int(aux/50)))\n",
    "aux = (aux%50)\n",
    "print(\"{} nota(s) de R$ 20,00\".format(int(aux/20)))\n",
    "aux = (aux%20)\n",
    "print(\"{} nota(s) de R$ 10,00\".format(int(aux/10)))\n",
    "aux = (aux%10)\n",
    "print(\"{} nota(s) de R$ 5,00\".format(int(aux/5)))\n",
    "aux = (aux%5)\n",
    "print(\"{} nota(s) de R$ 2,00\".format(int(aux/2)))\n",
    "aux = (aux%2)\n",
    "print(\"{} nota(s) de R$ 1,00\".format(int(aux/1)))"
   ]
  },
  {
   "cell_type": "code",
   "execution_count": 18,
   "id": "d60d4383-54c5-41f5-9d20-5c327811f949",
   "metadata": {},
   "outputs": [
    {
     "name": "stdin",
     "output_type": "stream",
     "text": [
      "dinheiro 576\n"
     ]
    },
    {
     "name": "stdout",
     "output_type": "stream",
     "text": [
      "5 notas de 100\n",
      "1 notas de 50\n",
      "1 notas de 20\n",
      "0 notas de 10\n",
      "1 notas de 5\n",
      "0 notas de 2\n",
      "1 notas de 1\n"
     ]
    }
   ],
   "source": [
    "lista_notas = [100, 50, 20, 10, 5, 2, 1]\n",
    "dinheiro = int(input(\"dinheiro\"))\n",
    "def trocado():\n",
    "    global dinheiro\n",
    "    while dinheiro > 0:\n",
    "        for i in lista_notas:\n",
    "            sobra = dinheiro // i\n",
    "            print(sobra, f\"notas de {i}\")\n",
    "            \n",
    "            \n",
    "            if sobra == 0:\n",
    "                pass\n",
    "            else:\n",
    "                dinheiro = dinheiro - (sobra * i)\n",
    "trocado()"
   ]
  },
  {
   "cell_type": "markdown",
   "id": "2ade9276-d837-490e-8713-38d82d875e12",
   "metadata": {},
   "source": [
    "https://www.beecrowd.com.br/judge/pt/problems/view/1013"
   ]
  },
  {
   "cell_type": "code",
   "execution_count": null,
   "id": "24310c71-63d1-4e2d-99be-e5520f67fb00",
   "metadata": {},
   "outputs": [],
   "source": [
    "condicao de parada: ficar so um numero na lista depois de remover todos os menores"
   ]
  },
  {
   "cell_type": "code",
   "execution_count": 14,
   "id": "50329127-572b-47dd-91cb-2fb717d544bf",
   "metadata": {},
   "outputs": [
    {
     "name": "stdin",
     "output_type": "stream",
     "text": [
      "Indique um numero inteiro 3\n",
      "Indique um numero inteiro 7\n",
      "Indique um numero inteiro 5\n"
     ]
    },
    {
     "name": "stdout",
     "output_type": "stream",
     "text": [
      "[7] eh o maior\n"
     ]
    }
   ],
   "source": [
    "lista_de_numeros = []\n",
    "\n",
    "for i in range(3):\n",
    "    lista_de_numeros.append(int(input(\"Indique um numero inteiro\")))\n",
    "\n",
    "def maior(lista_de_numeros):\n",
    "    while len(lista_de_numeros) > 1:\n",
    "        lista_de_numeros.remove(min(lista_de_numeros))\n",
    "    else: print(lista_de_numeros, \"eh o maior\")\n",
    "        \n",
    "maior(lista_de_numeros)"
   ]
  },
  {
   "cell_type": "markdown",
   "id": "cc71fbfb-8162-4a73-b5b0-8ce8f414e3fb",
   "metadata": {},
   "source": [
    "# Proxima aula"
   ]
  },
  {
   "cell_type": "code",
   "execution_count": 12,
   "id": "1c0cc1a6-b808-4458-8427-f4cbb96741ce",
   "metadata": {},
   "outputs": [
    {
     "name": "stdin",
     "output_type": "stream",
     "text": [
      "Indique um numero inteiro 1\n",
      "Indique um numero inteiro 3\n",
      "Indique um numero inteiro 5\n"
     ]
    }
   ],
   "source": []
  },
  {
   "cell_type": "code",
   "execution_count": 13,
   "id": "8f4b8df6-97c9-47f9-80b1-6fecb1bb5564",
   "metadata": {},
   "outputs": [
    {
     "data": {
      "text/plain": [
       "[7, 1, 3, 5]"
      ]
     },
     "execution_count": 13,
     "metadata": {},
     "output_type": "execute_result"
    }
   ],
   "source": [
    "lista_de_numeros"
   ]
  },
  {
   "cell_type": "code",
   "execution_count": null,
   "id": "d9fa7042-3cb8-4135-8fc6-5205769584a9",
   "metadata": {},
   "outputs": [],
   "source": []
  }
 ],
 "metadata": {
  "kernelspec": {
   "display_name": "Python 3 (ipykernel)",
   "language": "python",
   "name": "python3"
  },
  "language_info": {
   "codemirror_mode": {
    "name": "ipython",
    "version": 3
   },
   "file_extension": ".py",
   "mimetype": "text/x-python",
   "name": "python",
   "nbconvert_exporter": "python",
   "pygments_lexer": "ipython3",
   "version": "3.9.13"
  }
 },
 "nbformat": 4,
 "nbformat_minor": 5
}
