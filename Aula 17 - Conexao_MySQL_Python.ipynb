{
 "cells": [
  {
   "cell_type": "markdown",
   "id": "a90e32e0-bf2a-455f-8e5b-9eb001978be7",
   "metadata": {},
   "source": [
    "# Instalação"
   ]
  },
  {
   "cell_type": "code",
   "execution_count": null,
   "id": "e1438b34-9902-4c4d-bd34-74307e069cee",
   "metadata": {},
   "outputs": [],
   "source": [
    "!pip install mysql-connector-python"
   ]
  },
  {
   "cell_type": "markdown",
   "id": "46cf953e-2755-4f8f-b5e3-181bdbee8a9d",
   "metadata": {},
   "source": [
    "# Conexão"
   ]
  },
  {
   "cell_type": "code",
   "execution_count": null,
   "id": "78054d7e-2604-4965-86a2-4bad88dfb1dc",
   "metadata": {
    "tags": []
   },
   "outputs": [],
   "source": [
    "import mysql.connector\n",
    "\n",
    "mydb = mysql.connector.connect(host = \"localhost\", user=\"root\", password=\"#SQLiscool1\", database=\"loja_virtual_2\")\n",
    "\n",
    "print(mydb)    "
   ]
  },
  {
   "cell_type": "markdown",
   "id": "b901222e-b7aa-4f5e-b7e0-8638308132ac",
   "metadata": {},
   "source": [
    "# Executar query SQL"
   ]
  },
  {
   "cell_type": "markdown",
   "id": "88954fe6-c5c2-4f61-90ac-57d7414662df",
   "metadata": {},
   "source": [
    "## Select"
   ]
  },
  {
   "cell_type": "code",
   "execution_count": null,
   "id": "852a2313-76fa-4bc2-afd8-2e2877568072",
   "metadata": {
    "tags": []
   },
   "outputs": [],
   "source": [
    "import mysql.connector\n",
    "\n",
    "mydb = mysql.connector.connect(host = \"localhost\", user=\"root\", password=\"#SQLiscool1\", database=\"escolas\")\n",
    "\n",
    "sql = \"SELECT * FROM estudantes\"\n",
    "\n",
    "mycursor = mydb.cursor()\n",
    "\n",
    "mycursor.execute(sql)\n",
    "\n",
    "myresult = mycursor.fetchall() # myresult = lista de tuplas\n",
    "\n",
    "for row in range(5):\n",
    "    print(myresult[row])"
   ]
  },
  {
   "cell_type": "code",
   "execution_count": null,
   "id": "bf0863b1-1d5e-411d-b9b0-864216564186",
   "metadata": {},
   "outputs": [],
   "source": [
    "myresult[-1]"
   ]
  },
  {
   "cell_type": "markdown",
   "id": "e0284cdb-da8e-4d81-a71b-02c8139e1402",
   "metadata": {},
   "source": [
    "## Insert"
   ]
  },
  {
   "cell_type": "code",
   "execution_count": null,
   "id": "ac061cd4-8a58-49c8-96ed-3640333d5d7e",
   "metadata": {},
   "outputs": [],
   "source": [
    "import mysql.connector\n",
    "\n",
    "mydb = mysql.connector.connect(host = \"localhost\", user=\"root\", password=\"#SQLiscool1\", database=\"escolas\")\n",
    "\n",
    "sql = \"INSERT INTO estudantes (school, sex, age) VALUES ('CM', 'F', 40)\" \n",
    "\n",
    "mycursor = mydb.cursor()\n",
    "\n",
    "mycursor.execute(sql)\n",
    "\n",
    "mydb.commit()"
   ]
  },
  {
   "cell_type": "markdown",
   "id": "0bc2eb6f-91ec-4f1f-828f-36d5c7d5dda4",
   "metadata": {},
   "source": [
    "### usando parametros"
   ]
  },
  {
   "cell_type": "code",
   "execution_count": null,
   "id": "3c704c6e-1ab8-4e7d-91d1-af657ce800c6",
   "metadata": {},
   "outputs": [],
   "source": [
    "import mysql.connector\n",
    "\n",
    "mydb = mysql.connector.connect(host = \"localhost\", user=\"root\", password=\"#SQLiscool1\", database=\"escolas\")\n",
    "\n",
    "sql = \"INSERT INTO estudantes (school, sex, age) VALUES (%s, %s, %s)\" \n",
    "\n",
    "parametros = ('RL', 'M', '70')\n",
    "\n",
    "mycursor = mydb.cursor()\n",
    "\n",
    "mycursor.execute(sql, parametros)\n",
    "\n",
    "mydb.commit()"
   ]
  },
  {
   "cell_type": "code",
   "execution_count": null,
   "id": "5881af26-2066-4d9d-8fa2-4806e5a7b320",
   "metadata": {},
   "outputs": [],
   "source": [
    "import mysql.connector\n",
    "\n",
    "mydb = mysql.connector.connect(host = \"localhost\", user=\"root\", password=\"#SQLiscool1\", database=\"escolas\")\n",
    "\n",
    "sql = \"INSERT INTO estudantes (school, sex, age) VALUES (%s, %s, %s)\" \n",
    "\n",
    "colegio = input(\"Digite a sigla da escola: \")\n",
    "sexo = input(\"M ou F: \")\n",
    "idade = input(\"Idade: \")\n",
    "\n",
    "parametros = (colegio, sexo, idade)\n",
    "\n",
    "mycursor = mydb.cursor()\n",
    "\n",
    "mycursor.execute(sql, parametros)\n",
    "\n",
    "mydb.commit()"
   ]
  },
  {
   "cell_type": "markdown",
   "id": "41784501-581c-4079-94b2-a817d08bfe25",
   "metadata": {},
   "source": [
    "# Função de inserção"
   ]
  },
  {
   "cell_type": "code",
   "execution_count": null,
   "id": "a39409f0-fece-4d63-a126-c9368cc995f2",
   "metadata": {},
   "outputs": [],
   "source": [
    "def insere_BD(colegio, sexo, idade):\n",
    "    \n",
    "    import mysql.connector\n",
    "\n",
    "    mydb = mysql.connector.connect(host = \"localhost\", user=\"root\", password=\"#SQLiscool1\", database=\"escolas\")\n",
    "\n",
    "    sql = \"INSERT INTO estudantes (school, sex, age) VALUES (%s, %s, %s)\" \n",
    "\n",
    "    parametros = (colegio, sexo, idade)\n",
    "\n",
    "    mycursor = mydb.cursor()\n",
    "\n",
    "    mycursor.execute(sql, parametros)\n",
    "\n",
    "    mydb.commit()"
   ]
  },
  {
   "cell_type": "code",
   "execution_count": null,
   "id": "ab426ae9-86fc-4536-99ea-c2db93c01915",
   "metadata": {},
   "outputs": [],
   "source": [
    "for rodada in range(3):\n",
    "    \n",
    "    colegio = input(\"Digite a sigla da escola: \")\n",
    "    sexo = input(\"M ou F: \")\n",
    "    idade = input(\"Idade: \")\n",
    "\n",
    "    insere_BD(colegio, sexo, idade)"
   ]
  },
  {
   "cell_type": "code",
   "execution_count": null,
   "id": "8b158cfa-01c8-4644-b707-0c76fe70045f",
   "metadata": {},
   "outputs": [],
   "source": [
    "insere_BD(\"Ui\", \"F\", 77)"
   ]
  },
  {
   "cell_type": "markdown",
   "id": "05a9061a-6534-4522-b20d-445db05b302a",
   "metadata": {},
   "source": [
    "# Missão"
   ]
  },
  {
   "cell_type": "markdown",
   "id": "839c08b2-8524-4740-9b4f-22b0aff235df",
   "metadata": {},
   "source": [
    "1 - Conectar MySQL usando Python"
   ]
  },
  {
   "cell_type": "markdown",
   "id": "7e6963eb-f5e3-479c-99c2-86136abe4371",
   "metadata": {},
   "source": [
    "2 - Rodar consultas SQL (SELECT e INSERT) de aulas anteriores via Python"
   ]
  },
  {
   "cell_type": "code",
   "execution_count": null,
   "id": "49c112a9-3410-4dd4-9fc3-0d751bd8add4",
   "metadata": {},
   "outputs": [],
   "source": [
    "import mysql.connector\n",
    "\n",
    "mydb = mysql.connector.connect(host = \"localhost\", user=\"root\", password=\"#SQLiscool1\", database=\"loja_virtual_2\")\n",
    "\n",
    "print(mydb)"
   ]
  },
  {
   "cell_type": "code",
   "execution_count": null,
   "id": "b9555fdf-9c5c-4b85-8f1a-d000e428d31a",
   "metadata": {},
   "outputs": [],
   "source": [
    "sql = \"SELECT * FROM colaboradores\"\n",
    "\n",
    "mycursor = mydb.cursor()\n",
    "\n",
    "mycursor.execute(sql)\n",
    "\n",
    "myresult = mycursor.fetchall()\n",
    "\n",
    "for row in range(len(myresult)):\n",
    "    print(myresult[row])"
   ]
  },
  {
   "cell_type": "code",
   "execution_count": null,
   "id": "042bcf86-92fd-4eab-bf1c-1bf4e9d28771",
   "metadata": {},
   "outputs": [],
   "source": [
    "import mysql.connector\n",
    "\n",
    "mydb = mysql.connector.connect(host = \"localhost\", user=\"root\", password=\"#SQLiscool1\", database=\"loja_virtual_2\")\n",
    "\n",
    "sql = \"INSERT INTO colaboradores (id, nome, morada, id_departamento, titulo, anos_de_empresa) VALUES ('12', 'iris gomes', 'rua da juventude', 4, 'assistente', 1)\" \n",
    "\n",
    "mycursor = mydb.cursor()\n",
    "\n",
    "mycursor.execute(sql)\n",
    "\n",
    "mydb.commit()"
   ]
  },
  {
   "cell_type": "code",
   "execution_count": null,
   "id": "d50b054d-be18-4c56-9555-26d1e7f9f79f",
   "metadata": {},
   "outputs": [],
   "source": [
    "import mysql.connector\n",
    "\n",
    "mydb = mysql.connector.connect(host = \"localhost\", user=\"root\", password=\"#SQLiscool1\", database=\"loja_virtual_2\")\n",
    "\n",
    "sql = \"INSERT INTO colaboradores (id, nome, morada, id_departamento, titulo, anos_de_empresa) VALUES (%s, %s, %s, %s, %s, %s)\"\n",
    "\n",
    "parametros = (\"14\", \"afonso duarte\", \"rua 5 de outubro\", \"2\", \"assistente\", \"2\")\n",
    "\n",
    "mycursor = mydb.cursor()\n",
    "\n",
    "mycursor.execute(sql, parametros)\n",
    "\n",
    "mydb.commit()"
   ]
  },
  {
   "cell_type": "code",
   "execution_count": null,
   "id": "7c8d197f-9901-4082-831c-29509f6183e6",
   "metadata": {},
   "outputs": [],
   "source": [
    "def insert_colaborador(id, nome, morada, id_departamento, titulo, anos_de_empresa):\n",
    "    \n",
    "    import mysql.connector\n",
    "\n",
    "    mydb = mysql.connector.connect(host = \"localhost\", user=\"root\", password=\"#SQLiscool1\", database=\"loja_virtual_2\")\n",
    "\n",
    "    sql = \"INSERT INTO colaboradores (id, nome, morada, id_departamento, titulo, anos_de_empresa) VALUES (%s, %s, %s, %s, %s, %s)\" \n",
    "\n",
    "    parametros = (id, nome, morada, id_departamento, titulo, anos_de_empresa)\n",
    "\n",
    "    mycursor = mydb.cursor()\n",
    "\n",
    "    mycursor.execute(sql, parametros)\n",
    "\n",
    "    mydb.commit()"
   ]
  },
  {
   "cell_type": "code",
   "execution_count": null,
   "id": "8b1ea244-17ba-4c93-8665-557c93fc01d9",
   "metadata": {},
   "outputs": [],
   "source": [
    "for colaborador in range(1):\n",
    "    \n",
    "    id = input(\"id: \")\n",
    "    nome = input(\"nome: \")\n",
    "    morada = input(\"morada: \")\n",
    "    id_departamento = input(\"id do departamento: \")\n",
    "    titulo = input(\"titulo / cargo: \")\n",
    "    anos_de_empresa = input(\"quantos anos de empresa: \")\n",
    "\n",
    "    insert_colaborador(id, nome, morada, id_departamento, titulo, anos_de_empresa)"
   ]
  },
  {
   "cell_type": "markdown",
   "id": "d3461ed0-4eea-4857-8c7e-f597f741947f",
   "metadata": {},
   "source": [
    "# NOVO"
   ]
  },
  {
   "cell_type": "code",
   "execution_count": 9,
   "id": "bddd5992-7d8f-44e1-a585-d52596bffc3d",
   "metadata": {},
   "outputs": [
    {
     "name": "stdout",
     "output_type": "stream",
     "text": [
      "<mysql.connector.connection_cext.CMySQLConnection object at 0x0000019D4D0DA4F0>\n"
     ]
    }
   ],
   "source": [
    "#Nova base de dados - escolas\n",
    "import mysql.connector\n",
    "\n",
    "mydb = mysql.connector.connect(host = \"localhost\", user=\"root\", password=\"#SQLiscool1\", database=\"escolas\")\n",
    "print(mydb)"
   ]
  },
  {
   "cell_type": "markdown",
   "id": "2b3ad9e8-1e20-41cc-aa2e-6e0c0f44b353",
   "metadata": {},
   "source": [
    "### CREATE TABLE"
   ]
  },
  {
   "cell_type": "code",
   "execution_count": null,
   "id": "cb6357e7-3184-4b7a-9d5e-40b693296144",
   "metadata": {},
   "outputs": [],
   "source": [
    "# Create new table\n",
    "mydb = mysql.connector.connect(host = \"localhost\", user=\"root\", password=\"#SQLiscool1\", database=\"escolas\")\n",
    "mycursor = mydb.cursor()\n",
    "\n",
    "mycursor.execute(\"CREATE TABLE professores (id INT PRIMARY KEY AUTO_INCREMENT, school VARCHAR(2), sex VARCHAR(2), age INT)\")"
   ]
  },
  {
   "cell_type": "code",
   "execution_count": 12,
   "id": "75c6626b-f431-4fb9-895a-0a54d9cae638",
   "metadata": {},
   "outputs": [],
   "source": [
    "# Function for a new table\n",
    "import mysql.connector\n",
    "\n",
    "def create_table_escolas():\n",
    "    mydb = mysql.connector.connect(host=\"localhost\", user=\"root\", password=\"#SQLiscool1\", database=\"escolas\")\n",
    "    cursor = mydb.cursor()\n",
    "\n",
    "    table_name = input(\"Enter the name of the new table: \")\n",
    "    query = f\"CREATE TABLE {table_name} (id INT AUTO_INCREMENT PRIMARY KEY, name VARCHAR(100))\"\n",
    "    cursor.execute(query)\n",
    "    mydb.commit()\n",
    "\n",
    "    print(f\"Table {table_name} created successfully!\")"
   ]
  },
  {
   "cell_type": "code",
   "execution_count": 13,
   "id": "900f7f19-1242-4a09-aea2-57eb072a9666",
   "metadata": {},
   "outputs": [
    {
     "name": "stdin",
     "output_type": "stream",
     "text": [
      "Enter the name of the new table:  instalacoes\n"
     ]
    },
    {
     "name": "stdout",
     "output_type": "stream",
     "text": [
      "Table instalacoes created successfully!\n"
     ]
    }
   ],
   "source": [
    "create_table_escolas()"
   ]
  },
  {
   "cell_type": "markdown",
   "id": "5d6c9553-77a9-4c8b-b193-03d9b323c776",
   "metadata": {},
   "source": [
    "### INSERT professores"
   ]
  },
  {
   "cell_type": "code",
   "execution_count": null,
   "id": "90c74fe9-d42d-4af8-928a-21f6e97152ba",
   "metadata": {},
   "outputs": [],
   "source": [
    "# Updated function to add new values\n",
    "def inserir_professores(school, sex, age, subject):\n",
    "    import mysql.connector\n",
    "    mydb = mysql.connector.connect(host = \"localhost\", user=\"root\", password=\"#SQLiscool1\", database=\"escolas\")\n",
    "    mycursor = mydb.cursor()\n",
    "\n",
    "    sql = \"INSERT INTO professores (school, sex, age, subject) VALUES (%s, %s, %s, %s)\" \n",
    "    parametros = (school, sex, age, subject)\n",
    "\n",
    "    mycursor.execute(sql, parametros)\n",
    "    mydb.commit()"
   ]
  },
  {
   "cell_type": "code",
   "execution_count": null,
   "id": "5270c54f-a8b9-4d80-b2a8-c66e8f62bc5f",
   "metadata": {},
   "outputs": [],
   "source": [
    "# Using function\n",
    "for professor in range(1):\n",
    "    school = input(\"escola: \")\n",
    "    sex = input(\"sexo: \")\n",
    "    age = int(input(\"idade: \"))\n",
    "    subject = input(\"subject: \")\n",
    "    inserir_professores(school, sex, age, subject)"
   ]
  },
  {
   "cell_type": "markdown",
   "id": "885b2d17-a218-4287-90b4-693f9919de22",
   "metadata": {},
   "source": [
    "### INSERT estudantes"
   ]
  },
  {
   "cell_type": "code",
   "execution_count": 8,
   "id": "bfc65c47-ef8f-4fb2-a43d-868107b34ada",
   "metadata": {},
   "outputs": [],
   "source": [
    "# funcion for estudantes\n",
    "def inserir_estudantes(school, sex, age):\n",
    "    import mysql.connector\n",
    "    mydb = mysql.connector.connect(host = \"localhost\", user=\"root\", password=\"#SQLiscool1\", database=\"escolas\")\n",
    "    mycursor = mydb.cursor()\n",
    "\n",
    "    sql = \"INSERT INTO estudantes (school, sex, age) VALUES (%s, %s, %s)\" \n",
    "    parametros = (school, sex, age)\n",
    "\n",
    "    mycursor.execute(sql, parametros)\n",
    "    mydb.commit()"
   ]
  },
  {
   "cell_type": "code",
   "execution_count": 9,
   "id": "e460cc71-f214-443f-8613-356bba547b2e",
   "metadata": {},
   "outputs": [
    {
     "name": "stdin",
     "output_type": "stream",
     "text": [
      "escola:  MS\n",
      "sexo:  F\n",
      "idade:  20\n"
     ]
    }
   ],
   "source": [
    "# calling function\n",
    "for estudante in range(1):\n",
    "    school = input(\"escola: \")\n",
    "    sex = input(\"sexo: \")\n",
    "    age = int(input(\"idade: \"))\n",
    "    inserir_estudantes(school, sex, age)"
   ]
  },
  {
   "cell_type": "markdown",
   "id": "4b50ceb9-6205-4feb-88ab-9cf13aa112bb",
   "metadata": {},
   "source": [
    "### SELECT ALL"
   ]
  },
  {
   "cell_type": "code",
   "execution_count": null,
   "id": "27a3dc11-2f62-418d-be47-5b1ae3c6b700",
   "metadata": {},
   "outputs": [],
   "source": [
    "#Select all\n",
    "import mysql.connector\n",
    "\n",
    "mydb = mysql.connector.connect(host = \"localhost\", user=\"root\", password=\"#SQLiscool1\", database=\"escolas\")\n",
    "\n",
    "# sql = \"SELECT * FROM estudantes\"\n",
    "sql = \"SELECT * FROM professores\"\n",
    "\n",
    "mycursor = mydb.cursor()\n",
    "\n",
    "mycursor.execute(sql)\n",
    "\n",
    "myresult = mycursor.fetchall()\n",
    "\n",
    "for row in range(len(myresult)):\n",
    "    print(myresult[row])"
   ]
  },
  {
   "cell_type": "markdown",
   "id": "051abacd-19b0-4d18-8086-5f4524fccae3",
   "metadata": {},
   "source": [
    "### ALTER TABLE"
   ]
  },
  {
   "cell_type": "markdown",
   "id": "dcbbdb71-dd2e-4000-84a8-da7e7edb053c",
   "metadata": {},
   "source": [
    "#### Estudantes"
   ]
  },
  {
   "cell_type": "code",
   "execution_count": 3,
   "id": "13872f46-9dca-4ae4-bf08-6884f70ab9e9",
   "metadata": {},
   "outputs": [],
   "source": [
    "#Alter Table estudantes\n",
    "import mysql.connector\n",
    "\n",
    "def alter_table_estudantes():\n",
    "    mydb = mysql.connector.connect(host=\"localhost\", user=\"root\", password=\"#SQLiscool1\", database=\"escolas\")\n",
    "    mycursor = mydb.cursor()\n",
    "\n",
    "    action = input(\"Would you like to 'ADD COLUMN', 'DROP COLUMN', 'RENAME COLUMN', or 'MODIFY COLUMN'? \")\n",
    "\n",
    "    if action == \"ADD COLUMN\":\n",
    "        column_name = input(\"Enter the name of the new column: \")\n",
    "        column_type = input(\"Enter the data type of the new column: \")\n",
    "        sql = f\"ALTER TABLE estudantes ADD COLUMN {column_name} {column_type}\"\n",
    "    elif action == \"DROP COLUMN\":\n",
    "        column_name = input(\"Enter the name of the column to drop: \")\n",
    "        sql = f\"ALTER TABLE estudantes DROP COLUMN {column_name}\"\n",
    "    elif action == \"RENAME COLUMN\":\n",
    "        old_column_name = input(\"Enter the name of the column to rename: \")\n",
    "        new_column_name = input(\"Enter the new name for the column: \")\n",
    "        sql = f\"ALTER TABLE estudantes RENAME COLUMN {old_column_name} TO {new_column_name}\"\n",
    "    elif action == \"MODIFY COLUMN\":\n",
    "        column_name = input(\"Enter the name of the column to modify: \")\n",
    "        new_column_type = input(\"Enter the new data type for the column: \")\n",
    "        sql = f\"ALTER TABLE estudantes MODIFY COLUMN {column_name} {new_column_type}\"\n",
    "    else:\n",
    "        print(\"Invalid action.\")\n",
    "        return\n",
    "\n",
    "    mycursor.execute(sql)\n",
    "    mydb.commit()\n",
    "\n",
    "    print(\"Alter table completed successfully.\")\n",
    "\n",
    "# How to call the function: alter_table_estudantes()"
   ]
  },
  {
   "cell_type": "code",
   "execution_count": 4,
   "id": "4a5982f3-8d48-4c05-ac63-709786a05887",
   "metadata": {},
   "outputs": [
    {
     "name": "stdin",
     "output_type": "stream",
     "text": [
      "Would you like to 'ADD COLUMN', 'DROP COLUMN', 'RENAME COLUMN', or 'MODIFY COLUMN'?  ADD COLUMN\n",
      "Enter the name of the new column:  ginasio\n",
      "Enter the data type of the new column:  VARCHAR(20)\n"
     ]
    },
    {
     "name": "stdout",
     "output_type": "stream",
     "text": [
      "Alter table completed successfully.\n"
     ]
    }
   ],
   "source": [
    "#Call function - create new column\n",
    "alter_table_estudantes()"
   ]
  },
  {
   "cell_type": "code",
   "execution_count": null,
   "id": "deb8e65d-b6be-4e5b-ae2f-ed32d28ffc77",
   "metadata": {},
   "outputs": [],
   "source": [
    "#Call function - Drop the newly created column\n",
    "alter_table_estudantes()"
   ]
  },
  {
   "cell_type": "markdown",
   "id": "09d8b120-5d19-42c9-b15d-040dd5442408",
   "metadata": {},
   "source": [
    "#### Professores"
   ]
  },
  {
   "cell_type": "code",
   "execution_count": 1,
   "id": "b7017de0-996f-4832-bb9d-f9826c4354aa",
   "metadata": {},
   "outputs": [],
   "source": [
    "#Same function but for table: professores\n",
    "import mysql.connector\n",
    "\n",
    "def alter_table_professores():\n",
    "    mydb = mysql.connector.connect(host=\"localhost\", user=\"root\", password=\"#SQLiscool1\", database=\"escolas\")\n",
    "    mycursor = mydb.cursor()\n",
    "\n",
    "    action = input(\"Would you like to 'ADD COLUMN', 'DROP COLUMN', 'RENAME COLUMN', or 'MODIFY COLUMN'? \")\n",
    "\n",
    "    if action == \"ADD COLUMN\":\n",
    "        column_name = input(\"Enter the name of the new column: \")\n",
    "        column_type = input(\"Enter the data type of the new column: \")\n",
    "        sql = f\"ALTER TABLE professores ADD COLUMN {column_name} {column_type}\"\n",
    "    elif action == \"DROP COLUMN\":\n",
    "        column_name = input(\"Enter the name of the column to drop: \")\n",
    "        sql = f\"ALTER TABLE professores DROP COLUMN {column_name}\"\n",
    "    elif action == \"RENAME COLUMN\":\n",
    "        old_column_name = input(\"Enter the name of the column to rename: \")\n",
    "        new_column_name = input(\"Enter the new name for the column: \")\n",
    "        sql = f\"ALTER TABLE professores RENAME COLUMN {old_column_name} TO {new_column_name}\"\n",
    "    elif action == \"MODIFY COLUMN\":\n",
    "        column_name = input(\"Enter the name of the column to modify: \")\n",
    "        new_column_type = input(\"Enter the new data type for the column: \")\n",
    "        sql = f\"ALTER TABLE professores MODIFY COLUMN {column_name} {new_column_type}\"\n",
    "    else:\n",
    "        print(\"Invalid action.\")\n",
    "        return\n",
    "\n",
    "    mycursor.execute(sql)\n",
    "    mydb.commit()\n",
    "\n",
    "    print(\"Alter table completed successfully.\")\n",
    "\n",
    "# How to call the function: alter_table_professores()"
   ]
  },
  {
   "cell_type": "code",
   "execution_count": 2,
   "id": "8f0731bf-d4f2-4b69-a8dd-5165dbfc644a",
   "metadata": {},
   "outputs": [
    {
     "name": "stdin",
     "output_type": "stream",
     "text": [
      "Would you like to 'ADD COLUMN', 'DROP COLUMN', 'RENAME COLUMN', or 'MODIFY COLUMN'?  ADD COLUMN\n",
      "Enter the name of the new column:  subject\n",
      "Enter the data type of the new column:  VARCHAR(20)\n"
     ]
    },
    {
     "name": "stdout",
     "output_type": "stream",
     "text": [
      "Alter table completed successfully.\n"
     ]
    }
   ],
   "source": [
    "# Using new funcion on table estudantes and adding a new column\n",
    "alter_table_professores()"
   ]
  },
  {
   "cell_type": "code",
   "execution_count": 11,
   "id": "c0a5f93b-8612-4c61-812b-5e6b62a4598a",
   "metadata": {},
   "outputs": [
    {
     "name": "stdout",
     "output_type": "stream",
     "text": [
      "id\n",
      "school\n",
      "sex\n",
      "age\n",
      "ginasio\n"
     ]
    }
   ],
   "source": [
    "descrever_tabela(\"estudantes\")"
   ]
  },
  {
   "cell_type": "code",
   "execution_count": 10,
   "id": "c61d0fb4-919e-4b0d-a983-34b58a001ee8",
   "metadata": {},
   "outputs": [],
   "source": [
    "import mysql.connector\n",
    "\n",
    "def descrever_tabela(nome_tabela):\n",
    "    mydb = mysql.connector.connect(host = \"localhost\", user=\"root\", password=\"#SQLiscool1\", database=\"escolas\")\n",
    "    \n",
    "    sql = f\"SHOW COLUMNS FROM {nome_tabela};\"\n",
    "\n",
    "    mycursor = mydb.cursor()\n",
    "\n",
    "    mycursor.execute(sql)\n",
    "\n",
    "    myresult = mycursor.fetchall()\n",
    "\n",
    "    for row in range(len(myresult)):\n",
    "        print(myresult[row][0])"
   ]
  },
  {
   "cell_type": "code",
   "execution_count": 12,
   "id": "71e6ff0e-4a25-4c7c-821f-72fccc69bdbf",
   "metadata": {},
   "outputs": [],
   "source": [
    "import mysql.connector\n",
    "\n",
    "def alter_table(nome_tabela):\n",
    "    mydb = mysql.connector.connect(host=\"localhost\", user=\"root\", password=\"#SQLiscool1\", database=\"escolas\")\n",
    "    mycursor = mydb.cursor()\n",
    "\n",
    "    action = input(\"Would you like to 'ADD COLUMN', 'DROP COLUMN', 'RENAME COLUMN', or 'MODIFY COLUMN'? \")\n",
    "\n",
    "    if action == \"ADD COLUMN\":\n",
    "        column_name = input(\"Enter the name of the new column: \")\n",
    "        column_type = input(\"Enter the data type of the new column: \")\n",
    "        sql = f\"ALTER TABLE {nome_tabela} ADD COLUMN {column_name} {column_type}\"\n",
    "    elif action == \"DROP COLUMN\":\n",
    "        column_name = input(\"Enter the name of the column to drop: \")\n",
    "        sql = f\"ALTER TABLE {nome_tabela} DROP COLUMN {column_name}\"\n",
    "    elif action == \"RENAME COLUMN\":\n",
    "        descrever_tabela(nome_tabela)\n",
    "        old_column_name = input(\"Enter the name of the column to rename: \")\n",
    "        new_column_name = input(\"Enter the new name for the column: \")\n",
    "        sql = f\"ALTER TABLE {nome_tabela} RENAME COLUMN {old_column_name} TO {new_column_name}\"\n",
    "    elif action == \"MODIFY COLUMN\":\n",
    "        column_name = input(\"Enter the name of the column to modify: \")\n",
    "        new_column_type = input(\"Enter the new data type for the column: \")\n",
    "        sql = f\"ALTER TABLE {nome_tabela} MODIFY COLUMN {column_name} {new_column_type}\"\n",
    "    else:\n",
    "        print(\"Invalid action.\")\n",
    "        return\n",
    "\n",
    "    mycursor.execute(sql)\n",
    "    mydb.commit()\n",
    "\n",
    "    print(\"Alter table completed successfully.\")"
   ]
  },
  {
   "cell_type": "code",
   "execution_count": 13,
   "id": "75335dab-bc6a-4138-8219-f18b434dfcb2",
   "metadata": {},
   "outputs": [
    {
     "name": "stdin",
     "output_type": "stream",
     "text": [
      "Would you like to 'ADD COLUMN', 'DROP COLUMN', 'RENAME COLUMN', or 'MODIFY COLUMN'?  RENAME COLUMN\n"
     ]
    },
    {
     "name": "stdout",
     "output_type": "stream",
     "text": [
      "id\n",
      "school\n",
      "sex\n",
      "age\n",
      "disciplina\n"
     ]
    },
    {
     "name": "stdin",
     "output_type": "stream",
     "text": [
      "Enter the name of the column to rename:  disciplina\n",
      "Enter the new name for the column:  subject\n"
     ]
    },
    {
     "name": "stdout",
     "output_type": "stream",
     "text": [
      "Alter table completed successfully.\n"
     ]
    }
   ],
   "source": [
    "alter_table(\"professores\")"
   ]
  },
  {
   "cell_type": "code",
   "execution_count": null,
   "id": "3e1db52c-b4f3-4e47-ae00-4542ef46fccf",
   "metadata": {},
   "outputs": [],
   "source": []
  }
 ],
 "metadata": {
  "kernelspec": {
   "display_name": "Python 3 (ipykernel)",
   "language": "python",
   "name": "python3"
  },
  "language_info": {
   "codemirror_mode": {
    "name": "ipython",
    "version": 3
   },
   "file_extension": ".py",
   "mimetype": "text/x-python",
   "name": "python",
   "nbconvert_exporter": "python",
   "pygments_lexer": "ipython3",
   "version": "3.9.13"
  }
 },
 "nbformat": 4,
 "nbformat_minor": 5
}
