{
 "cells": [
  {
   "cell_type": "markdown",
   "id": "c10aac89-a20e-45dd-b275-4a921e67e09a",
   "metadata": {
    "tags": []
   },
   "source": [
    "# Listas podem ter itens repetidos"
   ]
  },
  {
   "cell_type": "code",
   "execution_count": 1,
   "id": "0eb5e12c-ee9d-42e3-aec9-303915e6fbdb",
   "metadata": {},
   "outputs": [
    {
     "name": "stdin",
     "output_type": "stream",
     "text": [
      " banana\n",
      " maca\n",
      " carro\n",
      " computador\n",
      " banana\n",
      " pao\n",
      " banana\n",
      " fim\n"
     ]
    }
   ],
   "source": [
    "lista_compras = []\n",
    "\n",
    "item = input()\n",
    "\n",
    "while item != \"fim\":\n",
    "    lista_compras.append(item)\n",
    "    item = input()"
   ]
  },
  {
   "cell_type": "code",
   "execution_count": 3,
   "id": "a9837737-f072-4e57-b0f8-0753d684489c",
   "metadata": {},
   "outputs": [
    {
     "name": "stdout",
     "output_type": "stream",
     "text": [
      "['banana', 'maca', 'carro', 'computador', 'banana', 'pao', 'banana']\n"
     ]
    }
   ],
   "source": [
    "print(lista_compras)"
   ]
  },
  {
   "cell_type": "markdown",
   "id": "a477d8ad-0a45-48a9-bb80-5a59927c0783",
   "metadata": {
    "tags": []
   },
   "source": [
    "# Sets - conjuntos"
   ]
  },
  {
   "cell_type": "markdown",
   "id": "8b4cbfc0-01ee-4657-926d-98f25e31f9c6",
   "metadata": {
    "tags": []
   },
   "source": [
    "## Criando um set"
   ]
  },
  {
   "cell_type": "code",
   "execution_count": 50,
   "id": "2b610b88-a28e-4235-a5e3-3c6efe5b4831",
   "metadata": {},
   "outputs": [],
   "source": [
    "conjunto = set()\n",
    "conjunto2 = set([1,2,3,3,4,5,1,2])"
   ]
  },
  {
   "cell_type": "code",
   "execution_count": 51,
   "id": "6b8a8dea-7281-459f-8833-8aa3e32821f7",
   "metadata": {},
   "outputs": [
    {
     "data": {
      "text/plain": [
       "{1, 2, 3, 4, 5}"
      ]
     },
     "execution_count": 51,
     "metadata": {},
     "output_type": "execute_result"
    }
   ],
   "source": [
    "conjunto2"
   ]
  },
  {
   "cell_type": "markdown",
   "id": "3eb60bc0-dcfd-443a-992a-37860c9c7b7d",
   "metadata": {},
   "source": [
    "## Exemplo"
   ]
  },
  {
   "cell_type": "code",
   "execution_count": 7,
   "id": "432cb1ff-1ad5-4017-8849-9d1dc1c54bc5",
   "metadata": {},
   "outputs": [
    {
     "name": "stdin",
     "output_type": "stream",
     "text": [
      " cachorro\n",
      " gato\n",
      " banana\n",
      " macaco\n",
      " pao\n",
      " maca\n",
      " banana\n",
      " fim\n"
     ]
    }
   ],
   "source": [
    "lista_compras = set()\n",
    "\n",
    "item = input()\n",
    "\n",
    "while item != \"fim\":\n",
    "    lista_compras.add(item)\n",
    "    item = input()"
   ]
  },
  {
   "cell_type": "code",
   "execution_count": 8,
   "id": "422c0fdb-ce8d-47d4-96dd-01dc2c25e0cd",
   "metadata": {},
   "outputs": [
    {
     "name": "stdout",
     "output_type": "stream",
     "text": [
      "{'pao', 'maca', 'gato', 'cachorro', 'banana', 'macaco'}\n"
     ]
    }
   ],
   "source": [
    "print(lista_compras)"
   ]
  },
  {
   "cell_type": "markdown",
   "id": "481a1f5d-57c8-42f6-9c1a-6633da472b1f",
   "metadata": {},
   "source": [
    "## sets nao tem index"
   ]
  },
  {
   "cell_type": "code",
   "execution_count": 9,
   "id": "439f66cd-6af4-469e-ac9a-a8a9338c560f",
   "metadata": {},
   "outputs": [
    {
     "ename": "TypeError",
     "evalue": "'set' object is not subscriptable",
     "output_type": "error",
     "traceback": [
      "\u001b[1;31m---------------------------------------------------------------------------\u001b[0m",
      "\u001b[1;31mTypeError\u001b[0m                                 Traceback (most recent call last)",
      "Input \u001b[1;32mIn [9]\u001b[0m, in \u001b[0;36m<cell line: 1>\u001b[1;34m()\u001b[0m\n\u001b[1;32m----> 1\u001b[0m \u001b[43mlista_compras\u001b[49m\u001b[43m[\u001b[49m\u001b[38;5;241;43m0\u001b[39;49m\u001b[43m]\u001b[49m\n",
      "\u001b[1;31mTypeError\u001b[0m: 'set' object is not subscriptable"
     ]
    }
   ],
   "source": [
    "lista_compras[0]"
   ]
  },
  {
   "cell_type": "code",
   "execution_count": 10,
   "id": "b650c244-1078-4467-b04d-b8e042396fe4",
   "metadata": {},
   "outputs": [
    {
     "ename": "TypeError",
     "evalue": "'set' object is not subscriptable",
     "output_type": "error",
     "traceback": [
      "\u001b[1;31m---------------------------------------------------------------------------\u001b[0m",
      "\u001b[1;31mTypeError\u001b[0m                                 Traceback (most recent call last)",
      "Input \u001b[1;32mIn [10]\u001b[0m, in \u001b[0;36m<cell line: 1>\u001b[1;34m()\u001b[0m\n\u001b[1;32m----> 1\u001b[0m \u001b[43mlista_compras\u001b[49m\u001b[43m[\u001b[49m\u001b[43m:\u001b[49m\u001b[38;5;241;43m3\u001b[39;49m\u001b[43m]\u001b[49m\n",
      "\u001b[1;31mTypeError\u001b[0m: 'set' object is not subscriptable"
     ]
    }
   ],
   "source": [
    "lista_compras[:3]"
   ]
  },
  {
   "cell_type": "code",
   "execution_count": 11,
   "id": "6b24b53b-5681-4576-b5c4-47788107783a",
   "metadata": {},
   "outputs": [
    {
     "ename": "TypeError",
     "evalue": "set.pop() takes no arguments (1 given)",
     "output_type": "error",
     "traceback": [
      "\u001b[1;31m---------------------------------------------------------------------------\u001b[0m",
      "\u001b[1;31mTypeError\u001b[0m                                 Traceback (most recent call last)",
      "Input \u001b[1;32mIn [11]\u001b[0m, in \u001b[0;36m<cell line: 1>\u001b[1;34m()\u001b[0m\n\u001b[1;32m----> 1\u001b[0m \u001b[43mlista_compras\u001b[49m\u001b[38;5;241;43m.\u001b[39;49m\u001b[43mpop\u001b[49m\u001b[43m(\u001b[49m\u001b[38;5;241;43m4\u001b[39;49m\u001b[43m)\u001b[49m\n",
      "\u001b[1;31mTypeError\u001b[0m: set.pop() takes no arguments (1 given)"
     ]
    }
   ],
   "source": [
    "lista_compras.pop(4)"
   ]
  },
  {
   "cell_type": "code",
   "execution_count": 12,
   "id": "23e40a0d-fb35-4789-81fe-4ac1f6bd28cc",
   "metadata": {},
   "outputs": [
    {
     "ename": "AttributeError",
     "evalue": "'set' object has no attribute 'insert'",
     "output_type": "error",
     "traceback": [
      "\u001b[1;31m---------------------------------------------------------------------------\u001b[0m",
      "\u001b[1;31mAttributeError\u001b[0m                            Traceback (most recent call last)",
      "Input \u001b[1;32mIn [12]\u001b[0m, in \u001b[0;36m<cell line: 1>\u001b[1;34m()\u001b[0m\n\u001b[1;32m----> 1\u001b[0m \u001b[43mlista_compras\u001b[49m\u001b[38;5;241;43m.\u001b[39;49m\u001b[43minsert\u001b[49m(\u001b[38;5;124m\"\u001b[39m\u001b[38;5;124mpapagaio\u001b[39m\u001b[38;5;124m\"\u001b[39m,\u001b[38;5;241m5\u001b[39m)\n",
      "\u001b[1;31mAttributeError\u001b[0m: 'set' object has no attribute 'insert'"
     ]
    }
   ],
   "source": [
    "lista_compras.insert(\"papagaio\",5)"
   ]
  },
  {
   "cell_type": "code",
   "execution_count": 18,
   "id": "1c9e7008-e035-40f7-ab2e-6c934129f8d1",
   "metadata": {},
   "outputs": [
    {
     "data": {
      "text/plain": [
       "'gato'"
      ]
     },
     "execution_count": 18,
     "metadata": {},
     "output_type": "execute_result"
    }
   ],
   "source": [
    "lista_compras.pop() # cuidado, ele remove na ordem que ele guardou, não você"
   ]
  },
  {
   "cell_type": "markdown",
   "id": "1d2495cd-8daa-458f-81ff-5a012e5c43e3",
   "metadata": {
    "tags": []
   },
   "source": [
    "# Cast"
   ]
  },
  {
   "cell_type": "markdown",
   "id": "65f07b04-73cc-4d6a-987c-30ffe4eba991",
   "metadata": {},
   "source": [
    "transformar um tipo de dado em outro"
   ]
  },
  {
   "cell_type": "code",
   "execution_count": 22,
   "id": "1133f8fa-f6b4-4533-89d0-4de2fa465216",
   "metadata": {},
   "outputs": [
    {
     "name": "stdin",
     "output_type": "stream",
     "text": [
      " 5\n"
     ]
    }
   ],
   "source": [
    "x = int(input())"
   ]
  },
  {
   "cell_type": "code",
   "execution_count": 23,
   "id": "ed222920-004d-420c-99c3-98e354ab9da7",
   "metadata": {},
   "outputs": [
    {
     "data": {
      "text/plain": [
       "'5'"
      ]
     },
     "execution_count": 23,
     "metadata": {},
     "output_type": "execute_result"
    }
   ],
   "source": [
    "x"
   ]
  },
  {
   "cell_type": "code",
   "execution_count": 41,
   "id": "ef3b4680-4c80-454b-a0f3-3644c28c35d2",
   "metadata": {},
   "outputs": [
    {
     "name": "stdout",
     "output_type": "stream",
     "text": [
      "{'Marcio', 'Willem', 'Luigi'}\n"
     ]
    }
   ],
   "source": [
    "# lista para conjunto\n",
    "\n",
    "pessoas = [\"Marcio\", \"Luigi\", \"Willem\", \"Luigi\"]\n",
    "convidados = set(pessoas)\n",
    "print(convidados)"
   ]
  },
  {
   "cell_type": "code",
   "execution_count": 47,
   "id": "f33c3bf1-bc5d-49ad-bb5c-997d1e09847b",
   "metadata": {},
   "outputs": [],
   "source": [
    "tupla = set([\"oi\", \"xau\"])"
   ]
  },
  {
   "cell_type": "code",
   "execution_count": 48,
   "id": "783ce133-b923-46ac-b1ea-d48a640e5a40",
   "metadata": {},
   "outputs": [
    {
     "data": {
      "text/plain": [
       "set"
      ]
     },
     "execution_count": 48,
     "metadata": {},
     "output_type": "execute_result"
    }
   ],
   "source": [
    "type(tupla)"
   ]
  },
  {
   "cell_type": "code",
   "execution_count": 30,
   "id": "78126649-f12c-4897-9fb3-487728a03f71",
   "metadata": {},
   "outputs": [
    {
     "name": "stdout",
     "output_type": "stream",
     "text": [
      "{1, 2, 3}\n",
      "[1, 2, 3]\n"
     ]
    }
   ],
   "source": [
    "# conjunto para lista\n",
    "\n",
    "numeros = set()\n",
    "numeros.add(1)\n",
    "numeros.add(2)\n",
    "numeros.add(3)\n",
    "\n",
    "print(numeros)\n",
    "lista_numeros = list(numeros)\n",
    "print(lista_numeros)"
   ]
  },
  {
   "cell_type": "code",
   "execution_count": 32,
   "id": "99eb0cd7-424d-421b-a36f-97d830c09ff8",
   "metadata": {},
   "outputs": [
    {
     "data": {
      "text/plain": [
       "3"
      ]
     },
     "execution_count": 32,
     "metadata": {},
     "output_type": "execute_result"
    }
   ],
   "source": [
    "lista_numeros[-1]"
   ]
  },
  {
   "cell_type": "markdown",
   "id": "d4ac0795-1b62-4695-8e43-38064e7de71c",
   "metadata": {},
   "source": [
    "## Cast explicito"
   ]
  },
  {
   "cell_type": "code",
   "execution_count": 33,
   "id": "b9897bef-3675-4f75-a376-deb612705b77",
   "metadata": {},
   "outputs": [
    {
     "data": {
      "text/plain": [
       "'100'"
      ]
     },
     "execution_count": 33,
     "metadata": {},
     "output_type": "execute_result"
    }
   ],
   "source": [
    "str(100)"
   ]
  },
  {
   "cell_type": "code",
   "execution_count": 39,
   "id": "f6768541-b127-4807-ae1b-755d0496dedb",
   "metadata": {},
   "outputs": [
    {
     "name": "stdin",
     "output_type": "stream",
     "text": [
      " 8.97\n"
     ]
    },
    {
     "data": {
      "text/plain": [
       "float"
      ]
     },
     "execution_count": 39,
     "metadata": {},
     "output_type": "execute_result"
    }
   ],
   "source": [
    "x = float(input())\n",
    "type(x)"
   ]
  },
  {
   "cell_type": "markdown",
   "id": "c876259e-2d28-40f2-9395-14bd2e707b67",
   "metadata": {
    "tags": []
   },
   "source": [
    "## Cast implicito"
   ]
  },
  {
   "cell_type": "code",
   "execution_count": 34,
   "id": "072df7be-5d4c-46f4-b2bc-0eb677169e22",
   "metadata": {},
   "outputs": [],
   "source": [
    "x = 10\n",
    "y = 5.5\n",
    "z = x/y"
   ]
  },
  {
   "cell_type": "code",
   "execution_count": 38,
   "id": "ae2073e6-63b3-4316-ad1a-5f660f2d20f5",
   "metadata": {},
   "outputs": [
    {
     "data": {
      "text/plain": [
       "1.8181818181818181"
      ]
     },
     "execution_count": 38,
     "metadata": {},
     "output_type": "execute_result"
    }
   ],
   "source": [
    "z"
   ]
  },
  {
   "cell_type": "code",
   "execution_count": 37,
   "id": "151d1b26-a539-43f8-a5ef-eb83d200e21f",
   "metadata": {},
   "outputs": [
    {
     "data": {
      "text/plain": [
       "float"
      ]
     },
     "execution_count": 37,
     "metadata": {},
     "output_type": "execute_result"
    }
   ],
   "source": [
    "type(z)"
   ]
  }
 ],
 "metadata": {
  "kernelspec": {
   "display_name": "Python 3 (ipykernel)",
   "language": "python",
   "name": "python3"
  },
  "language_info": {
   "codemirror_mode": {
    "name": "ipython",
    "version": 3
   },
   "file_extension": ".py",
   "mimetype": "text/x-python",
   "name": "python",
   "nbconvert_exporter": "python",
   "pygments_lexer": "ipython3",
   "version": "3.9.13"
  }
 },
 "nbformat": 4,
 "nbformat_minor": 5
}
