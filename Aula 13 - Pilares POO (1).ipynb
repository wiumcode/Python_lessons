{
 "cells": [
  {
   "cell_type": "markdown",
   "id": "351ed731-7244-4d4b-bf38-b34ce2e68817",
   "metadata": {},
   "source": [
    "# Programação Orientada à Objetos"
   ]
  },
  {
   "cell_type": "markdown",
   "id": "1f73adac-5871-4a28-8047-9ff14a1201c7",
   "metadata": {},
   "source": [
    "# Abstração"
   ]
  },
  {
   "cell_type": "markdown",
   "id": "df0210ec-814c-4605-b5a1-b5294e9ebdfe",
   "metadata": {},
   "source": [
    "Na programação as classes sempre vão ser abstrações de entidades do mundo real"
   ]
  },
  {
   "cell_type": "markdown",
   "id": "72c2041c-74a5-47a4-8121-13c0a5146d84",
   "metadata": {},
   "source": [
    "Isto é, devemos apenas colocar atributos e métodos importantes para a nossa solução dentro das classes"
   ]
  },
  {
   "cell_type": "code",
   "execution_count": null,
   "id": "f832a7f8-ff38-40cf-be02-cf689b1e1d93",
   "metadata": {},
   "outputs": [],
   "source": [
    "class Cliente():\n",
    "    \n",
    "    def __init__(self, matricula, nome, idade):\n",
    "        self.matricula = matricula\n",
    "        self.nome = nome\n",
    "        self.idade = idade\n",
    "        \n",
    "    def apresentacao(self):\n",
    "        return \"Prazer meu nome eh \"+self.nome+\", eu tenho \"+str(self.idade)+\" anos.\""
   ]
  },
  {
   "cell_type": "markdown",
   "id": "b5db8c83-e996-4647-aec2-c8d576ac5786",
   "metadata": {},
   "source": [
    "# Encapsulamento"
   ]
  },
  {
   "cell_type": "markdown",
   "id": "52a29e22-5b0c-4395-92b2-2ca5d1d78606",
   "metadata": {},
   "source": [
    "### Exemplo Conta corrente"
   ]
  },
  {
   "cell_type": "code",
   "execution_count": 3,
   "id": "303a8740-822f-4926-b5f9-0b074557dae0",
   "metadata": {},
   "outputs": [],
   "source": [
    "class Conta_corrente():\n",
    "    \n",
    "    __taxaBanco = 0.01 # atributo de classe privado ou encapsulado na classe\n",
    "    moeda = \"euro\" # atributo de classe publico\n",
    "    \n",
    "    def __init__(self, proprietario, conta, agencia, saldo_inicial):\n",
    "        self.proprietario = proprietario\n",
    "        self.conta = conta\n",
    "        self.agencia = agencia\n",
    "        self.saldo = saldo_inicial\n",
    "        \n",
    "    def get_saldo(self):\n",
    "        \"\"\"\n",
    "        Retorna o valor na saldo da conta corrente.\n",
    "        \n",
    "        return:\n",
    "            saldo da conta menos a taxa do banco.\n",
    "        \"\"\"\n",
    "        self.__get_cookies()\n",
    "        return self.saldo*(1-self.__taxaBanco)\n",
    "    \n",
    "    def add_dinheiro(self, money):\n",
    "        \"\"\"\n",
    "        Adiciona dinheiro ao saldo da conta corrente.\n",
    "        \n",
    "        params:\n",
    "            money (float) : dinheiro para ser depositado\n",
    "        \"\"\"\n",
    "        self.saldo+=money\n",
    "        \n",
    "    def levanta_dinheiro(self, money): # método publico\n",
    "        \"\"\"\n",
    "        Retira dinheiro do saldo da conta corrente.\n",
    "        \n",
    "        params:\n",
    "            money (float) : dinheiro para ser levantado\n",
    "        \"\"\"\n",
    "        self.saldo-=money\n",
    "        \n",
    "    def __get_cookies(self): # método privado\n",
    "        print(\"peguei os cookies\")"
   ]
  },
  {
   "cell_type": "code",
   "execution_count": null,
   "id": "115fbccc-69b6-42df-a871-ebf9f708bc63",
   "metadata": {},
   "outputs": [],
   "source": [
    "willem_cc = Conta_corrente(\"Willem\", 1, 2, 300)"
   ]
  },
  {
   "cell_type": "code",
   "execution_count": null,
   "id": "fd8c297e-8638-47f0-8533-25fded988764",
   "metadata": {},
   "outputs": [],
   "source": [
    "willem_cc.__taxaBanco"
   ]
  },
  {
   "cell_type": "code",
   "execution_count": null,
   "id": "685e82ba-acbb-420b-ae0c-69c42585bde5",
   "metadata": {},
   "outputs": [],
   "source": [
    "willem_cc.get_saldo()"
   ]
  },
  {
   "cell_type": "code",
   "execution_count": null,
   "id": "25943461-c13c-4c33-803f-2c6f36aa2436",
   "metadata": {},
   "outputs": [],
   "source": [
    "willem_cc.__get_cookies()"
   ]
  },
  {
   "cell_type": "markdown",
   "id": "664cd5e1-90a5-4446-8b81-c66e6094d8c2",
   "metadata": {},
   "source": [
    "### Exemplo Carro"
   ]
  },
  {
   "cell_type": "code",
   "execution_count": null,
   "id": "4e6a5eea-edf8-48d4-9638-ef8c7573263f",
   "metadata": {},
   "outputs": [],
   "source": [
    "from veiculos import Carro"
   ]
  },
  {
   "cell_type": "code",
   "execution_count": null,
   "id": "67f50e79-3683-408b-89cf-77ea4fff1a18",
   "metadata": {},
   "outputs": [],
   "source": [
    "car1 = Carro(\"Renault\", \"Duster\", 2019)\n",
    "car2 = Carro(\"Ford\", \"Ka\", 2023)"
   ]
  },
  {
   "cell_type": "code",
   "execution_count": null,
   "id": "71090b98-3ac1-412d-a8c1-b6924b97c0f7",
   "metadata": {},
   "outputs": [],
   "source": [
    "car1.acelerar()\n",
    "car1.get_velocidade()"
   ]
  },
  {
   "cell_type": "code",
   "execution_count": null,
   "id": "e1005d79-8783-44ba-878e-fd45165d81fd",
   "metadata": {},
   "outputs": [],
   "source": [
    "car2.modelo"
   ]
  },
  {
   "cell_type": "code",
   "execution_count": null,
   "id": "a16f97d3-540a-4b72-a689-ed2f5c0c0694",
   "metadata": {},
   "outputs": [],
   "source": [
    "car1.marca"
   ]
  },
  {
   "cell_type": "markdown",
   "id": "1bcc0935-5593-4638-9187-736a587fa7d7",
   "metadata": {},
   "source": [
    "# Documentação ajuda a entender classes"
   ]
  },
  {
   "cell_type": "code",
   "execution_count": 1,
   "id": "97f7c3b7-34cd-4542-a339-bdfe985de781",
   "metadata": {
    "collapsed": true,
    "jupyter": {
     "outputs_hidden": true
    },
    "tags": []
   },
   "outputs": [
    {
     "name": "stdout",
     "output_type": "stream",
     "text": [
      "Help on class Carro in module veiculos:\n",
      "\n",
      "class Carro(builtins.object)\n",
      " |  Carro(marca, modelo, ano)\n",
      " |  \n",
      " |  Methods defined here:\n",
      " |  \n",
      " |  __init__(self, marca, modelo, ano)\n",
      " |      Initialize self.  See help(type(self)) for accurate signature.\n",
      " |  \n",
      " |  acelerar(self)\n",
      " |      Aumenta a velocidade atual do carro em 10km/h\n",
      " |  \n",
      " |  freiar(self)\n",
      " |      Diminui a velocidade atual do carro em 10km/h\n",
      " |  \n",
      " |  get_velocidade(self)\n",
      " |      Retorna a velocidade atual do carro\n",
      " |  \n",
      " |  ----------------------------------------------------------------------\n",
      " |  Data descriptors defined here:\n",
      " |  \n",
      " |  __dict__\n",
      " |      dictionary for instance variables (if defined)\n",
      " |  \n",
      " |  __weakref__\n",
      " |      list of weak references to the object (if defined)\n",
      " |  \n",
      " |  ----------------------------------------------------------------------\n",
      " |  Data and other attributes defined here:\n",
      " |  \n",
      " |  velocidade = 0\n",
      "\n"
     ]
    }
   ],
   "source": [
    "import veiculos\n",
    "help(veiculos.Carro)"
   ]
  },
  {
   "cell_type": "code",
   "execution_count": 5,
   "id": "d9d2e436-4435-4548-960d-f9f38691f736",
   "metadata": {
    "collapsed": true,
    "jupyter": {
     "outputs_hidden": true
    },
    "tags": []
   },
   "outputs": [
    {
     "name": "stdout",
     "output_type": "stream",
     "text": [
      "Help on class Conta_corrente in module __main__:\n",
      "\n",
      "class Conta_corrente(builtins.object)\n",
      " |  Conta_corrente(proprietario, conta, agencia, saldo_inicial)\n",
      " |  \n",
      " |  Methods defined here:\n",
      " |  \n",
      " |  __init__(self, proprietario, conta, agencia, saldo_inicial)\n",
      " |      Initialize self.  See help(type(self)) for accurate signature.\n",
      " |  \n",
      " |  add_dinheiro(self, money)\n",
      " |      Adiciona dinheiro ao saldo da conta corrente.\n",
      " |      \n",
      " |      params:\n",
      " |          money (float) : dinheiro para ser depositado\n",
      " |  \n",
      " |  get_saldo(self)\n",
      " |      Retorna o valor na saldo da conta corrente.\n",
      " |      \n",
      " |      return:\n",
      " |          saldo da conta menos a taxa do banco.\n",
      " |  \n",
      " |  levanta_dinheiro(self, money)\n",
      " |      Retira dinheiro do saldo da conta corrente.\n",
      " |      \n",
      " |      params:\n",
      " |          money (float) : dinheiro para ser levantado\n",
      " |  \n",
      " |  ----------------------------------------------------------------------\n",
      " |  Data descriptors defined here:\n",
      " |  \n",
      " |  __dict__\n",
      " |      dictionary for instance variables (if defined)\n",
      " |  \n",
      " |  __weakref__\n",
      " |      list of weak references to the object (if defined)\n",
      " |  \n",
      " |  ----------------------------------------------------------------------\n",
      " |  Data and other attributes defined here:\n",
      " |  \n",
      " |  moeda = 'euro'\n",
      "\n"
     ]
    }
   ],
   "source": [
    "help(Conta_corrente)"
   ]
  },
  {
   "cell_type": "code",
   "execution_count": 6,
   "id": "40f94433-77f3-480a-b1cc-3b01204be008",
   "metadata": {
    "collapsed": true,
    "jupyter": {
     "outputs_hidden": true
    },
    "tags": []
   },
   "outputs": [
    {
     "data": {
      "text/plain": [
       "['_Conta_corrente__get_cookies',\n",
       " '_Conta_corrente__taxaBanco',\n",
       " '__class__',\n",
       " '__delattr__',\n",
       " '__dict__',\n",
       " '__dir__',\n",
       " '__doc__',\n",
       " '__eq__',\n",
       " '__format__',\n",
       " '__ge__',\n",
       " '__getattribute__',\n",
       " '__gt__',\n",
       " '__hash__',\n",
       " '__init__',\n",
       " '__init_subclass__',\n",
       " '__le__',\n",
       " '__lt__',\n",
       " '__module__',\n",
       " '__ne__',\n",
       " '__new__',\n",
       " '__reduce__',\n",
       " '__reduce_ex__',\n",
       " '__repr__',\n",
       " '__setattr__',\n",
       " '__sizeof__',\n",
       " '__str__',\n",
       " '__subclasshook__',\n",
       " '__weakref__',\n",
       " 'add_dinheiro',\n",
       " 'get_saldo',\n",
       " 'levanta_dinheiro',\n",
       " 'moeda']"
      ]
     },
     "execution_count": 6,
     "metadata": {},
     "output_type": "execute_result"
    }
   ],
   "source": [
    "dir(Conta_corrente) # dir mostra os métodos e atributos privados"
   ]
  },
  {
   "cell_type": "markdown",
   "id": "bdbf3eef-d4ba-46d4-9455-d57d271ef593",
   "metadata": {},
   "source": [
    "# Herança"
   ]
  },
  {
   "cell_type": "markdown",
   "id": "5b62165a-0455-4956-9df5-02af29f3092b",
   "metadata": {},
   "source": [
    "### Exemplo 1"
   ]
  },
  {
   "cell_type": "code",
   "execution_count": 4,
   "id": "f68e10cb-e3c7-4aca-b1a6-2f5a3b0d7453",
   "metadata": {},
   "outputs": [],
   "source": [
    "class Animal():\n",
    "    \n",
    "    def __init__(self, nome):\n",
    "        print(\"Animal criado\")\n",
    "        self.nome = nome\n",
    "        \n",
    "    def oQueSou(self):\n",
    "        return \"Animal\"\n",
    "    \n",
    "    def come(self):\n",
    "        return \"comendo\"\n",
    "    \n",
    "    def som(self):\n",
    "        return \"AAAAA\""
   ]
  },
  {
   "cell_type": "code",
   "execution_count": 13,
   "id": "b3888a15-a025-45a5-bc72-e762cae9847a",
   "metadata": {},
   "outputs": [],
   "source": [
    "class Cao(Animal):\n",
    "    \n",
    "    # herança = come e o init\n",
    "    \n",
    "    def oQueSou(self): #overwrite\n",
    "        return \"Cao\"\n",
    "    \n",
    "    def som(self):  #overwrite\n",
    "        return \"Auau\""
   ]
  },
  {
   "cell_type": "code",
   "execution_count": 14,
   "id": "ba18fa68-1568-4583-9b99-c670a57d690f",
   "metadata": {},
   "outputs": [],
   "source": [
    "class Gato(Animal):\n",
    "    \n",
    "    def oQueSou(self):\n",
    "        return \"Gato\"\n",
    "    \n",
    "    def som(self):\n",
    "        return \"Miau\""
   ]
  },
  {
   "cell_type": "code",
   "execution_count": 15,
   "id": "3c153b7f-ed13-4350-9493-61389bda3e2d",
   "metadata": {},
   "outputs": [
    {
     "name": "stdout",
     "output_type": "stream",
     "text": [
      "Animal criado\n",
      "Animal criado\n"
     ]
    }
   ],
   "source": [
    "cao1 = Cao(\"Rex\")\n",
    "gato1 = Gato(\"Garfield\")"
   ]
  },
  {
   "cell_type": "code",
   "execution_count": 16,
   "id": "5cec8667-4769-4281-8291-3b02308d1f24",
   "metadata": {},
   "outputs": [
    {
     "data": {
      "text/plain": [
       "'Auau'"
      ]
     },
     "execution_count": 16,
     "metadata": {},
     "output_type": "execute_result"
    }
   ],
   "source": [
    "cao1.som()"
   ]
  },
  {
   "cell_type": "code",
   "execution_count": 17,
   "id": "a59ae929-cd54-4f55-96cb-31a5a97509ee",
   "metadata": {},
   "outputs": [
    {
     "data": {
      "text/plain": [
       "'comendo'"
      ]
     },
     "execution_count": 17,
     "metadata": {},
     "output_type": "execute_result"
    }
   ],
   "source": [
    "cao1.come()"
   ]
  },
  {
   "cell_type": "code",
   "execution_count": 19,
   "id": "b8768ce3-0121-4b3f-b611-fb5bf539c93b",
   "metadata": {},
   "outputs": [
    {
     "data": {
      "text/plain": [
       "'Cao'"
      ]
     },
     "execution_count": 19,
     "metadata": {},
     "output_type": "execute_result"
    }
   ],
   "source": [
    "cao1.oQueSou()"
   ]
  },
  {
   "cell_type": "code",
   "execution_count": 18,
   "id": "44ce52e3-6fce-4e2c-ad47-7eeab3fb24f3",
   "metadata": {},
   "outputs": [
    {
     "data": {
      "text/plain": [
       "'comendo'"
      ]
     },
     "execution_count": 18,
     "metadata": {},
     "output_type": "execute_result"
    }
   ],
   "source": [
    "gato1.come()"
   ]
  },
  {
   "cell_type": "code",
   "execution_count": 9,
   "id": "0f1e539f-2f93-45a4-82df-f95a1a853273",
   "metadata": {},
   "outputs": [
    {
     "data": {
      "text/plain": [
       "'Miau'"
      ]
     },
     "execution_count": 9,
     "metadata": {},
     "output_type": "execute_result"
    }
   ],
   "source": [
    "gato1.som()"
   ]
  },
  {
   "cell_type": "markdown",
   "id": "29f1f96b-6bf2-4525-a30e-c3cf16c2127e",
   "metadata": {},
   "source": [
    "### Exemplo 2"
   ]
  },
  {
   "cell_type": "code",
   "execution_count": 32,
   "id": "7fe3d2c7-7146-4066-b493-4fc95fbfa925",
   "metadata": {},
   "outputs": [],
   "source": [
    "class Rectangulo():\n",
    "    \n",
    "    def __init__(self, ladoA, ladoB):\n",
    "        self.ladoA = ladoA\n",
    "        self.ladoB = ladoB\n",
    "        \n",
    "    def area(self):\n",
    "        return self.ladoA * self.ladoB\n",
    "    \n",
    "\n",
    "class Quadrado(Rectangulo):\n",
    "    \n",
    "    def __init__(self, lado):\n",
    "        super().__init__(lado,lado)\n",
    "        \n",
    "    def area(self):\n",
    "        return \"Area: \" + str(super().area())\n",
    "    "
   ]
  },
  {
   "cell_type": "code",
   "execution_count": 33,
   "id": "56d930eb-adac-4bfa-b49c-3a81f64b5e51",
   "metadata": {},
   "outputs": [],
   "source": [
    "retangle = Rectangulo(10,50)\n",
    "square = Quadrado(10)"
   ]
  },
  {
   "cell_type": "code",
   "execution_count": 34,
   "id": "d766c7dc-b50c-4803-ac71-cb432797a344",
   "metadata": {},
   "outputs": [
    {
     "data": {
      "text/plain": [
       "500"
      ]
     },
     "execution_count": 34,
     "metadata": {},
     "output_type": "execute_result"
    }
   ],
   "source": [
    "retangle.area()"
   ]
  },
  {
   "cell_type": "code",
   "execution_count": 35,
   "id": "0366cf8d-4d1f-4d21-b3c0-f28137446c9a",
   "metadata": {},
   "outputs": [
    {
     "data": {
      "text/plain": [
       "'Area: 100'"
      ]
     },
     "execution_count": 35,
     "metadata": {},
     "output_type": "execute_result"
    }
   ],
   "source": [
    "square.area()"
   ]
  },
  {
   "cell_type": "markdown",
   "id": "30c9d123-79dc-4220-a7fd-00cc9981b5af",
   "metadata": {},
   "source": [
    "### Exemplo 3"
   ]
  },
  {
   "cell_type": "code",
   "execution_count": 38,
   "id": "c35734a8-903e-47af-a36e-e9d663aabf07",
   "metadata": {},
   "outputs": [],
   "source": [
    "class Cliente():\n",
    "    \n",
    "    def __init__(self, nome, matricula):\n",
    "        self.nome = nome\n",
    "        self.matricula = matricula\n",
    "        self.historico_compras = []\n",
    "        \n",
    "    def add_compra(self, nova_compra, valor):\n",
    "        item = {nova_compra:valor}\n",
    "        self.historico_compras.append(item)\n",
    "        \n",
    "    def valor_para_pagar(self, valor):\n",
    "        return valor\n",
    "        "
   ]
  },
  {
   "cell_type": "code",
   "execution_count": 42,
   "id": "b594f90c-fd0e-4d4f-84dd-2344ee732a88",
   "metadata": {},
   "outputs": [],
   "source": [
    "class Cliente_VIP(Cliente):\n",
    "    \n",
    "    pontos = 0\n",
    "    \n",
    "    def add_compra(self, nova_compra, valor):\n",
    "        super().add_compra(nova_compra, valor)\n",
    "        self.pontos += 1\n",
    "        \n",
    "    def valor_para_pagar(self, valor):\n",
    "        return valor - self.pontos/100"
   ]
  },
  {
   "cell_type": "code",
   "execution_count": 49,
   "id": "63212373-e661-4383-866e-379a6f6f8818",
   "metadata": {},
   "outputs": [],
   "source": [
    "marcio = Cliente(\"Marcio\", 1)\n",
    "willem = Cliente_VIP(\"Willem\", 2)"
   ]
  },
  {
   "cell_type": "code",
   "execution_count": 50,
   "id": "0d158c39-dd05-4210-b978-ed438f733d16",
   "metadata": {},
   "outputs": [],
   "source": [
    "marcio.add_compra(\"tenis\", 40)\n",
    "marcio.add_compra(\"chapeu\", 20)\n",
    "willem.add_compra(\"laptop\", 5000)\n",
    "willem.add_compra(\"ps5\", 3000)"
   ]
  },
  {
   "cell_type": "code",
   "execution_count": 51,
   "id": "bfdfb258-0353-4e6e-b023-9bbc5e48fa28",
   "metadata": {},
   "outputs": [
    {
     "data": {
      "text/plain": [
       "[{'tenis': 40}, {'chapeu': 20}]"
      ]
     },
     "execution_count": 51,
     "metadata": {},
     "output_type": "execute_result"
    }
   ],
   "source": [
    "marcio.historico_compras"
   ]
  },
  {
   "cell_type": "code",
   "execution_count": 52,
   "id": "624154f4-0914-4373-b7ea-24d10966286e",
   "metadata": {},
   "outputs": [
    {
     "data": {
      "text/plain": [
       "[{'laptop': 5000}, {'ps5': 3000}]"
      ]
     },
     "execution_count": 52,
     "metadata": {},
     "output_type": "execute_result"
    }
   ],
   "source": [
    "willem.historico_compras"
   ]
  },
  {
   "cell_type": "code",
   "execution_count": 54,
   "id": "43baac6e-f43f-441e-9719-c0f38f40a380",
   "metadata": {},
   "outputs": [
    {
     "data": {
      "text/plain": [
       "2"
      ]
     },
     "execution_count": 54,
     "metadata": {},
     "output_type": "execute_result"
    }
   ],
   "source": [
    "willem.pontos"
   ]
  },
  {
   "cell_type": "code",
   "execution_count": 55,
   "id": "4af2104a-af7e-466b-a7e2-dac082d5fa75",
   "metadata": {},
   "outputs": [
    {
     "data": {
      "text/plain": [
       "99.98"
      ]
     },
     "execution_count": 55,
     "metadata": {},
     "output_type": "execute_result"
    }
   ],
   "source": [
    "willem.valor_para_pagar(100)"
   ]
  },
  {
   "cell_type": "code",
   "execution_count": 56,
   "id": "8b583d93-9a82-4077-8832-61a42a5a9bb5",
   "metadata": {},
   "outputs": [
    {
     "data": {
      "text/plain": [
       "100"
      ]
     },
     "execution_count": 56,
     "metadata": {},
     "output_type": "execute_result"
    }
   ],
   "source": [
    "marcio.valor_para_pagar(100)"
   ]
  },
  {
   "cell_type": "markdown",
   "id": "4397b544-3454-406c-b188-58c580feb9c0",
   "metadata": {
    "tags": []
   },
   "source": [
    "### Herança Multipla"
   ]
  },
  {
   "cell_type": "code",
   "execution_count": null,
   "id": "37c458b6-7e42-4474-b619-3c2a75e58a00",
   "metadata": {},
   "outputs": [],
   "source": []
  },
  {
   "cell_type": "markdown",
   "id": "8ebefd60-2b01-465e-8b5a-bd43516b1b93",
   "metadata": {},
   "source": [
    "# Polimorfismo"
   ]
  },
  {
   "cell_type": "code",
   "execution_count": null,
   "id": "2b80fdda-71dc-420a-80f0-e4e4fadedf9f",
   "metadata": {},
   "outputs": [],
   "source": []
  },
  {
   "cell_type": "markdown",
   "id": "610e58bd-074e-4a9d-b753-4c55ec4f1cbe",
   "metadata": {},
   "source": [
    "### Interface"
   ]
  },
  {
   "cell_type": "code",
   "execution_count": null,
   "id": "a33d0e4b-4f08-4271-8d56-4f9da3bcd149",
   "metadata": {},
   "outputs": [],
   "source": []
  },
  {
   "cell_type": "markdown",
   "id": "a84a129e-9d93-4a98-99d5-0fdfa8addb03",
   "metadata": {},
   "source": [
    "# Missão "
   ]
  },
  {
   "cell_type": "markdown",
   "id": "4f2ba010-8f53-445c-9340-78a430471881",
   "metadata": {},
   "source": [
    "1 - Criar uma abstração (classe) de uma entidade do mundo real - A partir de uma descrição de exercício do beecrowd"
   ]
  },
  {
   "cell_type": "markdown",
   "id": "69fb81b0-b8de-4270-bd53-762f74fb3b0b",
   "metadata": {},
   "source": [
    "2 - Adicionar na abstração que vc criou: atributos privados e métodos privados"
   ]
  },
  {
   "cell_type": "markdown",
   "id": "0625e9f9-decf-483e-8955-5863af7188c4",
   "metadata": {},
   "source": [
    "3 - Crie dois exemplos de herança (um deles sendo D&d)"
   ]
  },
  {
   "cell_type": "code",
   "execution_count": 22,
   "id": "878f311b-e05f-4cba-be53-f8eeb053bb42",
   "metadata": {},
   "outputs": [],
   "source": [
    "class Classe():\n",
    "    \n",
    "    def __init__(self, nome, classe, nivel = 1):\n",
    "        self.nome = nome\n",
    "        self.nivel = nivel\n",
    "        self.classe = classe\n",
    "        \n",
    "    def level_up(self):\n",
    "        self.nivel += 1\n",
    "    \n",
    "class Classe_secundario(Classe):\n",
    "        \n",
    "    def escolhe_subclasse(self):\n",
    "        if self.nivel >= 3:\n",
    "            print(\"Escolhe sua sub-classe:\\n\")\n",
    "            if self.classe == \"Mago\" or self.classe == \"mago\":\n",
    "                self.sub_classe = input(\"Sub-classes disponiveis: (Necromancia), (Conjuracao), (Envocacao) ou (Ilusao)\")\n",
    "                return self.sub_classe\n",
    "            if self.classe == \"Guerreiro\" or self.classe == \"guerreiro\":\n",
    "                self.sub_classe = input(\"Sub-classes disponiveis: (Campeao), (arquiro magico), (cavaleiro) ou (duelista)\")\n",
    "                return self.sub_classe\n",
    "            if self.classe == \"Ladino\" or self.classe == \"ladino\":\n",
    "                self.sub_classe = input(\"Sub-classes disponiveis: (ladrao), (Assassino), (Trapaceiro Arcano) ou (espadachim)\")\n",
    "                return self.sub_classe\n",
    "        else:\n",
    "            print(\"Sub-classe só adequirido a nivel 3\")\n",
    "            pass"
   ]
  },
  {
   "cell_type": "code",
   "execution_count": 19,
   "id": "9b4403ef-4839-4f3e-a361-1de4551a4066",
   "metadata": {},
   "outputs": [
    {
     "name": "stdin",
     "output_type": "stream",
     "text": [
      "Escolhe sua classe primario: (Mago), (Guerreiro) ou (Ladino) Mago\n",
      "Qual seu nome Udric\n"
     ]
    }
   ],
   "source": [
    "classe = input(\"Escolhe sua classe primario: (Mago), (Guerreiro) ou (Ladino)\")\n",
    "nome = input(\"Qual seu nome\")\n",
    "player1 = Classe(nome, classe)"
   ]
  },
  {
   "cell_type": "code",
   "execution_count": 21,
   "id": "40650fe2-2d42-4630-9c64-dcf8dce51252",
   "metadata": {},
   "outputs": [
    {
     "name": "stdin",
     "output_type": "stream",
     "text": [
      "Escolhe sua classe primario: (Mago), (Guerreiro) ou (Ladino) Ladino\n",
      "Qual seu nome Dorn\n"
     ]
    },
    {
     "name": "stdout",
     "output_type": "stream",
     "text": [
      "Escolhe sua sub-classe:\n",
      "\n"
     ]
    },
    {
     "name": "stdin",
     "output_type": "stream",
     "text": [
      "Sub-classes disponiveis: (ladrao), (Assassino), (Trapaceiro Arcabi) ou (espadachim) Ladrao\n"
     ]
    },
    {
     "data": {
      "text/plain": [
       "'Ladrao'"
      ]
     },
     "execution_count": 21,
     "metadata": {},
     "output_type": "execute_result"
    }
   ],
   "source": [
    "classe = input(\"Escolhe sua classe primario: (Mago), (Guerreiro) ou (Ladino)\")\n",
    "nome = input(\"Qual seu nome\")\n",
    "player2 = Classe_secundario(nome, classe, 3)\n",
    "player2.escolhe_subclasse()"
   ]
  },
  {
   "cell_type": "code",
   "execution_count": 28,
   "id": "b6c0d54b-f1ae-4d6e-8b54-be1117f60267",
   "metadata": {},
   "outputs": [
    {
     "data": {
      "text/plain": [
       "'Ladrao'"
      ]
     },
     "execution_count": 28,
     "metadata": {},
     "output_type": "execute_result"
    }
   ],
   "source": [
    "player2.sub_classe"
   ]
  },
  {
   "cell_type": "code",
   "execution_count": 30,
   "id": "558b3161-863f-4bd7-8fa8-1449f48c9c2d",
   "metadata": {},
   "outputs": [
    {
     "name": "stdin",
     "output_type": "stream",
     "text": [
      "Escolhe sua classe primario: (Mago), (Guerreiro) ou (Ladino) Guerreiro\n",
      "Qual seu nome dude\n"
     ]
    }
   ],
   "source": [
    "classe = input(\"Escolhe sua classe primario: (Mago), (Guerreiro) ou (Ladino)\")\n",
    "nome = input(\"Qual seu nome\")\n",
    "player3 = Classe(nome, classe)\n"
   ]
  },
  {
   "cell_type": "code",
   "execution_count": 36,
   "id": "f5b19e37-1625-4bd2-92c3-2327b1854113",
   "metadata": {},
   "outputs": [
    {
     "name": "stdout",
     "output_type": "stream",
     "text": [
      "6\n"
     ]
    }
   ],
   "source": [
    "player3.level_up()\n",
    "print(player3.nivel)"
   ]
  },
  {
   "cell_type": "code",
   "execution_count": 39,
   "id": "391a694f-8242-4f54-be39-188e6a84a31f",
   "metadata": {},
   "outputs": [
    {
     "name": "stdin",
     "output_type": "stream",
     "text": [
      "Escolhe sua classe primario: (Mago), (Guerreiro) ou (Ladino) Guerreiro\n",
      "Qual seu nome Dude\n"
     ]
    },
    {
     "name": "stdout",
     "output_type": "stream",
     "text": [
      "Escolhe sua sub-classe:\n",
      "\n"
     ]
    },
    {
     "name": "stdin",
     "output_type": "stream",
     "text": [
      "Sub-classes disponiveis: (Campeao), (arquiro magico), (cavaleiro) ou (duelista) Campeao\n"
     ]
    },
    {
     "data": {
      "text/plain": [
       "'Campeao'"
      ]
     },
     "execution_count": 39,
     "metadata": {},
     "output_type": "execute_result"
    }
   ],
   "source": [
    "classe = input(\"Escolhe sua classe primario: (Mago), (Guerreiro) ou (Ladino)\")\n",
    "nome = input(\"Qual seu nome\")\n",
    "player3 = Classe_secundario(nome, classe, 3)\n",
    "player3.escolhe_subclasse()"
   ]
  },
  {
   "cell_type": "code",
   "execution_count": 20,
   "id": "9a277101-13f3-4f2e-8810-80ecfbac9694",
   "metadata": {},
   "outputs": [
    {
     "name": "stdin",
     "output_type": "stream",
     "text": [
      "Insira o nome da personagem que deseja criar Willem\n",
      "Insira um nível para a personagem 3\n"
     ]
    },
    {
     "name": "stdout",
     "output_type": "stream",
     "text": [
      "[Willem nível:3]\n"
     ]
    }
   ],
   "source": [
    "class Personagem:\n",
    "    def __init__(self, name, nivel):\n",
    "        self.nome = name\n",
    "        self.nivel = nivel\n",
    "        self.classe = None\n",
    "        self.subClass = None\n",
    "        self.personagens = []\n",
    "        \n",
    "    def criarPersonagem(self):\n",
    "        nome = input(\"Insira o nome da personagem que deseja criar\")\n",
    "        nivel = int(input(\"Insira um nível para a personagem\"))\n",
    "        personagem1 = Personagem(nome, nivel)\n",
    "        self.personagens.append(personagem1)\n",
    "        \n",
    "    def escolhaClasse(self):\n",
    "        print(\"Escolha uma das seguintes classes\")\n",
    "        for i in self.classes:\n",
    "            print (i)\n",
    "        self.classe = input()\n",
    "        return self.class\n",
    "    \n",
    "    def escolhaSubClass(self):\n",
    "        print(\"Escolhe sua sub-classe:\\n\")\n",
    "        for i in subClass:\n",
    "            print(i)\n",
    "        subEscolha = input()\n",
    "        \n",
    "        \n",
    "    def __repr__(self):\n",
    "        return f\"{self.nome} nível:{self.nivel}\"\n",
    "\n",
    "class Classe():\n",
    "    def __init__(self, nome, nivel):\n",
    "        Personagem.__init__(self, nome, nivel)\n",
    "        self.classes = [\"Mago\", \"Guerreiro\", \"Ladino\"]\n",
    "        self.classe = None\n",
    "\n",
    "e\n",
    "\n",
    "class Mago(Classe):\n",
    "    def __init__(self, nome, nivel):\n",
    "        Classe__init__(self, nome, nivel)\n",
    "        subClass = [\"Necromancia\", \"Conjuracao\", \"Envocacao\", \"Ilusao\"]\n",
    "        subEscolha = None\n",
    "        \n",
    "\n",
    "        \n",
    "        \n",
    "        \n",
    "#####################\n",
    "\n",
    "\n",
    "person1 = Personagem(\"\",0)\n",
    "person1.criarPersonagem()\n",
    "print(person1.personagens)\n"
   ]
  },
  {
   "cell_type": "code",
   "execution_count": null,
   "id": "606f4d44-a713-4808-af8f-5e9f582dd50f",
   "metadata": {},
   "outputs": [],
   "source": []
  }
 ],
 "metadata": {
  "kernelspec": {
   "display_name": "Python 3 (ipykernel)",
   "language": "python",
   "name": "python3"
  },
  "language_info": {
   "codemirror_mode": {
    "name": "ipython",
    "version": 3
   },
   "file_extension": ".py",
   "mimetype": "text/x-python",
   "name": "python",
   "nbconvert_exporter": "python",
   "pygments_lexer": "ipython3",
   "version": "3.9.13"
  }
 },
 "nbformat": 4,
 "nbformat_minor": 5
}
