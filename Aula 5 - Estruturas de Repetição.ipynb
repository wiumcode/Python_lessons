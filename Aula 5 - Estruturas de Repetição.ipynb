{
 "cells": [
  {
   "cell_type": "markdown",
   "id": "3babfb81-9b2c-43ae-8e02-23a237815ec1",
   "metadata": {
    "tags": []
   },
   "source": [
    "# While"
   ]
  },
  {
   "cell_type": "markdown",
   "id": "ed432aea-54f6-4641-b987-b970f6c1eab7",
   "metadata": {},
   "source": [
    "while condicao:\n",
    "\n",
    "    codigo aqui vai repetir"
   ]
  },
  {
   "cell_type": "code",
   "execution_count": 2,
   "id": "43991e68-c30a-435c-8e3d-6905491d4bc8",
   "metadata": {},
   "outputs": [
    {
     "name": "stdin",
     "output_type": "stream",
     "text": [
      "Digite sua senha:  456\n"
     ]
    },
    {
     "name": "stdout",
     "output_type": "stream",
     "text": [
      "Senha esta errada\n"
     ]
    },
    {
     "name": "stdin",
     "output_type": "stream",
     "text": [
      "Tente novamente:  789\n"
     ]
    },
    {
     "name": "stdout",
     "output_type": "stream",
     "text": [
      "Senha esta errada\n"
     ]
    },
    {
     "name": "stdin",
     "output_type": "stream",
     "text": [
      "Tente novamente:  123\n"
     ]
    },
    {
     "name": "stdout",
     "output_type": "stream",
     "text": [
      "Bem vindo!\n"
     ]
    }
   ],
   "source": [
    "senha = \"123\"\n",
    "\n",
    "password = input(\"Digite sua senha: \")\n",
    "\n",
    "while senha != password:\n",
    "    print(\"Senha esta errada\")\n",
    "    password = input(\"Tente novamente: \")\n",
    "\n",
    "print(\"Bem vindo!\")"
   ]
  },
  {
   "cell_type": "code",
   "execution_count": 3,
   "id": "b760045c-b8e4-4f89-abec-7afe24589fbb",
   "metadata": {},
   "outputs": [
    {
     "name": "stdin",
     "output_type": "stream",
     "text": [
      "Insira um item na sua lista de compras ('fim' para terminar) :  banana\n",
      "Insira um item na sua lista de compras ('fim' para terminar) :  cafe\n",
      "Insira um item na sua lista de compras ('fim' para terminar) :  arroz\n",
      "Insira um item na sua lista de compras ('fim' para terminar) :  algodao\n",
      "Insira um item na sua lista de compras ('fim' para terminar) :  fim\n"
     ]
    },
    {
     "name": "stdout",
     "output_type": "stream",
     "text": [
      "['banana', 'cafe', 'arroz', 'algodao']\n"
     ]
    }
   ],
   "source": [
    "lista_compras = []\n",
    "item = input(\"Insira um item na sua lista de compras ('fim' para terminar) : \")\n",
    "\n",
    "while item in [\"fim\"]:\n",
    "    lista_compras.append(item)\n",
    "    item = input(\"Insira um item na sua lista de compras ('fim' para terminar) : \")\n",
    "    \n",
    "print(lista_compras)"
   ]
  },
  {
   "cell_type": "code",
   "execution_count": 5,
   "id": "c36ba170-0b45-43e5-8f1c-89dc462cd535",
   "metadata": {},
   "outputs": [
    {
     "name": "stdout",
     "output_type": "stream",
     "text": [
      "1\n",
      "2\n",
      "3\n",
      "4\n",
      "5\n",
      "6\n",
      "7\n",
      "8\n",
      "9\n",
      "10\n",
      "11\n",
      "12\n",
      "13\n",
      "14\n",
      "15\n",
      "16\n",
      "17\n",
      "18\n",
      "19\n",
      "20\n"
     ]
    }
   ],
   "source": [
    "x = 1\n",
    "soma_total = 0\n",
    "\n",
    "while soma_total<200:\n",
    "    print(x)\n",
    "    soma_total+=x\n",
    "    x+=1"
   ]
  },
  {
   "cell_type": "code",
   "execution_count": 11,
   "id": "a8c8d9c4-8f01-4b21-9e9a-ec3300ddc42f",
   "metadata": {},
   "outputs": [
    {
     "name": "stdin",
     "output_type": "stream",
     "text": [
      "Vc eh estudante ou professor? (S/N) : s\n"
     ]
    },
    {
     "name": "stdout",
     "output_type": "stream",
     "text": [
      "Legal\n"
     ]
    }
   ],
   "source": [
    "estudante_professor = input(\"Vc eh estudante ou professor? (S/N) :\").upper()\n",
    "\n",
    "while estudante_professor not in [\"S\", \"N\"]:\n",
    "    estudante_professor = input(\"Vc eh estudante ou professor? (S/N) :\")\n",
    "    \n",
    "if estudante_professor == \"S\":\n",
    "    print(\"Legal\")\n",
    "else:\n",
    "    print(\"Vai estudar!\")"
   ]
  },
  {
   "cell_type": "code",
   "execution_count": null,
   "id": "dff0b047-5b46-4a7e-9b3d-75a26e4d884d",
   "metadata": {},
   "outputs": [],
   "source": [
    "while True:\n",
    "    print(\"infinito\")"
   ]
  },
  {
   "cell_type": "markdown",
   "id": "c3fbc8b3-7000-4b2c-8b4a-640641db2349",
   "metadata": {
    "tags": []
   },
   "source": [
    "# For"
   ]
  },
  {
   "cell_type": "markdown",
   "id": "e8a9b257-a18e-4386-b380-dc0e4f1fe6f3",
   "metadata": {},
   "source": [
    "for elemento in lista:\n",
    "    \n",
    "    repete para cada elemento o codigo que estiver aqui"
   ]
  },
  {
   "cell_type": "code",
   "execution_count": 13,
   "id": "c3207e40-b976-48fe-b168-c85b3d162d63",
   "metadata": {},
   "outputs": [
    {
     "name": "stdout",
     "output_type": "stream",
     "text": [
      "- banana\n",
      "- cafe\n",
      "- arroz\n",
      "- algodao\n"
     ]
    }
   ],
   "source": [
    "lista_compras = ['banana', 'cafe', 'arroz', 'algodao']\n",
    "\n",
    "for item in lista_compras:\n",
    "    print(\"-\", item)"
   ]
  },
  {
   "cell_type": "code",
   "execution_count": 30,
   "id": "2a26c2e7-ba6c-44ad-ac74-753dcea6556d",
   "metadata": {},
   "outputs": [
    {
     "name": "stdout",
     "output_type": "stream",
     "text": [
      "Bom dia\n",
      "Hoje vamos para as noticias de Lisboa\n",
      "Ronaldo vai jogar a Copa\n",
      "\n"
     ]
    }
   ],
   "source": [
    "texto = \"Bom dia.Hoje vamos para as noticias de Lisboa.Ronaldo vai jogar a Copa.\"\n",
    "\n",
    "for frase in texto.split(\".\"):\n",
    "    print(frase)"
   ]
  },
  {
   "cell_type": "code",
   "execution_count": 26,
   "id": "3d4b87bb-b25f-4f5f-87fb-a0637caa1b99",
   "metadata": {},
   "outputs": [
    {
     "name": "stdout",
     "output_type": "stream",
     "text": [
      "Bem vindo(a) Marcio\n",
      "Bem vindo(a) Willem\n",
      "Bem vindo(a) Bia\n",
      "Bem vindo(a) Jose\n"
     ]
    }
   ],
   "source": [
    "convidados = [\"Marcio\", \"Willem\", \"Bia\", \"Jose\"]\n",
    "\n",
    "for pessoa in convidados:\n",
    "    print(\"Bem vindo(a)\", pessoa)"
   ]
  },
  {
   "cell_type": "code",
   "execution_count": 16,
   "id": "4b04ae52-c7d2-46d7-a2ff-074cad75534a",
   "metadata": {},
   "outputs": [
    {
     "name": "stdout",
     "output_type": "stream",
     "text": [
      "Bom dia!\n",
      "Bom dia!\n",
      "Bom dia!\n"
     ]
    }
   ],
   "source": [
    "for num in [1,2,3]:\n",
    "    print(\"Bom dia!\")"
   ]
  },
  {
   "cell_type": "markdown",
   "id": "fca0f545-a84b-433e-acc5-855245e9f197",
   "metadata": {
    "tags": []
   },
   "source": [
    "## range"
   ]
  },
  {
   "cell_type": "code",
   "execution_count": 17,
   "id": "584d865d-308a-47fc-a905-3709829c9cbd",
   "metadata": {},
   "outputs": [
    {
     "name": "stdout",
     "output_type": "stream",
     "text": [
      "0\n",
      "1\n",
      "2\n",
      "3\n",
      "4\n",
      "5\n",
      "6\n",
      "7\n",
      "8\n",
      "9\n"
     ]
    }
   ],
   "source": [
    "for num in range(10):\n",
    "    print(num)"
   ]
  },
  {
   "cell_type": "code",
   "execution_count": 20,
   "id": "89a189c9-ecca-438d-ac9c-9027b011a180",
   "metadata": {},
   "outputs": [
    {
     "name": "stdin",
     "output_type": "stream",
     "text": [
      "Digite sua senha:  123\n"
     ]
    },
    {
     "name": "stdout",
     "output_type": "stream",
     "text": [
      "Bem vindo!\n"
     ]
    },
    {
     "name": "stdin",
     "output_type": "stream",
     "text": [
      "Digite sua senha:  789\n"
     ]
    },
    {
     "name": "stdout",
     "output_type": "stream",
     "text": [
      "Senha errada!\n"
     ]
    },
    {
     "name": "stdin",
     "output_type": "stream",
     "text": [
      "Digite sua senha:  123\n"
     ]
    },
    {
     "name": "stdout",
     "output_type": "stream",
     "text": [
      "Bem vindo!\n"
     ]
    }
   ],
   "source": [
    "senha = \"123\"\n",
    "\n",
    "for chances in range(3):\n",
    "    password = input(\"Digite sua senha: \")\n",
    "    if senha == password:\n",
    "        print(\"Bem vindo!\")\n",
    "    else:\n",
    "        print(\"Senha errada!\")"
   ]
  },
  {
   "cell_type": "markdown",
   "id": "db62e242-6dae-4c4d-991d-0037e213f38f",
   "metadata": {
    "tags": []
   },
   "source": [
    "# Break"
   ]
  },
  {
   "cell_type": "code",
   "execution_count": 21,
   "id": "4dc9a163-0666-4d2d-8098-b6c5060ddc00",
   "metadata": {},
   "outputs": [
    {
     "name": "stdin",
     "output_type": "stream",
     "text": [
      "Digite sua senha:  564\n"
     ]
    },
    {
     "name": "stdout",
     "output_type": "stream",
     "text": [
      "Senha errada!\n"
     ]
    },
    {
     "name": "stdin",
     "output_type": "stream",
     "text": [
      "Digite sua senha:  123\n"
     ]
    },
    {
     "name": "stdout",
     "output_type": "stream",
     "text": [
      "Bem vindo!\n"
     ]
    }
   ],
   "source": [
    "senha = \"123\"\n",
    "\n",
    "for chances in range(3):\n",
    "    password = input(\"Digite sua senha: \")\n",
    "    if senha == password:\n",
    "        print(\"Bem vindo!\")\n",
    "        break\n",
    "    else:\n",
    "        print(\"Senha errada!\")"
   ]
  },
  {
   "cell_type": "code",
   "execution_count": 24,
   "id": "de1f900c-d75d-4e04-be00-d33f1f92c43b",
   "metadata": {},
   "outputs": [
    {
     "name": "stdin",
     "output_type": "stream",
     "text": [
      "Digite sua senha:  123\n"
     ]
    },
    {
     "name": "stdout",
     "output_type": "stream",
     "text": [
      "Bem vindo!\n"
     ]
    }
   ],
   "source": [
    "senha = \"123\"\n",
    "\n",
    "password = input(\"Digite sua senha: \")\n",
    "\n",
    "tentativas = 0\n",
    "\n",
    "while senha != password:\n",
    "    tentativas +=1\n",
    "    print(\"Senha esta errada\")\n",
    "    if tentativas >2:\n",
    "        break\n",
    "    password = input(\"Tente novamente: \")\n",
    "    \n",
    "    \n",
    "if tentativas < 3:\n",
    "    print(\"Bem vindo!\")\n",
    "else:\n",
    "    print(\"Acesso bloqueado\")"
   ]
  },
  {
   "cell_type": "code",
   "execution_count": 31,
   "id": "b1b10430-f878-44a8-9fc3-38b1e95205de",
   "metadata": {},
   "outputs": [
    {
     "name": "stdout",
     "output_type": "stream",
     "text": [
      "160\n"
     ]
    }
   ],
   "source": [
    "x = 10\n",
    "while True:\n",
    "    x *=2\n",
    "    if x > 100:\n",
    "        break\n",
    "\n",
    "print(x)"
   ]
  },
  {
   "cell_type": "markdown",
   "id": "31ff7a3d-d4bc-4ec3-a989-ee9e396cefda",
   "metadata": {
    "tags": []
   },
   "source": [
    "# Missões"
   ]
  },
  {
   "cell_type": "markdown",
   "id": "39cda804-bf4f-4e16-a229-4a278e6fa19b",
   "metadata": {},
   "source": [
    "https://www.beecrowd.com.br/judge/pt/problems/view/1064"
   ]
  },
  {
   "cell_type": "code",
   "execution_count": 1,
   "id": "3797a343-d445-4ad9-a035-b5f60f868696",
   "metadata": {},
   "outputs": [
    {
     "name": "stdin",
     "output_type": "stream",
     "text": [
      " 1\n",
      " 2\n",
      " 3\n",
      " 4\n",
      " 5\n",
      " 5\n"
     ]
    },
    {
     "name": "stdout",
     "output_type": "stream",
     "text": [
      "6 valores positivos\n",
      "3.3333333333333335\n"
     ]
    }
   ],
   "source": [
    "qtd_positivos = 0\n",
    "soma = 0\n",
    "\n",
    "for rodada in range(6):\n",
    "    numero = float(input())\n",
    "    if numero > 0:\n",
    "        qtd_positivos+=1\n",
    "        soma+=numero\n",
    "    \n",
    "print(qtd_positivos, \"valores positivos\")\n",
    "print(soma/qtd_positivos)\n"
   ]
  },
  {
   "cell_type": "code",
   "execution_count": null,
   "id": "50c9f1a9-c94b-4675-accb-beec2e1a1d2b",
   "metadata": {},
   "outputs": [],
   "source": [
    "https://www.beecrowd.com.br/judge/pt/problems/view/1066"
   ]
  },
  {
   "cell_type": "code",
   "execution_count": null,
   "id": "51617b77-9450-4d66-86b0-3f0623365b1a",
   "metadata": {},
   "outputs": [],
   "source": []
  },
  {
   "cell_type": "code",
   "execution_count": null,
   "id": "0cb61598-b7b8-457c-928c-50a73103308c",
   "metadata": {},
   "outputs": [],
   "source": [
    "https://www.beecrowd.com.br/judge/pt/problems/view/1067"
   ]
  },
  {
   "cell_type": "code",
   "execution_count": null,
   "id": "00b4cba5-c793-4a9a-8c8f-10ccff047de3",
   "metadata": {},
   "outputs": [],
   "source": []
  },
  {
   "cell_type": "code",
   "execution_count": null,
   "id": "09f75e90-5a0a-41b4-8d24-ac4f9ec5884c",
   "metadata": {},
   "outputs": [],
   "source": [
    "https://www.beecrowd.com.br/judge/pt/problems/view/1070"
   ]
  },
  {
   "cell_type": "code",
   "execution_count": null,
   "id": "f7bc0bad-c4d1-4df3-82c6-8d8c18dd618e",
   "metadata": {},
   "outputs": [],
   "source": [
    "https://www.beecrowd.com.br/judge/pt/problems/view/1071"
   ]
  },
  {
   "cell_type": "code",
   "execution_count": null,
   "id": "af9ee43c-daa4-43c3-b4bc-61ef7aed2175",
   "metadata": {},
   "outputs": [],
   "source": [
    "https://www.beecrowd.com.br/judge/pt/problems/view/1072"
   ]
  },
  {
   "cell_type": "markdown",
   "id": "ad28a2e8-3160-4ea4-b09c-a3818dd8ea21",
   "metadata": {
    "tags": []
   },
   "source": [
    "# Extra"
   ]
  },
  {
   "cell_type": "code",
   "execution_count": 41,
   "id": "fd8012af-0d39-4622-b4f6-fdad278ea9d4",
   "metadata": {},
   "outputs": [
    {
     "name": "stdin",
     "output_type": "stream",
     "text": [
      " 3 2\n"
     ]
    }
   ],
   "source": [
    "gols_inter, gols_gremio = map(int, input().split())"
   ]
  },
  {
   "cell_type": "code",
   "execution_count": 42,
   "id": "bb7c8125-b243-4705-b17e-6ab4f8b48973",
   "metadata": {},
   "outputs": [
    {
     "data": {
      "text/plain": [
       "3"
      ]
     },
     "execution_count": 42,
     "metadata": {},
     "output_type": "execute_result"
    }
   ],
   "source": [
    "gols_inter"
   ]
  },
  {
   "cell_type": "code",
   "execution_count": 43,
   "id": "b1fa67db-91d6-4a3a-8cc4-2874d6da13d1",
   "metadata": {},
   "outputs": [
    {
     "data": {
      "text/plain": [
       "2"
      ]
     },
     "execution_count": 43,
     "metadata": {},
     "output_type": "execute_result"
    }
   ],
   "source": [
    "gols_gremio"
   ]
  }
 ],
 "metadata": {
  "kernelspec": {
   "display_name": "Python 3 (ipykernel)",
   "language": "python",
   "name": "python3"
  },
  "language_info": {
   "codemirror_mode": {
    "name": "ipython",
    "version": 3
   },
   "file_extension": ".py",
   "mimetype": "text/x-python",
   "name": "python",
   "nbconvert_exporter": "python",
   "pygments_lexer": "ipython3",
   "version": "3.9.13"
  }
 },
 "nbformat": 4,
 "nbformat_minor": 5
}
