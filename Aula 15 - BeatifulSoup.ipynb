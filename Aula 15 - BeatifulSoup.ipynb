{
 "cells": [
  {
   "cell_type": "code",
   "execution_count": null,
   "id": "de8d4e22-cecc-46d8-9cb7-0a140e03cc49",
   "metadata": {},
   "outputs": [],
   "source": [
    "# Instalando bs4"
   ]
  },
  {
   "cell_type": "code",
   "execution_count": null,
   "id": "6e4fd84f-e174-4f31-bb13-9cc0947a7b95",
   "metadata": {},
   "outputs": [],
   "source": [
    "!pip install bs4"
   ]
  },
  {
   "cell_type": "markdown",
   "id": "6b7d8afb-1518-44f8-a2b6-ee0117d6c757",
   "metadata": {
    "tags": []
   },
   "source": [
    "# Importando BeautifulSoup"
   ]
  },
  {
   "cell_type": "code",
   "execution_count": null,
   "id": "0b1699f4-3be5-4445-8e51-cbbaaf948959",
   "metadata": {},
   "outputs": [],
   "source": [
    "import requests\n",
    "from bs4 import BeautifulSoup"
   ]
  },
  {
   "cell_type": "markdown",
   "id": "2812d692-4614-461c-bd8e-8628e38864d9",
   "metadata": {},
   "source": [
    "# Usando BeautifulSoup"
   ]
  },
  {
   "cell_type": "code",
   "execution_count": null,
   "id": "18e10d6f-89a5-49dc-91a0-ab7e078ba010",
   "metadata": {},
   "outputs": [],
   "source": [
    "import requests\n",
    "from bs4 import BeautifulSoup    \n",
    "\n",
    "try:\n",
    "    url = \"https://sicnoticias.pt/\"\n",
    "    result = requests.get(url)\n",
    "    \n",
    "except:\n",
    "    print(\"Ocorreu um erro\")\n",
    "    \n",
    "else:\n",
    "    \n",
    "    texto= result.text\n",
    "    \n",
    "    soup = BeautifulSoup(texto, \"html.parser\")\n",
    "    \n",
    "    "
   ]
  },
  {
   "cell_type": "code",
   "execution_count": null,
   "id": "6e504b6e-ed1f-485c-9d35-afb58634e6b9",
   "metadata": {},
   "outputs": [],
   "source": [
    "print(soup.title.string)"
   ]
  },
  {
   "cell_type": "code",
   "execution_count": null,
   "id": "c8aad628-ec96-46aa-9ae9-3d6c2d43b81e",
   "metadata": {},
   "outputs": [],
   "source": [
    "lista_h2 = soup.find_all(\"h2\")\n",
    "\n",
    "for elemento in lista_h2:\n",
    "    elemento_a = elemento.find(\"a\")\n",
    "    print(elemento_a.string)"
   ]
  },
  {
   "cell_type": "markdown",
   "id": "f5131059-afd4-44ca-8d8b-72d8950b36c7",
   "metadata": {},
   "source": [
    "# Outro exemplo"
   ]
  },
  {
   "cell_type": "code",
   "execution_count": null,
   "id": "44a4eb3c-9806-4f92-a220-64b194df5354",
   "metadata": {},
   "outputs": [],
   "source": [
    "import requests\n",
    "from bs4 import BeautifulSoup    \n",
    "\n",
    "url = \"https://www.globo.com/\"\n",
    "result = requests.get(url)\n",
    "  \n",
    "texto= result.text\n",
    "\n",
    "soup = BeautifulSoup(texto, \"html.parser\")\n",
    "    \n",
    "print(soup.title.string)"
   ]
  },
  {
   "cell_type": "markdown",
   "id": "ec79529d-97c5-4973-b7ef-71e0b333f283",
   "metadata": {},
   "source": [
    "# Acessando elementos específicos do site"
   ]
  },
  {
   "cell_type": "code",
   "execution_count": null,
   "id": "e005c8a4-8f69-484c-a84f-0743624bc2f9",
   "metadata": {},
   "outputs": [],
   "source": [
    "print(soup.find(\"h2\", class_=\"post__title\").string)"
   ]
  },
  {
   "cell_type": "code",
   "execution_count": null,
   "id": "d9030230-4908-48a4-aff5-aaa1b9a26dba",
   "metadata": {},
   "outputs": [],
   "source": [
    "for titulo in soup.find_all(\"h2\", class_=\"post__title\"):\n",
    "    print(titulo.string)"
   ]
  },
  {
   "cell_type": "markdown",
   "id": "de418af5-b289-47b8-aa63-44fa94b91899",
   "metadata": {},
   "source": [
    "# Acessar preços de imoveis"
   ]
  },
  {
   "cell_type": "code",
   "execution_count": null,
   "id": "7eeb6091-5a69-446e-a664-03115602766b",
   "metadata": {},
   "outputs": [],
   "source": [
    "import requests\n",
    "from bs4 import BeautifulSoup\n",
    "\n",
    "url = \"https://www.idealista.pt/arrendar-casas/santo-antonio/av-da-liberdade-marques-de-pombal/\"\n",
    "\n",
    "result = requests.get(url)\n",
    "\n",
    "texto = result.text\n",
    "\n",
    "soup = BeautifulSoup(texto, \"html.parser\")"
   ]
  },
  {
   "cell_type": "markdown",
   "id": "d1e5b46f-edb9-4f22-b284-f1430ed8ff76",
   "metadata": {},
   "source": [
    "# Missão"
   ]
  },
  {
   "cell_type": "markdown",
   "id": "ff4671e9-cd86-48a1-b4c9-e25c2a38870e",
   "metadata": {},
   "source": [
    "Imprimir algo de algum site usando BeautifulSoup"
   ]
  },
  {
   "cell_type": "code",
   "execution_count": 2,
   "id": "43b459bc-6ae3-4b45-9be4-4164b8d46e0c",
   "metadata": {},
   "outputs": [],
   "source": [
    "import requests\n",
    "from bs4 import BeautifulSoup\n",
    "\n",
    "url = \"https://webscraper.io/test-sites/e-commerce/allinone/phones\"\n",
    "\n",
    "result = requests.get(url)\n",
    "\n",
    "texto = result.text\n",
    "\n",
    "soup = BeautifulSoup(texto, \"html.parser\")"
   ]
  },
  {
   "cell_type": "code",
   "execution_count": 3,
   "id": "851744f0-2ea1-4df4-81c2-3235b32d9745",
   "metadata": {},
   "outputs": [
    {
     "name": "stdout",
     "output_type": "stream",
     "text": [
      "Web Scraper Test Sites\n"
     ]
    }
   ],
   "source": [
    "print(soup.title.string)"
   ]
  },
  {
   "cell_type": "code",
   "execution_count": null,
   "id": "15879b85-7422-4031-be44-06fa242142a9",
   "metadata": {},
   "outputs": [],
   "source": [
    "print(result.text)"
   ]
  },
  {
   "cell_type": "code",
   "execution_count": null,
   "id": "3ee7f187-f89b-431b-be1f-d44d673bc64c",
   "metadata": {},
   "outputs": [],
   "source": [
    "soup.find_all()"
   ]
  },
  {
   "cell_type": "code",
   "execution_count": 4,
   "id": "eb9a6dcf-7877-439a-abb9-ab1b15a4921a",
   "metadata": {},
   "outputs": [
    {
     "name": "stdout",
     "output_type": "stream",
     "text": [
      "$24.99\n",
      "$899.99\n",
      "$57.99\n"
     ]
    }
   ],
   "source": [
    "#preco\n",
    "for i in soup.find_all(\"h4\", class_=\"pull-right price\"):\n",
    "    print(i.string)"
   ]
  },
  {
   "cell_type": "code",
   "execution_count": 30,
   "id": "4908f770-f739-49aa-a493-9eb4897b3f3a",
   "metadata": {},
   "outputs": [
    {
     "name": "stdout",
     "output_type": "stream",
     "text": [
      "Sapphire glass\n",
      "Black\n",
      "7 day battery\n"
     ]
    }
   ],
   "source": [
    "#Info\n",
    "for i in soup.find_all(\"p\", class_=\"description\"):\n",
    "    print(i.string)"
   ]
  },
  {
   "cell_type": "code",
   "execution_count": 32,
   "id": "b37f2fc0-f215-4f5e-a472-0ea9bcd83f74",
   "metadata": {},
   "outputs": [
    {
     "name": "stdout",
     "output_type": "stream",
     "text": [
      "Ubuntu Edge\n",
      "Iphone\n",
      "Nokia 123\n"
     ]
    }
   ],
   "source": [
    "#titulo\n",
    "for i in soup.find_all(\"a\", class_=\"title\"):\n",
    "    print(i.string)"
   ]
  },
  {
   "cell_type": "code",
   "execution_count": null,
   "id": "ccb3a5e2-48d8-4a03-a627-71acfa7bc5ea",
   "metadata": {},
   "outputs": [],
   "source": []
  }
 ],
 "metadata": {
  "kernelspec": {
   "display_name": "Python 3 (ipykernel)",
   "language": "python",
   "name": "python3"
  },
  "language_info": {
   "codemirror_mode": {
    "name": "ipython",
    "version": 3
   },
   "file_extension": ".py",
   "mimetype": "text/x-python",
   "name": "python",
   "nbconvert_exporter": "python",
   "pygments_lexer": "ipython3",
   "version": "3.9.13"
  }
 },
 "nbformat": 4,
 "nbformat_minor": 5
}
