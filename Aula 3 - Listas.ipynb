{
 "cells": [
  {
   "cell_type": "markdown",
   "id": "3f65bc33-dc18-4c2f-87fd-0d2e61b69878",
   "metadata": {},
   "source": [
    "# Criando"
   ]
  },
  {
   "cell_type": "code",
   "execution_count": 1,
   "id": "ceb2bccb-6b9a-4455-a0f8-dc381a07d78f",
   "metadata": {},
   "outputs": [],
   "source": [
    "convidados = []"
   ]
  },
  {
   "cell_type": "code",
   "execution_count": 2,
   "id": "53a27cc5-37f4-46b6-8f2f-c507b702d010",
   "metadata": {},
   "outputs": [
    {
     "name": "stdout",
     "output_type": "stream",
     "text": [
      "[]\n"
     ]
    }
   ],
   "source": [
    "print(convidados)"
   ]
  },
  {
   "cell_type": "code",
   "execution_count": 3,
   "id": "de5bc69e-b1d6-4b53-8e88-89532a254eaa",
   "metadata": {},
   "outputs": [],
   "source": [
    "convidados = [\"Jose\", \"Lucas\", \"Ana\", \"Enzo\", \"Valentina\"]"
   ]
  },
  {
   "cell_type": "code",
   "execution_count": 4,
   "id": "c6a570c4-5841-4a92-a779-4acccb88d17e",
   "metadata": {},
   "outputs": [
    {
     "name": "stdout",
     "output_type": "stream",
     "text": [
      "['Jose', 'Lucas', 'Ana', 'Enzo', 'Valentina']\n"
     ]
    }
   ],
   "source": [
    "print(convidados)"
   ]
  },
  {
   "cell_type": "code",
   "execution_count": 7,
   "id": "6a33e946-1591-46c5-b506-b099c124d0fa",
   "metadata": {},
   "outputs": [
    {
     "data": {
      "text/plain": [
       "list"
      ]
     },
     "execution_count": 7,
     "metadata": {},
     "output_type": "execute_result"
    }
   ],
   "source": [
    "type(convidados)"
   ]
  },
  {
   "cell_type": "code",
   "execution_count": 8,
   "id": "9121b302-6afd-401b-8941-f1544bf485bd",
   "metadata": {},
   "outputs": [],
   "source": [
    "numeros = [2,14,5,78,90]"
   ]
  },
  {
   "cell_type": "code",
   "execution_count": 10,
   "id": "51667a14-07e9-463a-82fd-1770ba7b0abc",
   "metadata": {},
   "outputs": [],
   "source": [
    "qualquer_coisa = [1, 23.93, \"misturado\", True]"
   ]
  },
  {
   "cell_type": "markdown",
   "id": "7d6bf99a-7df8-43eb-a272-f3e9d6d02e74",
   "metadata": {},
   "source": [
    "# Indexação"
   ]
  },
  {
   "cell_type": "code",
   "execution_count": 12,
   "id": "aeed2a89-b6a6-4205-8498-76823b0619ca",
   "metadata": {},
   "outputs": [],
   "source": [
    "convidados = [\"Jose\", \"Lucas\", \"Ana\", \"Enzo\", \"Valentina\"]"
   ]
  },
  {
   "cell_type": "code",
   "execution_count": 5,
   "id": "f9a20174-1936-4b89-9b95-3b1c128dfea1",
   "metadata": {},
   "outputs": [
    {
     "name": "stdout",
     "output_type": "stream",
     "text": [
      "Jose\n"
     ]
    }
   ],
   "source": [
    "print(convidados[0])"
   ]
  },
  {
   "cell_type": "code",
   "execution_count": 6,
   "id": "b778aab5-79af-44e5-b2fa-a53ef7ba5006",
   "metadata": {},
   "outputs": [
    {
     "name": "stdout",
     "output_type": "stream",
     "text": [
      "['Jose', 'Lucas', 'Ana']\n"
     ]
    }
   ],
   "source": [
    "print(convidados[:3])"
   ]
  },
  {
   "cell_type": "code",
   "execution_count": 11,
   "id": "c7927c62-0101-47b3-b920-c67642fd1734",
   "metadata": {},
   "outputs": [
    {
     "name": "stdout",
     "output_type": "stream",
     "text": [
      "Valentina\n"
     ]
    }
   ],
   "source": [
    "print(convidados[-1])"
   ]
  },
  {
   "cell_type": "markdown",
   "id": "6b76d197-893d-4591-af76-8fa152280b8a",
   "metadata": {},
   "source": [
    "# Alterando itens"
   ]
  },
  {
   "cell_type": "code",
   "execution_count": 13,
   "id": "58378b92-ccf3-44f8-b45c-9b13e6810902",
   "metadata": {},
   "outputs": [],
   "source": [
    "convidados = [\"Jose\", \"Lucas\", \"Ana\", \"Enzo\", \"Valentina\"]"
   ]
  },
  {
   "cell_type": "code",
   "execution_count": 15,
   "id": "49b8ed9b-2ac9-42ba-a004-8deca618aa1c",
   "metadata": {},
   "outputs": [],
   "source": [
    "convidados[0] = \"Beatriz\""
   ]
  },
  {
   "cell_type": "code",
   "execution_count": 16,
   "id": "0b43598d-acdd-4025-a48e-572d9f48d9f2",
   "metadata": {},
   "outputs": [
    {
     "name": "stdout",
     "output_type": "stream",
     "text": [
      "['Beatriz', 'Lucas', 'Ana', 'Enzo', 'Valentina']\n"
     ]
    }
   ],
   "source": [
    "print(convidados)"
   ]
  },
  {
   "cell_type": "markdown",
   "id": "78ca9bf1-82ef-42ee-8e85-df142692a2a5",
   "metadata": {},
   "source": [
    "# Acrescentando itens\n",
    "\n"
   ]
  },
  {
   "cell_type": "code",
   "execution_count": 21,
   "id": "27170c6c-9807-4281-849b-2253165283fa",
   "metadata": {},
   "outputs": [],
   "source": [
    "convidados = [\"Jose\", \"Lucas\", \"Ana\", \"Enzo\", \"Valentina\"]"
   ]
  },
  {
   "cell_type": "markdown",
   "id": "dab18881-d007-4aab-a30c-7f2119c9b00f",
   "metadata": {},
   "source": [
    "#### append (no final)"
   ]
  },
  {
   "cell_type": "code",
   "execution_count": 22,
   "id": "59b7567a-fe12-44de-a0e3-f155b53c8ea4",
   "metadata": {},
   "outputs": [
    {
     "name": "stdout",
     "output_type": "stream",
     "text": [
      "['Jose', 'Lucas', 'Ana', 'Enzo', 'Valentina', 'Joaquim']\n"
     ]
    }
   ],
   "source": [
    "convidados.append(\"Joaquim\")\n",
    "print(convidados)"
   ]
  },
  {
   "cell_type": "markdown",
   "id": "86af2ddd-6546-43fb-8e89-4d37d1be979a",
   "metadata": {},
   "source": [
    "#### insert (inserindo em uma posicao especifica)"
   ]
  },
  {
   "cell_type": "code",
   "execution_count": 23,
   "id": "04150a54-d3de-42ae-9dac-33603a28634a",
   "metadata": {},
   "outputs": [
    {
     "name": "stdout",
     "output_type": "stream",
     "text": [
      "['Jose', 'Lucas', 'Ana', 'Beethoven', 'Enzo', 'Valentina', 'Joaquim']\n"
     ]
    }
   ],
   "source": [
    "convidados.insert(3, \"Beethoven\")\n",
    "print(convidados)"
   ]
  },
  {
   "cell_type": "markdown",
   "id": "a7c05d18-d980-45c9-8a19-dc8859cefa8e",
   "metadata": {},
   "source": [
    "# Remover da lista"
   ]
  },
  {
   "cell_type": "markdown",
   "id": "57a78f82-d638-4563-8da2-b8f6e8244b20",
   "metadata": {},
   "source": [
    "#### del - remover com index"
   ]
  },
  {
   "cell_type": "code",
   "execution_count": 32,
   "id": "ea3b4b9e-6c94-4fbc-b548-1f5a9fab13f9",
   "metadata": {},
   "outputs": [
    {
     "name": "stdout",
     "output_type": "stream",
     "text": [
      "['Jose', 'Lucas', 'Ana', 'Valentina', 'Bruno', 'Patricia']\n"
     ]
    }
   ],
   "source": [
    "convidados = [\"Jose\", \"Lucas\", \"Ana\", \"Enzo\", \"Valentina\", \"Bruno\", \"Patricia\"]\n",
    "del convidados[3]\n",
    "print(convidados)"
   ]
  },
  {
   "cell_type": "code",
   "execution_count": 33,
   "id": "5b05d239-2053-45c5-bccb-9f5952634fdf",
   "metadata": {},
   "outputs": [
    {
     "name": "stdout",
     "output_type": "stream",
     "text": [
      "['Jose', 'Lucas', 'Bruno', 'Patricia']\n"
     ]
    }
   ],
   "source": [
    "convidados = [\"Jose\", \"Lucas\", \"Ana\", \"Enzo\", \"Valentina\", \"Bruno\", \"Patricia\"]\n",
    "del convidados[2:5]\n",
    "print(convidados)"
   ]
  },
  {
   "cell_type": "markdown",
   "id": "6ec5ccc2-c41c-46b3-a736-7cd8a4aadd46",
   "metadata": {},
   "source": [
    "#### pop - remover do final (FILO)"
   ]
  },
  {
   "cell_type": "code",
   "execution_count": 35,
   "id": "8f3e32bd-9e4c-4dec-b752-c1aebd0f4f96",
   "metadata": {},
   "outputs": [
    {
     "name": "stdout",
     "output_type": "stream",
     "text": [
      "['Jose', 'Lucas', 'Ana', 'Enzo', 'Valentina', 'Bruno']\n"
     ]
    }
   ],
   "source": [
    "convidados = [\"Jose\", \"Lucas\", \"Ana\", \"Enzo\", \"Valentina\", \"Bruno\", \"Patricia\"]\n",
    "convidados.pop()\n",
    "print(convidados)"
   ]
  },
  {
   "cell_type": "code",
   "execution_count": 37,
   "id": "baa8ecde-d437-47e2-b736-ea4aee43020b",
   "metadata": {},
   "outputs": [
    {
     "name": "stdout",
     "output_type": "stream",
     "text": [
      "['Jose', 'Lucas', 'Ana', 'Enzo', 'Valentina', 'Bruno']\n",
      "Patricia\n"
     ]
    }
   ],
   "source": [
    "convidados = [\"Jose\", \"Lucas\", \"Ana\", \"Enzo\", \"Valentina\", \"Bruno\", \"Patricia\"]\n",
    "ultimo = convidados.pop()\n",
    "print(convidados)\n",
    "print(ultimo)"
   ]
  },
  {
   "cell_type": "code",
   "execution_count": 38,
   "id": "237d91da-9731-4b31-a581-f1e93f7b8258",
   "metadata": {},
   "outputs": [
    {
     "name": "stdout",
     "output_type": "stream",
     "text": [
      "['Jose', 'Lucas', 'Ana', 'Enzo', 'Valentina']\n",
      "Bruno\n"
     ]
    }
   ],
   "source": [
    "ultimo = convidados.pop()\n",
    "print(convidados)\n",
    "print(ultimo)"
   ]
  },
  {
   "cell_type": "code",
   "execution_count": 39,
   "id": "0e56fd03-a6a7-49be-83b5-2831270241d8",
   "metadata": {},
   "outputs": [
    {
     "name": "stdout",
     "output_type": "stream",
     "text": [
      "['Jose', 'Lucas', 'Ana', 'Enzo']\n",
      "Valentina\n"
     ]
    }
   ],
   "source": [
    "ultimo = convidados.pop()\n",
    "print(convidados)\n",
    "print(ultimo)"
   ]
  },
  {
   "cell_type": "code",
   "execution_count": 41,
   "id": "06e93007-0c10-43f8-aa44-bfbcb161c223",
   "metadata": {},
   "outputs": [
    {
     "name": "stdout",
     "output_type": "stream",
     "text": [
      "['Jose', 'Ana']\n",
      "Enzo\n"
     ]
    }
   ],
   "source": [
    "pos2 = convidados.pop(2)\n",
    "print(convidados)\n",
    "print(pos2)"
   ]
  },
  {
   "cell_type": "markdown",
   "id": "60ff12a1-c95a-434d-9c50-c0ae29d4d3f3",
   "metadata": {},
   "source": [
    "#### remove - elimina a primeira aparição de um item"
   ]
  },
  {
   "cell_type": "code",
   "execution_count": 45,
   "id": "fabb80a0-55ed-4730-9498-95f63776fafb",
   "metadata": {},
   "outputs": [],
   "source": [
    "convidados = [\"Jose\", \"Lucas\", \"Ana\", \"Enzo\", \"Valentina\", \"Bruno\", \"Patricia\", \"Ana\"]"
   ]
  },
  {
   "cell_type": "code",
   "execution_count": 46,
   "id": "e43b7a57-87d6-4c4a-b3b5-c1282737d211",
   "metadata": {},
   "outputs": [],
   "source": [
    "convidados.remove(\"Ana\")"
   ]
  },
  {
   "cell_type": "code",
   "execution_count": 47,
   "id": "1448ced1-8b0b-453e-8afa-7f0b984b38a3",
   "metadata": {},
   "outputs": [
    {
     "name": "stdout",
     "output_type": "stream",
     "text": [
      "['Jose', 'Lucas', 'Enzo', 'Valentina', 'Bruno', 'Patricia', 'Ana']\n"
     ]
    }
   ],
   "source": [
    "print(convidados)"
   ]
  },
  {
   "cell_type": "markdown",
   "id": "21cf3f22-49bd-494d-bb6e-7dc6e71df29b",
   "metadata": {
    "tags": []
   },
   "source": [
    "# Funções e métodos"
   ]
  },
  {
   "cell_type": "code",
   "execution_count": 48,
   "id": "094fb5a8-2fbc-4fb1-850f-8a2fd998e1f0",
   "metadata": {},
   "outputs": [],
   "source": [
    "convidados = [\"Jose\", \"Lucas\", \"Ana\", \"Enzo\", \"Valentina\", \"Bruno\", \"Patricia\", \"Ana\"]"
   ]
  },
  {
   "cell_type": "markdown",
   "id": "77599139-06ac-4564-ab56-08e3439d921f",
   "metadata": {
    "tags": []
   },
   "source": [
    "## Ordenação"
   ]
  },
  {
   "cell_type": "markdown",
   "id": "b4ed8c13-50f8-4f17-8460-61ce039532a4",
   "metadata": {},
   "source": [
    "#### sort"
   ]
  },
  {
   "cell_type": "code",
   "execution_count": 51,
   "id": "91998624-517c-4f1e-8e68-c25443faa7a2",
   "metadata": {},
   "outputs": [],
   "source": [
    "convidados.sort() # ordem alfabética"
   ]
  },
  {
   "cell_type": "code",
   "execution_count": 50,
   "id": "8bb32db7-14c6-48bf-993c-a27a264d6941",
   "metadata": {},
   "outputs": [
    {
     "name": "stdout",
     "output_type": "stream",
     "text": [
      "['Ana', 'Ana', 'Bruno', 'Enzo', 'Jose', 'Lucas', 'Patricia', 'Valentina']\n"
     ]
    }
   ],
   "source": [
    "print(convidados)"
   ]
  },
  {
   "cell_type": "code",
   "execution_count": 52,
   "id": "93904881-9fad-4440-a2f1-8ae330019217",
   "metadata": {},
   "outputs": [],
   "source": [
    "convidados.sort(reverse=True) # ordem inversa"
   ]
  },
  {
   "cell_type": "code",
   "execution_count": 53,
   "id": "55ac7ec5-3c86-4cc8-afe9-c33a75674db4",
   "metadata": {},
   "outputs": [
    {
     "name": "stdout",
     "output_type": "stream",
     "text": [
      "['Valentina', 'Patricia', 'Lucas', 'Jose', 'Enzo', 'Bruno', 'Ana', 'Ana']\n"
     ]
    }
   ],
   "source": [
    "print(convidados)"
   ]
  },
  {
   "cell_type": "markdown",
   "id": "0609d2b2-2274-4136-9b82-b4c811996e1b",
   "metadata": {},
   "source": [
    "#### sorted - ordena momentaneamente"
   ]
  },
  {
   "cell_type": "code",
   "execution_count": 54,
   "id": "0cea9640-b5fa-4420-99fb-2ef30fe33de6",
   "metadata": {},
   "outputs": [],
   "source": [
    "convidados = [\"Jose\", \"Lucas\", \"Ana\", \"Enzo\", \"Valentina\", \"Bruno\", \"Patricia\", \"Ana\"]"
   ]
  },
  {
   "cell_type": "code",
   "execution_count": 57,
   "id": "29e2a3ce-3338-42f6-9dce-24ae70a91c6a",
   "metadata": {},
   "outputs": [
    {
     "name": "stdout",
     "output_type": "stream",
     "text": [
      "['Ana', 'Ana', 'Bruno', 'Enzo', 'Jose', 'Lucas', 'Patricia', 'Valentina']\n",
      "['Jose', 'Lucas', 'Ana', 'Enzo', 'Valentina', 'Bruno', 'Patricia', 'Ana']\n"
     ]
    }
   ],
   "source": [
    "print(sorted(convidados))"
   ]
  },
  {
   "cell_type": "code",
   "execution_count": 58,
   "id": "dd63ed28-901f-4a92-84b9-3c6ee37f483e",
   "metadata": {},
   "outputs": [
    {
     "name": "stdout",
     "output_type": "stream",
     "text": [
      "['Valentina', 'Patricia', 'Lucas', 'Jose', 'Enzo', 'Bruno', 'Ana', 'Ana']\n"
     ]
    }
   ],
   "source": [
    "print(sorted(convidados, reverse=True))"
   ]
  },
  {
   "cell_type": "code",
   "execution_count": 59,
   "id": "5059344a-6e8e-4849-9230-460baa9757c7",
   "metadata": {},
   "outputs": [
    {
     "name": "stdout",
     "output_type": "stream",
     "text": [
      "['Jose', 'Lucas', 'Ana', 'Enzo', 'Valentina', 'Bruno', 'Patricia', 'Ana']\n"
     ]
    }
   ],
   "source": [
    "print(convidados)"
   ]
  },
  {
   "cell_type": "code",
   "execution_count": 60,
   "id": "b1926d8f-26c6-452c-9e38-27c8a0da2679",
   "metadata": {},
   "outputs": [],
   "source": [
    "copia = sorted(convidados)"
   ]
  },
  {
   "cell_type": "code",
   "execution_count": 61,
   "id": "16f7831f-edab-4693-9b58-829120a6b629",
   "metadata": {},
   "outputs": [
    {
     "data": {
      "text/plain": [
       "['Ana', 'Ana', 'Bruno', 'Enzo', 'Jose', 'Lucas', 'Patricia', 'Valentina']"
      ]
     },
     "execution_count": 61,
     "metadata": {},
     "output_type": "execute_result"
    }
   ],
   "source": [
    "copia"
   ]
  },
  {
   "cell_type": "code",
   "execution_count": 62,
   "id": "afaa5763-df93-4093-a16c-661614d12554",
   "metadata": {},
   "outputs": [
    {
     "data": {
      "text/plain": [
       "['Jose', 'Lucas', 'Ana', 'Enzo', 'Valentina', 'Bruno', 'Patricia', 'Ana']"
      ]
     },
     "execution_count": 62,
     "metadata": {},
     "output_type": "execute_result"
    }
   ],
   "source": [
    "convidados"
   ]
  },
  {
   "cell_type": "markdown",
   "id": "0b88b956-819f-46ec-bdd3-35483a906e42",
   "metadata": {},
   "source": [
    "#### reverse - ordem contrária de inserção"
   ]
  },
  {
   "cell_type": "code",
   "execution_count": 64,
   "id": "3247284b-6710-4722-9802-f71c6798ef3b",
   "metadata": {},
   "outputs": [],
   "source": [
    "convidados = [\"Jose\", \"Lucas\", \"Ana\", \"Enzo\", \"Valentina\", \"Bruno\", \"Patricia\", \"Ana\"]"
   ]
  },
  {
   "cell_type": "code",
   "execution_count": 65,
   "id": "1475027e-dba6-4402-badb-d86bd48b7a40",
   "metadata": {},
   "outputs": [],
   "source": [
    "convidados.reverse()"
   ]
  },
  {
   "cell_type": "code",
   "execution_count": 66,
   "id": "5912367d-379f-4be9-9a85-6cb441149bf5",
   "metadata": {},
   "outputs": [
    {
     "name": "stdout",
     "output_type": "stream",
     "text": [
      "['Ana', 'Patricia', 'Bruno', 'Valentina', 'Enzo', 'Ana', 'Lucas', 'Jose']\n"
     ]
    }
   ],
   "source": [
    "print(convidados)"
   ]
  },
  {
   "cell_type": "markdown",
   "id": "0f164a3c-0623-4a35-8f54-cda171fe7a16",
   "metadata": {},
   "source": [
    "## Outras"
   ]
  },
  {
   "cell_type": "markdown",
   "id": "efbf24fa-7623-49d7-8f5e-18d1804ebe7a",
   "metadata": {},
   "source": [
    "#### len"
   ]
  },
  {
   "cell_type": "code",
   "execution_count": 68,
   "id": "4cdf43df-85e8-45ff-8709-c34defa7b93e",
   "metadata": {},
   "outputs": [
    {
     "name": "stdout",
     "output_type": "stream",
     "text": [
      "8\n"
     ]
    }
   ],
   "source": [
    "convidados = [\"Jose\", \"Lucas\", \"Ana\", \"Enzo\", \"Valentina\", \"Bruno\", \"Patricia\", \"Ana\"]\n",
    "\n",
    "print(len(convidados))"
   ]
  },
  {
   "cell_type": "markdown",
   "id": "856e4cd8-faab-445d-89d8-eb78e8c72316",
   "metadata": {},
   "source": [
    "#### list(range())"
   ]
  },
  {
   "cell_type": "code",
   "execution_count": 69,
   "id": "df3ea1b6-ad71-4ef7-80f5-174924857354",
   "metadata": {},
   "outputs": [
    {
     "name": "stdout",
     "output_type": "stream",
     "text": [
      "[0, 1, 2, 3, 4, 5, 6, 7, 8, 9, 10, 11, 12, 13, 14, 15, 16, 17, 18, 19]\n"
     ]
    }
   ],
   "source": [
    "numeros = list(range(20))\n",
    "\n",
    "print(numeros)"
   ]
  },
  {
   "cell_type": "code",
   "execution_count": 72,
   "id": "8b4f9b52-082e-45dc-b525-332dfcc7e64e",
   "metadata": {},
   "outputs": [
    {
     "name": "stdout",
     "output_type": "stream",
     "text": [
      "[5, 6, 7, 8, 9, 10, 11, 12, 13, 14]\n"
     ]
    }
   ],
   "source": [
    "numeros = list(range(5,15))\n",
    "\n",
    "print(numeros)"
   ]
  },
  {
   "cell_type": "markdown",
   "id": "b5ee5697-9a0e-4b8f-a284-cd777d059020",
   "metadata": {},
   "source": [
    "### max e min"
   ]
  },
  {
   "cell_type": "code",
   "execution_count": 77,
   "id": "c782b345-cc3d-4877-ade5-044f9ce99ae6",
   "metadata": {},
   "outputs": [],
   "source": [
    "idades = [10,20,32,56,12,7,99]"
   ]
  },
  {
   "cell_type": "code",
   "execution_count": 78,
   "id": "96542817-5a98-4204-ae71-6481b944e2ef",
   "metadata": {},
   "outputs": [
    {
     "name": "stdout",
     "output_type": "stream",
     "text": [
      "99\n",
      "7\n"
     ]
    }
   ],
   "source": [
    "print(max(idades))\n",
    "print(min(idades))"
   ]
  },
  {
   "cell_type": "markdown",
   "id": "7e1da3d0-9ce9-4f08-9eea-3924dd543c98",
   "metadata": {},
   "source": [
    "#### index"
   ]
  },
  {
   "cell_type": "code",
   "execution_count": 122,
   "id": "63d5e640-519e-47de-83b5-8d5d1c4bd0d5",
   "metadata": {},
   "outputs": [
    {
     "data": {
      "text/plain": [
       "2"
      ]
     },
     "execution_count": 122,
     "metadata": {},
     "output_type": "execute_result"
    }
   ],
   "source": [
    "idades = [10,20,32,56,12,7,99]\n",
    "idades.index(32)"
   ]
  },
  {
   "cell_type": "code",
   "execution_count": 124,
   "id": "838f3427-9278-4468-bc14-dbddcfc2e6cb",
   "metadata": {},
   "outputs": [],
   "source": [
    "convidados = [\"Jose\", \"Lucas\", \"Ana\", \"Enzo\", \"Valentina\", \"Bruno\", \"Patricia\", \"Ana\"] "
   ]
  },
  {
   "cell_type": "code",
   "execution_count": 125,
   "id": "afd66a3d-8ec3-44f9-9ef0-05e3da1dd054",
   "metadata": {},
   "outputs": [
    {
     "data": {
      "text/plain": [
       "3"
      ]
     },
     "execution_count": 125,
     "metadata": {},
     "output_type": "execute_result"
    }
   ],
   "source": [
    "convidados.index(\"Enzo\")"
   ]
  },
  {
   "cell_type": "markdown",
   "id": "452d2782-1bbb-46b5-9369-099f6b5037cf",
   "metadata": {},
   "source": [
    "# Cópia de lista"
   ]
  },
  {
   "cell_type": "markdown",
   "id": "30a594c5-6d1e-410d-939c-aec473407281",
   "metadata": {
    "jp-MarkdownHeadingCollapsed": true,
    "tags": []
   },
   "source": [
    "#### Cópia por referência"
   ]
  },
  {
   "cell_type": "code",
   "execution_count": 80,
   "id": "4de003cd-eeae-4525-8a33-19710a46f3ae",
   "metadata": {},
   "outputs": [],
   "source": [
    "convidados = [\"Jose\", \"Lucas\", \"Ana\", \"Enzo\", \"Valentina\", \"Bruno\", \"Patricia\", \"Ana\"]"
   ]
  },
  {
   "cell_type": "code",
   "execution_count": 81,
   "id": "5a08ce2d-a573-4f6d-a560-7871e7c0f817",
   "metadata": {},
   "outputs": [],
   "source": [
    "convidados_Willem = convidados"
   ]
  },
  {
   "cell_type": "code",
   "execution_count": 82,
   "id": "d600531a-8291-4d3b-bf23-225d39298bbe",
   "metadata": {},
   "outputs": [],
   "source": [
    "convidados_Willem.remove(\"Jose\")"
   ]
  },
  {
   "cell_type": "code",
   "execution_count": 85,
   "id": "e4de1b8d-3e6e-47ad-b51a-1de7da804cdb",
   "metadata": {},
   "outputs": [],
   "source": [
    "convidados.append(\"Mario\")"
   ]
  },
  {
   "cell_type": "code",
   "execution_count": 86,
   "id": "182e407a-2793-4481-b3ab-4d27ef3a87fd",
   "metadata": {},
   "outputs": [
    {
     "name": "stdout",
     "output_type": "stream",
     "text": [
      "['Lucas', 'Ana', 'Enzo', 'Valentina', 'Bruno', 'Patricia', 'Ana', 'Mario']\n",
      "['Lucas', 'Ana', 'Enzo', 'Valentina', 'Bruno', 'Patricia', 'Ana', 'Mario']\n"
     ]
    }
   ],
   "source": [
    "print(convidados_Willem)\n",
    "print(convidados)"
   ]
  },
  {
   "cell_type": "markdown",
   "id": "7491e3be-1f93-4269-a4c0-3fd3632ccf54",
   "metadata": {
    "tags": []
   },
   "source": [
    "#### Cópia por valor"
   ]
  },
  {
   "cell_type": "code",
   "execution_count": 92,
   "id": "c0d85e61-810e-42b5-ac83-6bc9721e8b4d",
   "metadata": {},
   "outputs": [],
   "source": [
    "convidados = [\"Jose\", \"Lucas\", \"Ana\", \"Enzo\", \"Valentina\", \"Bruno\", \"Patricia\", \"Ana\"]"
   ]
  },
  {
   "cell_type": "code",
   "execution_count": 99,
   "id": "2d5c9250-ad2b-4b5e-a495-6fc2a0423d1d",
   "metadata": {},
   "outputs": [],
   "source": [
    "convidados_Willem = convidados[:5]"
   ]
  },
  {
   "cell_type": "code",
   "execution_count": 100,
   "id": "d0b70054-c7c7-4ca0-9a51-899aefd5e84e",
   "metadata": {},
   "outputs": [],
   "source": [
    "convidados_Willem.remove(\"Jose\")"
   ]
  },
  {
   "cell_type": "code",
   "execution_count": 101,
   "id": "2e134d91-b98b-4bb6-8caf-3968141d603f",
   "metadata": {},
   "outputs": [],
   "source": [
    "convidados.append(\"Mario\")"
   ]
  },
  {
   "cell_type": "code",
   "execution_count": 102,
   "id": "273908ea-9065-446b-ad41-c0dcfcfe9158",
   "metadata": {},
   "outputs": [
    {
     "name": "stdout",
     "output_type": "stream",
     "text": [
      "['Lucas', 'Ana', 'Enzo', 'Valentina']\n",
      "['Jose', 'Lucas', 'Ana', 'Enzo', 'Valentina', 'Bruno', 'Patricia', 'Ana', 'Mario', 'Mario']\n"
     ]
    }
   ],
   "source": [
    "print(convidados_Willem)\n",
    "print(convidados)"
   ]
  },
  {
   "cell_type": "markdown",
   "id": "3df2c632-5460-4f9e-846e-67e05ad974df",
   "metadata": {},
   "source": [
    "# Matrizes"
   ]
  },
  {
   "cell_type": "code",
   "execution_count": 110,
   "id": "5476fc49-8f80-4954-b2c6-c3d2d83f0d11",
   "metadata": {},
   "outputs": [],
   "source": [
    "veiculos = [ \n",
    "        [\"Marcio\", \"Bruna\", \"Laura\"],\n",
    "        [\"Willem\"],\n",
    "        [\"Luigi\", \"Penelope\"],\n",
    "        [\"Fulano\", \"Beltrano\", \"Ciclano\"]\n",
    "]"
   ]
  },
  {
   "cell_type": "code",
   "execution_count": 106,
   "id": "a6842630-cabc-49d2-963f-9803f91cf5c6",
   "metadata": {},
   "outputs": [
    {
     "name": "stdout",
     "output_type": "stream",
     "text": [
      "Marcio\n"
     ]
    }
   ],
   "source": [
    "print(veiculos[0][0])"
   ]
  },
  {
   "cell_type": "code",
   "execution_count": 107,
   "id": "5a772ead-2d22-4e9e-aadf-153cb5ea22e2",
   "metadata": {},
   "outputs": [
    {
     "name": "stdout",
     "output_type": "stream",
     "text": [
      "Willem\n"
     ]
    }
   ],
   "source": [
    "print(veiculos[1][0])"
   ]
  },
  {
   "cell_type": "code",
   "execution_count": 108,
   "id": "caa84fac-2ac2-4f11-b214-493c7a5e59f0",
   "metadata": {},
   "outputs": [
    {
     "name": "stdout",
     "output_type": "stream",
     "text": [
      "Penelope\n"
     ]
    }
   ],
   "source": [
    "print(veiculos[2][1])"
   ]
  },
  {
   "cell_type": "code",
   "execution_count": 113,
   "id": "56ef499a-b12c-44e7-81cf-b91fd69277e6",
   "metadata": {},
   "outputs": [
    {
     "name": "stdout",
     "output_type": "stream",
     "text": [
      "Ciclano\n"
     ]
    }
   ],
   "source": [
    "print(veiculos[-1][2])"
   ]
  },
  {
   "cell_type": "code",
   "execution_count": 115,
   "id": "b0d29f69-5199-407f-8968-7ab3d8564bd8",
   "metadata": {},
   "outputs": [],
   "source": [
    "timesXpessoas = [\n",
    "    [\"Benfica\", \"Palmeiras\"], \n",
    "    [\"Willem\", \"Marcio\"]\n",
    "]"
   ]
  },
  {
   "cell_type": "code",
   "execution_count": 116,
   "id": "5adcaa00-3f07-4340-8d58-dc1e63aeff83",
   "metadata": {},
   "outputs": [
    {
     "data": {
      "text/plain": [
       "'Benfica'"
      ]
     },
     "execution_count": 116,
     "metadata": {},
     "output_type": "execute_result"
    }
   ],
   "source": [
    "timesXpessoas[0][0]"
   ]
  },
  {
   "cell_type": "code",
   "execution_count": 117,
   "id": "b1f9434b-a739-4ecb-af11-15b5619dd47d",
   "metadata": {},
   "outputs": [
    {
     "data": {
      "text/plain": [
       "'Willem'"
      ]
     },
     "execution_count": 117,
     "metadata": {},
     "output_type": "execute_result"
    }
   ],
   "source": [
    "timesXpessoas[1][0]"
   ]
  },
  {
   "cell_type": "markdown",
   "id": "00912ce8-6fa1-4d0b-9e11-0cd28d5f1c3c",
   "metadata": {},
   "source": [
    "# Missões"
   ]
  },
  {
   "cell_type": "markdown",
   "id": "a8a8cdca-51cb-45ea-b311-ce5062156ed9",
   "metadata": {},
   "source": [
    "1 - Crie uma lista com lugares que vc gostaria de conhecer em ordem de prioridade, e mostre:\n",
    "\n",
    "a) ordem original;\n",
    "\n",
    "b) ordem alfabetica;\n",
    "\n",
    "c) ordem de prioridades inversa;\n",
    "\n",
    "d) quantidade de locais"
   ]
  },
  {
   "cell_type": "code",
   "execution_count": null,
   "id": "763fd992-f669-44e3-923f-97d37109f4e4",
   "metadata": {},
   "outputs": [],
   "source": []
  },
  {
   "cell_type": "markdown",
   "id": "fc59eb1e-2deb-464e-a30e-d847bf53d7e8",
   "metadata": {},
   "source": [
    "2 - Crie uma lista de preços de produtos e mostre o maior valor e sua posição."
   ]
  },
  {
   "cell_type": "code",
   "execution_count": 3,
   "id": "36f71850-12f0-4c9e-9395-e7edbf94c93a",
   "metadata": {},
   "outputs": [
    {
     "name": "stdout",
     "output_type": "stream",
     "text": [
      "o produto mais caro e: pao\n",
      "o produto mais barato e: arroz\n",
      "a posicao do valor mais alto e: 6\n"
     ]
    }
   ],
   "source": [
    "lista_de_precos =[0.4, 0.5, 0.6, 0.7, 0.8, 0.9, 1.1]\n",
    "lista_de_produtos = [\"arroz\", \"acucar\", \"leite\", \"ovos\", \"fiambre\", \"queijo\", \"pao\"]\n",
    "\n",
    "#Max\n",
    "valor_maximo = max(lista_de_precos)\n",
    "posicao_max = lista_de_precos.index(valor_maximo)\n",
    "caro = lista_de_produtos[posicao_max]\n",
    "\n",
    "#Min\n",
    "valor_minimo = min(lista_de_precos)\n",
    "posicao_minimo = lista_de_precos.index(valor_minimo)\n",
    "barato = lista_de_produtos[posicao_minimo]\n",
    "\n",
    "#Max, Min e posição:\n",
    "print(\"o produto mais caro e:\", caro )\n",
    "print(\"o produto mais barato e:\", barato )\n",
    "print(\"a posicao do valor mais alto e:\", posicao_max)"
   ]
  },
  {
   "cell_type": "markdown",
   "id": "4d141333-58de-459a-bb3a-deded434fcd0",
   "metadata": {},
   "source": [
    "https://www.beecrowd.com.br/judge/pt/problems/view/1175"
   ]
  },
  {
   "cell_type": "code",
   "execution_count": null,
   "id": "6d173ff0-2084-4d38-84c5-70753fccce1e",
   "metadata": {},
   "outputs": [],
   "source": []
  },
  {
   "cell_type": "markdown",
   "id": "007d5294-3e2a-47a0-b1db-e1515104fcc8",
   "metadata": {},
   "source": [
    "https://www.beecrowd.com.br/judge/pt/problems/view/1174"
   ]
  },
  {
   "cell_type": "code",
   "execution_count": null,
   "id": "9f2a2f13-b708-4a39-a52a-5d8cd0576a4e",
   "metadata": {},
   "outputs": [],
   "source": []
  },
  {
   "cell_type": "markdown",
   "id": "955d54bd-144b-4a3b-b0e7-77321e06ea78",
   "metadata": {},
   "source": [
    "https://www.beecrowd.com.br/judge/pt/problems/view/1173"
   ]
  },
  {
   "cell_type": "code",
   "execution_count": 15,
   "id": "dcaba694-9066-42dd-9cfd-7a912ee5c4fb",
   "metadata": {},
   "outputs": [
    {
     "name": "stdout",
     "output_type": "stream",
     "text": [
      "Indique um numero inteiro de 1 a 50\n"
     ]
    },
    {
     "name": "stdin",
     "output_type": "stream",
     "text": [
      " 2\n"
     ]
    },
    {
     "name": "stdout",
     "output_type": "stream",
     "text": [
      "N[0] = 4\n",
      "N[1] = 8\n",
      "N[2] = 16\n",
      "N[3] = 32\n",
      "N[4] = 64\n",
      "N[5] = 128\n",
      "N[6] = 256\n",
      "N[7] = 512\n",
      "N[8] = 1024\n",
      "N[9] = 2048\n"
     ]
    }
   ],
   "source": [
    "print(\"Indique um numero inteiro de 1 a 50\")\n",
    "N = []\n",
    "V = int(input())\n",
    "for i in range(10):\n",
    "    V = V * 2\n",
    "    N.append(V)\n",
    "    print('N[{}] = {}'.format(i, N[i]))"
   ]
  },
  {
   "cell_type": "code",
   "execution_count": null,
   "id": "2c265142-0242-4540-a9d7-a2461edc7ac1",
   "metadata": {},
   "outputs": [],
   "source": []
  }
 ],
 "metadata": {
  "kernelspec": {
   "display_name": "Python 3 (ipykernel)",
   "language": "python",
   "name": "python3"
  },
  "language_info": {
   "codemirror_mode": {
    "name": "ipython",
    "version": 3
   },
   "file_extension": ".py",
   "mimetype": "text/x-python",
   "name": "python",
   "nbconvert_exporter": "python",
   "pygments_lexer": "ipython3",
   "version": "3.9.13"
  }
 },
 "nbformat": 4,
 "nbformat_minor": 5
}
