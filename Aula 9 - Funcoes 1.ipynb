{
 "cells": [
  {
   "cell_type": "markdown",
   "id": "dcd2d79d-5752-43ba-97a8-d92ebb3db48a",
   "metadata": {},
   "source": [
    "# Definindo uma função"
   ]
  },
  {
   "cell_type": "code",
   "execution_count": 7,
   "id": "d2358d98-ac3d-4f82-bdb3-9fcb6ac3945d",
   "metadata": {},
   "outputs": [],
   "source": [
    "def boas_vindas():\n",
    "    print(\"Bem vindo de volta!\")"
   ]
  },
  {
   "cell_type": "markdown",
   "id": "a8ce2170-796d-459b-abf0-d17885c095ed",
   "metadata": {},
   "source": [
    "# Chamar função"
   ]
  },
  {
   "cell_type": "code",
   "execution_count": 6,
   "id": "91523ad6-e902-4e43-8014-c6f41c36b01a",
   "metadata": {},
   "outputs": [
    {
     "name": "stdout",
     "output_type": "stream",
     "text": [
      "Bem vindo de volta!\n"
     ]
    }
   ],
   "source": [
    "boas_vindas()"
   ]
  },
  {
   "cell_type": "markdown",
   "id": "361b9f4b-e8eb-4054-9ee6-52e6cbe52fff",
   "metadata": {},
   "source": [
    "# Utilizando parametros"
   ]
  },
  {
   "cell_type": "code",
   "execution_count": 29,
   "id": "ef1681c2-face-4a8c-a683-5a81f4bf7761",
   "metadata": {},
   "outputs": [],
   "source": [
    "def boas_vindas(nomeDoUsuario):\n",
    "    print(\"Bem-vindo de volta!\", nomeDoUsuario)"
   ]
  },
  {
   "cell_type": "code",
   "execution_count": 30,
   "id": "0f3599cd-34d2-4d92-9f19-7dc72d2a42b6",
   "metadata": {},
   "outputs": [
    {
     "name": "stdout",
     "output_type": "stream",
     "text": [
      "Bem-vindo de volta! Willem\n"
     ]
    }
   ],
   "source": [
    "boas_vindas(\"Willem\")"
   ]
  },
  {
   "cell_type": "code",
   "execution_count": 31,
   "id": "108970d2-b80b-47fc-a2f8-f0e394053a2a",
   "metadata": {},
   "outputs": [
    {
     "name": "stdout",
     "output_type": "stream",
     "text": [
      "Bem-vindo de volta! Marcio\n"
     ]
    }
   ],
   "source": [
    "boas_vindas(\"Marcio\")"
   ]
  },
  {
   "cell_type": "code",
   "execution_count": 10,
   "id": "af114a18-7c36-4ae1-b2ef-400c72fdb134",
   "metadata": {},
   "outputs": [
    {
     "name": "stdout",
     "output_type": "stream",
     "text": [
      "Media dos tres numeros = 44.0\n"
     ]
    }
   ],
   "source": [
    "def media(num1, num2, num3):\n",
    "    print(\"Media dos tres numeros =\", (num1+num2+num3)/3)\n",
    "    \n",
    "media(52,63,17)"
   ]
  },
  {
   "cell_type": "code",
   "execution_count": 9,
   "id": "186ff930-cfba-4197-9f11-a4eae57b2ef6",
   "metadata": {},
   "outputs": [
    {
     "name": "stdout",
     "output_type": "stream",
     "text": [
      "Media dos tres numeros = 44.0\n"
     ]
    }
   ],
   "source": [
    "media(52,63,17)"
   ]
  },
  {
   "cell_type": "code",
   "execution_count": 23,
   "id": "1ae9b69f-067d-4922-ac84-a3cba9552bdb",
   "metadata": {},
   "outputs": [
    {
     "name": "stdout",
     "output_type": "stream",
     "text": [
      "Media dos tres numeros = 230.33333333333334\n"
     ]
    }
   ],
   "source": [
    "media(52,639,0)"
   ]
  },
  {
   "cell_type": "code",
   "execution_count": 25,
   "id": "172d1ee3-6fbf-429c-8f10-c970917b3901",
   "metadata": {},
   "outputs": [],
   "source": [
    "def media(lista_numeros):\n",
    "    print(\"Media dos numeros =\", sum(lista_numeros)/len(lista_numeros))"
   ]
  },
  {
   "cell_type": "code",
   "execution_count": 27,
   "id": "10329ed9-0f13-4375-874e-c19841469007",
   "metadata": {},
   "outputs": [
    {
     "name": "stdout",
     "output_type": "stream",
     "text": [
      "Media dos numeros = 38.833333333333336\n"
     ]
    }
   ],
   "source": [
    "media([34,78,23,88,9,1])"
   ]
  },
  {
   "cell_type": "code",
   "execution_count": 28,
   "id": "92c21145-93b7-4a3b-81e1-38657f87caf2",
   "metadata": {},
   "outputs": [
    {
     "name": "stdout",
     "output_type": "stream",
     "text": [
      "Media dos numeros = 56.0\n"
     ]
    }
   ],
   "source": [
    "media([34,78])"
   ]
  },
  {
   "cell_type": "code",
   "execution_count": 32,
   "id": "71f60235-b3b9-4859-9d1a-dbc3c7ccd98f",
   "metadata": {},
   "outputs": [],
   "source": [
    "def boas_vindas(nomeDoUsuario, sexo):\n",
    "    if sexo == \"M\":\n",
    "        print(\"Bem-vindo de volta! Senhor\", nomeDoUsuario)\n",
    "    else:\n",
    "        print(\"Bem-vinda de volta! Senhora\", nomeDoUsuario)"
   ]
  },
  {
   "cell_type": "code",
   "execution_count": 33,
   "id": "a1431fbd-76bb-49f4-a7ed-0ba6626b1b01",
   "metadata": {},
   "outputs": [
    {
     "name": "stdout",
     "output_type": "stream",
     "text": [
      "Bem-vindo de volta! Senhor Willem\n",
      "Bem-vinda de volta! Senhora Beatriz\n"
     ]
    }
   ],
   "source": [
    "boas_vindas(\"Willem\", \"M\")\n",
    "boas_vindas(\"Beatriz\", \"F\")"
   ]
  },
  {
   "cell_type": "code",
   "execution_count": 34,
   "id": "71e2ae1f-75df-49d2-bb04-787915557df5",
   "metadata": {},
   "outputs": [],
   "source": [
    "def boas_vindas():\n",
    "    nome = input(\"Digite seu nome:\")\n",
    "    sexo = input(\"Digite seu sexo (M/F): \")\n",
    "    if sexo == \"M\":\n",
    "        print(\"Bem-vindo de volta! Senhor\", nome)\n",
    "    else:\n",
    "        print(\"Bem-vinda de volta! Senhora\", nome)"
   ]
  },
  {
   "cell_type": "code",
   "execution_count": 35,
   "id": "aeda137c-d8c5-4caf-ab15-6f103e3f3c01",
   "metadata": {},
   "outputs": [
    {
     "name": "stdin",
     "output_type": "stream",
     "text": [
      "Digite seu nome: Jose\n",
      "Digite seu sexo: Muito bom\n"
     ]
    },
    {
     "name": "stdout",
     "output_type": "stream",
     "text": [
      "Bem-vinda de volta! Senhora Jose\n"
     ]
    }
   ],
   "source": [
    "boas_vindas()"
   ]
  },
  {
   "cell_type": "markdown",
   "id": "a65332f0-7ab5-44d5-ba43-3136928245ed",
   "metadata": {},
   "source": [
    "# Combinando funções com funções"
   ]
  },
  {
   "cell_type": "code",
   "execution_count": 45,
   "id": "ef4e2838-cf57-414d-9b49-291e22a19b81",
   "metadata": {},
   "outputs": [],
   "source": [
    "def soma(num1, num2):\n",
    "    print(\"Soma de {} com {} é igual a {}\".format(num1,num2,num1+num2))\n",
    "\n",
    "def subtracao(num1, num2):\n",
    "    if num1>num2:\n",
    "        print(\"Subtracao de {} com {} é igual a {}\".format(num1,num2,num1-num2))\n",
    "    else:\n",
    "        print(\"Subtracao de {} com {} é igual a {}\".format(num2,num1,num2-num1))\n",
    "    \n",
    "def calculadora(num1,num2, operacao):\n",
    "    if operacao==\"soma\":\n",
    "        soma(num1, num2)\n",
    "    elif operacao==\"subtracao\":\n",
    "        subtracao(num1,num2)\n",
    "        \n",
    "    # Missão adicionar multiplicacao e divisao"
   ]
  },
  {
   "cell_type": "code",
   "execution_count": 44,
   "id": "3c483c1e-88ff-47a6-b025-12e49edf1dea",
   "metadata": {},
   "outputs": [
    {
     "name": "stdout",
     "output_type": "stream",
     "text": [
      "Soma de 4 com 5 é igual a 9\n",
      "Subtracao de 5 com 4 é igual a 1\n"
     ]
    }
   ],
   "source": [
    "calculadora(4,5,\"soma\")\n",
    "calculadora(4,5,\"subtracao\")"
   ]
  },
  {
   "cell_type": "markdown",
   "id": "f39fc87c-b4ca-4e8a-b13f-bf0b68f63917",
   "metadata": {},
   "source": [
    "# Ordem dos parametros"
   ]
  },
  {
   "cell_type": "code",
   "execution_count": 48,
   "id": "b8f16a83-7db5-44b4-bb5f-c12709c13d44",
   "metadata": {},
   "outputs": [],
   "source": [
    "def velocidade(distancia, tempo):\n",
    "    print(distancia/tempo, \"km/h\")"
   ]
  },
  {
   "cell_type": "code",
   "execution_count": 49,
   "id": "717a5157-26cc-4a9f-83b2-0505e1a16b1e",
   "metadata": {},
   "outputs": [
    {
     "name": "stdout",
     "output_type": "stream",
     "text": [
      "50.0 km/h\n"
     ]
    }
   ],
   "source": [
    "velocidade(150, 3)"
   ]
  },
  {
   "cell_type": "code",
   "execution_count": 50,
   "id": "b77b9263-04fe-4392-85ba-4915ba7ea437",
   "metadata": {},
   "outputs": [
    {
     "name": "stdout",
     "output_type": "stream",
     "text": [
      "0.02 km/h\n"
     ]
    }
   ],
   "source": [
    "velocidade(3, 150)"
   ]
  },
  {
   "cell_type": "markdown",
   "id": "a5f05267-5e45-4c7a-8df1-909b1fde9628",
   "metadata": {},
   "source": [
    "# Argumentos nomeados"
   ]
  },
  {
   "cell_type": "code",
   "execution_count": 51,
   "id": "938272de-fd2a-4e44-9c67-166975766555",
   "metadata": {},
   "outputs": [
    {
     "name": "stdout",
     "output_type": "stream",
     "text": [
      "50.0 km/h\n"
     ]
    }
   ],
   "source": [
    "velocidade(tempo=3, distancia=150)"
   ]
  },
  {
   "cell_type": "markdown",
   "id": "16d8b12a-eb67-472f-8f56-a57d52a179ac",
   "metadata": {},
   "source": [
    "# Valores predefinidos"
   ]
  },
  {
   "cell_type": "code",
   "execution_count": 55,
   "id": "cfd401ab-394e-4578-8b57-58f237686c2c",
   "metadata": {},
   "outputs": [],
   "source": [
    "def velocidade(tempo, distancia=100):\n",
    "    print(round(distancia/tempo), \"km/h\")"
   ]
  },
  {
   "cell_type": "code",
   "execution_count": 56,
   "id": "c46b46a6-94bf-46a4-bca7-453622b4f1cf",
   "metadata": {},
   "outputs": [
    {
     "name": "stdout",
     "output_type": "stream",
     "text": [
      "33 km/h\n"
     ]
    }
   ],
   "source": [
    "velocidade(3)"
   ]
  },
  {
   "cell_type": "code",
   "execution_count": 57,
   "id": "3c05876f-4bb7-4056-8688-502fbf8a0bf6",
   "metadata": {},
   "outputs": [
    {
     "name": "stdout",
     "output_type": "stream",
     "text": [
      "50 km/h\n"
     ]
    }
   ],
   "source": [
    "velocidade(3, 150)"
   ]
  },
  {
   "cell_type": "code",
   "execution_count": 58,
   "id": "568b759d-3936-43de-a468-adb778947a27",
   "metadata": {},
   "outputs": [
    {
     "name": "stdout",
     "output_type": "stream",
     "text": [
      "50 km/h\n"
     ]
    }
   ],
   "source": [
    "velocidade(tempo=3, distancia=150)"
   ]
  },
  {
   "cell_type": "code",
   "execution_count": 59,
   "id": "8af79ee7-70b6-46b3-ad3d-418541108eab",
   "metadata": {},
   "outputs": [
    {
     "name": "stdout",
     "output_type": "stream",
     "text": [
      "33 km/h\n"
     ]
    }
   ],
   "source": [
    "velocidade(tempo=3)"
   ]
  },
  {
   "cell_type": "code",
   "execution_count": 60,
   "id": "50a36516-6387-4d2a-b73d-b613bd5648d8",
   "metadata": {},
   "outputs": [],
   "source": [
    "def boas_vindas(nome, sexo=\"M\"):\n",
    "    if sexo == \"M\":\n",
    "        print(\"Bem-vindo de volta! Senhor\", nome)\n",
    "    else:\n",
    "        print(\"Bem-vinda de volta! Senhora\", nome)"
   ]
  },
  {
   "cell_type": "code",
   "execution_count": 61,
   "id": "13276ea8-87eb-4c23-962b-c29f263fb0db",
   "metadata": {},
   "outputs": [
    {
     "name": "stdout",
     "output_type": "stream",
     "text": [
      "Bem-vindo de volta! Senhor Willem\n"
     ]
    }
   ],
   "source": [
    "boas_vindas(\"Willem\")"
   ]
  },
  {
   "cell_type": "code",
   "execution_count": 63,
   "id": "9734cdc4-f29f-446d-8cc5-facdd9040b8c",
   "metadata": {},
   "outputs": [
    {
     "name": "stdout",
     "output_type": "stream",
     "text": [
      "Bem-vinda de volta! Senhora Maria\n"
     ]
    }
   ],
   "source": [
    "boas_vindas(\"Maria\", sexo=\"F\")"
   ]
  },
  {
   "cell_type": "code",
   "execution_count": 64,
   "id": "5e748396-dd49-4aa6-ba2e-4f228fbd006a",
   "metadata": {},
   "outputs": [
    {
     "name": "stdout",
     "output_type": "stream",
     "text": [
      "Bem-vindo de volta! Senhor Willem\n"
     ]
    }
   ],
   "source": [
    "boas_vindas(\"Willem\", \"M\")"
   ]
  },
  {
   "cell_type": "markdown",
   "id": "fe64458c-3c3f-44b5-b797-a2cbea9598fc",
   "metadata": {},
   "source": [
    "# Retornando valores"
   ]
  },
  {
   "cell_type": "code",
   "execution_count": 66,
   "id": "e07d0ed3-9365-43dc-840c-9e6ca37bda77",
   "metadata": {},
   "outputs": [],
   "source": [
    "def velocidade(tempo, distancia):\n",
    "    return round(distancia/tempo)"
   ]
  },
  {
   "cell_type": "code",
   "execution_count": 68,
   "id": "5b55933c-092a-4890-b22c-363641305ee6",
   "metadata": {},
   "outputs": [
    {
     "name": "stdin",
     "output_type": "stream",
     "text": [
      "Digite a distancia percorrida:  10\n",
      "Digite o tempo necessario para percorrer essa distancia:  100\n"
     ]
    },
    {
     "name": "stdout",
     "output_type": "stream",
     "text": [
      "Corre! Voce vai se atrasar\n"
     ]
    }
   ],
   "source": [
    "distancia = int(input(\"Digite a distancia percorrida: \"))\n",
    "tempo = int(input(\"Digite o tempo necessario para percorrer essa distancia: \"))\n",
    "\n",
    "v = velocidade(tempo,distancia)\n",
    "            \n",
    "if v > 100:\n",
    "    print(\"Cuidado! Voce esta muito rapido\")\n",
    "elif v<30:\n",
    "    print(\"Corre! Voce vai se atrasar\")"
   ]
  },
  {
   "cell_type": "code",
   "execution_count": 69,
   "id": "0e3d970b-c6bf-4d15-82c4-197c2e1288ca",
   "metadata": {},
   "outputs": [],
   "source": [
    "def menor(a, b):\n",
    "    if a<=b:\n",
    "        return a\n",
    "    else:\n",
    "        return b"
   ]
  },
  {
   "cell_type": "code",
   "execution_count": 70,
   "id": "4970d2af-0d39-4c03-a4b3-7050c3e8640e",
   "metadata": {},
   "outputs": [],
   "source": [
    "x = menor(15,6)"
   ]
  },
  {
   "cell_type": "code",
   "execution_count": 71,
   "id": "92a9469d-e7cf-4096-adde-18eca8d3d358",
   "metadata": {},
   "outputs": [
    {
     "name": "stdout",
     "output_type": "stream",
     "text": [
      "6\n"
     ]
    }
   ],
   "source": [
    "print(x)"
   ]
  },
  {
   "cell_type": "markdown",
   "id": "693deb4b-9a29-44ab-9192-8c5435e7ecc3",
   "metadata": {},
   "source": [
    "# Missão"
   ]
  },
  {
   "cell_type": "markdown",
   "id": "24634c07-0386-4dbb-9f74-2192dd465088",
   "metadata": {},
   "source": [
    "Função 'heroi' que recebe um nome e imprime \"Super-\"+nome"
   ]
  },
  {
   "cell_type": "code",
   "execution_count": 2,
   "id": "7994e793-7d22-476f-92b2-8a30983ef236",
   "metadata": {},
   "outputs": [],
   "source": [
    "def heroi(nome):\n",
    "    return \"super-\"+ nome"
   ]
  },
  {
   "cell_type": "code",
   "execution_count": 3,
   "id": "d4e2a44e-970a-464a-b682-b2d23ec23795",
   "metadata": {},
   "outputs": [
    {
     "name": "stdout",
     "output_type": "stream",
     "text": [
      "meu heroi favorito é: super-willem\n"
     ]
    }
   ],
   "source": [
    "alcunha = heroi(\"willem\")\n",
    "print(\"meu heroi favorito é:\",alcunha)"
   ]
  },
  {
   "cell_type": "markdown",
   "id": "a25d9fc4-3e7e-4159-83d1-34f958abd20d",
   "metadata": {
    "jp-MarkdownHeadingCollapsed": true,
    "tags": []
   },
   "source": [
    "Funcao conversor de moeda = recebe um valor, uma moeda origem e uma destino e retorna o valor na moeda destino\n",
    "\n",
    "Exemplo:\n",
    "    conversor(10, 'euros', 'reais') = '55 reais'"
   ]
  },
  {
   "cell_type": "code",
   "execution_count": 6,
   "id": "629877df-c06f-4a10-94a4-121801656a4f",
   "metadata": {},
   "outputs": [],
   "source": [
    "def conversor(valor, moeda_origem, moeda_destino):\n",
    "    if moeda_origem == \"euro\" and moeda_destino == \"real\":\n",
    "        return valor * 5.5\n",
    "    elif moeda_origem == \"real\" and moeda_destino == \"euro\":\n",
    "        return valor / 5.5"
   ]
  },
  {
   "cell_type": "code",
   "execution_count": 5,
   "id": "cdc5eadd-a521-43e1-958b-3823a039ca04",
   "metadata": {},
   "outputs": [
    {
     "data": {
      "text/plain": [
       "55.0"
      ]
     },
     "execution_count": 5,
     "metadata": {},
     "output_type": "execute_result"
    }
   ],
   "source": [
    "conversor(10, \"euro\", \"real\")"
   ]
  },
  {
   "cell_type": "code",
   "execution_count": 7,
   "id": "23255673-ce6f-474d-a776-da390f864134",
   "metadata": {},
   "outputs": [
    {
     "data": {
      "text/plain": [
       "1.8181818181818181"
      ]
     },
     "execution_count": 7,
     "metadata": {},
     "output_type": "execute_result"
    }
   ],
   "source": [
    "conversor(10, \"real\", \"euro\")"
   ]
  },
  {
   "cell_type": "markdown",
   "id": "a00ac13b-a35e-4ef6-b9ee-92a7513ddc2d",
   "metadata": {},
   "source": [
    "beecrowd DDD, Animal, Lanche com funções"
   ]
  },
  {
   "cell_type": "code",
   "execution_count": null,
   "id": "77035d19-e815-4ee2-a2b3-c039554e5ba0",
   "metadata": {},
   "outputs": [],
   "source": [
    "#DDD 1050\n",
    "#Animal 1049\n",
    "#Lanche 1038"
   ]
  },
  {
   "cell_type": "code",
   "execution_count": 4,
   "id": "7e117890-87a8-4373-a732-62f58065966b",
   "metadata": {},
   "outputs": [
    {
     "name": "stdout",
     "output_type": "stream",
     "text": [
      "indique primeiro o codigo e de seguida, a quantidade desejada\n"
     ]
    },
    {
     "name": "stdin",
     "output_type": "stream",
     "text": [
      " 5\n",
      " 5\n"
     ]
    },
    {
     "name": "stdout",
     "output_type": "stream",
     "text": [
      "Total: R$ 7.50\n"
     ]
    }
   ],
   "source": [
    "#exercicio 1038 Lanche\n",
    "\n",
    "def total(codigo, quantidade):\n",
    "    if codigo == 1:\n",
    "        preco = quantidade * 4\n",
    "        format(preco, '.2f')\n",
    "        print(\"Total: R$\", preco)\n",
    "    elif codigo == 2:\n",
    "        preco = quantidade * 4.5\n",
    "        format(preco, '.2f')\n",
    "        print(\"Total: R$\", preco)\n",
    "    elif codigo == 3:\n",
    "        preco = quantidade * 5\n",
    "        print(f\"Total: R$ {preco:.2f}\")\n",
    "    elif codigo == 4:\n",
    "        preco = quantidade * 2\n",
    "        print(f\"Total: R$ {preco:.2f}\")\n",
    "    elif codigo == 5:\n",
    "        preco = quantidade * 1.5\n",
    "        print(\"Total: R$ {:.2f}\".format(preco))\n",
    "    else:\n",
    "        print(\"erro, por favor tenta de novo\")\n",
    "        \n",
    "print(\"indique primeiro o codigo e de seguida, a quantidade desejada\")\n",
    "total(float(input()),float(input()))"
   ]
  },
  {
   "cell_type": "code",
   "execution_count": 7,
   "id": "853cc87f-dfae-480c-a32a-1428d95116b8",
   "metadata": {},
   "outputs": [
    {
     "name": "stdin",
     "output_type": "stream",
     "text": [
      "indique primeiro o codigo 3\n",
      "indique a quantidade desejada 5\n"
     ]
    },
    {
     "name": "stdout",
     "output_type": "stream",
     "text": [
      "Total: R$ 25.00\n"
     ]
    }
   ],
   "source": [
    "#exercicio 1038 Lanche.2\n",
    "\n",
    "def total(codigo, quantidade):\n",
    "    if codigo == 1:\n",
    "        preco = quantidade * 4\n",
    "    elif codigo == 2:\n",
    "        preco = quantidade * 4.5\n",
    "    elif codigo == 3:\n",
    "        preco = quantidade * 5\n",
    "    elif codigo == 4:\n",
    "        preco = quantidade * 2\n",
    "    elif codigo == 5:\n",
    "        preco = quantidade * 1.5\n",
    "    return preco\n",
    "\n",
    "resultado = total(float(input(\"indique primeiro o codigo\")),float(input(\"indique a quantidade desejada\")))\n",
    "print(\"Total: R$ {:.2f}\".format(resultado))"
   ]
  },
  {
   "cell_type": "code",
   "execution_count": null,
   "id": "d1a8434c-4a7c-43a2-853c-ee3e73f3ba3d",
   "metadata": {},
   "outputs": [],
   "source": [
    "def media(num1, num2, num3):\n",
    "    print(\"Media dos tres numeros =\", (num1+num2+num3)/3)\n",
    "    \n",
    "media(52,63,17)"
   ]
  },
  {
   "cell_type": "code",
   "execution_count": 13,
   "id": "a15d8945-0c40-48d6-a469-ed60f9591df3",
   "metadata": {},
   "outputs": [
    {
     "name": "stdin",
     "output_type": "stream",
     "text": [
      " 71\n"
     ]
    },
    {
     "name": "stdout",
     "output_type": "stream",
     "text": [
      "Salvador\n"
     ]
    }
   ],
   "source": [
    "DDD = {61: \"Brasilia\", 71: \"Salvador\", 11: \"Sao Paulo\", 21: \"Rio de Janeiro\", 32: \"Juiz de Fora\",19: \"Campinas\", 27: \"Vitoria\", 31: \"Belo Horizonte\"}\n",
    "codigo = int(input())\n",
    "if codigo in DDD:\n",
    "    print(DDD[codigo])\n",
    "else:\n",
    "    print(\"DDD nao cadastrado\")"
   ]
  },
  {
   "cell_type": "code",
   "execution_count": 12,
   "id": "342bec60-4683-4123-8dbe-56d86da0a9f4",
   "metadata": {},
   "outputs": [
    {
     "name": "stdin",
     "output_type": "stream",
     "text": [
      " 11\n"
     ]
    },
    {
     "name": "stdout",
     "output_type": "stream",
     "text": [
      "Sao Paulo\n"
     ]
    }
   ],
   "source": [
    "def telefone(codigo):\n",
    "    DDD = {61: \"Brasilia\", 71: \"Salvador\", 11: \"Sao Paulo\", 21: \"Rio de Janeiro\", 32: \"Juiz de Fora\",19: \"Campinas\", 27: \"Vitoria\", 31: \"Belo Horizonte\"}\n",
    "    if codigo in DDD:\n",
    "        print(DDD[codigo])\n",
    "    else:\n",
    "        print(\"DDD nao cadastrado\")\n",
    "        \n",
    "telefone(int(input()))"
   ]
  },
  {
   "cell_type": "code",
   "execution_count": 1,
   "id": "17892a40-68e5-4584-93cc-0e93857b7737",
   "metadata": {},
   "outputs": [
    {
     "name": "stdout",
     "output_type": "stream",
     "text": [
      "indique se o animal é (vertebrado) ou (invertebrado)\n"
     ]
    },
    {
     "name": "stdin",
     "output_type": "stream",
     "text": [
      "None vertebrado\n"
     ]
    },
    {
     "name": "stdout",
     "output_type": "stream",
     "text": [
      "indique se o animal é (ave), (mamifero), (inseto) ou (anelideo)\n"
     ]
    },
    {
     "name": "stdin",
     "output_type": "stream",
     "text": [
      "None ave\n"
     ]
    },
    {
     "name": "stdout",
     "output_type": "stream",
     "text": [
      "indique se o animal é (carnivoro), (onivoro), (herbivoro) ou (hematofago)\n"
     ]
    },
    {
     "name": "stdin",
     "output_type": "stream",
     "text": [
      "None carnivoro\n"
     ]
    },
    {
     "name": "stdout",
     "output_type": "stream",
     "text": [
      "aguia\n"
     ]
    }
   ],
   "source": [
    "#Animal 1049\n",
    "pergunta1 = input(print(\"indique se o animal é (vertebrado) ou (invertebrado)\"))\n",
    "pergunta2 = input(print(\"indique se o animal é (ave), (mamifero), (inseto) ou (anelideo)\"))\n",
    "pergunta3 = input(print(\"indique se o animal é (carnivoro), (onivoro), (herbivoro) ou (hematofago)\"))\n",
    "\n",
    "if pergunta1 == \"vertebrado\":\n",
    "    if pergunta2 == \"ave\":\n",
    "        if pergunta3 == \"carnivoro\":\n",
    "            print(\"aguia\")\n",
    "        elif pergunta3 == \"onivoro\":\n",
    "            print(\"pomba\")\n",
    "    elif pergunta2 == \"mamifero\":\n",
    "        if pergunta3 == \"onivoro\":\n",
    "            print(\"homem\")\n",
    "        elif pergunta3 == \"herbivoro\":\n",
    "            print(\"vaca\")\n",
    "if pergunta1 == \"invertebrado\":         \n",
    "    if pergunta2 == \"inseto\":\n",
    "        if pergunta3 == \"hematofago\":\n",
    "            print(\"pulga\")\n",
    "        elif pergunta3 == \"herbivoro\":\n",
    "            print(\"lagarta\")\n",
    "    elif pergunta2 == \"anelideo\":\n",
    "        if pergunta3 == \"hematofago\":\n",
    "            print(\"sanguessuga\")\n",
    "        elif pergunta3 == \"onivoro\":\n",
    "            print(\"minhoca\")"
   ]
  },
  {
   "cell_type": "code",
   "execution_count": 5,
   "id": "6f7c5e7a-f4d3-48a3-a0b9-bd813f10ef7a",
   "metadata": {},
   "outputs": [
    {
     "name": "stdout",
     "output_type": "stream",
     "text": [
      "indique se o animal é (vertebrado) ou (invertebrado)\n"
     ]
    },
    {
     "name": "stdin",
     "output_type": "stream",
     "text": [
      " vertebrado\n"
     ]
    },
    {
     "ename": "NameError",
     "evalue": "name 'vertebrado' is not defined",
     "output_type": "error",
     "traceback": [
      "\u001b[1;31m---------------------------------------------------------------------------\u001b[0m",
      "\u001b[1;31mNameError\u001b[0m                                 Traceback (most recent call last)",
      "\u001b[1;32m~\\AppData\\Local\\Temp\\ipykernel_1928\\2348980812.py\u001b[0m in \u001b[0;36m<module>\u001b[1;34m\u001b[0m\n\u001b[0;32m     58\u001b[0m \u001b[1;33m\u001b[0m\u001b[0m\n\u001b[0;32m     59\u001b[0m \u001b[0mprint\u001b[0m\u001b[1;33m(\u001b[0m\u001b[1;34m\"indique se o animal é (vertebrado) ou (invertebrado)\"\u001b[0m\u001b[1;33m)\u001b[0m\u001b[1;33m\u001b[0m\u001b[1;33m\u001b[0m\u001b[0m\n\u001b[1;32m---> 60\u001b[1;33m \u001b[0mlinha1\u001b[0m\u001b[1;33m(\u001b[0m\u001b[0minput\u001b[0m\u001b[1;33m(\u001b[0m\u001b[1;33m)\u001b[0m\u001b[1;33m)\u001b[0m\u001b[1;33m\u001b[0m\u001b[1;33m\u001b[0m\u001b[0m\n\u001b[0m\u001b[0;32m     61\u001b[0m \u001b[0mpergunta2\u001b[0m \u001b[1;33m=\u001b[0m \u001b[0minput\u001b[0m\u001b[1;33m(\u001b[0m\u001b[0mprint\u001b[0m\u001b[1;33m(\u001b[0m\u001b[1;34m\"indique se o animal é (ave), (mamifero), (inseto) ou (anelideo)\"\u001b[0m\u001b[1;33m)\u001b[0m\u001b[1;33m)\u001b[0m\u001b[1;33m\u001b[0m\u001b[1;33m\u001b[0m\u001b[0m\n\u001b[0;32m     62\u001b[0m \u001b[0mpergunta3\u001b[0m \u001b[1;33m=\u001b[0m \u001b[0minput\u001b[0m\u001b[1;33m(\u001b[0m\u001b[0mprint\u001b[0m\u001b[1;33m(\u001b[0m\u001b[1;34m\"indique se o animal é (carnivoro), (onivoro), (herbivoro) ou (hematofago)\"\u001b[0m\u001b[1;33m)\u001b[0m\u001b[1;33m)\u001b[0m\u001b[1;33m\u001b[0m\u001b[1;33m\u001b[0m\u001b[0m\n",
      "\u001b[1;32m~\\AppData\\Local\\Temp\\ipykernel_1928\\2348980812.py\u001b[0m in \u001b[0;36mlinha1\u001b[1;34m(tipo1)\u001b[0m\n\u001b[0;32m      9\u001b[0m \u001b[1;33m\u001b[0m\u001b[0m\n\u001b[0;32m     10\u001b[0m \u001b[1;32mdef\u001b[0m \u001b[0mlinha1\u001b[0m\u001b[1;33m(\u001b[0m\u001b[0mtipo1\u001b[0m\u001b[1;33m)\u001b[0m\u001b[1;33m:\u001b[0m\u001b[1;33m\u001b[0m\u001b[1;33m\u001b[0m\u001b[0m\n\u001b[1;32m---> 11\u001b[1;33m     \u001b[1;32mif\u001b[0m \u001b[0mtipo1\u001b[0m \u001b[1;33m==\u001b[0m \u001b[0mvertebrado\u001b[0m\u001b[1;33m:\u001b[0m\u001b[1;33m\u001b[0m\u001b[1;33m\u001b[0m\u001b[0m\n\u001b[0m\u001b[0;32m     12\u001b[0m         \u001b[0manimal_linha1a\u001b[0m \u001b[1;33m==\u001b[0m \u001b[0mvertebrado\u001b[0m\u001b[1;33m\u001b[0m\u001b[1;33m\u001b[0m\u001b[0m\n\u001b[0;32m     13\u001b[0m     \u001b[1;32melif\u001b[0m \u001b[0mtipo1\u001b[0m \u001b[1;33m==\u001b[0m \u001b[0minvertebrado\u001b[0m\u001b[1;33m:\u001b[0m\u001b[1;33m\u001b[0m\u001b[1;33m\u001b[0m\u001b[0m\n",
      "\u001b[1;31mNameError\u001b[0m: name 'vertebrado' is not defined"
     ]
    }
   ],
   "source": [
    "#Animal 1049\n",
    "animal_linha1a = []\n",
    "animal_linha2a = []\n",
    "animal_linha2b = []\n",
    "animal_linha3a = []\n",
    "animal_linha3b = []\n",
    "animal_linha3c = []\n",
    "animal_linha3d = []\n",
    "\n",
    "def linha1(tipo1):\n",
    "    if tipo1 == vertebrado:\n",
    "        animal_linha1a == vertebrado\n",
    "    elif tipo1 == invertebrado:\n",
    "        animal_linha1a == invertebrado\n",
    "    return\n",
    "\n",
    "def linha2a(tipo2a):\n",
    "    if tipo2a == ave:\n",
    "        animal_linha2a == ave\n",
    "    elif tipo2a == mamifero:\n",
    "        animal_linha2a == mamifero\n",
    "    return\n",
    "\n",
    "def linha2b(tipo2b):\n",
    "    if tipo2b == inseto:\n",
    "        animal_linha2b == inseto\n",
    "    elif tipo2b == anelideo:\n",
    "        animal_linha2b == anelideo\n",
    "    return\n",
    "\n",
    "def linha3a(tipo3a):\n",
    "    if tipo3a == carnivoro:\n",
    "        animal_linha3a == carnivoro\n",
    "    elif tipo3a == onivoro:\n",
    "        animal_linha3a == onivoro\n",
    "    return\n",
    "\n",
    "def linha3b(tipo3b):\n",
    "    if tipo3a == onivoro:\n",
    "        animal_linha3a == onivoro\n",
    "    elif tipo3a == herbivoro:\n",
    "        animal_linha3a == herbivoro\n",
    "    return\n",
    "\n",
    "def linha3c(tipo3c):\n",
    "    if tipo3a == hematofago:\n",
    "        animal_linha3c == hematofago\n",
    "    elif tipo3a == herbivoro:\n",
    "        animal_linha3c == herbivoro\n",
    "    return\n",
    "\n",
    "def linha3d(tipo3d):\n",
    "    if tipo3d == hematofago:\n",
    "        animal_linha3d == hematofago\n",
    "    elif tipo3d == onivoro:\n",
    "        animal_linha3d == onivoro\n",
    "    return\n",
    "\n",
    "print(\"indique se o animal é (vertebrado) ou (invertebrado)\")\n",
    "linha1(input())\n",
    "pergunta2 = input(print(\"indique se o animal é (ave), (mamifero), (inseto) ou (anelideo)\"))\n",
    "pergunta3 = input(print(\"indique se o animal é (carnivoro), (onivoro), (herbivoro) ou (hematofago)\"))\n",
    "\n"
   ]
  },
  {
   "cell_type": "code",
   "execution_count": 6,
   "id": "9e27aa37-9732-4f24-a77e-d2a95686ec33",
   "metadata": {},
   "outputs": [
    {
     "name": "stdin",
     "output_type": "stream",
     "text": [
      "vertebrado ou invertebrado? vertebrado\n"
     ]
    },
    {
     "name": "stdout",
     "output_type": "stream",
     "text": [
      "dos seguintes tipos qual pretende?\n"
     ]
    },
    {
     "name": "stdin",
     "output_type": "stream",
     "text": [
      "{'ave': {'carnivoro': 'aguia', 'onivoro': 'pomba'}, 'mamifero': {'onivoro': 'homem', 'herbivoro': 'vaca'}} ave\n"
     ]
    },
    {
     "name": "stdout",
     "output_type": "stream",
     "text": [
      "ave\n"
     ]
    },
    {
     "name": "stdin",
     "output_type": "stream",
     "text": [
      "{'carnivoro': 'aguia', 'onivoro': 'pomba'} carnivoro\n"
     ]
    },
    {
     "name": "stdout",
     "output_type": "stream",
     "text": [
      "aguia\n"
     ]
    }
   ],
   "source": [
    "x = \"\"\n",
    "y = \"\"\n",
    "z = \"\"\n",
    "\n",
    "chave_dicotomica = {\n",
    "    \"vertebrado\" : {\n",
    "        \"ave\" : {\n",
    "            \"carnivoro\" : \"aguia\" ,\n",
    "            \"onivoro\" : \"pomba\"},\n",
    "        \"mamifero\" : {\n",
    "            \"onivoro\" : \"homem\" ,\n",
    "            \"herbivoro\" : \"vaca\" },\n",
    "    },\n",
    "    \"invertebrado\" : {\n",
    "        \"inseto\": {\n",
    "            \"hematofago\" : \"pulga\" ,\n",
    "            \"herbivoro\" : \"lagarta\" },\n",
    "        \"anelideo\" : {\n",
    "            \"hematofago\" : \"sanguessuga\" ,\n",
    "            \"onivoro\" : \"minhoca\"},\n",
    "    }}\n",
    "\n",
    "def ver():\n",
    "    global x\n",
    "    x = input(\"vertebrado ou invertebrado?\")\n",
    "    if x in chave_dicotomica:\n",
    "        tipo()\n",
    "    \n",
    "def tipo():\n",
    "    global y\n",
    "    global x\n",
    "    print(\"dos seguintes tipos qual pretende?\")\n",
    "    y = input(chave_dicotomica[x])\n",
    "    print(y)\n",
    "    especie()\n",
    "\n",
    "def especie():\n",
    "    global x\n",
    "    global y\n",
    "    global z\n",
    "    z = input(chave_dicotomica[x][y])\n",
    "    final()\n",
    "\n",
    "def final():\n",
    "    global z\n",
    "    print(chave_dicotomica[x][y][z])\n",
    "    \n",
    "ver()"
   ]
  },
  {
   "cell_type": "code",
   "execution_count": 31,
   "id": "f8b4a04a-4b81-4a9d-bc1b-5957779a9b69",
   "metadata": {},
   "outputs": [
    {
     "name": "stdout",
     "output_type": "stream",
     "text": [
      "indique a moeda de origem: (euro), (dollar), (libra), (yen)\n"
     ]
    },
    {
     "name": "stdin",
     "output_type": "stream",
     "text": [
      "None yen\n"
     ]
    },
    {
     "name": "stdout",
     "output_type": "stream",
     "text": [
      "de seguida indique a moeda de destino:\n",
      "(euro), (dollar), (libra), (yen)\n"
     ]
    },
    {
     "name": "stdin",
     "output_type": "stream",
     "text": [
      "None libra\n"
     ]
    },
    {
     "name": "stdout",
     "output_type": "stream",
     "text": [
      "indique o valor que pretende converter\n"
     ]
    },
    {
     "name": "stdin",
     "output_type": "stream",
     "text": [
      "None 10000\n"
     ]
    },
    {
     "name": "stdout",
     "output_type": "stream",
     "text": [
      "10000.0 yen é igual a 60.0 libras\n"
     ]
    }
   ],
   "source": [
    "#Conversor\n",
    "def euro_to_dollar(quantidade):\n",
    "    resultado = quantidade * 0.92\n",
    "    print(valor, \"euros é igual a\", resultado, \"dollars\")\n",
    "    \n",
    "def euro_to_libra(quantidade):\n",
    "    resultado = quantidade * 0.88\n",
    "    print(valor, \"euros é igual a\", resultado, \"libras\")\n",
    "    \n",
    "def euro_to_yen(quantidade):\n",
    "    resultado = quantidade * 140\n",
    "    print(valor, \"euros é igual a\", resultado, \"yen\")\n",
    "\n",
    "def dollar_to_euro(quantidade):\n",
    "    resultado = quantidade * 0.92\n",
    "    print(valor, \"dollars é igual a\", resultado, \"euros\")\n",
    "    \n",
    "def dollar_to_libra(quantidade):\n",
    "    resultado = quantidade * 0.81\n",
    "    print(valor, \"dollars é igual a\", resultado, \"libras\")\n",
    "\n",
    "def dollar_to_yen(quantidade):\n",
    "    resultado = quantidade * 129\n",
    "    print(valor, \"dollars é igual a\", resultado, \"yen\")\n",
    "\n",
    "def libra_to_euro(quantidade):\n",
    "    resultado = quantidade * 1.12\n",
    "    print(valor, \"libras é igual a\", resultado, \"euros\")\n",
    "    \n",
    "def libra_to_dollar(quantidade):\n",
    "    resultado = quantidade * 1.22\n",
    "    print(valor, \"libras é igual a\", resultado, \"dollars\")\n",
    "    \n",
    "def libra_to_yen(quantidade):\n",
    "    resultado = quantidade * 158\n",
    "    print(valor, \"libras é igual a\", resultado, \"yen\")\n",
    "\n",
    "def yen_to_euro(quantidade):\n",
    "    resultado = quantidade * 0.0071\n",
    "    print(valor, \"yen é igual a\", resultado, \"euros\")\n",
    "    \n",
    "def yen_to_dollar(quantidade):\n",
    "    resultado = quantidade * 0.0077\n",
    "    print(valor, \"yen é igual a\", resultado, \"dollars\")\n",
    "    \n",
    "def yen_to_libra(quantidade):\n",
    "    resultado = quantidade * 0.006\n",
    "    print(valor, \"yen é igual a\", resultado, \"libras\")\n",
    "\n",
    "moeda_de_origem = input(print(\"indique a moeda de origem: (euro), (dollar), (libra), (yen)\"))\n",
    "\n",
    "moeda_de_destino = input(print(\"de seguida indique a moeda de destino:\\n(euro), (dollar), (libra), (yen)\"))\n",
    "\n",
    "valor = float(input(print(\"indique o valor que pretende converter\")))\n",
    "\n",
    "if moeda_de_origem == \"euro\" and moeda_de_destino == \"dollar\":\n",
    "    euro_to_dollar(valor)\n",
    "elif moeda_de_origem == \"euro\" and moeda_de_destino == \"libra\":\n",
    "    euro_to_libra(valor)\n",
    "elif moeda_de_origem == \"euro\" and moeda_de_destino == \"yen\":\n",
    "    euro_to_yen(valor)\n",
    "elif moeda_de_origem == \"dollar\" and moeda_de_destino == \"euro\":\n",
    "    dollar_to_euro(valor)\n",
    "elif moeda_de_origem == \"dollar\" and moeda_de_destino == \"libra\":\n",
    "    dollar_to_libra(valor)\n",
    "elif moeda_de_origem == \"dollar\" and moeda_de_destino == \"yen\":\n",
    "    dollar_to_yen(valor)\n",
    "elif moeda_de_origem == \"libra\" and moeda_de_destino == \"euro\":\n",
    "    libra_to_euro(valor)\n",
    "elif moeda_de_origem == \"libra\" and moeda_de_destino == \"dollar\":\n",
    "    libra_to_dollar(valor)\n",
    "elif moeda_de_origem == \"libra\" and moeda_de_destino == \"yen\":\n",
    "    libra_to_yen(valor)\n",
    "elif moeda_de_origem == \"yen\" and moeda_de_destino == \"euro\":\n",
    "    yen_to_euro(valor)\n",
    "elif moeda_de_origem == \"yen\" and moeda_de_destino == \"dollar\":\n",
    "    yen_to_dollar(valor)\n",
    "elif moeda_de_origem == \"yen\" and moeda_de_destino == \"libra\":\n",
    "    yen_to_libra(valor)\n",
    "else: print(\"erro, tente de novo\")"
   ]
  },
  {
   "cell_type": "code",
   "execution_count": 59,
   "id": "f648098f-fbda-46c5-98f3-de1bcbb160e4",
   "metadata": {},
   "outputs": [
    {
     "name": "stdout",
     "output_type": "stream",
     "text": [
      "indique a moeda de origem: (euro), (dollar), (libra), (yen)\n"
     ]
    },
    {
     "name": "stdin",
     "output_type": "stream",
     "text": [
      "None dollar\n"
     ]
    },
    {
     "name": "stdout",
     "output_type": "stream",
     "text": [
      "indique a moeda de destino: (euro), (dollar), (libra), (yen)\n"
     ]
    },
    {
     "name": "stdin",
     "output_type": "stream",
     "text": [
      "None euro\n",
      "que valor pretende converter 100\n"
     ]
    },
    {
     "name": "stdout",
     "output_type": "stream",
     "text": [
      "92.0\n"
     ]
    }
   ],
   "source": [
    "moeda_de_origem = \"\"\n",
    "moeda_de_destino = \"\"\n",
    "valor = 0\n",
    "conversao = {\n",
    "    \"euro\" : {\n",
    "        \"dollar\":0.92,\n",
    "        \"libra\":0.88,\n",
    "        \"yen\":140\n",
    "    },\n",
    "    \"dollar\": {\n",
    "        \"euro\":0.92,\n",
    "        \"libra\":0.81,\n",
    "        \"yen\":129\n",
    "}}\n",
    "def valor():\n",
    "    global valor\n",
    "    valor = float(input(\"que valor pretende converter\"))\n",
    "\n",
    "def inicio():\n",
    "    global moeda_de_origem\n",
    "    moeda_de_origem = input(print(\"indique a moeda de origem: (euro), (dollar), (libra), (yen)\"))\n",
    "    \n",
    "    \n",
    "def destino():\n",
    "    global moeda_de_destino\n",
    "    moeda_de_destino = input(print(\"indique a moeda de destino: (euro), (dollar), (libra), (yen)\"))\n",
    "\n",
    "def conversor():\n",
    "    inicio()\n",
    "    global moeda_de_origem\n",
    "    global moeda_de_destino\n",
    "    global valor\n",
    "    for key in conversao:\n",
    "        if moeda_de_origem == key:\n",
    "            destino()\n",
    "            valor()\n",
    "            resultado = valor * conversao[moeda_de_origem][moeda_de_destino]\n",
    "            print(resultado)\n",
    "\n",
    "conversor()"
   ]
  },
  {
   "cell_type": "code",
   "execution_count": null,
   "id": "45ef8453-63c9-4bc3-9498-73b520a5fcb6",
   "metadata": {},
   "outputs": [],
   "source": []
  },
  {
   "cell_type": "code",
   "execution_count": null,
   "id": "f1ff6e56-ec14-4d06-892e-960045add8e8",
   "metadata": {},
   "outputs": [],
   "source": []
  }
 ],
 "metadata": {
  "kernelspec": {
   "display_name": "Python 3 (ipykernel)",
   "language": "python",
   "name": "python3"
  },
  "language_info": {
   "codemirror_mode": {
    "name": "ipython",
    "version": 3
   },
   "file_extension": ".py",
   "mimetype": "text/x-python",
   "name": "python",
   "nbconvert_exporter": "python",
   "pygments_lexer": "ipython3",
   "version": "3.9.13"
  }
 },
 "nbformat": 4,
 "nbformat_minor": 5
}
