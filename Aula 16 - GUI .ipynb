{
 "cells": [
  {
   "cell_type": "markdown",
   "id": "7c30a160-a117-46cf-a772-423236681185",
   "metadata": {},
   "source": [
    "# Instalando tkinter"
   ]
  },
  {
   "cell_type": "code",
   "execution_count": 1,
   "id": "da29a46f-63c3-41b4-bd2b-5febbd6c949a",
   "metadata": {},
   "outputs": [
    {
     "name": "stdout",
     "output_type": "stream",
     "text": [
      "Collecting tk\n",
      "  Downloading tk-0.1.0-py3-none-any.whl (3.9 kB)\n",
      "Installing collected packages: tk\n",
      "Successfully installed tk-0.1.0\n"
     ]
    }
   ],
   "source": [
    "!pip install tk"
   ]
  },
  {
   "cell_type": "markdown",
   "id": "a550ea8a-c6f0-465f-976a-e0259f0ed0c0",
   "metadata": {},
   "source": [
    "# Primeira janelinha"
   ]
  },
  {
   "cell_type": "code",
   "execution_count": 7,
   "id": "14753716-68e4-4531-8fd4-6b11834e0672",
   "metadata": {},
   "outputs": [],
   "source": [
    "from tkinter import *\n",
    "\n",
    "main_window = Tk()\n",
    "\n",
    "main_window.title(\"Caixa Eletronico\")\n",
    "main_window.geometry(\"400x300\")\n",
    "main_window.tk_setPalette(background=\"blue\", foreground=\"gray\", activeBackground = \"green\")\n",
    "\n",
    "main_window.mainloop()"
   ]
  },
  {
   "cell_type": "markdown",
   "id": "d62c04c6-b95a-41a1-9356-a2709c12174d",
   "metadata": {},
   "source": [
    "# Adicionando um botao"
   ]
  },
  {
   "cell_type": "code",
   "execution_count": 8,
   "id": "7c0f3702-c02c-4eef-bfc9-7b255821e7bd",
   "metadata": {},
   "outputs": [],
   "source": [
    "from tkinter import *\n",
    "\n",
    "main_window = Tk()\n",
    "\n",
    "main_window.title(\"Caixa Eletronico\")\n",
    "main_window.geometry(\"400x300\")\n",
    "main_window.tk_setPalette(background=\"blue\", foreground=\"gray\", activeBackground = \"green\")\n",
    "\n",
    "button = Button(main_window, text=\"Teste\", bg=\"black\")\n",
    "button.pack()\n",
    "\n",
    "\n",
    "main_window.mainloop()"
   ]
  },
  {
   "cell_type": "markdown",
   "id": "31cbc2ab-70f2-4666-85da-bd045667eeba",
   "metadata": {},
   "source": [
    "# Criando um formulário"
   ]
  },
  {
   "cell_type": "code",
   "execution_count": 95,
   "id": "608cfa61-6b6d-4bd7-a6df-e48e9b971738",
   "metadata": {},
   "outputs": [],
   "source": [
    "from tkinter import *\n",
    "\n",
    "main_window = Tk()\n",
    "main_window.title(\"Formulario de Registro\")\n",
    "main_window.geometry(\"300x150\")\n",
    "\n",
    "frame_1 = Frame(main_window)\n",
    "frame_1.pack()\n",
    "\n",
    "Label(frame_1, text=\"Nome: \").pack(side=LEFT)\n",
    "Entry(frame_1).pack(side=LEFT)\n",
    "\n",
    "frame_2 = Frame(main_window)\n",
    "frame_2.pack()\n",
    "\n",
    "Label(frame_2, text=\"Idade: \").pack(side=LEFT)\n",
    "Entry(frame_2).pack(side=LEFT)\n",
    "\n",
    "frame_3 = Frame(main_window)\n",
    "frame_3.pack()\n",
    "\n",
    "Button(frame_3, text=\"Enviar\").pack()\n",
    "\n",
    "main_window.mainloop()"
   ]
  },
  {
   "cell_type": "markdown",
   "id": "a58532e9-042d-4d90-a56e-f7528024f20d",
   "metadata": {},
   "source": [
    "# Adicionando um command no botao"
   ]
  },
  {
   "cell_type": "code",
   "execution_count": 97,
   "id": "6069fe21-2344-41dd-8a04-871ce23bac8d",
   "metadata": {},
   "outputs": [],
   "source": [
    "from tkinter import *\n",
    "\n",
    "main_window = Tk()\n",
    "main_window.title(\"Formulario de Registro\")\n",
    "main_window.geometry(\"300x150\")\n",
    "\n",
    "frame_1 = Frame(main_window)\n",
    "frame_1.pack()\n",
    "\n",
    "Label(frame_1, text=\"Nome: \").pack(side=LEFT)\n",
    "Entry(frame_1).pack(side=LEFT)\n",
    "\n",
    "frame_2 = Frame(main_window)\n",
    "frame_2.pack()\n",
    "\n",
    "Label(frame_2, text=\"Idade: \").pack(side=LEFT)\n",
    "Entry(frame_2).pack(side=LEFT)\n",
    "\n",
    "frame_3 = Frame(main_window)\n",
    "frame_3.pack()\n",
    "\n",
    "\n",
    "def bem_vindo():\n",
    "    print(\"Bem-vindo!\")\n",
    "\n",
    "\n",
    "Button(frame_3, text=\"Enviar\", command=bem_vindo).pack()\n",
    "\n",
    "main_window.mainloop()"
   ]
  },
  {
   "cell_type": "markdown",
   "id": "2fa004ae-52ac-4c9f-a9f5-1d8d7a0ec60b",
   "metadata": {},
   "source": [
    "# Adicionando labels na tela"
   ]
  },
  {
   "cell_type": "code",
   "execution_count": 76,
   "id": "178d5fd3-62e2-4213-b388-29e8a26d4782",
   "metadata": {
    "tags": []
   },
   "outputs": [],
   "source": [
    "from tkinter import *\n",
    "\n",
    "main_window = Tk()\n",
    "main_window.title(\"Formulario de Registro\")\n",
    "main_window.geometry(\"300x150\")\n",
    "\n",
    "frame_1 = Frame(main_window)\n",
    "frame_1.pack()\n",
    "\n",
    "Label(frame_1, text=\"Nome: \").pack(side=LEFT)\n",
    "e_name = Entry(frame_1)\n",
    "e_name.pack(side=LEFT)\n",
    "\n",
    "frame_2 = Frame(main_window)\n",
    "frame_2.pack()\n",
    "\n",
    "Label(frame_2, text=\"Idade: \").pack(side=LEFT)\n",
    "e_idade = Entry(frame_2)\n",
    "e_idade.pack(side=LEFT)\n",
    "\n",
    "frame_3 = Frame(main_window)\n",
    "frame_3.pack()\n",
    "\n",
    "def bem_vindo(event):\n",
    "    if int(e_idade.get())>30:\n",
    "        label_welcome.config(text = \"Bem vindo, Sr(a) {}\".format(e_name.get()))\n",
    "    else:\n",
    "        label_welcome.config(text = \"Bem vindo, {}\".format(e_name.get()))\n",
    "    e_name.delete(0,END)\n",
    "    e_idade.delete(0,END)\n",
    "    \n",
    "def tchau(event):\n",
    "    label_welcome.config(text = \"Tchau, {}\".format(e_name.get()))\n",
    "    e_name.delete(0,END)\n",
    "    e_idade.delete(0,END)\n",
    "\n",
    "\n",
    "button = Button(frame_3, text=\"Enviar\")\n",
    "button.bind(\"<Button-1>\", bem_vindo) #botao esquerdo do rato\n",
    "button.bind(\"<Button-3>\", tchau) #botao direito do rato\n",
    "button.pack()\n",
    "\n",
    "label_welcome = Label(frame_3, text=\"\")\n",
    "label_welcome.pack()\n",
    "\n",
    "main_window.mainloop()"
   ]
  },
  {
   "cell_type": "markdown",
   "id": "4ce5449b-ede7-41c3-9b18-a865b281fca2",
   "metadata": {
    "tags": []
   },
   "source": [
    "# Missão"
   ]
  },
  {
   "cell_type": "markdown",
   "id": "8e1aaaa8-b1f6-45aa-870c-9e12a6af03c4",
   "metadata": {},
   "source": [
    "1- Criar um programa com GUI para calcular o IMC. Vc pede peso e altura e exibe o resultado"
   ]
  },
  {
   "cell_type": "code",
   "execution_count": 19,
   "id": "b9920fd6-8173-4004-a2e5-5a3efa37f33d",
   "metadata": {},
   "outputs": [],
   "source": [
    "from tkinter import *\n",
    "\n",
    "root = Tk()\n",
    "root.title(\"Title\")\n",
    "root.geometry(\"500x300\")\n",
    "\n",
    "Label(root, text=\"Hello world!\", font=(\"Times New Roman\", 20)).pack()\n",
    "\n",
    "root.mainloop()"
   ]
  },
  {
   "cell_type": "code",
   "execution_count": 1,
   "id": "b969dec5-998a-4dfd-8482-7cb8b033c7e5",
   "metadata": {},
   "outputs": [],
   "source": [
    "from tkinter import *\n",
    "\n",
    "main_window = Tk()\n",
    "main_window.title(\"Calcule o IMC\")\n",
    "main_window.geometry(\"300x150\")\n",
    "\n",
    "frame_1 = Frame(main_window)\n",
    "frame_1.pack()\n",
    "\n",
    "Label(frame_1, text=\"Peso(kg): \").pack(side=LEFT)\n",
    "e_peso = Entry(frame_1)\n",
    "e_peso.pack(side=LEFT)\n",
    "\n",
    "frame_2 = Frame(main_window)\n",
    "frame_2.pack()\n",
    "\n",
    "Label(frame_2, text=\"Altura(cm): \").pack(side=LEFT)\n",
    "e_altura = Entry(frame_2)\n",
    "e_altura.pack(side=LEFT)\n",
    "\n",
    "frame_3 = Frame(main_window)\n",
    "frame_3.pack()\n",
    "\n",
    "def calculo_imc(event):\n",
    "    peso = float(e_peso.get())\n",
    "    altura = float(e_altura.get()) / 100 #converter cm em m\n",
    "    imc = peso / (altura ** 2)\n",
    "    label_imc.config(text=\"Seu IMC é {:.2f}\".format(imc))\n",
    "    e_peso.delete(0, END)\n",
    "    e_altura.delete(0, END)\n",
    "\n",
    "button = Button(frame_3, text=\"Submeter\")\n",
    "button.bind(\"<Button-1>\", calculo_imc)\n",
    "button.pack()\n",
    "\n",
    "label_imc = Label(frame_3, text=\"\")\n",
    "label_imc.pack()\n",
    "\n",
    "main_window.mainloop()"
   ]
  },
  {
   "cell_type": "markdown",
   "id": "372d05c8-dda3-4c9f-b02d-7e024d147dbb",
   "metadata": {},
   "source": [
    "2- Criar um programa com GUI para converter euro em reais e vice-versa (adicionar dois botões). Então a GUI só tem uma entry para valor e dois botões [euro>reais] e [reais>euro]"
   ]
  },
  {
   "cell_type": "code",
   "execution_count": 4,
   "id": "1083c912-6380-43d4-abe4-f72b84098746",
   "metadata": {},
   "outputs": [],
   "source": [
    "from tkinter import *\n",
    "\n",
    "main_window = Tk()\n",
    "main_window.title(\"Conversao de moeda\")\n",
    "main_window.geometry(\"300x150\")\n",
    "\n",
    "frame_1 = Frame(main_window)\n",
    "frame_1.pack()\n",
    "\n",
    "Label(frame_1, text=\"Indique o valor\").pack(side=LEFT)\n",
    "e_valor = Entry(frame_1)\n",
    "e_valor.pack(side=LEFT)\n",
    "\n",
    "frame_2 = Frame(main_window)\n",
    "frame_2.pack()\n",
    "\n",
    "def conversao_euro_real():\n",
    "    valor = float(e_valor.get())\n",
    "    euro_real = valor * 5.54\n",
    "    con_euro_real.config(text=\"{:.2f} Reais\".format(euro_real))\n",
    "    \n",
    "\n",
    "def conversao_real_euro():\n",
    "    valor = float(e_valor.get())\n",
    "    real_euro = valor * 0.18\n",
    "    con_real_euro.config(text=\"{:.2f} Euros\".format(real_euro))\n",
    "    \n",
    "\n",
    "button_euro_real = Button(main_window, text=\"Euro -> Real\", command=conversao_euro_real)\n",
    "button_euro_real.pack()\n",
    "\n",
    "button_real_euro = Button(main_window, text=\"Real -> Euro\", command=conversao_real_euro)\n",
    "button_real_euro.pack()\n",
    "\n",
    "con_euro_real = Label(frame_2, text=\"\")\n",
    "con_euro_real.pack()                    \n",
    "con_real_euro = Label(main_window, text=\"\")                    \n",
    "con_real_euro.pack()\n",
    "\n",
    "main_window.mainloop()"
   ]
  },
  {
   "cell_type": "code",
   "execution_count": 103,
   "id": "e36e338e-ab70-4a67-a72e-1490c66e791a",
   "metadata": {},
   "outputs": [],
   "source": [
    "from tkinter import *\n",
    "\n",
    "root = Tk()\n",
    "\n",
    "#Customizing main window header title, window size, background and font color (background=bg, foreground=fg)\n",
    "root.title(\"Title here\")\n",
    "root.geometry(\"300x100\")\n",
    "root.tk_setPalette(background=\"gray\", foreground=\"yellow\", activeBackground = \"orange\")\n",
    "\n",
    "#Creating a label widget\n",
    "myLabel1 = Label(root, text=\"Hello world!\")\n",
    "\n",
    "#Showing it on the screen\n",
    "myLabel1.pack()\n",
    "\n",
    "#Creating a second label widget & showing it on the screen\n",
    "myLabel2 = Label(root, text=\"welcome to coding\", font=(\"Tahoma\", 20, \"italic\")).pack()\n",
    "\n",
    "#Runs the app, must be last line of code\n",
    "root.mainloop()"
   ]
  },
  {
   "cell_type": "code",
   "execution_count": 5,
   "id": "fa333c74-feb7-417c-b0a0-548f78fc38e4",
   "metadata": {},
   "outputs": [],
   "source": [
    "from tkinter import *\n",
    "\n",
    "root = Tk()\n",
    "\n",
    "root.title(\"The Button game\")\n",
    "root.geometry(\"500x300\")\n",
    "\n",
    "def myClick():\n",
    "    mylabel = Label(root, text=\"You clicked me!\").pack()\n",
    "\n",
    "myButton = Button(root, text=\"Click me!\").pack()\n",
    "\n",
    "myButtonDis = Button(root, text=\"Click me!\", state=DISABLED).pack()\n",
    "\n",
    "myButton_large = Button(root, text=\"Click me!\", padx=50, pady=30).pack()\n",
    "\n",
    "myButton_def = Button(root, text=\"Click me!\", command=myClick).pack()\n",
    "\n",
    "root.mainloop()"
   ]
  },
  {
   "cell_type": "code",
   "execution_count": 6,
   "id": "a527f8ac-3ddd-4165-81ee-b6589e510f5c",
   "metadata": {},
   "outputs": [],
   "source": [
    "from tkinter import *\n",
    "\n",
    "root = Tk()\n",
    "\n",
    "root.title(\"Gimme yo data\")\n",
    "root.geometry(\"300x150\")\n",
    "\n",
    "#hello function\n",
    "def myClick():\n",
    "    hello = \"hello \" + e_name.get()\n",
    "    mylabel2 = Label(root, text=hello).pack(side=LEFT)\n",
    "\n",
    "#question\n",
    "myLabel1 = Label(root, text=\"name:\")\n",
    "myLabel1.pack(side=LEFT)\n",
    "\n",
    "#user input\n",
    "e_name = Entry(root)\n",
    "e_name.pack(side=LEFT)\n",
    "\n",
    "#button\n",
    "myButton = Button(root, text=\"Submit\", command=myClick)\n",
    "myButton.pack(side=BOTTOM)\n",
    "\n",
    "root.mainloop()"
   ]
  },
  {
   "cell_type": "code",
   "execution_count": null,
   "id": "e3abb128-70db-4e21-84e3-5b4b4c027fe1",
   "metadata": {},
   "outputs": [],
   "source": []
  }
 ],
 "metadata": {
  "kernelspec": {
   "display_name": "Python 3 (ipykernel)",
   "language": "python",
   "name": "python3"
  },
  "language_info": {
   "codemirror_mode": {
    "name": "ipython",
    "version": 3
   },
   "file_extension": ".py",
   "mimetype": "text/x-python",
   "name": "python",
   "nbconvert_exporter": "python",
   "pygments_lexer": "ipython3",
   "version": "3.9.13"
  }
 },
 "nbformat": 4,
 "nbformat_minor": 5
}
