{
 "cells": [
  {
   "cell_type": "markdown",
   "id": "1bb5055b-d2b7-434d-bf7c-dbce750a49be",
   "metadata": {},
   "source": [
    "# Criar classes"
   ]
  },
  {
   "cell_type": "markdown",
   "id": "62023aa6-6751-4863-93bd-76aca613cd48",
   "metadata": {},
   "source": [
    "class nome_da_classe():\n",
    "\n",
    "    atributos_da_classe\n",
    "    \n",
    "    def metodos()"
   ]
  },
  {
   "cell_type": "code",
   "execution_count": null,
   "id": "e11566d0-a73b-4b3d-9223-8c534d043b30",
   "metadata": {},
   "outputs": [],
   "source": [
    "class Casa():\n",
    "    \n",
    "    rua = \"Feliz\"\n",
    "    bairro = \"Bom\"\n",
    "    cidade = \"Lisboa\"\n",
    "    \n",
    "    def endereco_completo(self):\n",
    "        print(\"Rua:\", self.rua, \"\\nBairro:\", self.bairro, \"\\nCidade:\", self.cidade)"
   ]
  },
  {
   "cell_type": "markdown",
   "id": "916f78f2-8767-4a4a-8aa8-73cfe4018cd6",
   "metadata": {},
   "source": [
    "# Criando objetos"
   ]
  },
  {
   "cell_type": "code",
   "execution_count": null,
   "id": "d501dabe-8976-46f4-9def-5eeaa6df82f8",
   "metadata": {},
   "outputs": [],
   "source": [
    "house1 = Casa()"
   ]
  },
  {
   "cell_type": "code",
   "execution_count": null,
   "id": "3181d8d5-cb18-42fe-abee-cb25524fd3b1",
   "metadata": {},
   "outputs": [],
   "source": [
    "house1.rua"
   ]
  },
  {
   "cell_type": "code",
   "execution_count": null,
   "id": "c11bafdb-e00a-4cca-ba66-0716bff569b0",
   "metadata": {},
   "outputs": [],
   "source": [
    "house1.endereco_completo()"
   ]
  },
  {
   "cell_type": "code",
   "execution_count": null,
   "id": "8de8ff09-f42f-482b-898a-c10ad49f5c15",
   "metadata": {},
   "outputs": [],
   "source": [
    "house2 = Casa()"
   ]
  },
  {
   "cell_type": "code",
   "execution_count": null,
   "id": "6b4edc9f-63ab-489a-909e-98f4b509e055",
   "metadata": {},
   "outputs": [],
   "source": [
    "house2.rua"
   ]
  },
  {
   "cell_type": "code",
   "execution_count": null,
   "id": "b2c2c509-fced-419f-ad15-6e1c15c65742",
   "metadata": {},
   "outputs": [],
   "source": [
    "house2.endereco_completo()"
   ]
  },
  {
   "cell_type": "markdown",
   "id": "48735368-7c06-4867-8e5c-c3bc003ca5a0",
   "metadata": {},
   "source": [
    "# Criando instancias diferentes"
   ]
  },
  {
   "cell_type": "code",
   "execution_count": null,
   "id": "5b064193-210d-4990-aa12-af46967a82ae",
   "metadata": {},
   "outputs": [],
   "source": [
    "class Casa():\n",
    "    \n",
    "    def __init__(self, rua, bairro, cidade):\n",
    "        self.rua = rua \n",
    "        self.bairro = bairro  # atributos do objeto\n",
    "        self.cidade = cidade\n",
    "    \n",
    "    def endereco_completo(self):\n",
    "        print(\"Rua:\", self.rua, \"\\nBairro:\", self.bairro, \"\\nCidade:\", self.cidade)"
   ]
  },
  {
   "cell_type": "code",
   "execution_count": null,
   "id": "c6e30550-0c4a-4bb6-85b2-34fd7797fb08",
   "metadata": {},
   "outputs": [],
   "source": [
    "house1 = Casa(\"Feliz\", \"Bom\", \"Lisboa\")\n",
    "house2 = Casa(\"Radical\", \"Bravo\", \"Porto\")"
   ]
  },
  {
   "cell_type": "code",
   "execution_count": null,
   "id": "181d10b5-5128-45d8-9448-4d21783436d2",
   "metadata": {},
   "outputs": [],
   "source": [
    "house1.endereco_completo()"
   ]
  },
  {
   "cell_type": "code",
   "execution_count": null,
   "id": "0f92aa3e-e652-4bf3-8da9-b19af8b415a9",
   "metadata": {},
   "outputs": [],
   "source": [
    "house2.endereco_completo()"
   ]
  },
  {
   "cell_type": "code",
   "execution_count": null,
   "id": "1cdcc80d-bc41-47fd-9fc2-ef7f62a7628f",
   "metadata": {},
   "outputs": [],
   "source": [
    "print(house1.rua, house2.rua)"
   ]
  },
  {
   "cell_type": "code",
   "execution_count": null,
   "id": "5d987ac9-b442-4139-ac71-d141e7c3c633",
   "metadata": {},
   "outputs": [],
   "source": [
    "type(house1)"
   ]
  },
  {
   "cell_type": "markdown",
   "id": "4ffe162f-174d-4e1c-b673-e728ae9962dd",
   "metadata": {},
   "source": [
    "# Atributos da classe e atributos do objeto"
   ]
  },
  {
   "cell_type": "code",
   "execution_count": null,
   "id": "60ace236-2c90-4054-bab8-d3bbc63bdde2",
   "metadata": {},
   "outputs": [],
   "source": [
    "class Casa():\n",
    "    \n",
    "    imobiliaria = \"Willem Company\" # atributo da classe\n",
    "    codigo_postal = 1990345\n",
    "    \n",
    "    def __init__(self, rua, bairro, cidade):\n",
    "        self.rua = rua \n",
    "        self.bairro = bairro  # atributos do objeto\n",
    "        self.cidade = cidade\n",
    "    \n",
    "    def endereco_completo(self):\n",
    "        print(\"Rua:\", self.rua, \"\\nBairro:\", self.bairro, \"\\nCidade:\", self.cidade)"
   ]
  },
  {
   "cell_type": "code",
   "execution_count": null,
   "id": "919e1f97-a589-459a-aff1-4b09a48c2e89",
   "metadata": {},
   "outputs": [],
   "source": [
    "house1 = Casa(\"Feliz\", \"Bom\", \"Lisboa\")\n",
    "house2 = Casa(\"Radical\", \"Bravo\", \"Porto\")"
   ]
  },
  {
   "cell_type": "code",
   "execution_count": null,
   "id": "f6d7c07f-eb7c-4123-9843-df61cdfe923c",
   "metadata": {},
   "outputs": [],
   "source": [
    "house1.rua"
   ]
  },
  {
   "cell_type": "code",
   "execution_count": null,
   "id": "e9d5b98e-ca44-4598-9559-ff6ec363673d",
   "metadata": {},
   "outputs": [],
   "source": [
    "house2.bairro"
   ]
  },
  {
   "cell_type": "code",
   "execution_count": null,
   "id": "69d2f78b-0b50-4ed2-a352-a00370d515b5",
   "metadata": {},
   "outputs": [],
   "source": [
    "house1.imobiliaria"
   ]
  },
  {
   "cell_type": "code",
   "execution_count": null,
   "id": "76782432-318d-4c6b-b5f2-575bfc9297cd",
   "metadata": {},
   "outputs": [],
   "source": [
    "house2.imobiliaria"
   ]
  },
  {
   "cell_type": "code",
   "execution_count": null,
   "id": "67eb94cb-3b70-4133-8df8-0069a2008f9b",
   "metadata": {},
   "outputs": [],
   "source": [
    "house2.codigo_postal"
   ]
  },
  {
   "cell_type": "markdown",
   "id": "256e52dc-71d6-4fba-85e7-d00f550c8e5d",
   "metadata": {},
   "source": [
    "# Métodos gets"
   ]
  },
  {
   "cell_type": "code",
   "execution_count": null,
   "id": "34477fc6-924a-4574-abdb-610014a9e893",
   "metadata": {},
   "outputs": [],
   "source": [
    "class Casa():\n",
    "    \n",
    "    imobiliaria = \"Willem Company\" # atributo da classe\n",
    "    codigo_postal = 1990345\n",
    "    \n",
    "    def __init__(self, rua, bairro, cidade):\n",
    "        self.rua = rua \n",
    "        self.bairro = bairro  # atributos do objeto\n",
    "        self.cidade = cidade\n",
    "    \n",
    "    def endereco_completo(self):\n",
    "        print(\"Rua:\", self.rua, \"\\nBairro:\", self.bairro, \"\\nCidade:\", self.cidade)\n",
    "        \n",
    "    def get_rua(self):\n",
    "        if \"Rua\" not in self.rua:\n",
    "            return \"Rua: \"+self.rua.capitalize()\n",
    "        else:\n",
    "            return self.rua.title()\n",
    "    \n",
    "    def get_bairro(self):\n",
    "        return self.bairro\n",
    "    \n",
    "    def get_cidade(self):\n",
    "        return self.cidade.upper()"
   ]
  },
  {
   "cell_type": "code",
   "execution_count": null,
   "id": "4e70c2bb-1292-4302-b4a9-faae8eb7d07d",
   "metadata": {},
   "outputs": [],
   "source": [
    "house3 = Casa(\"central\", \"chiado\", \"Lisboa\")"
   ]
  },
  {
   "cell_type": "code",
   "execution_count": null,
   "id": "11461890-c0ae-4f51-a740-5d462b6207c0",
   "metadata": {},
   "outputs": [],
   "source": [
    "house3.rua"
   ]
  },
  {
   "cell_type": "code",
   "execution_count": null,
   "id": "346d493e-4f00-4ba5-8556-accc3ed100c2",
   "metadata": {},
   "outputs": [],
   "source": [
    "house3.get_rua()"
   ]
  },
  {
   "cell_type": "code",
   "execution_count": null,
   "id": "a9621fa6-2b2e-4124-8cf9-4968d5060d6b",
   "metadata": {},
   "outputs": [],
   "source": [
    "house4 = Casa(\"Rua paralela 2\", \"chiado\", \"Lisboa\")"
   ]
  },
  {
   "cell_type": "code",
   "execution_count": null,
   "id": "f2230b79-4572-4a24-be8e-d618f2a856bd",
   "metadata": {},
   "outputs": [],
   "source": [
    "house4.get_rua()"
   ]
  },
  {
   "cell_type": "code",
   "execution_count": null,
   "id": "27e0e87c-2ff1-49cc-bff9-524958080218",
   "metadata": {},
   "outputs": [],
   "source": [
    "house4.get_cidade()"
   ]
  },
  {
   "cell_type": "markdown",
   "id": "c5a63514-d602-4a38-b13e-65a03876371a",
   "metadata": {},
   "source": [
    "# Métodos sets"
   ]
  },
  {
   "cell_type": "code",
   "execution_count": null,
   "id": "253fe4f1-2563-407a-847f-5d64c0154a6e",
   "metadata": {},
   "outputs": [],
   "source": [
    "class Casa():\n",
    "    \n",
    "    imobiliaria = \"Willem Company\" # atributo da classe\n",
    "    codigo_postal = 1990345\n",
    "    \n",
    "    def __init__(self, rua, bairro, cidade):\n",
    "        self.rua = rua \n",
    "        self.bairro = bairro  # atributos do objeto\n",
    "        self.cidade = cidade\n",
    "    \n",
    "    def endereco_completo(self):\n",
    "        print(\"Rua:\", self.rua, \"\\nBairro:\", self.bairro, \"\\nCidade:\", self.cidade)\n",
    "        \n",
    "    def get_rua(self):\n",
    "        if \"Rua\" not in self.rua:\n",
    "            return \"Rua: \"+self.rua.capitalize()\n",
    "        else:\n",
    "            return self.rua.title()\n",
    "    \n",
    "    def get_bairro(self):\n",
    "        return self.bairro\n",
    "    \n",
    "    def get_cidade(self):\n",
    "        return self.cidade.upper()\n",
    "    \n",
    "    def set_rua(self, nova_rua):\n",
    "        if len(nova_rua)>0:\n",
    "            self.rua = nova_rua\n",
    "        else:\n",
    "            print(\"Nome invalido\")\n",
    "            \n",
    "    def set_bairro(self, novo_bairro):\n",
    "        self.bairro = novo_bairro.lower()\n",
    "        \n",
    "    def set_cidade(self, nova_cidade):\n",
    "        self.cidade = nova_cidade.upper()\n"
   ]
  },
  {
   "cell_type": "code",
   "execution_count": null,
   "id": "f06a03f7-43a3-4481-8ac8-758a0887defe",
   "metadata": {},
   "outputs": [],
   "source": [
    "house5 = Casa(\"Coisa linda\", \"Sul\", \"Almada\")"
   ]
  },
  {
   "cell_type": "code",
   "execution_count": null,
   "id": "002768a0-e992-451e-8654-c82f007a552c",
   "metadata": {},
   "outputs": [],
   "source": [
    "house5.get_rua()"
   ]
  },
  {
   "cell_type": "code",
   "execution_count": null,
   "id": "fbf5f4b1-8623-49ce-9fb3-3fb045d99ace",
   "metadata": {},
   "outputs": [],
   "source": [
    "house5.set_rua(\"\")"
   ]
  },
  {
   "cell_type": "code",
   "execution_count": null,
   "id": "538a17e3-0b42-451b-ab41-79da34999435",
   "metadata": {},
   "outputs": [],
   "source": [
    "house5.set_rua(\"New Street York\")"
   ]
  },
  {
   "cell_type": "code",
   "execution_count": null,
   "id": "68c7e875-ece1-4855-890a-16029c376900",
   "metadata": {},
   "outputs": [],
   "source": [
    "house5.get_rua()"
   ]
  },
  {
   "cell_type": "code",
   "execution_count": null,
   "id": "b8926c0f-1ded-471f-9322-ae13f2682a68",
   "metadata": {},
   "outputs": [],
   "source": [
    "house5.get_bairro()"
   ]
  },
  {
   "cell_type": "code",
   "execution_count": null,
   "id": "2ef0a936-b496-4f25-b75f-afd91df8c0e8",
   "metadata": {},
   "outputs": [],
   "source": [
    "house5.set_bairro(\"NoRtE\")"
   ]
  },
  {
   "cell_type": "code",
   "execution_count": null,
   "id": "8686dfd5-d5ff-4891-b788-ea49ab223e7f",
   "metadata": {},
   "outputs": [],
   "source": [
    "house5.get_bairro()"
   ]
  },
  {
   "cell_type": "code",
   "execution_count": null,
   "id": "d34c1f4f-1795-461a-bab0-18d98a8a1d27",
   "metadata": {},
   "outputs": [],
   "source": [
    "house5.get_cidade()"
   ]
  },
  {
   "cell_type": "code",
   "execution_count": null,
   "id": "8c00fb9f-562c-4a5e-91f5-582a479865f4",
   "metadata": {},
   "outputs": [],
   "source": [
    "house5.set_cidade(\"Braga\")"
   ]
  },
  {
   "cell_type": "code",
   "execution_count": null,
   "id": "4d550158-e070-4ba5-a996-4defcac5e13c",
   "metadata": {},
   "outputs": [],
   "source": [
    "house5.get_cidade()"
   ]
  },
  {
   "cell_type": "markdown",
   "id": "aa080ac5-2a89-49ee-b02b-e6ebf0a072fa",
   "metadata": {},
   "source": [
    "# Missão"
   ]
  },
  {
   "cell_type": "markdown",
   "id": "d432d99c-52f7-4dcd-bf14-8e298702c566",
   "metadata": {},
   "source": [
    "1- Crie a classe Pessoa"
   ]
  },
  {
   "cell_type": "markdown",
   "id": "d8e29600-2903-414e-bf07-79a06a8103b7",
   "metadata": {},
   "source": [
    "pessoa\n",
    "- nome\n",
    "- sexo\n",
    "- idade\n"
   ]
  },
  {
   "cell_type": "code",
   "execution_count": null,
   "id": "7cf07276-ba9d-4996-9de4-deacb9023941",
   "metadata": {},
   "outputs": [],
   "source": [
    "willem\n",
    "- Willem da Silva\n",
    "- Masculino\n",
    "- 27\n",
    "\n",
    "marcio\n",
    "- Marcio Saraiva\n",
    "- Masculino\n",
    "- 34\n"
   ]
  },
  {
   "cell_type": "markdown",
   "id": "4ee286c3-1938-47b9-a6a1-336ec1901391",
   "metadata": {},
   "source": [
    "2 - Crie métodos get para todos os atributos. \n",
    "\n",
    "No get_idade(), se a pessoa for do sexo Feminino a idade deve ser -5 anos e se for masculino a idade deve ser +5 anos"
   ]
  },
  {
   "cell_type": "code",
   "execution_count": 1,
   "id": "5f6afb86-3bc0-4c1b-b1db-c49356fa6fe6",
   "metadata": {},
   "outputs": [
    {
     "name": "stdout",
     "output_type": "stream",
     "text": [
      "Nome: Willem Human \n",
      "Sexo: Masculino \n",
      "Idade: 31\n",
      "Nome: Marcio Saraiva \n",
      "Sexo: Masculino \n",
      "Idade: 34\n",
      "Nome: Beatriz Jorge \n",
      "Sexo: Femenino \n",
      "Idade: 31\n"
     ]
    },
    {
     "data": {
      "text/plain": [
       "26"
      ]
     },
     "execution_count": 1,
     "metadata": {},
     "output_type": "execute_result"
    }
   ],
   "source": [
    "class Pessoa():\n",
    "    \n",
    "    def __init__(self, nome, sexo, idade):\n",
    "        self.nome = nome \n",
    "        self.sexo = sexo\n",
    "        self.idade = idade\n",
    "    \n",
    "    def pessoa_completo(self):\n",
    "        print(\"Nome:\", self.nome, \"\\nSexo:\", self.sexo, \"\\nIdade:\", self.idade)\n",
    "        \n",
    "    def get_nome(self):\n",
    "        return self.nome\n",
    "    \n",
    "    def get_sexo(self):\n",
    "        return self.sexo\n",
    "    \n",
    "    def get_idade(self):\n",
    "        if self.sexo == \"Femenino\" or self.sexo == \"femenino\" or self.sexo == \"F\" or self.sexo == \"f\":\n",
    "            self.idade -= 5\n",
    "        if self.sexo in [\"Masculino\", \"masculino\", \"M\", \"m\"]:\n",
    "            self.idade += 5\n",
    "        return self.idade\n",
    "        \n",
    "pessoa1 = Pessoa(\"Willem Human\", \"Masculino\", 31)\n",
    "pessoa2 = Pessoa(\"Marcio Saraiva\", \"Masculino\", 34)\n",
    "pessoa3 = Pessoa(\"Beatriz Jorge\", \"Femenino\", 31)\n",
    "\n",
    "pessoa1.pessoa_completo()\n",
    "pessoa2.pessoa_completo()\n",
    "pessoa3.pessoa_completo()\n",
    "pessoa3.get_idade()"
   ]
  },
  {
   "cell_type": "markdown",
   "id": "1fc70e8f-9f4c-449f-b17e-b73acbd8b9bc",
   "metadata": {},
   "source": [
    "3 - Criar uma classe para Carro"
   ]
  },
  {
   "cell_type": "code",
   "execution_count": null,
   "id": "9d733f1e-cfc9-432c-9b41-b041b7fdbd77",
   "metadata": {},
   "outputs": [],
   "source": [
    "car1 = Carro(km=100, litro=5)\n",
    "\n",
    "car1.getConsumo() # 20 km/l"
   ]
  },
  {
   "cell_type": "code",
   "execution_count": null,
   "id": "7945bfd4-dbaf-4d57-af62-fdb47f7b253a",
   "metadata": {},
   "outputs": [],
   "source": [
    "car2 = Carro(km=100, litro=20)\n",
    "\n",
    "car2.getConsumo() # 5 km/l"
   ]
  },
  {
   "cell_type": "code",
   "execution_count": 1,
   "id": "7da3b7e4-b8e4-4f26-aec2-340ed0d5e978",
   "metadata": {},
   "outputs": [
    {
     "name": "stdout",
     "output_type": "stream",
     "text": [
      "Km: 100 \n",
      "Litro: 5\n",
      "Km: 100 \n",
      "Litro: 20\n"
     ]
    },
    {
     "data": {
      "text/plain": [
       "20.0"
      ]
     },
     "execution_count": 1,
     "metadata": {},
     "output_type": "execute_result"
    }
   ],
   "source": [
    "class Carro():\n",
    "    \n",
    "    def __init__(self, km, litro):\n",
    "        self.km = km \n",
    "        self.litro = litro\n",
    "        self.consumo = self.km / self.litro\n",
    "    def get_consumo(self):\n",
    "        return self.consumo\n",
    "        \n",
    "    def carro_completo(self):\n",
    "        print(\"Km:\", self.km, \"\\nLitro:\", self.litro,)\n",
    "\n",
    "car1 = Carro(100, 5)\n",
    "car2 = Carro(100, 20)\n",
    "car1.carro_completo()\n",
    "car2.carro_completo()\n",
    "car1.get_consumo()"
   ]
  },
  {
   "cell_type": "markdown",
   "id": "5b8a1a07-6fc2-44ad-b3e0-c6711c7f8d61",
   "metadata": {},
   "source": [
    "# Próxima Aula"
   ]
  },
  {
   "cell_type": "markdown",
   "id": "daa90463-9ec6-4e95-be76-89859b9d5da3",
   "metadata": {},
   "source": [
    "POO"
   ]
  },
  {
   "cell_type": "code",
   "execution_count": 33,
   "id": "08f79f38-9c86-4e93-b2b2-3db124e0f417",
   "metadata": {},
   "outputs": [
    {
     "name": "stdout",
     "output_type": "stream",
     "text": [
      "Area do quadrado é: 52\n",
      "Perimetro do quadrado é: 104\n",
      "Area do rectangulo é: 96\n",
      "perimetro do rectangulo é: 40\n",
      "Area do circulo é: 52\n",
      "perimetro do circulo é: 104\n"
     ]
    }
   ],
   "source": [
    "class Quadrado():\n",
    "    \n",
    "    def __init__(self, lado):\n",
    "        self.lado = lado\n",
    "    \n",
    "    def get_perimetro(self):\n",
    "        perimetro = self.lado * 4\n",
    "        return perimetro\n",
    "    \n",
    "    def get_area(self):\n",
    "        area = self.lado * 2\n",
    "        return area\n",
    "\n",
    "class Rectangulo():\n",
    "    \n",
    "    def __init__(self, comprimento, largura):\n",
    "        self.comprimento = comprimento\n",
    "        self.largura = largura\n",
    "        \n",
    "    def get_perimetro(self):\n",
    "        perimetro = 2 * (self.comprimento + self.largura)\n",
    "        return perimetro\n",
    "    \n",
    "    def get_area(self):\n",
    "        area = self.comprimento * self.largura\n",
    "        return area\n",
    "    \n",
    "class Circulo():\n",
    "    \n",
    "    def __init__(self, raio):\n",
    "        self.raio = raio\n",
    "        self.pi = 3.14\n",
    "    \n",
    "    def get_perimetro(self):\n",
    "        perimetro = 2 * self.pi * self.raio\n",
    "        return perimetro\n",
    "    \n",
    "    def get_area(self):\n",
    "        area = self.pi * (self.raio**2)\n",
    "        return area\n",
    "\n",
    "quadrado1 = Quadrado(26)\n",
    "print(\"Area do quadrado é:\", quadrado1.get_area())\n",
    "print(\"Perimetro do quadrado é:\", quadrado1.get_perimetro())\n",
    "\n",
    "rectangulo1 = Rectangulo(12,8)\n",
    "print(\"Area do rectangulo é:\", rectangulo1.get_area())\n",
    "print(\"perimetro do rectangulo é:\", rectangulo1.get_perimetro())\n",
    "\n",
    "circulo1 = Circulo(7)\n",
    "print(\"Area do circulo é:\", quadrado1.get_area())\n",
    "print(\"perimetro do circulo é:\", quadrado1.get_perimetro())\n"
   ]
  },
  {
   "cell_type": "code",
   "execution_count": null,
   "id": "8634bd1c-a1a2-4346-90b3-1fa1642d3dca",
   "metadata": {},
   "outputs": [],
   "source": []
  },
  {
   "cell_type": "code",
   "execution_count": null,
   "id": "7d71613e-0b23-4ada-8d61-37b0ad62f6a5",
   "metadata": {},
   "outputs": [],
   "source": []
  }
 ],
 "metadata": {
  "kernelspec": {
   "display_name": "Python 3 (ipykernel)",
   "language": "python",
   "name": "python3"
  },
  "language_info": {
   "codemirror_mode": {
    "name": "ipython",
    "version": 3
   },
   "file_extension": ".py",
   "mimetype": "text/x-python",
   "name": "python",
   "nbconvert_exporter": "python",
   "pygments_lexer": "ipython3",
   "version": "3.9.13"
  }
 },
 "nbformat": 4,
 "nbformat_minor": 5
}
