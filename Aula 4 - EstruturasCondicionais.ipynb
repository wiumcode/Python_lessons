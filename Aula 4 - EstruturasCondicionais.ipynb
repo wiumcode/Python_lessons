{
 "cells": [
  {
   "cell_type": "markdown",
   "id": "3e2394b0-1660-43b1-ba90-ccb2f1e35306",
   "metadata": {
    "tags": []
   },
   "source": [
    "# Operadores de Comparação"
   ]
  },
  {
   "cell_type": "code",
   "execution_count": 2,
   "id": "9e0ee9f9-b550-42fc-9c06-4ef7337eb877",
   "metadata": {},
   "outputs": [
    {
     "name": "stdout",
     "output_type": "stream",
     "text": [
      "True\n"
     ]
    }
   ],
   "source": [
    "## igualdade\n",
    "\n",
    "10 == 2*5"
   ]
  },
  {
   "cell_type": "code",
   "execution_count": 3,
   "id": "85c4f082-10ce-442e-8649-127931e58ae0",
   "metadata": {},
   "outputs": [
    {
     "name": "stdin",
     "output_type": "stream",
     "text": [
      " 35\n"
     ]
    },
    {
     "data": {
      "text/plain": [
       "True"
      ]
     },
     "execution_count": 3,
     "metadata": {},
     "output_type": "execute_result"
    }
   ],
   "source": [
    "## desigualdade\n",
    "\n",
    "idade = int(input())\n",
    "\n",
    "idade != 60"
   ]
  },
  {
   "cell_type": "code",
   "execution_count": 4,
   "id": "2c69e771-7fb1-431c-bc5d-c78c8a19d691",
   "metadata": {},
   "outputs": [
    {
     "name": "stdout",
     "output_type": "stream",
     "text": [
      "False\n",
      "True\n",
      "False\n",
      "True\n"
     ]
    }
   ],
   "source": [
    "## maior, menor, maior igual, menor igual\n",
    "\n",
    "x = 10\n",
    "y = 20\n",
    "\n",
    "print(x>y)\n",
    "print(x<y)\n",
    "print(x>=y)\n",
    "print(x<=y)"
   ]
  },
  {
   "cell_type": "markdown",
   "id": "acd92369-dd1f-4a95-82bb-1bbb13db4031",
   "metadata": {},
   "source": [
    "## operadores em cadeia (apenas numeros)"
   ]
  },
  {
   "cell_type": "code",
   "execution_count": 8,
   "id": "7ac271d3-dc60-410b-95ef-fe6696985990",
   "metadata": {},
   "outputs": [
    {
     "name": "stdout",
     "output_type": "stream",
     "text": [
      "True\n",
      "False\n"
     ]
    }
   ],
   "source": [
    "idade = 20\n",
    "\n",
    "print(16 < idade < 60)\n",
    "print(25 < idade < 60)"
   ]
  },
  {
   "cell_type": "code",
   "execution_count": 9,
   "id": "cc7bd8b4-c4d1-4feb-9a55-dc392f2afd21",
   "metadata": {},
   "outputs": [
    {
     "data": {
      "text/plain": [
       "False"
      ]
     },
     "execution_count": 9,
     "metadata": {},
     "output_type": "execute_result"
    }
   ],
   "source": [
    "x = 10\n",
    "y = 20\n",
    "z = 80\n",
    "\n",
    "5 < x < y > z < 90"
   ]
  },
  {
   "cell_type": "markdown",
   "id": "a6f91130-8e37-41b4-8ec9-92a077b9dc3f",
   "metadata": {
    "tags": []
   },
   "source": [
    "# Operadores Lógicos"
   ]
  },
  {
   "cell_type": "markdown",
   "id": "44024e06-1886-4fe7-b094-7ad5522de2ab",
   "metadata": {},
   "source": [
    "## and"
   ]
  },
  {
   "cell_type": "code",
   "execution_count": 19,
   "id": "42bb2adf-1d98-4ed1-a9ca-f36596f98f59",
   "metadata": {},
   "outputs": [
    {
     "data": {
      "text/plain": [
       "False"
      ]
     },
     "execution_count": 19,
     "metadata": {},
     "output_type": "execute_result"
    }
   ],
   "source": [
    "idade = 21\n",
    "\n",
    "idade > 16 and idade < 60 and idade % 2 == 0\n",
    "\n",
    "# só retorna True se os dois lados forem verdadeiros"
   ]
  },
  {
   "cell_type": "code",
   "execution_count": 14,
   "id": "a5c551ce-8d31-4419-8b75-061dd8d96e65",
   "metadata": {},
   "outputs": [
    {
     "name": "stdin",
     "output_type": "stream",
     "text": [
      " Ronaldo\n",
      " informatico\n"
     ]
    },
    {
     "data": {
      "text/plain": [
       "False"
      ]
     },
     "execution_count": 14,
     "metadata": {},
     "output_type": "execute_result"
    }
   ],
   "source": [
    "vip = \"Ronaldo\"\n",
    "profissao = \"jogador\"\n",
    "\n",
    "nome = input()\n",
    "profissao2 = input()\n",
    "\n",
    "(nome == vip) and (profissao == profissao2)"
   ]
  },
  {
   "cell_type": "markdown",
   "id": "e1abb28b-5ba6-4bac-981a-b067c7ed5895",
   "metadata": {},
   "source": [
    "## or"
   ]
  },
  {
   "cell_type": "code",
   "execution_count": 15,
   "id": "9de57a3f-d018-41e9-9978-65effdc21b47",
   "metadata": {},
   "outputs": [
    {
     "data": {
      "text/plain": [
       "True"
      ]
     },
     "execution_count": 15,
     "metadata": {},
     "output_type": "execute_result"
    }
   ],
   "source": [
    "idade = 10\n",
    "acompanhada = True\n",
    "\n",
    "idade > 18 or acompanhada"
   ]
  },
  {
   "cell_type": "code",
   "execution_count": 17,
   "id": "d31c9872-3eb1-44b2-9eed-cc6d297a48f0",
   "metadata": {},
   "outputs": [
    {
     "data": {
      "text/plain": [
       "False"
      ]
     },
     "execution_count": 17,
     "metadata": {},
     "output_type": "execute_result"
    }
   ],
   "source": [
    "notas = 9\n",
    "frequencia = 40\n",
    "\n",
    "notas > 15 or frequencia > 50  # só é Falso se os dois forem falso"
   ]
  },
  {
   "cell_type": "markdown",
   "id": "f7b34bde-2b43-480f-978d-c23407786364",
   "metadata": {},
   "source": [
    "# Estruturas Condicionais"
   ]
  },
  {
   "cell_type": "markdown",
   "id": "293ba6cf-1db7-40d2-8b7b-64b4c89aaf01",
   "metadata": {},
   "source": [
    "## Simples"
   ]
  },
  {
   "cell_type": "code",
   "execution_count": 21,
   "id": "46b218dc-270a-4ff3-b274-8f8de0a3f0a5",
   "metadata": {},
   "outputs": [
    {
     "name": "stdout",
     "output_type": "stream",
     "text": [
      "Aprovado!\n"
     ]
    }
   ],
   "source": [
    "nota = 18\n",
    "\n",
    "if nota >= 15:\n",
    "    print(\"Aprovado!\")    "
   ]
  },
  {
   "cell_type": "code",
   "execution_count": 9,
   "id": "38ab55ed-1346-4018-a9fe-e7fa7b0a282b",
   "metadata": {},
   "outputs": [
    {
     "name": "stdin",
     "output_type": "stream",
     "text": [
      "indique sua nota 14\n"
     ]
    },
    {
     "name": "stdout",
     "output_type": "stream",
     "text": [
      "Reprovado!\n"
     ]
    }
   ],
   "source": [
    "nota = int(input(\"indique sua nota\"))\n",
    "\n",
    "if nota >= 15:\n",
    "    print(\"Aprovado!\")\n",
    "else:\n",
    "    print(\"Reprovado!\")"
   ]
  },
  {
   "cell_type": "markdown",
   "id": "d17e70b9-08cc-47c0-879a-d2d083580e62",
   "metadata": {},
   "source": [
    "## Composta"
   ]
  },
  {
   "cell_type": "code",
   "execution_count": 25,
   "id": "a1b5de9e-7b33-4654-9dbc-0f108b49c508",
   "metadata": {},
   "outputs": [
    {
     "name": "stdout",
     "output_type": "stream",
     "text": [
      "Reprovado!\n",
      "Fim\n"
     ]
    }
   ],
   "source": [
    "nota = 8\n",
    "\n",
    "if nota >= 10:\n",
    "    print(\"Aprovado!\")\n",
    "else:\n",
    "    print(\"Reprovado!\")"
   ]
  },
  {
   "cell_type": "markdown",
   "id": "c1ce6069-7548-4f4b-9ad8-33dc3f2750b1",
   "metadata": {},
   "source": [
    "## Composta 2"
   ]
  },
  {
   "cell_type": "code",
   "execution_count": 15,
   "id": "eedd61a8-fcbb-4a43-8443-2bc916598f45",
   "metadata": {},
   "outputs": [
    {
     "name": "stdin",
     "output_type": "stream",
     "text": [
      "indique sua nota 2\n"
     ]
    },
    {
     "name": "stdout",
     "output_type": "stream",
     "text": [
      "Exame\n"
     ]
    }
   ],
   "source": [
    "nota = int(input(\"indique sua nota\"))\n",
    "\n",
    "if nota >= 10:\n",
    "    print(\"Aprovado!\")\n",
    "else:\n",
    "    if 8 >= nota <= 9:\n",
    "        print(\"Exame\")\n",
    "    else:\n",
    "        print(\"Reprovado!\")"
   ]
  },
  {
   "cell_type": "code",
   "execution_count": 19,
   "id": "4df9b1dd-7b9a-4af1-bb90-fd37f2a3a6ed",
   "metadata": {},
   "outputs": [
    {
     "name": "stdin",
     "output_type": "stream",
     "text": [
      "indique sua nota 7\n"
     ]
    },
    {
     "name": "stdout",
     "output_type": "stream",
     "text": [
      "Reprovado!\n"
     ]
    }
   ],
   "source": [
    "nota = int(input(\"indique sua nota\"))\n",
    "\n",
    "if nota >= 10:\n",
    "    print(\"Aprovado!\")\n",
    "elif 8 <= nota < 10:\n",
    "    print(\"Exame\")\n",
    "else:\n",
    "    print(\"Reprovado!\")"
   ]
  },
  {
   "cell_type": "code",
   "execution_count": 20,
   "id": "29c9428d-1f6f-439a-a388-24d518fa87a9",
   "metadata": {},
   "outputs": [
    {
     "name": "stdout",
     "output_type": "stream",
     "text": [
      "brincadeira\n"
     ]
    }
   ],
   "source": [
    "nota = -9102930129\n",
    "\n",
    "if nota >= 10:\n",
    "    print(\"Aprovado!\")\n",
    "elif 4 <= nota < 10:\n",
    "    print(\"Exame\")\n",
    "elif nota ==3:\n",
    "    print(\"Concelho dos professores\")\n",
    "elif nota == 0:\n",
    "    print(\"Expulso\")\n",
    "else:\n",
    "    print(\"brincadeira\")"
   ]
  },
  {
   "cell_type": "markdown",
   "id": "5041c22d-6aab-44e2-9174-7616c7181cfc",
   "metadata": {
    "tags": []
   },
   "source": [
    "# Missões"
   ]
  },
  {
   "cell_type": "markdown",
   "id": "758a9178-8dee-4218-b2a6-6ace3033f8a0",
   "metadata": {},
   "source": [
    "Crie um programa para um circo, que exibe o valor do ingresso seguindo as regras:\n",
    "\n",
    "a) a entrada para qualquer pessoa com menos de 4 anos ou maior que 60 é gratuita\n",
    "\n",
    "b) idade entre 4 e 18 custa 20 euros\n",
    "\n",
    "c) entrada para pessoas com 18 ou mais custa 30 euros\n",
    "\n",
    "d) estudantes ou professores tem 50% de desconto\n"
   ]
  },
  {
   "cell_type": "code",
   "execution_count": 9,
   "id": "7aeb5591-4eec-4f75-a500-8fad8dc2d53d",
   "metadata": {},
   "outputs": [
    {
     "name": "stdin",
     "output_type": "stream",
     "text": [
      "Bem vindos ao Circo do Silva! \n",
      " Antes de comprar um bilhete, por favor indique a sua idade 30\n",
      "Se for estudante ou professor, por favor indica que sim(S), caso contrario, indica que não(N) asdf\n"
     ]
    },
    {
     "name": "stdout",
     "output_type": "stream",
     "text": [
      "Por favor escreve (S) para sim ou (N) para não\n"
     ]
    }
   ],
   "source": [
    "idade = int(input(\"Bem vindos ao Circo do Silva! \\n Antes de comprar um bilhete, por favor indique a sua idade\"))\n",
    "estudante_ou_professor = str(input(\"Se for estudante ou professor, por favor indica que sim(S), caso contrario, indica que não(N)\"))\n",
    "\n",
    "if estudante_ou_professor == \"S\":\n",
    "    # A\n",
    "    if idade <= 4 or idade >= 60:\n",
    "        print(\"Pessoas com 4 anos ou menos ou com idade igual ou superior a 60 anos, tem entrada gratuita!\")   \n",
    "    # B\n",
    "    elif 4 <= idade <= 18:\n",
    "        print(\"Custo de ingresso para jovens estudantes são 10€\")     \n",
    "    # C\n",
    "    else:\n",
    "        print(\"Custo de ingresso para professores adultos são 15€\")\n",
    "    \n",
    "elif estudante_ou_professor == \"N\": \n",
    "    # A\n",
    "    if idade <= 4 or idade >= 60:\n",
    "        print(\"Pessoas com 4 anos ou menos ou com idade igual ou superior a 60 anos, tem entrada gratuita!\")    \n",
    "    # B\n",
    "    elif 4 < idade <= 18:\n",
    "        print(\"Custo de ingresso para jovens é 20€\")\n",
    "    # C\n",
    "    else:\n",
    "        print(\"Custo de ingresso para adultos é 30€\")\n",
    "\n",
    "else:\n",
    "    print(\"Por favor escreve (S) para sim ou (N) para não\")\n"
   ]
  },
  {
   "cell_type": "markdown",
   "id": "ac54ec89-b2e1-4299-9bfd-c436e7b5d647",
   "metadata": {},
   "source": [
    "https://www.beecrowd.com.br/judge/pt/problems/view/1052"
   ]
  },
  {
   "cell_type": "code",
   "execution_count": 41,
   "id": "8ff7e480-e382-41d8-8f3b-c6635e1f8965",
   "metadata": {},
   "outputs": [
    {
     "name": "stdin",
     "output_type": "stream",
     "text": [
      "indique um numero inteiro de 1 a 12 13\n"
     ]
    },
    {
     "name": "stdout",
     "output_type": "stream",
     "text": [
      "erro, por favor tenta de novo\n"
     ]
    }
   ],
   "source": [
    "numero_do_mes = int(input(\"indique um numero inteiro de 1 a 12\"))\n",
    "if numero_do_mes == 1:\n",
    "    print(\"Janeiro\")\n",
    "elif numero_do_mes == 2:\n",
    "    print(\"Fevereiro\")\n",
    "elif numero_do_mes == 3:\n",
    "    print(\"Março\")\n",
    "elif numero_do_mes == 4:\n",
    "    print(\"Abril\")\n",
    "elif numero_do_mes == 5:\n",
    "    print(\"Maio\")\n",
    "elif numero_do_mes == 6:\n",
    "    print(\"Junho\")\n",
    "elif numero_do_mes == 7:\n",
    "    print(\"Julho\")\n",
    "elif numero_do_mes == 8:\n",
    "    print(\"Agosto\")\n",
    "elif numero_do_mes == 9:\n",
    "    print(\"Setembro\")\n",
    "elif numero_do_mes == 10:\n",
    "    print(\"Outubro\")\n",
    "elif numero_do_mes == 11:\n",
    "    print(\"Novembro\")\n",
    "elif numero_do_mes == 12:\n",
    "    print(\"Dezembro\")\n",
    "else:\n",
    "    print(\"erro, por favor tenta de novo\")\n"
   ]
  },
  {
   "cell_type": "markdown",
   "id": "af3eb43b-bbda-4cab-9076-c4fbbb015d5a",
   "metadata": {},
   "source": [
    "https://www.beecrowd.com.br/judge/pt/problems/view/1038"
   ]
  },
  {
   "cell_type": "code",
   "execution_count": 29,
   "id": "733e19d6-b1fe-4a1e-bb9c-b7091f49b3f2",
   "metadata": {},
   "outputs": [
    {
     "name": "stdin",
     "output_type": "stream",
     "text": [
      "indique o codigo do produto que deseja (0 - 5) 3\n",
      "indique a quantidade desejada 2\n"
     ]
    },
    {
     "name": "stdout",
     "output_type": "stream",
     "text": [
      "custa 10 R$\n"
     ]
    }
   ],
   "source": [
    "X = int(input(\"indique o codigo do produto que deseja (0 - 5)\"))\n",
    "Y = int(input(\"indique a quantidade desejada\"))\n",
    "if X == 1:\n",
    "    print(\"Custa\", 4 * Y,\"R$\")\n",
    "elif X == 2:\n",
    "    print(\"custa\", 4.5 * Y,\"R$\")\n",
    "elif X == 3:\n",
    "    print(\"custa\", 5 * Y,\"R$\")\n",
    "elif X == 4:\n",
    "    print(\"custa\", 2 * Y,\"R$\")\n",
    "elif X == 5:\n",
    "    print(\"custa\", 1.5 * Y,\"R$\")\n",
    "else:\n",
    "    print(\"erro, por favor tenta de novo\")\n",
    "    "
   ]
  },
  {
   "cell_type": "code",
   "execution_count": null,
   "id": "a1f2df5e-e81d-4634-abcd-94d3cc449f2e",
   "metadata": {},
   "outputs": [],
   "source": []
  }
 ],
 "metadata": {
  "kernelspec": {
   "display_name": "Python 3 (ipykernel)",
   "language": "python",
   "name": "python3"
  },
  "language_info": {
   "codemirror_mode": {
    "name": "ipython",
    "version": 3
   },
   "file_extension": ".py",
   "mimetype": "text/x-python",
   "name": "python",
   "nbconvert_exporter": "python",
   "pygments_lexer": "ipython3",
   "version": "3.9.13"
  }
 },
 "nbformat": 4,
 "nbformat_minor": 5
}
