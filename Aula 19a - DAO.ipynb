{
 "cells": [
  {
   "cell_type": "markdown",
   "id": "2993d73b-c0da-432c-8e35-6771627f657f",
   "metadata": {},
   "source": [
    "# CRUD DAO"
   ]
  },
  {
   "cell_type": "code",
   "execution_count": 3,
   "id": "0a9f6b4e-fee7-49dc-ae21-2e40e77f8b42",
   "metadata": {},
   "outputs": [],
   "source": [
    "import mysql.connector\n",
    "\n",
    "class CRUD_DAO():\n",
    "    \n",
    "    def __init__(self, user, password, db):\n",
    "        self.mydb = mysql.connector.connect(host = \"localhost\", user=user, password=password, database=db)\n",
    "        self.mycursor = self.mydb.cursor()\n",
    "    \n",
    "    def create_table(self, table_name):\n",
    "        query = f\"CREATE TABLE {table_name} (id INT AUTO_INCREMENT PRIMARY KEY, name VARCHAR(100))\"\n",
    "        self.mycursor.execute(query)\n",
    "        self.mydb.commit()\n",
    "\n",
    "        print(f\"Table {table_name} created successfully!\")\n",
    "        \n",
    "    def select_from_table(self, table_name, list_select, limit =50):\n",
    "               \n",
    "        sql = f\"SELECT {list_select} FROM {table_name} limit {limit}\"\n",
    "\n",
    "        self.mycursor.execute(sql)\n",
    "\n",
    "        myresult = self.mycursor.fetchall()\n",
    "\n",
    "        for row in range(len(myresult)):\n",
    "            print(myresult[row])\n",
    "        print()\n",
    "        \n",
    "    def insert_into_table(self, table_name, list_values, data):\n",
    "        sql = f\"INSERT INTO {table_name} ({list_values}) VALUES ({data})\" \n",
    "        self.mycursor.execute(sql)\n",
    "        self.mydb.commit()\n",
    "        \n",
    "\n",
    "    def descrever_tabela(self, nome_tabela):\n",
    "        sql = f\"SHOW COLUMNS FROM {nome_tabela};\"\n",
    "        self.mycursor.execute(sql)\n",
    "        myresult = self.mycursor.fetchall()\n",
    "\n",
    "        for row in range(len(myresult)):\n",
    "            print(myresult[row][0])\n",
    "            \n",
    "\n",
    "\n",
    "    def alter_table(self, nome_tabela, action):\n",
    "        self.mycursor = self.mydb.cursor()\n",
    "\n",
    "        if action == \"ADD COLUMN\":\n",
    "            column_name = input(\"Enter the name of the new column: \")\n",
    "            column_type = input(\"Enter the data type of the new column: \")\n",
    "            sql = f\"ALTER TABLE {nome_tabela} ADD COLUMN {column_name} {column_type}\"\n",
    "        elif action == \"DROP COLUMN\":\n",
    "            self.descrever_tabela(nome_tabela)\n",
    "            column_name = input(\"Enter the name of the column to drop: \")\n",
    "            sql = f\"ALTER TABLE {nome_tabela} DROP COLUMN {column_name}\"\n",
    "        elif action == \"RENAME COLUMN\":\n",
    "            self.descrever_tabela(nome_tabela)\n",
    "            old_column_name = input(\"Enter the name of the column to rename: \")\n",
    "            new_column_name = input(\"Enter the new name for the column: \")\n",
    "            sql = f\"ALTER TABLE {nome_tabela} RENAME COLUMN {old_column_name} TO {new_column_name}\"\n",
    "        elif action == \"MODIFY COLUMN\":\n",
    "            self.descrever_tabela(nome_tabela)\n",
    "            column_name = input(\"Enter the name of the column to modify: \")\n",
    "            new_column_type = input(\"Enter the new data type for the column: \")\n",
    "            sql = f\"ALTER TABLE {nome_tabela} MODIFY COLUMN {column_name} {new_column_type}\"\n",
    "        else:\n",
    "            print(\"Invalid action.\")\n",
    "            return\n",
    "\n",
    "        self.mycursor.execute(sql)\n",
    "        self.mydb.commit()\n",
    "\n",
    "        print(\"Alter table completed successfully.\")"
   ]
  },
  {
   "cell_type": "markdown",
   "id": "feedd994-d3d7-475b-9d19-a1b819aaf8de",
   "metadata": {
    "tags": []
   },
   "source": [
    "# Main"
   ]
  },
  {
   "cell_type": "code",
   "execution_count": null,
   "id": "332719d1-5c7c-4b61-b2a7-43ac64fe1f6c",
   "metadata": {
    "tags": []
   },
   "outputs": [
    {
     "name": "stdin",
     "output_type": "stream",
     "text": [
      "Choose a option: \n",
      "(1) Create table \n",
      "(2) Insert \n",
      "(3) Select \n",
      "(4) Alter \n",
      " or type 'exit' 3\n",
      "Enter the name of the table:  *\n",
      "Enter the list of columns for the select: *\n",
      "Enter the limit of results: 10\n"
     ]
    },
    {
     "name": "stdout",
     "output_type": "stream",
     "text": [
      "1064 (42000): You have an error in your SQL syntax; check the manual that corresponds to your MySQL server version for the right syntax to use near '* limit 10' at line 1 \n",
      "\n"
     ]
    },
    {
     "name": "stdin",
     "output_type": "stream",
     "text": [
      "Choose a option: \n",
      "(1) Create table \n",
      "(2) Insert \n",
      "(3) Select \n",
      "(4) Alter \n",
      " or type 'exit' 3\n",
      "Enter the name of the table:  escolas\n",
      "Enter the list of columns for the select: *\n",
      "Enter the limit of results: 50\n"
     ]
    },
    {
     "name": "stdout",
     "output_type": "stream",
     "text": [
      "1146 (42S02): Table 'escolas.escolas' doesn't exist \n",
      "\n"
     ]
    },
    {
     "name": "stdin",
     "output_type": "stream",
     "text": [
      "Choose a option: \n",
      "(1) Create table \n",
      "(2) Insert \n",
      "(3) Select \n",
      "(4) Alter \n",
      " or type 'exit' 3\n",
      "Enter the name of the table:  estudantes\n",
      "Enter the list of columns for the select: *\n",
      "Enter the limit of results: 50\n"
     ]
    },
    {
     "name": "stdout",
     "output_type": "stream",
     "text": [
      "(4, 'RJ', 'M', 14, None)\n",
      "(5, 'MG', 'F', 13, None)\n",
      "(6, 'RJ', 'M', 15, None)\n",
      "(7, 'MG', 'F', 16, None)\n",
      "(9, 'MS', 'F', 20, None)\n",
      "\n"
     ]
    },
    {
     "name": "stdin",
     "output_type": "stream",
     "text": [
      "Choose a option: \n",
      "(1) Create table \n",
      "(2) Insert \n",
      "(3) Select \n",
      "(4) Alter \n",
      " or type 'exit' 3\n",
      "Enter the name of the table:  professores\n",
      "Enter the list of columns for the select: *\n",
      "Enter the limit of results: 50\n"
     ]
    },
    {
     "name": "stdout",
     "output_type": "stream",
     "text": [
      "(1, 'RJ', 'M', 26, None)\n",
      "(2, 'RJ', 'F', 25, None)\n",
      "(3, 'MG', 'M', 31, None)\n",
      "(4, 'AZ', 'M', 37, None)\n",
      "(5, 'AC', 'F', 42, None)\n",
      "(6, 'GO', 'M', 46, None)\n",
      "(7, 'ES', 'F', 55, None)\n",
      "(8, 'PA', 'M', 41, None)\n",
      "(9, 'MT', 'F', 37, None)\n",
      "(10, 'MG', 'F', 34, None)\n",
      "(11, 'ES', 'F', 51, 'maths')\n",
      "(12, 'MS', 'F', 20, None)\n",
      "\n"
     ]
    }
   ],
   "source": [
    "conexao_escola = CRUD_DAO(\"root\", \"#SQLiscool1\", \"escolas\")\n",
    "\n",
    "mensagem = \"Choose a option: \\n(1) Create table \\n(2) Insert \\n(3) Select \\n(4) Alter \\n or type 'exit'\"\n",
    "\n",
    "opcao = input(mensagem) \n",
    "while opcao!=\"exit\":\n",
    "    try:\n",
    "        if opcao == \"1\":\n",
    "            table_name = input(\"Enter the name of the new table: \")\n",
    "            conexao_escola.create_table(table_name)\n",
    "    \n",
    "        elif opcao ==\"2\":\n",
    "            table_name = input(\"Enter the name of the table: \")\n",
    "            list_values = input(\"Enter the list of columns for the insert: \")\n",
    "            data = input(\"Enter the data for insert: \")\n",
    "            conexao_escola.insert_into_table(table_name, list_values, data)\n",
    "            \n",
    "        elif opcao ==\"3\":\n",
    "            table_name = input(\"Enter the name of the table: \")\n",
    "            list_select = input(\"Enter the list of columns for the select:\")\n",
    "            limit = input(\"Enter the limit of results:\")\n",
    "            conexao_escola.select_from_table(table_name, list_select, limit)\n",
    "\n",
    "        elif opcao ==\"4\":\n",
    "            table_name = input(\"Enter the name of the table: \")\n",
    "            action = input(\"Would you like to 'ADD COLUMN', 'DROP COLUMN', 'RENAME COLUMN', or 'MODIFY COLUMN'? \")           \n",
    "            conexao_escola.alter_table(table_name, action.upper())\n",
    "    \n",
    "    except Exception as e:\n",
    "        print(e,\"\\n\")    \n",
    "    \n",
    "    opcao = input(mensagem)"
   ]
  },
  {
   "cell_type": "code",
   "execution_count": null,
   "id": "ce5cd6c5-032b-450a-acdc-faa55ac5ffd3",
   "metadata": {},
   "outputs": [],
   "source": []
  }
 ],
 "metadata": {
  "kernelspec": {
   "display_name": "Python 3 (ipykernel)",
   "language": "python",
   "name": "python3"
  },
  "language_info": {
   "codemirror_mode": {
    "name": "ipython",
    "version": 3
   },
   "file_extension": ".py",
   "mimetype": "text/x-python",
   "name": "python",
   "nbconvert_exporter": "python",
   "pygments_lexer": "ipython3",
   "version": "3.9.13"
  }
 },
 "nbformat": 4,
 "nbformat_minor": 5
}
