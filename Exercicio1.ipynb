{
 "cells": [
  {
   "cell_type": "code",
   "execution_count": null,
   "id": "b2e2e286-026e-4968-aafb-bcd42cf3657c",
   "metadata": {},
   "outputs": [],
   "source": [
    "Crie uma lista de preços de produtos e mostre o maior valor e sua posição."
   ]
  },
  {
   "cell_type": "code",
   "execution_count": 13,
   "id": "b22a05c1-2e9f-445d-b38e-8cc1e8f0d0af",
   "metadata": {},
   "outputs": [
    {
     "name": "stdout",
     "output_type": "stream",
     "text": [
      "o produto mais caro e: pao\n",
      "o produto mais barato e: arroz\n",
      "a procisao do valor mais alto e: 6\n"
     ]
    }
   ],
   "source": [
    "lista_de_precos =[0.4, 0.5, 0.6, 0.7, 0.8, 0.9, 1.1]\n",
    "lista_de_produtos = [\"arroz\", \"acucar\", \"leite\", \"ovos\", \"fiambre\", \"queijo\", \"pao\"]\n",
    "\n",
    "#Max\n",
    "valor_maximo = max(lista_de_precos)\n",
    "posicao_max = lista_de_precos.index(valor_maximo)\n",
    "caro = lista_de_produtos[posicao_max]\n",
    "\n",
    "#Min\n",
    "valor_minimo = min(lista_de_precos)\n",
    "posicao_minimo = lista_de_precos.index(valor_minimo)\n",
    "barato = lista_de_produtos[posicao_minimo]\n",
    "\n",
    "#Max, Min e posição:\n",
    "print(\"o produto mais caro e:\", caro )\n",
    "print(\"o produto mais barato e:\", barato )\n",
    "print(\"a procisao do valor mais alto e:\", posicao_max) "
   ]
  },
  {
   "cell_type": "code",
   "execution_count": 6,
   "id": "f21083fd-05d4-4e88-b715-7a949cc35c30",
   "metadata": {},
   "outputs": [],
   "source": [
    "# Funcao super\n",
    "def heroi(nome):\n",
    "    return \"super-\"+ nome\n",
    "    "
   ]
  },
  {
   "cell_type": "code",
   "execution_count": 14,
   "id": "b5a07721-b937-4db0-91fe-1071c4965c9e",
   "metadata": {},
   "outputs": [
    {
     "name": "stdout",
     "output_type": "stream",
     "text": [
      "meu heroi favorito é: super-willem\n"
     ]
    }
   ],
   "source": [
    "alcunha = heroi(\"willem\")\n",
    "print(\"meu heroi favorito é:\",alcunha)\n"
   ]
  },
  {
   "cell_type": "code",
   "execution_count": 10,
   "id": "3064640c-d684-433c-b898-6a4d57662140",
   "metadata": {},
   "outputs": [
    {
     "data": {
      "text/plain": [
       "'super-willem'"
      ]
     },
     "execution_count": 10,
     "metadata": {},
     "output_type": "execute_result"
    }
   ],
   "source": [
    "alcunha"
   ]
  },
  {
   "cell_type": "code",
   "execution_count": null,
   "id": "77e1d877-cd2c-4af4-99c5-064432c1a0c5",
   "metadata": {},
   "outputs": [],
   "source": []
  }
 ],
 "metadata": {
  "kernelspec": {
   "display_name": "Python 3 (ipykernel)",
   "language": "python",
   "name": "python3"
  },
  "language_info": {
   "codemirror_mode": {
    "name": "ipython",
    "version": 3
   },
   "file_extension": ".py",
   "mimetype": "text/x-python",
   "name": "python",
   "nbconvert_exporter": "python",
   "pygments_lexer": "ipython3",
   "version": "3.9.13"
  }
 },
 "nbformat": 4,
 "nbformat_minor": 5
}
