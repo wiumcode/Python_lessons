{
 "cells": [
  {
   "cell_type": "markdown",
   "id": "c092ed17-7bde-41a1-ade5-c8e7acedb941",
   "metadata": {
    "tags": []
   },
   "source": [
    "# Criando textos"
   ]
  },
  {
   "cell_type": "code",
   "execution_count": 1,
   "id": "65d80e91-1422-4abe-b797-14297363644f",
   "metadata": {},
   "outputs": [],
   "source": [
    "# uma palavra\n",
    "\n",
    "palavra = \"Oi\""
   ]
  },
  {
   "cell_type": "code",
   "execution_count": 2,
   "id": "e31476ee-7215-491f-a237-b82d1bc8b384",
   "metadata": {},
   "outputs": [],
   "source": [
    "# frase\n",
    "\n",
    "frase = \"Oi, tudo bem?\""
   ]
  },
  {
   "cell_type": "code",
   "execution_count": 3,
   "id": "0f891613-7be5-4fc8-b3ec-f377b3c764fa",
   "metadata": {},
   "outputs": [],
   "source": [
    "# com aspas simples\n",
    "\n",
    "frase2 = 'Tchau! Vou embora!'"
   ]
  },
  {
   "cell_type": "code",
   "execution_count": 6,
   "id": "32631573-10ce-4d28-828e-afe0703e56c7",
   "metadata": {},
   "outputs": [],
   "source": [
    "# recomendacao, use sempre aspas duplas para palavras ou textos\n",
    "\n",
    "marca = \"Mc Donald's eh muito saudavel!\"\n",
    "\n",
    "marca2 = 'Mc Donald\"s eh muito saudavel!'\n",
    "\n",
    "opcao = 'A'"
   ]
  },
  {
   "cell_type": "markdown",
   "id": "867a56ba-60ef-47e4-aeb8-6eec7ef55314",
   "metadata": {
    "tags": []
   },
   "source": [
    "# Imprimindo Textos"
   ]
  },
  {
   "cell_type": "code",
   "execution_count": 7,
   "id": "901d0b33-138c-4c5c-bcb9-30ef136d902f",
   "metadata": {},
   "outputs": [
    {
     "name": "stdout",
     "output_type": "stream",
     "text": [
      "teste\n"
     ]
    }
   ],
   "source": [
    "texto = \"teste\"\n",
    "print(texto)"
   ]
  },
  {
   "cell_type": "code",
   "execution_count": 8,
   "id": "9eb8eede-381e-4ab1-9b86-049cdb9329ee",
   "metadata": {},
   "outputs": [
    {
     "data": {
      "text/plain": [
       "'teste'"
      ]
     },
     "execution_count": 8,
     "metadata": {},
     "output_type": "execute_result"
    }
   ],
   "source": [
    "texto"
   ]
  },
  {
   "cell_type": "code",
   "execution_count": 9,
   "id": "a36c2276-6e95-40d0-8a65-6eab85101e87",
   "metadata": {},
   "outputs": [
    {
     "name": "stdout",
     "output_type": "stream",
     "text": [
      "Bom dia!\n",
      "Seja bem vindo ao nosso site\n"
     ]
    }
   ],
   "source": [
    "print(\"Bom dia!\")\n",
    "print(\"Seja bem vindo ao nosso site\")"
   ]
  },
  {
   "cell_type": "markdown",
   "id": "baef7a49-0ed3-47b4-9c45-755e24e026a9",
   "metadata": {
    "tags": []
   },
   "source": [
    "# Formatando strings"
   ]
  },
  {
   "cell_type": "code",
   "execution_count": 13,
   "id": "7c345423-972b-4666-b231-c6384ea68800",
   "metadata": {},
   "outputs": [
    {
     "name": "stdout",
     "output_type": "stream",
     "text": [
      "Bom dia! \n",
      "Seja bem vindo ao nosso site\n"
     ]
    }
   ],
   "source": [
    "print(\"Bom dia! \\nSeja bem vindo ao nosso site\") # \\n nova linha"
   ]
  },
  {
   "cell_type": "code",
   "execution_count": 14,
   "id": "914f6fb4-bc22-4258-b35e-9c63ae5c5113",
   "metadata": {},
   "outputs": [
    {
     "name": "stdout",
     "output_type": "stream",
     "text": [
      "-Oi!\n",
      "\t-Olá!\n"
     ]
    }
   ],
   "source": [
    "print(\"-Oi!\")\n",
    "print(\"\\t-Olá!\")  # \\t adiciona um tab"
   ]
  },
  {
   "cell_type": "code",
   "execution_count": 16,
   "id": "56ef25fa-7bfa-4648-9335-9bb4262cf6c1",
   "metadata": {},
   "outputs": [
    {
     "name": "stdout",
     "output_type": "stream",
     "text": [
      "Chegou em sua casa e disse:\n",
      "Querida, o que tem para jantar?\n",
      "\tFrango - disse a esposa\n"
     ]
    }
   ],
   "source": [
    "print(\"Chegou em sua casa e disse:\\nQuerida, o que tem para jantar?\\n\\tFrango - disse a esposa\")"
   ]
  },
  {
   "cell_type": "markdown",
   "id": "a7c4d63e-e8c2-4848-8dbf-3646e8aa1d32",
   "metadata": {
    "jp-MarkdownHeadingCollapsed": true,
    "tags": []
   },
   "source": [
    "# Indexação"
   ]
  },
  {
   "cell_type": "code",
   "execution_count": 28,
   "id": "23ef32a9-073b-4840-80f9-2500f75ad7d4",
   "metadata": {},
   "outputs": [
    {
     "name": "stdout",
     "output_type": "stream",
     "text": [
      "Fulano da Silva Souza\n"
     ]
    }
   ],
   "source": [
    "nome = \"Fulano da Silva Souza\"\n",
    "\n",
    "print(nome)"
   ]
  },
  {
   "cell_type": "code",
   "execution_count": 29,
   "id": "8a267fca-3a08-4794-9d41-2c4bf92860c9",
   "metadata": {},
   "outputs": [
    {
     "name": "stdout",
     "output_type": "stream",
     "text": [
      "F\n"
     ]
    }
   ],
   "source": [
    "print(nome[0])"
   ]
  },
  {
   "cell_type": "code",
   "execution_count": 30,
   "id": "0b1f0d61-7166-458c-9bde-49cc735f7b01",
   "metadata": {},
   "outputs": [
    {
     "name": "stdout",
     "output_type": "stream",
     "text": [
      "S\n"
     ]
    }
   ],
   "source": [
    "print(nome[10])"
   ]
  },
  {
   "cell_type": "code",
   "execution_count": 31,
   "id": "eca8243e-323a-438e-8e3c-595905ea9eac",
   "metadata": {},
   "outputs": [
    {
     "name": "stdout",
     "output_type": "stream",
     "text": [
      "da Silva Souza\n"
     ]
    }
   ],
   "source": [
    "print(nome[7:21]) # da posicao 7 até 21"
   ]
  },
  {
   "cell_type": "code",
   "execution_count": 32,
   "id": "cf18fea6-1167-42f7-9bb3-cd6a344d06d2",
   "metadata": {},
   "outputs": [
    {
     "name": "stdout",
     "output_type": "stream",
     "text": [
      "Fulano\n"
     ]
    }
   ],
   "source": [
    "print(nome[0:6]) # da posicao 0 até a 6"
   ]
  },
  {
   "cell_type": "code",
   "execution_count": 33,
   "id": "46e77a63-d107-4212-96ef-24d617baab73",
   "metadata": {},
   "outputs": [
    {
     "name": "stdout",
     "output_type": "stream",
     "text": [
      "Fulano\n"
     ]
    }
   ],
   "source": [
    "print(nome[:6]) # do inicio até a posicao 6"
   ]
  },
  {
   "cell_type": "code",
   "execution_count": 34,
   "id": "e4e0c011-ca23-4aa5-b1bf-a49564dd6741",
   "metadata": {},
   "outputs": [
    {
     "name": "stdout",
     "output_type": "stream",
     "text": [
      "da Silva Souza\n"
     ]
    }
   ],
   "source": [
    "print(nome[7:]) # da posicao 7 até o fim"
   ]
  },
  {
   "cell_type": "code",
   "execution_count": 46,
   "id": "dd0b6ae4-3cd8-43d7-bbff-c2213116c203",
   "metadata": {},
   "outputs": [
    {
     "name": "stdout",
     "output_type": "stream",
     "text": [
      "Fulano da Silva Souza\n"
     ]
    }
   ],
   "source": [
    "print(nome[:])"
   ]
  },
  {
   "cell_type": "code",
   "execution_count": 35,
   "id": "a4892768-63f7-44a5-a80b-91d9f94b2a35",
   "metadata": {},
   "outputs": [
    {
     "name": "stdout",
     "output_type": "stream",
     "text": [
      "!\n"
     ]
    }
   ],
   "source": [
    "frase = \"Hoje choveu!\"\n",
    "print(frase[-1])"
   ]
  },
  {
   "cell_type": "code",
   "execution_count": 37,
   "id": "cbae10b1-8904-40fa-ae58-d0ec75027f1a",
   "metadata": {},
   "outputs": [
    {
     "name": "stdout",
     "output_type": "stream",
     "text": [
      "Bmda ao orr\n"
     ]
    }
   ],
   "source": [
    "frase = \"Bom dia, vamos correr!\"\n",
    "print(frase[::2])"
   ]
  },
  {
   "cell_type": "code",
   "execution_count": 43,
   "id": "bb98d966-c825-44ba-ab9b-601d438d4de6",
   "metadata": {},
   "outputs": [
    {
     "name": "stdout",
     "output_type": "stream",
     "text": [
      "2468\n"
     ]
    }
   ],
   "source": [
    "numeros = \"123456789\"\n",
    "print(numeros[1::2])"
   ]
  },
  {
   "cell_type": "markdown",
   "id": "dd68da6c-544c-4a1a-86c8-92ae718a1b2a",
   "metadata": {
    "tags": []
   },
   "source": [
    "# Funções e Métodos"
   ]
  },
  {
   "cell_type": "markdown",
   "id": "092246c0-f92f-408f-b44c-e86f7d5fedc8",
   "metadata": {},
   "source": [
    "#### len()"
   ]
  },
  {
   "cell_type": "code",
   "execution_count": 92,
   "id": "d15cee9a-344a-4d05-8d64-3bc7137896b3",
   "metadata": {},
   "outputs": [
    {
     "data": {
      "text/plain": [
       "9"
      ]
     },
     "execution_count": 92,
     "metadata": {},
     "output_type": "execute_result"
    }
   ],
   "source": [
    "nome = \"Beethoven\"\n",
    "len(nome)"
   ]
  },
  {
   "cell_type": "code",
   "execution_count": 93,
   "id": "f78150cb-a4cc-4c47-a977-5c5a0cd0165f",
   "metadata": {},
   "outputs": [
    {
     "data": {
      "text/plain": [
       "2"
      ]
     },
     "execution_count": 93,
     "metadata": {},
     "output_type": "execute_result"
    }
   ],
   "source": [
    "len(\"oi\")"
   ]
  },
  {
   "cell_type": "markdown",
   "id": "cf17c2bf-1f18-4b29-bb34-43c362fe4f31",
   "metadata": {
    "tags": []
   },
   "source": [
    "#### .find()"
   ]
  },
  {
   "cell_type": "code",
   "execution_count": 51,
   "id": "7dfa1f6e-9365-4382-908e-102ea6bea8aa",
   "metadata": {},
   "outputs": [
    {
     "name": "stdin",
     "output_type": "stream",
     "text": [
      " marcio.saraiva@hotmail.com.br\n"
     ]
    },
    {
     "name": "stdout",
     "output_type": "stream",
     "text": [
      "14\n",
      "marcio.saraiva\n"
     ]
    }
   ],
   "source": [
    "email = input()\n",
    "print(email.find(\"@\"))\n",
    "posicao = email.find(\"@\") # primeira posicao do caracter no string\n",
    "print(email[:posicao])"
   ]
  },
  {
   "cell_type": "code",
   "execution_count": 32,
   "id": "4c3a86b6-256d-4e5e-b8e2-e757a3851520",
   "metadata": {},
   "outputs": [
    {
     "name": "stdout",
     "output_type": "stream",
     "text": [
      "primeiro nome: Fulano\n",
      "apelido:  miguel da Silva\n"
     ]
    }
   ],
   "source": [
    "nome = \"Fulano miguel da Silva\"\n",
    "espaco = nome.find(\" \")\n",
    "print(\"primeiro nome:\", nome[:espaco])\n",
    "print(\"apelido:\", nome[espaco:])"
   ]
  },
  {
   "cell_type": "markdown",
   "id": "a5fa6a44-5154-42a7-840f-250bfdef52d8",
   "metadata": {},
   "source": [
    "#### .count()"
   ]
  },
  {
   "cell_type": "code",
   "execution_count": 8,
   "id": "56c56dd7-b1ff-4935-b486-8569fedca58a",
   "metadata": {},
   "outputs": [
    {
     "name": "stdout",
     "output_type": "stream",
     "text": [
      "2\n",
      "3\n"
     ]
    }
   ],
   "source": [
    "frase = \"Marcelo brigou com Antonio, pois Antonio brigou com Maria\"\n",
    "print(frase.count(\"Antonio\"))\n",
    "print(frase.count(\"a\"))"
   ]
  },
  {
   "cell_type": "markdown",
   "id": "6b38efc9-3790-48a2-a2c1-cc4b19ce4eff",
   "metadata": {},
   "source": [
    "#### str()"
   ]
  },
  {
   "cell_type": "code",
   "execution_count": 70,
   "id": "8b740c7d-5ddb-472e-b557-c0c12c2ffebd",
   "metadata": {},
   "outputs": [
    {
     "name": "stdout",
     "output_type": "stream",
     "text": [
      "Voce tem 2 irmaos\n",
      "Voce tem 2 irmaos\n"
     ]
    }
   ],
   "source": [
    "irmaos = 2\n",
    "frase = \"Voce tem \" + str(irmaos) + \" irmaos\"\n",
    "\n",
    "print(frase)\n",
    "\n",
    "print(\"Voce tem\", irmaos, \"irmaos\")"
   ]
  },
  {
   "cell_type": "markdown",
   "id": "86096d8e-97d7-4355-91e0-1df1c7a69a21",
   "metadata": {},
   "source": [
    "#### .upper(), .lower() , .capitalize(), .title()"
   ]
  },
  {
   "cell_type": "code",
   "execution_count": 74,
   "id": "a2056046-c95b-4baa-a81f-ca6b51753706",
   "metadata": {},
   "outputs": [
    {
     "name": "stdout",
     "output_type": "stream",
     "text": [
      "PYTHON EH FIXE\n",
      "python eh fixe\n",
      "Python eh fixe\n",
      "Python Eh Fixe\n"
     ]
    }
   ],
   "source": [
    "palavra = \"PYTHON eh fixe\"\n",
    "\n",
    "print(palavra.upper())\n",
    "print(palavra.lower())\n",
    "print(palavra.capitalize())\n",
    "print(palavra.title())"
   ]
  },
  {
   "cell_type": "code",
   "execution_count": 79,
   "id": "7c6bd3f2-cd50-461e-b402-f499d11d5cc2",
   "metadata": {},
   "outputs": [
    {
     "data": {
      "text/plain": [
       "5"
      ]
     },
     "execution_count": 79,
     "metadata": {},
     "output_type": "execute_result"
    }
   ],
   "source": [
    "frase.upper().count(\"A\")"
   ]
  },
  {
   "cell_type": "markdown",
   "id": "761f1e47-f6ec-4a5b-9991-7cac32942c85",
   "metadata": {},
   "source": [
    "#### .split()"
   ]
  },
  {
   "cell_type": "code",
   "execution_count": 15,
   "id": "9c98ebaa-fd09-4ee8-8713-5fcfc6274946",
   "metadata": {},
   "outputs": [
    {
     "name": "stdout",
     "output_type": "stream",
     "text": [
      "['Marcio', 'Bruna', 'Willem', 'Luigi']\n",
      "Luigi\n"
     ]
    }
   ],
   "source": [
    "exemplo = \"Marcio Bruna Willem Luigi\"\n",
    "lista = exemplo.split(\" \")\n",
    "print(lista)\n",
    "print(lista[-1])\n"
   ]
  },
  {
   "cell_type": "code",
   "execution_count": 31,
   "id": "3206dbed-4e8c-445b-877b-a7a733c50b00",
   "metadata": {},
   "outputs": [
    {
     "ename": "NameError",
     "evalue": "name 'lista' is not defined",
     "output_type": "error",
     "traceback": [
      "\u001b[1;31m---------------------------------------------------------------------------\u001b[0m",
      "\u001b[1;31mNameError\u001b[0m                                 Traceback (most recent call last)",
      "\u001b[1;32m~\\AppData\\Local\\Temp\\ipykernel_19776\\4038944709.py\u001b[0m in \u001b[0;36m<module>\u001b[1;34m\u001b[0m\n\u001b[1;32m----> 1\u001b[1;33m \u001b[0mprint\u001b[0m\u001b[1;33m(\u001b[0m\u001b[0mlista\u001b[0m\u001b[1;33m[\u001b[0m\u001b[1;33m-\u001b[0m\u001b[1;36m1\u001b[0m\u001b[1;33m]\u001b[0m\u001b[1;33m)\u001b[0m\u001b[1;33m\u001b[0m\u001b[1;33m\u001b[0m\u001b[0m\n\u001b[0m",
      "\u001b[1;31mNameError\u001b[0m: name 'lista' is not defined"
     ]
    }
   ],
   "source": [
    "print(lista[-1])"
   ]
  },
  {
   "cell_type": "code",
   "execution_count": 30,
   "id": "71cdd093-baf1-4a4d-af81-de282df927fe",
   "metadata": {},
   "outputs": [
    {
     "ename": "KeyboardInterrupt",
     "evalue": "Interrupted by user",
     "output_type": "error",
     "traceback": [
      "\u001b[1;31m---------------------------------------------------------------------------\u001b[0m",
      "\u001b[1;31mKeyboardInterrupt\u001b[0m                         Traceback (most recent call last)",
      "\u001b[1;32m~\\AppData\\Local\\Temp\\ipykernel_19776\\2410688657.py\u001b[0m in \u001b[0;36m<module>\u001b[1;34m\u001b[0m\n\u001b[1;32m----> 1\u001b[1;33m \u001b[0memail_inteiro\u001b[0m \u001b[1;33m=\u001b[0m \u001b[0minput\u001b[0m\u001b[1;33m(\u001b[0m\u001b[1;33m)\u001b[0m\u001b[1;33m\u001b[0m\u001b[1;33m\u001b[0m\u001b[0m\n\u001b[0m\u001b[0;32m      2\u001b[0m \u001b[0memail_lista\u001b[0m \u001b[1;33m=\u001b[0m \u001b[0memail_inteiro\u001b[0m\u001b[1;33m.\u001b[0m\u001b[0msplit\u001b[0m\u001b[1;33m(\u001b[0m\u001b[1;34m\"@\"\u001b[0m\u001b[1;33m)\u001b[0m\u001b[1;33m\u001b[0m\u001b[1;33m\u001b[0m\u001b[0m\n\u001b[0;32m      3\u001b[0m \u001b[0mprint\u001b[0m\u001b[1;33m(\u001b[0m\u001b[1;34m\"usuario: \"\u001b[0m\u001b[1;33m,\u001b[0m\u001b[0memail_lista\u001b[0m\u001b[1;33m[\u001b[0m\u001b[1;36m0\u001b[0m\u001b[1;33m]\u001b[0m\u001b[1;33m)\u001b[0m\u001b[1;33m\u001b[0m\u001b[1;33m\u001b[0m\u001b[0m\n\u001b[0;32m      4\u001b[0m \u001b[0mprint\u001b[0m\u001b[1;33m(\u001b[0m\u001b[1;34m\"dominio: \"\u001b[0m\u001b[1;33m,\u001b[0m\u001b[0memail_lista\u001b[0m\u001b[1;33m[\u001b[0m\u001b[1;36m1\u001b[0m\u001b[1;33m]\u001b[0m\u001b[1;33m)\u001b[0m\u001b[1;33m\u001b[0m\u001b[1;33m\u001b[0m\u001b[0m\n",
      "\u001b[1;32m~\\anaconda3\\lib\\site-packages\\ipykernel\\kernelbase.py\u001b[0m in \u001b[0;36mraw_input\u001b[1;34m(self, prompt)\u001b[0m\n\u001b[0;32m   1175\u001b[0m                 \u001b[1;34m\"raw_input was called, but this frontend does not support input requests.\"\u001b[0m\u001b[1;33m\u001b[0m\u001b[1;33m\u001b[0m\u001b[0m\n\u001b[0;32m   1176\u001b[0m             )\n\u001b[1;32m-> 1177\u001b[1;33m         return self._input_request(\n\u001b[0m\u001b[0;32m   1178\u001b[0m             \u001b[0mstr\u001b[0m\u001b[1;33m(\u001b[0m\u001b[0mprompt\u001b[0m\u001b[1;33m)\u001b[0m\u001b[1;33m,\u001b[0m\u001b[1;33m\u001b[0m\u001b[1;33m\u001b[0m\u001b[0m\n\u001b[0;32m   1179\u001b[0m             \u001b[0mself\u001b[0m\u001b[1;33m.\u001b[0m\u001b[0m_parent_ident\u001b[0m\u001b[1;33m[\u001b[0m\u001b[1;34m\"shell\"\u001b[0m\u001b[1;33m]\u001b[0m\u001b[1;33m,\u001b[0m\u001b[1;33m\u001b[0m\u001b[1;33m\u001b[0m\u001b[0m\n",
      "\u001b[1;32m~\\anaconda3\\lib\\site-packages\\ipykernel\\kernelbase.py\u001b[0m in \u001b[0;36m_input_request\u001b[1;34m(self, prompt, ident, parent, password)\u001b[0m\n\u001b[0;32m   1217\u001b[0m             \u001b[1;32mexcept\u001b[0m \u001b[0mKeyboardInterrupt\u001b[0m\u001b[1;33m:\u001b[0m\u001b[1;33m\u001b[0m\u001b[1;33m\u001b[0m\u001b[0m\n\u001b[0;32m   1218\u001b[0m                 \u001b[1;31m# re-raise KeyboardInterrupt, to truncate traceback\u001b[0m\u001b[1;33m\u001b[0m\u001b[1;33m\u001b[0m\u001b[0m\n\u001b[1;32m-> 1219\u001b[1;33m                 \u001b[1;32mraise\u001b[0m \u001b[0mKeyboardInterrupt\u001b[0m\u001b[1;33m(\u001b[0m\u001b[1;34m\"Interrupted by user\"\u001b[0m\u001b[1;33m)\u001b[0m \u001b[1;32mfrom\u001b[0m \u001b[1;32mNone\u001b[0m\u001b[1;33m\u001b[0m\u001b[1;33m\u001b[0m\u001b[0m\n\u001b[0m\u001b[0;32m   1220\u001b[0m             \u001b[1;32mexcept\u001b[0m \u001b[0mException\u001b[0m\u001b[1;33m:\u001b[0m\u001b[1;33m\u001b[0m\u001b[1;33m\u001b[0m\u001b[0m\n\u001b[0;32m   1221\u001b[0m                 \u001b[0mself\u001b[0m\u001b[1;33m.\u001b[0m\u001b[0mlog\u001b[0m\u001b[1;33m.\u001b[0m\u001b[0mwarning\u001b[0m\u001b[1;33m(\u001b[0m\u001b[1;34m\"Invalid Message:\"\u001b[0m\u001b[1;33m,\u001b[0m \u001b[0mexc_info\u001b[0m\u001b[1;33m=\u001b[0m\u001b[1;32mTrue\u001b[0m\u001b[1;33m)\u001b[0m\u001b[1;33m\u001b[0m\u001b[1;33m\u001b[0m\u001b[0m\n",
      "\u001b[1;31mKeyboardInterrupt\u001b[0m: Interrupted by user"
     ]
    }
   ],
   "source": [
    "email_inteiro = input()\n",
    "email_lista = email_inteiro.split(\"@\")\n",
    "print(\"usuario: \",email_lista[0])\n",
    "print(\"dominio: \",email_lista[1])"
   ]
  },
  {
   "cell_type": "code",
   "execution_count": 85,
   "id": "670ca8b2-4c14-49fa-ada8-ea0ca421b265",
   "metadata": {},
   "outputs": [
    {
     "data": {
      "text/plain": [
       "['willem', 'msn.com.pt']"
      ]
     },
     "execution_count": 85,
     "metadata": {},
     "output_type": "execute_result"
    }
   ],
   "source": [
    "email_lista"
   ]
  },
  {
   "cell_type": "code",
   "execution_count": 90,
   "id": "117804dc-1611-4de5-afdd-f16316c965db",
   "metadata": {},
   "outputs": [
    {
     "name": "stdout",
     "output_type": "stream",
     "text": [
      "['Hoje eu fui na padaria', ' Pedi dois pasteis de nata', ' Voltei para casa']\n",
      "3\n",
      "Hoje eu fui na padaria\n"
     ]
    }
   ],
   "source": [
    "texto = \"Hoje eu fui na padaria. Pedi dois pasteis de nata. Voltei para casa\"\n",
    "frases = texto.split(\".\")\n",
    "print(frases)\n",
    "print(len(frases))\n",
    "print(frases[0])"
   ]
  },
  {
   "cell_type": "markdown",
   "id": "34a71474-5e72-4e9a-adfd-ab76fb4c9a40",
   "metadata": {},
   "source": [
    "# Missões"
   ]
  },
  {
   "cell_type": "code",
   "execution_count": 49,
   "id": "2e273e9a-fec0-458e-819d-75892ba7868d",
   "metadata": {},
   "outputs": [],
   "source": [
    "# 1 - Dada uma frase do usuário, contar a quantidade de:\n",
    "# a) espacos em branco\n",
    "# b) vogais"
   ]
  },
  {
   "cell_type": "code",
   "execution_count": 8,
   "id": "83afd606-445a-40d5-9b57-a48f524b0242",
   "metadata": {},
   "outputs": [
    {
     "name": "stdin",
     "output_type": "stream",
     "text": [
      "escreve uma frase\n",
      " ola, sou o miguel e tenho 15 anos\n"
     ]
    },
    {
     "name": "stdout",
     "output_type": "stream",
     "text": [
      "a sua frase tem 7 espaços e a sua frase tem vogais repetidos 13 vezes\n"
     ]
    }
   ],
   "source": [
    "frase = str(input(\"escreve uma frase\\n\"))\n",
    "print(\"a sua frase tem\", frase.count(\" \"), \"espaços e a sua frase tem vogais repetidos\", frase.count(\"a\") + frase.count(\"e\") + frase.count(\"i\") + frase.count(\"o\") + frase.count(\"u\"), \"vezes\")\n"
   ]
  },
  {
   "cell_type": "code",
   "execution_count": null,
   "id": "55e68871-66ac-4016-b524-a3d56068d7a7",
   "metadata": {},
   "outputs": [],
   "source": [
    "# 2 - Dado o nome completo dos pais e o primeiro nome do filho, imprimir o nome completo do filho.\n",
    "# Exemplo: Antonio Silva + Maria Costa + Junior = Junior Costa Silva"
   ]
  },
  {
   "cell_type": "code",
   "execution_count": null,
   "id": "4b901042-a3b3-49d5-bf4c-5add1ff4aadc",
   "metadata": {},
   "outputs": [],
   "source": [
    "# beecrowd até 1015"
   ]
  },
  {
   "cell_type": "code",
   "execution_count": 2,
   "id": "b24c4370-a134-47be-a4a9-5c88d822f08e",
   "metadata": {},
   "outputs": [
    {
     "name": "stdin",
     "output_type": "stream",
     "text": [
      "Nome completo do seu pai:  joao santos dias\n",
      "Nome completo da sua mae:  maria do ceu\n",
      "Primeiro nome do seu filho:  miguel\n"
     ]
    },
    {
     "name": "stdout",
     "output_type": "stream",
     "text": [
      "O nome completo do seu filho sera: miguel ceu dias\n"
     ]
    }
   ],
   "source": [
    "nome_do_pai = str(input(\"Nome completo do seu pai: \"))\n",
    "nome_da_mae = str(input(\"Nome completo da sua mae: \"))\n",
    "nome_do_filho = str(input(\"Primeiro nome do seu filho: \"))\n",
    "apelido_do_pai = nome_do_pai.split() #aqui vou separar nomes por espaço\n",
    "apelido_da_mae = nome_da_mae.split() #para a mae e para o pai\n",
    "print(\"O nome completo do seu filho sera:\", nome_do_filho, apelido_da_mae[-1], apelido_do_pai[-1]) #aqui vou buscar o apelido da mae e pai à lista, selecionando o ultimo nome"
   ]
  },
  {
   "cell_type": "code",
   "execution_count": null,
   "id": "56f5a541-e8d9-4424-8d79-8b2bf2e610c0",
   "metadata": {},
   "outputs": [],
   "source": []
  }
 ],
 "metadata": {
  "kernelspec": {
   "display_name": "Python 3 (ipykernel)",
   "language": "python",
   "name": "python3"
  },
  "language_info": {
   "codemirror_mode": {
    "name": "ipython",
    "version": 3
   },
   "file_extension": ".py",
   "mimetype": "text/x-python",
   "name": "python",
   "nbconvert_exporter": "python",
   "pygments_lexer": "ipython3",
   "version": "3.9.13"
  }
 },
 "nbformat": 4,
 "nbformat_minor": 5
}
