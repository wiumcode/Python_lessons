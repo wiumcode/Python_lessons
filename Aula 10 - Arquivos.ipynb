{
 "cells": [
  {
   "cell_type": "markdown",
   "id": "60a92d04-59ce-45a4-8a41-51ae6241cf86",
   "metadata": {},
   "source": [
    "# Atalho no Jupyter"
   ]
  },
  {
   "cell_type": "code",
   "execution_count": 3,
   "id": "8490fce9-26ef-426e-b0a5-a0f069ca341f",
   "metadata": {},
   "outputs": [
    {
     "name": "stdout",
     "output_type": "stream",
     "text": [
      "Overwriting filmes.txt\n"
     ]
    }
   ],
   "source": [
    "%%writefile filmes.txt\n",
    "Matrix\n",
    "Alladin\n",
    "Avatar\n",
    "O senhor dos aneis"
   ]
  },
  {
   "cell_type": "markdown",
   "id": "ed5eac5e-6b52-4c55-8c11-5276994bdfef",
   "metadata": {},
   "source": [
    "# Abrindo arquivos"
   ]
  },
  {
   "cell_type": "code",
   "execution_count": 11,
   "id": "de77f677-26a1-4f56-93f3-f7e472b83630",
   "metadata": {},
   "outputs": [],
   "source": [
    "arquivo = open(\"filmes.txt\")"
   ]
  },
  {
   "cell_type": "markdown",
   "id": "7eeae802-ed0a-4be7-91ff-5c2bf0f5e87a",
   "metadata": {},
   "source": [
    "# Lendo"
   ]
  },
  {
   "cell_type": "code",
   "execution_count": 12,
   "id": "8b1b8378-7e32-4a27-8994-1a6c2936ae52",
   "metadata": {},
   "outputs": [
    {
     "name": "stdout",
     "output_type": "stream",
     "text": [
      "Matrix\n",
      "Alladin\n",
      "Avatar\n",
      "O senhor dos aneis\n"
     ]
    }
   ],
   "source": [
    "# lê todo o arquivo\n",
    "print(arquivo.read())"
   ]
  },
  {
   "cell_type": "code",
   "execution_count": 13,
   "id": "362e00eb-b76a-4555-876d-bbe4a4e72779",
   "metadata": {},
   "outputs": [
    {
     "name": "stdout",
     "output_type": "stream",
     "text": [
      "\n"
     ]
    }
   ],
   "source": [
    "# lendo novamente\n",
    "print(arquivo.read())"
   ]
  },
  {
   "cell_type": "code",
   "execution_count": 14,
   "id": "3d9e23e1-1683-42d2-a39d-70e9cfd7ca51",
   "metadata": {},
   "outputs": [
    {
     "name": "stdout",
     "output_type": "stream",
     "text": [
      "Matrix\n",
      "Alladin\n",
      "Avatar\n",
      "O senhor dos aneis\n"
     ]
    }
   ],
   "source": [
    "# Posicionar o cursor no inicio do arquivo\n",
    "arquivo.seek(0)\n",
    "\n",
    "# agora vc pode ler novamente\n",
    "\n",
    "print(arquivo.read())"
   ]
  },
  {
   "cell_type": "code",
   "execution_count": 15,
   "id": "011a6f2e-00d9-4be0-be69-e089aff3dbbb",
   "metadata": {},
   "outputs": [
    {
     "name": "stdout",
     "output_type": "stream",
     "text": [
      "ladin\n",
      "Avatar\n",
      "O senhor dos aneis\n"
     ]
    }
   ],
   "source": [
    "# Pode Posicionar o cursor onde quiser\n",
    "arquivo.seek(10)\n",
    "\n",
    "# agora vc pode ler novamente\n",
    "\n",
    "print(arquivo.read())"
   ]
  },
  {
   "cell_type": "code",
   "execution_count": 17,
   "id": "c2fe3623-ac38-4f01-a453-14e574a7d77e",
   "metadata": {},
   "outputs": [
    {
     "name": "stdout",
     "output_type": "stream",
     "text": [
      "Matrix\n",
      "\n"
     ]
    }
   ],
   "source": [
    "# lendo linha por linha\n",
    "arquivo.seek(0)\n",
    "print(arquivo.readline())"
   ]
  },
  {
   "cell_type": "code",
   "execution_count": 18,
   "id": "087f80aa-b4e8-44a7-8a31-ab88168647f9",
   "metadata": {},
   "outputs": [
    {
     "name": "stdout",
     "output_type": "stream",
     "text": [
      "Alladin\n",
      "\n"
     ]
    }
   ],
   "source": [
    "print(arquivo.readline())"
   ]
  },
  {
   "cell_type": "code",
   "execution_count": 19,
   "id": "50c0c6e1-4ce4-46d3-8d32-0edff49683ce",
   "metadata": {},
   "outputs": [
    {
     "name": "stdout",
     "output_type": "stream",
     "text": [
      "Avatar\n",
      "\n"
     ]
    }
   ],
   "source": [
    "print(arquivo.readline())"
   ]
  },
  {
   "cell_type": "markdown",
   "id": "3529d25d-139c-4116-a59d-f5aae3668d29",
   "metadata": {},
   "source": [
    "# Percorrendo um arquivo"
   ]
  },
  {
   "cell_type": "code",
   "execution_count": 22,
   "id": "2594287f-faf9-4890-83cf-5ae9e4d4b634",
   "metadata": {},
   "outputs": [
    {
     "name": "stdout",
     "output_type": "stream",
     "text": [
      "1 - Matrix\n",
      "\n",
      "2 - Alladin\n",
      "\n",
      "3 - Avatar\n",
      "\n"
     ]
    }
   ],
   "source": [
    "#lendo algumas linhas\n",
    "\n",
    "arquivo.seek(0)\n",
    "\n",
    "for rodada in range(1,4):\n",
    "    print(rodada, \"-\", arquivo.readline())"
   ]
  },
  {
   "cell_type": "code",
   "execution_count": 26,
   "id": "59f6e358-bf65-460b-a0bf-d06070e23b45",
   "metadata": {},
   "outputs": [
    {
     "name": "stdout",
     "output_type": "stream",
     "text": [
      "1 - Matrix\n",
      "\n",
      "2 - Alladin\n",
      "\n",
      "3 - Avatar\n",
      "\n",
      "4 - O senhor dos aneis\n"
     ]
    }
   ],
   "source": [
    "# lendo todas as linhas com for\n",
    "arquivo.seek(0)\n",
    "\n",
    "x = 1\n",
    "for linha in arquivo:\n",
    "    print(x, \"-\", linha)\n",
    "    x+=1"
   ]
  },
  {
   "cell_type": "code",
   "execution_count": 28,
   "id": "f94265b2-9a6a-4c06-b630-cc0a0a9d4562",
   "metadata": {},
   "outputs": [
    {
     "name": "stdout",
     "output_type": "stream",
     "text": [
      "1 - Matrix\n",
      "\n",
      "2 - Alladin\n",
      "\n",
      "3 - Avatar\n",
      "\n",
      "4 - O senhor dos aneis\n"
     ]
    }
   ],
   "source": [
    "# lendo todas as linhas com for e enumerate\n",
    "arquivo.seek(0)\n",
    "\n",
    "for posicao, linha in enumerate(arquivo):\n",
    "    print(posicao+1, \"-\", linha)"
   ]
  },
  {
   "cell_type": "markdown",
   "id": "1ea3299f-fa0a-46a4-86e1-cae7e852a4c3",
   "metadata": {},
   "source": [
    "# Escrevendo"
   ]
  },
  {
   "cell_type": "code",
   "execution_count": 30,
   "id": "55842cc2-1a0a-4ced-b480-c737be6f289d",
   "metadata": {},
   "outputs": [],
   "source": [
    "arquivo = open(\"filmes.txt\", \"w\") # overwrite\n",
    "arquivo.write(\"E o vento levou\")\n",
    "arquivo.close()"
   ]
  },
  {
   "cell_type": "code",
   "execution_count": 32,
   "id": "d39bd445-acee-4790-ba96-624c4472dfd1",
   "metadata": {},
   "outputs": [],
   "source": [
    "arquivo = open(\"filmes.txt\", \"a\") # append no final\n",
    "arquivo.write(\"\\nE o vento levou\")\n",
    "arquivo.close()"
   ]
  },
  {
   "cell_type": "markdown",
   "id": "7341edd4-95b1-4785-81d5-c68624f06d33",
   "metadata": {},
   "source": [
    "# Outros modos de abertura de arquivo"
   ]
  },
  {
   "cell_type": "markdown",
   "id": "c063898c-cc62-43cf-82d6-86fe57518885",
   "metadata": {},
   "source": [
    "w+ = escrever com overwrite e ler\n",
    "\n",
    "r+ = ler e escrever\n",
    "\n",
    "a+ = ler e escrever no final\n",
    "\n",
    "x = criar o arquivo se nao existir, se o arquivo ja existir, ele nao faz nada."
   ]
  },
  {
   "cell_type": "code",
   "execution_count": 47,
   "id": "caba308f-acaf-4503-b17b-a7b8a377b87a",
   "metadata": {},
   "outputs": [],
   "source": [
    "arquivo2 = open(\"convidados.txt\", \"w+\")\n",
    "arquivo2.write(\"Willem\\n\")\n",
    "arquivo2.write(\"Marcio\")\n",
    "arquivo2.close()"
   ]
  },
  {
   "cell_type": "code",
   "execution_count": 49,
   "id": "c5b9ebe2-dac5-4144-8afb-5a066e500540",
   "metadata": {},
   "outputs": [
    {
     "ename": "FileExistsError",
     "evalue": "[Errno 17] File exists: 'convidados_festa.txt'",
     "output_type": "error",
     "traceback": [
      "\u001b[1;31m---------------------------------------------------------------------------\u001b[0m",
      "\u001b[1;31mFileExistsError\u001b[0m                           Traceback (most recent call last)",
      "Input \u001b[1;32mIn [49]\u001b[0m, in \u001b[0;36m<cell line: 1>\u001b[1;34m()\u001b[0m\n\u001b[1;32m----> 1\u001b[0m arquivo2 \u001b[38;5;241m=\u001b[39m \u001b[38;5;28;43mopen\u001b[39;49m\u001b[43m(\u001b[49m\u001b[38;5;124;43m\"\u001b[39;49m\u001b[38;5;124;43mconvidados_festa.txt\u001b[39;49m\u001b[38;5;124;43m\"\u001b[39;49m\u001b[43m,\u001b[49m\u001b[43m \u001b[49m\u001b[38;5;124;43m\"\u001b[39;49m\u001b[38;5;124;43mx\u001b[39;49m\u001b[38;5;124;43m\"\u001b[39;49m\u001b[43m)\u001b[49m\n\u001b[0;32m      2\u001b[0m arquivo2\u001b[38;5;241m.\u001b[39mwrite(\u001b[38;5;124m\"\u001b[39m\u001b[38;5;124mWillem\u001b[39m\u001b[38;5;130;01m\\n\u001b[39;00m\u001b[38;5;124m\"\u001b[39m)\n\u001b[0;32m      3\u001b[0m arquivo2\u001b[38;5;241m.\u001b[39mwrite(\u001b[38;5;124m\"\u001b[39m\u001b[38;5;124mMarcio\u001b[39m\u001b[38;5;124m\"\u001b[39m)\n",
      "\u001b[1;31mFileExistsError\u001b[0m: [Errno 17] File exists: 'convidados_festa.txt'"
     ]
    }
   ],
   "source": [
    "arquivo2 = open(\"convidados_festa.txt\",  \")\n",
    "arquivo2.write(\"Willem\\n\")\n",
    "arquivo2.write(\"Marcio\")\n",
    "arquivo2.close()"
   ]
  },
  {
   "cell_type": "markdown",
   "id": "8687be12-0cb7-4df4-885b-36b28d2fff9c",
   "metadata": {},
   "source": [
    "# Comando with"
   ]
  },
  {
   "cell_type": "code",
   "execution_count": 6,
   "id": "2a69f837-f3cc-44c3-abea-03e16591f801",
   "metadata": {},
   "outputs": [
    {
     "name": "stdout",
     "output_type": "stream",
     "text": [
      "Esses foram convidados pelo noivo\n",
      "Willem\n",
      "Marcio\n",
      "Tiago\n",
      "Sofia\n",
      "Sofia\n"
     ]
    }
   ],
   "source": [
    "with open(\"convidados_festa.txt\", \"a+\") as convidados:\n",
    "    convidados.write(\"\\nSofia\")\n",
    "    print(\"Esses foram convidados pelo noivo\")\n",
    "    convidados.seek(0)\n",
    "    print(convidados.read())"
   ]
  },
  {
   "cell_type": "markdown",
   "id": "cd9c1d10-ce8c-4fff-b124-55bbec9a14c7",
   "metadata": {},
   "source": [
    "# Missão"
   ]
  },
  {
   "cell_type": "markdown",
   "id": "31cca882-4788-4ffe-be67-e70bc545aefc",
   "metadata": {},
   "source": [
    "(criando um arquivo para salvar a entrada e saida de cada execução)"
   ]
  },
  {
   "cell_type": "markdown",
   "id": "5d2be687-63bd-4e7f-952f-a9ecfa373bfc",
   "metadata": {},
   "source": [
    "1. Distancia entre dois pontos"
   ]
  },
  {
   "cell_type": "code",
   "execution_count": 8,
   "id": "6612c07e-cf55-46e2-b96e-280fd195518c",
   "metadata": {},
   "outputs": [
    {
     "name": "stdin",
     "output_type": "stream",
     "text": [
      " 5 5\n",
      " 6 6\n"
     ]
    },
    {
     "name": "stdout",
     "output_type": "stream",
     "text": [
      "1.4142\n"
     ]
    }
   ],
   "source": [
    "#1015\n",
    "x1,y1 = map(float, input().split())\n",
    "x2,y2 = map(float, input().split())\n",
    "\n",
    "distancia = ((x2-x1)**2 + (y2-y1)**2)**0.5\n",
    "print(\"{:.4f}\".format(distancia))\n",
    "\n",
    "arquivo = open(\"exercicio_1015.txt\", \"a\")\n",
    "arquivo.write(\"\\n\\nentradas:\")\n",
    "arquivo.write(\"\\n\"+str(x1)+\" \"+str(y1))\n",
    "arquivo.write(\"\\n\"+str(x2)+\" \"+str(y2))\n",
    "arquivo.write(\"\\nSaida:\\n\"+str(distancia))\n",
    "arquivo.close()"
   ]
  },
  {
   "cell_type": "code",
   "execution_count": 10,
   "id": "1ca907b2-6d2c-4401-90e4-80beaaa6380f",
   "metadata": {},
   "outputs": [
    {
     "ename": "ValueError",
     "evalue": "I/O operation on closed file.",
     "output_type": "error",
     "traceback": [
      "\u001b[1;31m---------------------------------------------------------------------------\u001b[0m",
      "\u001b[1;31mValueError\u001b[0m                                Traceback (most recent call last)",
      "\u001b[1;32m~\\AppData\\Local\\Temp\\ipykernel_9724\\3858331235.py\u001b[0m in \u001b[0;36m<module>\u001b[1;34m\u001b[0m\n\u001b[1;32m----> 1\u001b[1;33m \u001b[0mprint\u001b[0m\u001b[1;33m(\u001b[0m\u001b[0marquivo\u001b[0m\u001b[1;33m.\u001b[0m\u001b[0mread\u001b[0m\u001b[1;33m(\u001b[0m\u001b[1;33m)\u001b[0m\u001b[1;33m)\u001b[0m\u001b[1;33m\u001b[0m\u001b[1;33m\u001b[0m\u001b[0m\n\u001b[0m",
      "\u001b[1;31mValueError\u001b[0m: I/O operation on closed file."
     ]
    }
   ],
   "source": [
    "\n",
    "print(arquivo.read())"
   ]
  },
  {
   "cell_type": "markdown",
   "id": "b55442b9-8a44-4619-9fea-984d0fe812d0",
   "metadata": {},
   "source": [
    "2. Idades"
   ]
  },
  {
   "cell_type": "code",
   "execution_count": 1,
   "id": "9b28ce19-3e8e-45c2-a8ec-dcd79866aad9",
   "metadata": {},
   "outputs": [
    {
     "name": "stdin",
     "output_type": "stream",
     "text": [
      " 4\n",
      " 50\n",
      " 32\n",
      " 70\n",
      " 4\n",
      " 0\n"
     ]
    },
    {
     "name": "stdout",
     "output_type": "stream",
     "text": [
      "32.0\n"
     ]
    }
   ],
   "source": [
    "lista_de_idades = []\n",
    "idade = int(input())\n",
    "while idade > 0:\n",
    "    lista_de_idades.append(idade)\n",
    "    idade = int(input())\n",
    "print(sum(lista_de_idades) / len(lista_de_idades))"
   ]
  },
  {
   "cell_type": "code",
   "execution_count": null,
   "id": "f5ccec4d-db2a-46ea-929b-09527d9dcd8a",
   "metadata": {},
   "outputs": [],
   "source": [
    "#Exercicio - Usar Arquivos - Maior / Idades\n",
    "#criar arquivos e imprimir arquivos"
   ]
  },
  {
   "cell_type": "markdown",
   "id": "8f26e99f-6911-4e0e-ab2f-bc395c7ae893",
   "metadata": {},
   "source": [
    "# Próximo aula"
   ]
  },
  {
   "cell_type": "markdown",
   "id": "2bee05d5-6f57-43fa-a961-a3fb29687dd4",
   "metadata": {},
   "source": [
    "Módulos/Bibliotecas"
   ]
  },
  {
   "cell_type": "code",
   "execution_count": null,
   "id": "0000c23e-c23a-46e9-baec-82345df43304",
   "metadata": {},
   "outputs": [],
   "source": []
  }
 ],
 "metadata": {
  "kernelspec": {
   "display_name": "Python 3 (ipykernel)",
   "language": "python",
   "name": "python3"
  },
  "language_info": {
   "codemirror_mode": {
    "name": "ipython",
    "version": 3
   },
   "file_extension": ".py",
   "mimetype": "text/x-python",
   "name": "python",
   "nbconvert_exporter": "python",
   "pygments_lexer": "ipython3",
   "version": "3.9.13"
  }
 },
 "nbformat": 4,
 "nbformat_minor": 5
}
