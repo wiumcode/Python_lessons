{
 "cells": [
  {
   "cell_type": "markdown",
   "id": "351ed731-7244-4d4b-bf38-b34ce2e68817",
   "metadata": {},
   "source": [
    "# Programação Orientada à Objetos"
   ]
  },
  {
   "cell_type": "markdown",
   "id": "1f73adac-5871-4a28-8047-9ff14a1201c7",
   "metadata": {},
   "source": [
    "# Abstração"
   ]
  },
  {
   "cell_type": "markdown",
   "id": "df0210ec-814c-4605-b5a1-b5294e9ebdfe",
   "metadata": {},
   "source": [
    "Na programação as classes sempre vão ser abstrações de entidades do mundo real"
   ]
  },
  {
   "cell_type": "markdown",
   "id": "72c2041c-74a5-47a4-8121-13c0a5146d84",
   "metadata": {},
   "source": [
    "Isto é, devemos apenas colocar atributos e métodos importantes para a nossa solução dentro das classes"
   ]
  },
  {
   "cell_type": "code",
   "execution_count": null,
   "id": "f832a7f8-ff38-40cf-be02-cf689b1e1d93",
   "metadata": {},
   "outputs": [],
   "source": [
    "class Cliente():\n",
    "    \n",
    "    def __init__(self, matricula, nome, idade):\n",
    "        self.matricula = matricula\n",
    "        self.nome = nome\n",
    "        self.idade = idade\n",
    "        \n",
    "    def apresentacao(self):\n",
    "        return \"Prazer meu nome eh \"+self.nome+\", eu tenho \"+str(self.idade)+\" anos.\""
   ]
  },
  {
   "cell_type": "markdown",
   "id": "b5db8c83-e996-4647-aec2-c8d576ac5786",
   "metadata": {},
   "source": [
    "# Encapsulamento"
   ]
  },
  {
   "cell_type": "markdown",
   "id": "52a29e22-5b0c-4395-92b2-2ca5d1d78606",
   "metadata": {},
   "source": [
    "### Exemplo Conta corrente"
   ]
  },
  {
   "cell_type": "code",
   "execution_count": 1,
   "id": "303a8740-822f-4926-b5f9-0b074557dae0",
   "metadata": {},
   "outputs": [],
   "source": [
    "class Conta_corrente():\n",
    "    \n",
    "    __taxaBanco = 0.01 # atributo de classe privado ou encapsulado na classe\n",
    "    moeda = \"euro\" # atributo de classe publico\n",
    "    \n",
    "    def __init__(self, proprietario, conta, agencia, saldo_inicial):\n",
    "        self.proprietario = proprietario\n",
    "        self.conta = conta\n",
    "        self.agencia = agencia\n",
    "        self.saldo = saldo_inicial\n",
    "        \n",
    "    def get_saldo(self):\n",
    "        \"\"\"\n",
    "        Retorna o valor na saldo da conta corrente.\n",
    "        \n",
    "        return:\n",
    "            saldo da conta menos a taxa do banco.\n",
    "        \"\"\"\n",
    "        self.__get_cookies()\n",
    "        return self.saldo*(1-self.__taxaBanco)\n",
    "    \n",
    "    def add_dinheiro(self, money):\n",
    "        \"\"\"\n",
    "        Adiciona dinheiro ao saldo da conta corrente.\n",
    "        \n",
    "        params:\n",
    "            money (float) : dinheiro para ser depositado\n",
    "        \"\"\"\n",
    "        self.saldo+=money\n",
    "        \n",
    "    def levanta_dinheiro(self, money): # método publico\n",
    "        \"\"\"\n",
    "        Retira dinheiro do saldo da conta corrente.\n",
    "        \n",
    "        params:\n",
    "            money (float) : dinheiro para ser levantado\n",
    "        \"\"\"\n",
    "        self.saldo-=money\n",
    "        \n",
    "    def __get_cookies(self): # método privado\n",
    "        print(\"peguei os cookies\")"
   ]
  },
  {
   "cell_type": "code",
   "execution_count": 2,
   "id": "115fbccc-69b6-42df-a871-ebf9f708bc63",
   "metadata": {},
   "outputs": [],
   "source": [
    "willem_cc = Conta_corrente(\"Willem\", 1, 2, 300)"
   ]
  },
  {
   "cell_type": "code",
   "execution_count": 3,
   "id": "fd8c297e-8638-47f0-8533-25fded988764",
   "metadata": {},
   "outputs": [
    {
     "ename": "AttributeError",
     "evalue": "'Conta_corrente' object has no attribute '__taxaBanco'",
     "output_type": "error",
     "traceback": [
      "\u001b[1;31m---------------------------------------------------------------------------\u001b[0m",
      "\u001b[1;31mAttributeError\u001b[0m                            Traceback (most recent call last)",
      "\u001b[1;32m~\\AppData\\Local\\Temp\\ipykernel_13488\\1029246389.py\u001b[0m in \u001b[0;36m<module>\u001b[1;34m\u001b[0m\n\u001b[1;32m----> 1\u001b[1;33m \u001b[0mwillem_cc\u001b[0m\u001b[1;33m.\u001b[0m\u001b[0m__taxaBanco\u001b[0m\u001b[1;33m\u001b[0m\u001b[1;33m\u001b[0m\u001b[0m\n\u001b[0m",
      "\u001b[1;31mAttributeError\u001b[0m: 'Conta_corrente' object has no attribute '__taxaBanco'"
     ]
    }
   ],
   "source": [
    "willem_cc.__taxaBanco"
   ]
  },
  {
   "cell_type": "code",
   "execution_count": 5,
   "id": "685e82ba-acbb-420b-ae0c-69c42585bde5",
   "metadata": {},
   "outputs": [
    {
     "name": "stdout",
     "output_type": "stream",
     "text": [
      "peguei os cookies\n"
     ]
    },
    {
     "data": {
      "text/plain": [
       "297.0"
      ]
     },
     "execution_count": 5,
     "metadata": {},
     "output_type": "execute_result"
    }
   ],
   "source": [
    "willem_cc.get_saldo()"
   ]
  },
  {
   "cell_type": "code",
   "execution_count": 6,
   "id": "25943461-c13c-4c33-803f-2c6f36aa2436",
   "metadata": {},
   "outputs": [
    {
     "ename": "AttributeError",
     "evalue": "'Conta_corrente' object has no attribute '__get_cookies'",
     "output_type": "error",
     "traceback": [
      "\u001b[1;31m---------------------------------------------------------------------------\u001b[0m",
      "\u001b[1;31mAttributeError\u001b[0m                            Traceback (most recent call last)",
      "\u001b[1;32m~\\AppData\\Local\\Temp\\ipykernel_13488\\458855972.py\u001b[0m in \u001b[0;36m<module>\u001b[1;34m\u001b[0m\n\u001b[1;32m----> 1\u001b[1;33m \u001b[0mwillem_cc\u001b[0m\u001b[1;33m.\u001b[0m\u001b[0m__get_cookies\u001b[0m\u001b[1;33m(\u001b[0m\u001b[1;33m)\u001b[0m\u001b[1;33m\u001b[0m\u001b[1;33m\u001b[0m\u001b[0m\n\u001b[0m",
      "\u001b[1;31mAttributeError\u001b[0m: 'Conta_corrente' object has no attribute '__get_cookies'"
     ]
    }
   ],
   "source": [
    "willem_cc.__get_cookies()"
   ]
  },
  {
   "cell_type": "markdown",
   "id": "664cd5e1-90a5-4446-8b81-c66e6094d8c2",
   "metadata": {},
   "source": [
    "### Exemplo Carro"
   ]
  },
  {
   "cell_type": "code",
   "execution_count": null,
   "id": "4e6a5eea-edf8-48d4-9638-ef8c7573263f",
   "metadata": {},
   "outputs": [],
   "source": [
    "from veiculos import Carro"
   ]
  },
  {
   "cell_type": "code",
   "execution_count": null,
   "id": "67f50e79-3683-408b-89cf-77ea4fff1a18",
   "metadata": {},
   "outputs": [],
   "source": [
    "car1 = Carro(\"Renault\", \"Duster\", 2019)\n",
    "car2 = Carro(\"Ford\", \"Ka\", 2023)"
   ]
  },
  {
   "cell_type": "code",
   "execution_count": null,
   "id": "71090b98-3ac1-412d-a8c1-b6924b97c0f7",
   "metadata": {},
   "outputs": [],
   "source": [
    "car1.acelerar()\n",
    "car1.get_velocidade()"
   ]
  },
  {
   "cell_type": "code",
   "execution_count": null,
   "id": "e1005d79-8783-44ba-878e-fd45165d81fd",
   "metadata": {},
   "outputs": [],
   "source": [
    "car2.modelo"
   ]
  },
  {
   "cell_type": "code",
   "execution_count": null,
   "id": "a16f97d3-540a-4b72-a689-ed2f5c0c0694",
   "metadata": {},
   "outputs": [],
   "source": [
    "car1.marca"
   ]
  },
  {
   "cell_type": "markdown",
   "id": "1bcc0935-5593-4638-9187-736a587fa7d7",
   "metadata": {},
   "source": [
    "# Documentação ajuda a entender classes"
   ]
  },
  {
   "cell_type": "code",
   "execution_count": 1,
   "id": "97f7c3b7-34cd-4542-a339-bdfe985de781",
   "metadata": {
    "tags": []
   },
   "outputs": [
    {
     "name": "stdout",
     "output_type": "stream",
     "text": [
      "Help on class Carro in module veiculos:\n",
      "\n",
      "class Carro(builtins.object)\n",
      " |  Carro(marca, modelo, ano)\n",
      " |  \n",
      " |  Methods defined here:\n",
      " |  \n",
      " |  __init__(self, marca, modelo, ano)\n",
      " |      Initialize self.  See help(type(self)) for accurate signature.\n",
      " |  \n",
      " |  acelerar(self)\n",
      " |      Aumenta a velocidade atual do carro em 10km/h\n",
      " |  \n",
      " |  freiar(self)\n",
      " |      Diminui a velocidade atual do carro em 10km/h\n",
      " |  \n",
      " |  get_velocidade(self)\n",
      " |      Retorna a velocidade atual do carro\n",
      " |  \n",
      " |  ----------------------------------------------------------------------\n",
      " |  Data descriptors defined here:\n",
      " |  \n",
      " |  __dict__\n",
      " |      dictionary for instance variables (if defined)\n",
      " |  \n",
      " |  __weakref__\n",
      " |      list of weak references to the object (if defined)\n",
      " |  \n",
      " |  ----------------------------------------------------------------------\n",
      " |  Data and other attributes defined here:\n",
      " |  \n",
      " |  velocidade = 0\n",
      "\n"
     ]
    }
   ],
   "source": [
    "import veiculos\n",
    "help(veiculos.Carro)"
   ]
  },
  {
   "cell_type": "code",
   "execution_count": 5,
   "id": "d9d2e436-4435-4548-960d-f9f38691f736",
   "metadata": {
    "collapsed": true,
    "jupyter": {
     "outputs_hidden": true
    },
    "tags": []
   },
   "outputs": [
    {
     "name": "stdout",
     "output_type": "stream",
     "text": [
      "Help on class Conta_corrente in module __main__:\n",
      "\n",
      "class Conta_corrente(builtins.object)\n",
      " |  Conta_corrente(proprietario, conta, agencia, saldo_inicial)\n",
      " |  \n",
      " |  Methods defined here:\n",
      " |  \n",
      " |  __init__(self, proprietario, conta, agencia, saldo_inicial)\n",
      " |      Initialize self.  See help(type(self)) for accurate signature.\n",
      " |  \n",
      " |  add_dinheiro(self, money)\n",
      " |      Adiciona dinheiro ao saldo da conta corrente.\n",
      " |      \n",
      " |      params:\n",
      " |          money (float) : dinheiro para ser depositado\n",
      " |  \n",
      " |  get_saldo(self)\n",
      " |      Retorna o valor na saldo da conta corrente.\n",
      " |      \n",
      " |      return:\n",
      " |          saldo da conta menos a taxa do banco.\n",
      " |  \n",
      " |  levanta_dinheiro(self, money)\n",
      " |      Retira dinheiro do saldo da conta corrente.\n",
      " |      \n",
      " |      params:\n",
      " |          money (float) : dinheiro para ser levantado\n",
      " |  \n",
      " |  ----------------------------------------------------------------------\n",
      " |  Data descriptors defined here:\n",
      " |  \n",
      " |  __dict__\n",
      " |      dictionary for instance variables (if defined)\n",
      " |  \n",
      " |  __weakref__\n",
      " |      list of weak references to the object (if defined)\n",
      " |  \n",
      " |  ----------------------------------------------------------------------\n",
      " |  Data and other attributes defined here:\n",
      " |  \n",
      " |  moeda = 'euro'\n",
      "\n"
     ]
    }
   ],
   "source": [
    "help(Conta_corrente)"
   ]
  },
  {
   "cell_type": "code",
   "execution_count": 6,
   "id": "40f94433-77f3-480a-b1cc-3b01204be008",
   "metadata": {
    "collapsed": true,
    "jupyter": {
     "outputs_hidden": true
    },
    "tags": []
   },
   "outputs": [
    {
     "data": {
      "text/plain": [
       "['_Conta_corrente__get_cookies',\n",
       " '_Conta_corrente__taxaBanco',\n",
       " '__class__',\n",
       " '__delattr__',\n",
       " '__dict__',\n",
       " '__dir__',\n",
       " '__doc__',\n",
       " '__eq__',\n",
       " '__format__',\n",
       " '__ge__',\n",
       " '__getattribute__',\n",
       " '__gt__',\n",
       " '__hash__',\n",
       " '__init__',\n",
       " '__init_subclass__',\n",
       " '__le__',\n",
       " '__lt__',\n",
       " '__module__',\n",
       " '__ne__',\n",
       " '__new__',\n",
       " '__reduce__',\n",
       " '__reduce_ex__',\n",
       " '__repr__',\n",
       " '__setattr__',\n",
       " '__sizeof__',\n",
       " '__str__',\n",
       " '__subclasshook__',\n",
       " '__weakref__',\n",
       " 'add_dinheiro',\n",
       " 'get_saldo',\n",
       " 'levanta_dinheiro',\n",
       " 'moeda']"
      ]
     },
     "execution_count": 6,
     "metadata": {},
     "output_type": "execute_result"
    }
   ],
   "source": [
    "dir(Conta_corrente) # dir mostra os métodos e atributos privados"
   ]
  },
  {
   "cell_type": "markdown",
   "id": "bdbf3eef-d4ba-46d4-9455-d57d271ef593",
   "metadata": {},
   "source": [
    "# Herança"
   ]
  },
  {
   "cell_type": "code",
   "execution_count": null,
   "id": "f68e10cb-e3c7-4aca-b1a6-2f5a3b0d7453",
   "metadata": {},
   "outputs": [],
   "source": []
  },
  {
   "cell_type": "markdown",
   "id": "4397b544-3454-406c-b188-58c580feb9c0",
   "metadata": {},
   "source": [
    "### Herança Multipla"
   ]
  },
  {
   "cell_type": "code",
   "execution_count": null,
   "id": "37c458b6-7e42-4474-b619-3c2a75e58a00",
   "metadata": {},
   "outputs": [],
   "source": []
  },
  {
   "cell_type": "markdown",
   "id": "8ebefd60-2b01-465e-8b5a-bd43516b1b93",
   "metadata": {},
   "source": [
    "# Polimorfismo"
   ]
  },
  {
   "cell_type": "code",
   "execution_count": null,
   "id": "2b80fdda-71dc-420a-80f0-e4e4fadedf9f",
   "metadata": {},
   "outputs": [],
   "source": []
  },
  {
   "cell_type": "markdown",
   "id": "610e58bd-074e-4a9d-b753-4c55ec4f1cbe",
   "metadata": {},
   "source": [
    "### Interface"
   ]
  },
  {
   "cell_type": "code",
   "execution_count": null,
   "id": "a33d0e4b-4f08-4271-8d56-4f9da3bcd149",
   "metadata": {},
   "outputs": [],
   "source": []
  },
  {
   "cell_type": "markdown",
   "id": "a84a129e-9d93-4a98-99d5-0fdfa8addb03",
   "metadata": {},
   "source": [
    "# Missão "
   ]
  },
  {
   "cell_type": "markdown",
   "id": "4f2ba010-8f53-445c-9340-78a430471881",
   "metadata": {},
   "source": [
    "1 - Criar uma abstração (classe) de uma entidade do mundo real - A partir de uma descrição de exercício do beecrowd"
   ]
  },
  {
   "cell_type": "markdown",
   "id": "69fb81b0-b8de-4270-bd53-762f74fb3b0b",
   "metadata": {},
   "source": [
    "2 - Adicionar na abstração que vc criou: atributos privados e métodos privados"
   ]
  },
  {
   "cell_type": "code",
   "execution_count": 33,
   "id": "02b6bd35-e873-494b-82cb-c241292abec1",
   "metadata": {},
   "outputs": [],
   "source": [
    "class Vencimento():\n",
    "    \n",
    "    __desconto_sc = 0.11\n",
    "    \n",
    "    def __init__(self, vencimento_hora, horas, bonus, desconto_irs):\n",
    "        self.vencimento_hora = vencimento_hora\n",
    "        self.horas = horas\n",
    "        self.bonus = bonus\n",
    "        self.desconto_irs = desconto_irs\n",
    "        \n",
    "    def salario(self):\n",
    "        self.salario_real = self.vencimento_hora * self.horas\n",
    "        return self.salario_real\n",
    "    \n",
    "    def salario_bruto(self):\n",
    "        self.salario_bruto_real = self.salario_real + self.bonus\n",
    "        return self.salario_bruto_real\n",
    "    \n",
    "    def salario_liquido(self):\n",
    "        self.salario_bruto()\n",
    "        x = (self.salario_bruto_real * self.desconto_irs)\n",
    "        y = (self.salario_bruto_real * self.__desconto_sc)\n",
    "        self.salario_liquido_real = self.salario_bruto_real - x - y\n",
    "        return self.salario_liquido_real\n",
    "        \n",
    "pessoa1 = Vencimento(7, 160, 60, 0.14)\n",
    "pessoa2 = Vencimento(11, 160, 0, 0.20)\n",
    "pessoa3 = Vencimento(6, 160, 0, 0.11)"
   ]
  },
  {
   "cell_type": "code",
   "execution_count": 34,
   "id": "4c65a3e6-ccd3-45dd-87df-0307b7bba5fd",
   "metadata": {},
   "outputs": [
    {
     "name": "stdout",
     "output_type": "stream",
     "text": [
      "1120\n",
      "1180\n",
      "885.0\n"
     ]
    }
   ],
   "source": [
    "print(pessoa1.salario())\n",
    "print(pessoa1.salario_bruto())\n",
    "print(pessoa1.salario_liquido())"
   ]
  },
  {
   "cell_type": "code",
   "execution_count": 25,
   "id": "a3a295e3-bec5-4542-b46e-d988fdf9fcb4",
   "metadata": {},
   "outputs": [],
   "source": [
    "class Cliente():\n",
    "    \n",
    "    __desconto_cliente_vip = 0.25\n",
    "    desconto_cliente_base = 0.1\n",
    "    \n",
    "    def __init__(self, nome, numero_conta, loja_local, saldo,):\n",
    "        self.nome = nome\n",
    "        self.numero_conta = numero_conta\n",
    "        self.loja_local = loja_local\n",
    "        self.saldo = saldo\n",
    "        \n",
    "    def get_saldo(self):\n",
    "        return self.saldo\n",
    "    \n",
    "    def add_dinheiro(self, money):\n",
    "        self.saldo+=money\n",
    "        \n",
    "    def redimir_dinheiro(self, money):\n",
    "        self.saldo-=money\n",
    "    \n",
    "    def cliente_vip(self):\n",
    "        if self.get_saldo() > 100:\n",
    "            return self.__desconto_cliente_vip()\n",
    "        else:\n",
    "            return self.desconto_cliente_base()\n",
    "    \n",
    "    def desconto_cliente_base(self):\n",
    "        return \"Como cliente tem direito a 10% desconto!\"\n",
    "        \n",
    "    def __desconto_cliente_vip(self):\n",
    "        return \"Como cliente VIP tem direito a 25% desconto!\""
   ]
  },
  {
   "cell_type": "code",
   "execution_count": 26,
   "id": "022dda8f-6200-4a1c-854e-b0b240b40ac1",
   "metadata": {},
   "outputs": [],
   "source": [
    "customer1 = Cliente(\"andre\", 65, \"amadora\", 50)\n",
    "customer2 = Cliente(\"Joana\", 11, \"Maia\", 250)\n"
   ]
  },
  {
   "cell_type": "code",
   "execution_count": 27,
   "id": "ac6341d8-0c4b-489a-89a2-ac51467568c2",
   "metadata": {},
   "outputs": [
    {
     "data": {
      "text/plain": [
       "50"
      ]
     },
     "execution_count": 27,
     "metadata": {},
     "output_type": "execute_result"
    }
   ],
   "source": [
    "customer1.get_saldo()"
   ]
  },
  {
   "cell_type": "code",
   "execution_count": 29,
   "id": "72e16a93-6af4-4087-9e04-9c1d377b45a2",
   "metadata": {},
   "outputs": [
    {
     "data": {
      "text/plain": [
       "'Como cliente VIP tem direito a 25% desconto!'"
      ]
     },
     "execution_count": 29,
     "metadata": {},
     "output_type": "execute_result"
    }
   ],
   "source": [
    "customer2.cliente_vip()"
   ]
  },
  {
   "cell_type": "code",
   "execution_count": null,
   "id": "9811935e-275b-479d-87c3-fa8b7f6e540a",
   "metadata": {},
   "outputs": [],
   "source": []
  }
 ],
 "metadata": {
  "kernelspec": {
   "display_name": "Python 3 (ipykernel)",
   "language": "python",
   "name": "python3"
  },
  "language_info": {
   "codemirror_mode": {
    "name": "ipython",
    "version": 3
   },
   "file_extension": ".py",
   "mimetype": "text/x-python",
   "name": "python",
   "nbconvert_exporter": "python",
   "pygments_lexer": "ipython3",
   "version": "3.9.13"
  }
 },
 "nbformat": 4,
 "nbformat_minor": 5
}
