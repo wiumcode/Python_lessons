{
 "cells": [
  {
   "cell_type": "markdown",
   "id": "d41a55a8-89c9-4cf3-9626-323f49f10487",
   "metadata": {
    "tags": []
   },
   "source": [
    "# Tuplas"
   ]
  },
  {
   "cell_type": "markdown",
   "id": "8cf4b8d9-a0d0-4c1a-a7a3-40dbb2657fff",
   "metadata": {},
   "source": [
    "lista sem modificação"
   ]
  },
  {
   "cell_type": "code",
   "execution_count": 1,
   "id": "a7faf820-4b97-43d6-b3bf-fe5da34b4a8c",
   "metadata": {},
   "outputs": [],
   "source": [
    "semana = [\"Segunda\", \"Terça\", \"Quarta\", \"Quinta\", \"Sexta\"]"
   ]
  },
  {
   "cell_type": "code",
   "execution_count": 2,
   "id": "090a919b-65a6-409d-ac4c-0258cd863bda",
   "metadata": {},
   "outputs": [],
   "source": [
    "semana.remove(\"Segunda\")"
   ]
  },
  {
   "cell_type": "code",
   "execution_count": 3,
   "id": "8b31fbeb-ba20-437b-86bd-dbaf63ee0d7f",
   "metadata": {},
   "outputs": [
    {
     "data": {
      "text/plain": [
       "['Terça', 'Quarta', 'Quinta', 'Sexta']"
      ]
     },
     "execution_count": 3,
     "metadata": {},
     "output_type": "execute_result"
    }
   ],
   "source": [
    "semana"
   ]
  },
  {
   "cell_type": "code",
   "execution_count": 4,
   "id": "8c14fc38-2aad-400f-9dd3-7c9e8bfe035e",
   "metadata": {},
   "outputs": [],
   "source": [
    "semana.append(\"Feriado\")"
   ]
  },
  {
   "cell_type": "code",
   "execution_count": 5,
   "id": "b6b66f01-32b6-44ba-9b23-18a51fdbf442",
   "metadata": {},
   "outputs": [
    {
     "data": {
      "text/plain": [
       "['Terça', 'Quarta', 'Quinta', 'Sexta', 'Feriado']"
      ]
     },
     "execution_count": 5,
     "metadata": {},
     "output_type": "execute_result"
    }
   ],
   "source": [
    "semana"
   ]
  },
  {
   "cell_type": "code",
   "execution_count": 6,
   "id": "1e42989e-c727-4d9e-8bc2-6c858917436c",
   "metadata": {},
   "outputs": [],
   "source": [
    "semana[1] = \"Wednesday\""
   ]
  },
  {
   "cell_type": "code",
   "execution_count": 7,
   "id": "b872240d-bd36-4842-9c64-7e5ec52953f5",
   "metadata": {},
   "outputs": [
    {
     "data": {
      "text/plain": [
       "['Terça', 'Wednesday', 'Quinta', 'Sexta', 'Feriado']"
      ]
     },
     "execution_count": 7,
     "metadata": {},
     "output_type": "execute_result"
    }
   ],
   "source": [
    "semana"
   ]
  },
  {
   "cell_type": "markdown",
   "id": "714c8c81-95ff-4264-a444-e9af64d2a77a",
   "metadata": {
    "tags": []
   },
   "source": [
    "## criando tuplas"
   ]
  },
  {
   "cell_type": "code",
   "execution_count": 8,
   "id": "b6c68a7b-4877-4e2a-9482-24d312711acb",
   "metadata": {},
   "outputs": [],
   "source": [
    "semana = (\"Segunda\", \"Terça\", \"Quarta\", \"Quinta\", \"Sexta\")"
   ]
  },
  {
   "cell_type": "code",
   "execution_count": 9,
   "id": "4bf31a8a-0d7e-40da-bb84-ae024975ac8b",
   "metadata": {},
   "outputs": [
    {
     "data": {
      "text/plain": [
       "tuple"
      ]
     },
     "execution_count": 9,
     "metadata": {},
     "output_type": "execute_result"
    }
   ],
   "source": [
    "type(semana)"
   ]
  },
  {
   "cell_type": "markdown",
   "id": "88d4bb41-676b-4187-9a8e-dee15d3c0884",
   "metadata": {
    "tags": []
   },
   "source": [
    "## imutabilidade = não pode alterar uma tupla"
   ]
  },
  {
   "cell_type": "code",
   "execution_count": 10,
   "id": "ba5181c6-b910-47bb-9134-fec31e8fa3f1",
   "metadata": {},
   "outputs": [
    {
     "ename": "AttributeError",
     "evalue": "'tuple' object has no attribute 'remove'",
     "output_type": "error",
     "traceback": [
      "\u001b[1;31m---------------------------------------------------------------------------\u001b[0m",
      "\u001b[1;31mAttributeError\u001b[0m                            Traceback (most recent call last)",
      "Input \u001b[1;32mIn [10]\u001b[0m, in \u001b[0;36m<cell line: 1>\u001b[1;34m()\u001b[0m\n\u001b[1;32m----> 1\u001b[0m \u001b[43msemana\u001b[49m\u001b[38;5;241;43m.\u001b[39;49m\u001b[43mremove\u001b[49m(\u001b[38;5;124m\"\u001b[39m\u001b[38;5;124mSegunda\u001b[39m\u001b[38;5;124m\"\u001b[39m)\n",
      "\u001b[1;31mAttributeError\u001b[0m: 'tuple' object has no attribute 'remove'"
     ]
    }
   ],
   "source": [
    "semana.remove(\"Segunda\")"
   ]
  },
  {
   "cell_type": "code",
   "execution_count": 11,
   "id": "94164eef-93cd-436e-9c44-ce4a765c10e9",
   "metadata": {},
   "outputs": [
    {
     "ename": "AttributeError",
     "evalue": "'tuple' object has no attribute 'pop'",
     "output_type": "error",
     "traceback": [
      "\u001b[1;31m---------------------------------------------------------------------------\u001b[0m",
      "\u001b[1;31mAttributeError\u001b[0m                            Traceback (most recent call last)",
      "Input \u001b[1;32mIn [11]\u001b[0m, in \u001b[0;36m<cell line: 1>\u001b[1;34m()\u001b[0m\n\u001b[1;32m----> 1\u001b[0m \u001b[43msemana\u001b[49m\u001b[38;5;241;43m.\u001b[39;49m\u001b[43mpop\u001b[49m()\n",
      "\u001b[1;31mAttributeError\u001b[0m: 'tuple' object has no attribute 'pop'"
     ]
    }
   ],
   "source": [
    "semana.pop()"
   ]
  },
  {
   "cell_type": "code",
   "execution_count": 12,
   "id": "01ec12d3-8c07-4a28-b9f3-5a9be15ee90a",
   "metadata": {},
   "outputs": [
    {
     "ename": "AttributeError",
     "evalue": "'tuple' object has no attribute 'append'",
     "output_type": "error",
     "traceback": [
      "\u001b[1;31m---------------------------------------------------------------------------\u001b[0m",
      "\u001b[1;31mAttributeError\u001b[0m                            Traceback (most recent call last)",
      "Input \u001b[1;32mIn [12]\u001b[0m, in \u001b[0;36m<cell line: 1>\u001b[1;34m()\u001b[0m\n\u001b[1;32m----> 1\u001b[0m \u001b[43msemana\u001b[49m\u001b[38;5;241;43m.\u001b[39;49m\u001b[43mappend\u001b[49m(\u001b[38;5;124m\"\u001b[39m\u001b[38;5;124mSabado\u001b[39m\u001b[38;5;124m\"\u001b[39m)\n",
      "\u001b[1;31mAttributeError\u001b[0m: 'tuple' object has no attribute 'append'"
     ]
    }
   ],
   "source": [
    "semana.append(\"Sabado\")"
   ]
  },
  {
   "cell_type": "code",
   "execution_count": 13,
   "id": "6da90e83-6deb-4f2e-bb73-3c0178fee3fa",
   "metadata": {},
   "outputs": [
    {
     "ename": "TypeError",
     "evalue": "'tuple' object does not support item assignment",
     "output_type": "error",
     "traceback": [
      "\u001b[1;31m---------------------------------------------------------------------------\u001b[0m",
      "\u001b[1;31mTypeError\u001b[0m                                 Traceback (most recent call last)",
      "Input \u001b[1;32mIn [13]\u001b[0m, in \u001b[0;36m<cell line: 1>\u001b[1;34m()\u001b[0m\n\u001b[1;32m----> 1\u001b[0m semana[\u001b[38;5;241m1\u001b[39m] \u001b[38;5;241m=\u001b[39m \u001b[38;5;124m\"\u001b[39m\u001b[38;5;124mFeriado\u001b[39m\u001b[38;5;124m\"\u001b[39m\n",
      "\u001b[1;31mTypeError\u001b[0m: 'tuple' object does not support item assignment"
     ]
    }
   ],
   "source": [
    "semana[1] = \"Feriado\""
   ]
  },
  {
   "cell_type": "markdown",
   "id": "7a08df8b-13f4-4053-bb10-625575974a63",
   "metadata": {
    "tags": []
   },
   "source": [
    "## Ou mudo tudo ou mudo nada"
   ]
  },
  {
   "cell_type": "code",
   "execution_count": 17,
   "id": "73583362-952d-426e-a165-36dd372cf4c1",
   "metadata": {},
   "outputs": [],
   "source": [
    "semana = (\"Monday\", \"Tuesday\", \"Wednesday\", \"Thursday\", \"Friday\")"
   ]
  },
  {
   "cell_type": "code",
   "execution_count": 18,
   "id": "2ceefb4e-cfef-4a43-b3a0-76cddfd3cc1b",
   "metadata": {},
   "outputs": [
    {
     "data": {
      "text/plain": [
       "('Monday', 'Tuesday', 'Wednesday', 'Thursday', 'Friday')"
      ]
     },
     "execution_count": 18,
     "metadata": {},
     "output_type": "execute_result"
    }
   ],
   "source": [
    "semana"
   ]
  },
  {
   "cell_type": "markdown",
   "id": "cad42a3c-ed4f-4dd8-b2cb-0f0950822dae",
   "metadata": {
    "tags": []
   },
   "source": [
    "## todo o resto de lista funciona para tupla"
   ]
  },
  {
   "cell_type": "code",
   "execution_count": 20,
   "id": "f5bededb-cbe1-46b0-9f26-2b13a698d6c7",
   "metadata": {},
   "outputs": [
    {
     "data": {
      "text/plain": [
       "('Monday', 'Tuesday', 'Wednesday')"
      ]
     },
     "execution_count": 20,
     "metadata": {},
     "output_type": "execute_result"
    }
   ],
   "source": [
    "semana[0:3]"
   ]
  },
  {
   "cell_type": "code",
   "execution_count": 21,
   "id": "79afb3da-75c1-4358-a07c-7ad6f751a280",
   "metadata": {},
   "outputs": [
    {
     "data": {
      "text/plain": [
       "'Wednesday'"
      ]
     },
     "execution_count": 21,
     "metadata": {},
     "output_type": "execute_result"
    }
   ],
   "source": [
    "max(semana)"
   ]
  },
  {
   "cell_type": "code",
   "execution_count": 22,
   "id": "eb66b8b5-e9b8-406a-a9fe-d03dde1d81dc",
   "metadata": {},
   "outputs": [
    {
     "data": {
      "text/plain": [
       "5"
      ]
     },
     "execution_count": 22,
     "metadata": {},
     "output_type": "execute_result"
    }
   ],
   "source": [
    "len(semana)"
   ]
  },
  {
   "cell_type": "markdown",
   "id": "50317e59-8297-418b-a4f9-9e328b00aa15",
   "metadata": {
    "jp-MarkdownHeadingCollapsed": true,
    "tags": []
   },
   "source": [
    "### String é uma tupla de caracteres"
   ]
  },
  {
   "cell_type": "code",
   "execution_count": 23,
   "id": "48761340-b6a3-4766-b834-cda1fb78c1c1",
   "metadata": {},
   "outputs": [],
   "source": [
    "nome = \"Marcio\""
   ]
  },
  {
   "cell_type": "code",
   "execution_count": 24,
   "id": "36e209e0-9c02-433a-ae21-3b029e337f57",
   "metadata": {},
   "outputs": [
    {
     "ename": "TypeError",
     "evalue": "'str' object does not support item assignment",
     "output_type": "error",
     "traceback": [
      "\u001b[1;31m---------------------------------------------------------------------------\u001b[0m",
      "\u001b[1;31mTypeError\u001b[0m                                 Traceback (most recent call last)",
      "Input \u001b[1;32mIn [24]\u001b[0m, in \u001b[0;36m<cell line: 1>\u001b[1;34m()\u001b[0m\n\u001b[1;32m----> 1\u001b[0m nome[\u001b[38;5;241m-\u001b[39m\u001b[38;5;241m1\u001b[39m] \u001b[38;5;241m=\u001b[39m \u001b[38;5;124m\"\u001b[39m\u001b[38;5;124ma\u001b[39m\u001b[38;5;124m\"\u001b[39m\n",
      "\u001b[1;31mTypeError\u001b[0m: 'str' object does not support item assignment"
     ]
    }
   ],
   "source": [
    "nome[-1] = \"a\""
   ]
  },
  {
   "cell_type": "code",
   "execution_count": 28,
   "id": "df454524-05ba-48eb-b0ec-f9e32e0b24bf",
   "metadata": {},
   "outputs": [
    {
     "ename": "AttributeError",
     "evalue": "'str' object has no attribute 'pop'",
     "output_type": "error",
     "traceback": [
      "\u001b[1;31m---------------------------------------------------------------------------\u001b[0m",
      "\u001b[1;31mAttributeError\u001b[0m                            Traceback (most recent call last)",
      "Input \u001b[1;32mIn [28]\u001b[0m, in \u001b[0;36m<cell line: 1>\u001b[1;34m()\u001b[0m\n\u001b[1;32m----> 1\u001b[0m \u001b[43mnome\u001b[49m\u001b[38;5;241;43m.\u001b[39;49m\u001b[43mpop\u001b[49m(\u001b[38;5;241m0\u001b[39m)\n",
      "\u001b[1;31mAttributeError\u001b[0m: 'str' object has no attribute 'pop'"
     ]
    }
   ],
   "source": [
    "nome.pop(0)"
   ]
  },
  {
   "cell_type": "code",
   "execution_count": 25,
   "id": "0ee33050-57ed-43b5-af42-7bd9a99a3c7f",
   "metadata": {},
   "outputs": [],
   "source": [
    "nome = \"Marcia\""
   ]
  },
  {
   "cell_type": "markdown",
   "id": "a544964b-18f7-42e8-b1b9-42f50a2fced4",
   "metadata": {},
   "source": [
    "# Missão"
   ]
  },
  {
   "cell_type": "markdown",
   "id": "1fab46d2-cc05-4478-a2fc-a2958951380d",
   "metadata": {},
   "source": [
    "fiz = /3\n",
    "\n",
    "buzz = /5\n",
    "\n",
    "fizbuzz = /3 e /5"
   ]
  }
 ],
 "metadata": {
  "kernelspec": {
   "display_name": "Python 3 (ipykernel)",
   "language": "python",
   "name": "python3"
  },
  "language_info": {
   "codemirror_mode": {
    "name": "ipython",
    "version": 3
   },
   "file_extension": ".py",
   "mimetype": "text/x-python",
   "name": "python",
   "nbconvert_exporter": "python",
   "pygments_lexer": "ipython3",
   "version": "3.9.13"
  }
 },
 "nbformat": 4,
 "nbformat_minor": 5
}
