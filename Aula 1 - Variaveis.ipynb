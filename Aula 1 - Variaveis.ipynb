{
 "cells": [
  {
   "cell_type": "markdown",
   "id": "863b9e6a-e7d6-4ccc-a32e-d51d716d8888",
   "metadata": {
    "jp-MarkdownHeadingCollapsed": true,
    "tags": []
   },
   "source": [
    "# Markdown"
   ]
  },
  {
   "cell_type": "markdown",
   "id": "28db4d97-c93c-4e02-8ca6-d77e579e4607",
   "metadata": {
    "jupyter": {
     "source_hidden": true
    },
    "tags": []
   },
   "source": [
    "## subtitulo\n",
    "### subsub...\n",
    "#### secção"
   ]
  },
  {
   "cell_type": "markdown",
   "id": "bebb837a-89db-4d8a-9038-de27d82f84ee",
   "metadata": {
    "jupyter": {
     "source_hidden": true
    },
    "tags": []
   },
   "source": [
    "listas\n",
    "- Primeiro \n",
    "- Segundo\n",
    "- Terceiro"
   ]
  },
  {
   "cell_type": "markdown",
   "id": "ded1ccc1-70ba-4dd2-ae3f-30cc6cad6f44",
   "metadata": {},
   "source": [
    "*italico*\n",
    "\n",
    "**negrito**"
   ]
  },
  {
   "cell_type": "markdown",
   "id": "27e7852b-528d-441c-975e-324effa0cd8b",
   "metadata": {
    "jp-MarkdownHeadingCollapsed": true,
    "tags": []
   },
   "source": [
    "# Atalhos - Jupyter"
   ]
  },
  {
   "cell_type": "markdown",
   "id": "01b1e999-05e8-4d6e-ba15-765b635f3bc7",
   "metadata": {},
   "source": [
    "A - Acima\n",
    "\n",
    "B - aBaixo\n",
    "\n",
    "DD - Deleta\n",
    "\n",
    "Shift + Enter - roda a celula e vai para baixo\n",
    "\n",
    "Ctrl + Enter - roda a celula\n",
    "\n",
    "Esc - sai de uma célula\n",
    "\n",
    "Enter - entra em uma célula"
   ]
  },
  {
   "cell_type": "markdown",
   "id": "f8ad0840-72de-4afa-8669-213de7ecf219",
   "metadata": {},
   "source": [
    "# Começando com Python!"
   ]
  },
  {
   "cell_type": "markdown",
   "id": "528d3d65-25ea-499b-aa41-37fdaf4de95b",
   "metadata": {
    "jp-MarkdownHeadingCollapsed": true,
    "tags": []
   },
   "source": [
    "# Comentários"
   ]
  },
  {
   "cell_type": "code",
   "execution_count": 11,
   "id": "eb369dfc-1fce-4abf-8425-34af37108e1c",
   "metadata": {},
   "outputs": [],
   "source": [
    "# este é um comentario em linha\n",
    "\n",
    "x = 10\n",
    "# x é a velocidade do veiculo em km/h\n",
    "# mudar a velocidade na versao 2.0\n",
    "# este codigo foi criado durante uma aula\n",
    "\n",
    "y = 100\n",
    "# y é a distancia"
   ]
  },
  {
   "cell_type": "code",
   "execution_count": 12,
   "id": "6247ae10-f5d4-4d71-a639-79fef0f254a3",
   "metadata": {},
   "outputs": [],
   "source": [
    "x = 10\n",
    "\"\"\"\n",
    "Comentário em bloco\n",
    "varias \n",
    "linhas\n",
    "linhas\n",
    "linhas\n",
    "linhas\n",
    "a vontade\n",
    "\"\"\"\n",
    "y = 100"
   ]
  },
  {
   "cell_type": "markdown",
   "id": "2007c08a-33bb-4aa7-a722-bd7e073c9a4c",
   "metadata": {
    "tags": []
   },
   "source": [
    "# Variáveis"
   ]
  },
  {
   "cell_type": "code",
   "execution_count": 14,
   "id": "fafe70df-dd79-43a4-ae3f-6290db4cdcdd",
   "metadata": {},
   "outputs": [],
   "source": [
    "idade_do_cliente = 40 # snake\n",
    "idadeDoCliente = 50 # camel"
   ]
  },
  {
   "cell_type": "code",
   "execution_count": 19,
   "id": "8bd562e7-af28-4210-aae1-355223493d64",
   "metadata": {},
   "outputs": [],
   "source": [
    "idade = 10\n",
    "Idade = 20   # case sensitive\n",
    "IdAde = 30\n",
    "IDADE = 40"
   ]
  },
  {
   "cell_type": "code",
   "execution_count": 20,
   "id": "4ffc9f6f-0c33-48ec-ac4d-0ac0c12f4a38",
   "metadata": {},
   "outputs": [
    {
     "data": {
      "text/plain": [
       "20"
      ]
     },
     "execution_count": 20,
     "metadata": {},
     "output_type": "execute_result"
    }
   ],
   "source": [
    "Idade"
   ]
  },
  {
   "cell_type": "code",
   "execution_count": 26,
   "id": "16b76b31-cbe7-4118-8f7f-4a43f876e983",
   "metadata": {},
   "outputs": [],
   "source": [
    "idade = 30"
   ]
  },
  {
   "cell_type": "code",
   "execution_count": 27,
   "id": "1caf0cde-2bd8-4501-9301-4b56269304d5",
   "metadata": {},
   "outputs": [
    {
     "data": {
      "text/plain": [
       "int"
      ]
     },
     "execution_count": 27,
     "metadata": {},
     "output_type": "execute_result"
    }
   ],
   "source": [
    "# verificar o tipo\n",
    "\n",
    "type(idade)"
   ]
  },
  {
   "cell_type": "code",
   "execution_count": 28,
   "id": "61958562-5caf-483d-ac1e-dc49154f94a1",
   "metadata": {},
   "outputs": [],
   "source": [
    "# fracamente tipado, isto é, posso mudar o tipo das variaveis a qualquer momento\n",
    "idade = \"trinta\" "
   ]
  },
  {
   "cell_type": "code",
   "execution_count": 29,
   "id": "a858d63d-4daf-4955-8cfe-cb8f81b16468",
   "metadata": {},
   "outputs": [
    {
     "data": {
      "text/plain": [
       "str"
      ]
     },
     "execution_count": 29,
     "metadata": {},
     "output_type": "execute_result"
    }
   ],
   "source": [
    "type(idade)"
   ]
  },
  {
   "cell_type": "code",
   "execution_count": 66,
   "id": "5b32379b-2232-436e-b8b7-9ff2af2d6c5f",
   "metadata": {},
   "outputs": [],
   "source": [
    "pi = 3.1415"
   ]
  },
  {
   "cell_type": "code",
   "execution_count": 67,
   "id": "781baaaf-2457-4a9c-9b74-90b0449ff69e",
   "metadata": {},
   "outputs": [
    {
     "data": {
      "text/plain": [
       "float"
      ]
     },
     "execution_count": 67,
     "metadata": {},
     "output_type": "execute_result"
    }
   ],
   "source": [
    "type(pi)"
   ]
  },
  {
   "cell_type": "markdown",
   "id": "85d86bb8-f598-4e5c-ba8b-e8bb1eecae31",
   "metadata": {},
   "source": [
    "# Entrada e Saída"
   ]
  },
  {
   "cell_type": "code",
   "execution_count": 35,
   "id": "ac11a236-7eee-4198-a34e-4fb6a0c764aa",
   "metadata": {},
   "outputs": [
    {
     "name": "stdin",
     "output_type": "stream",
     "text": [
      " Marcio\n"
     ]
    }
   ],
   "source": [
    "nome = input() \n",
    "# entrada padrão = teclado"
   ]
  },
  {
   "cell_type": "code",
   "execution_count": 36,
   "id": "f80d2603-0f43-4d48-ac8b-9ac76f8de97d",
   "metadata": {},
   "outputs": [
    {
     "data": {
      "text/plain": [
       "'Marcio'"
      ]
     },
     "execution_count": 36,
     "metadata": {},
     "output_type": "execute_result"
    }
   ],
   "source": [
    "nome"
   ]
  },
  {
   "cell_type": "code",
   "execution_count": 38,
   "id": "d6656a4c-9dbd-4619-a22e-1212e42b389e",
   "metadata": {},
   "outputs": [
    {
     "name": "stdout",
     "output_type": "stream",
     "text": [
      "oi Marcio bem vindo\n"
     ]
    }
   ],
   "source": [
    "print(\"oi\", nome, \"bem vindo\") \n",
    "# saida padrão = ecrã"
   ]
  },
  {
   "cell_type": "markdown",
   "id": "a9f85aa9-0211-432a-a087-c5fb8ab50a9e",
   "metadata": {},
   "source": [
    "#### Convertendo entradas"
   ]
  },
  {
   "cell_type": "code",
   "execution_count": 1,
   "id": "5215e8fd-4252-4d00-a80c-c9b4145bb8fb",
   "metadata": {},
   "outputs": [
    {
     "name": "stdin",
     "output_type": "stream",
     "text": [
      " 5\n"
     ]
    }
   ],
   "source": [
    "x = int(input())"
   ]
  },
  {
   "cell_type": "code",
   "execution_count": 2,
   "id": "56f9ff3f-d924-4a48-b4d7-df9216d9c1f0",
   "metadata": {},
   "outputs": [
    {
     "data": {
      "text/plain": [
       "5"
      ]
     },
     "execution_count": 2,
     "metadata": {},
     "output_type": "execute_result"
    }
   ],
   "source": [
    "x"
   ]
  },
  {
   "cell_type": "code",
   "execution_count": 3,
   "id": "9b872681-d186-457e-8527-38d396d59f64",
   "metadata": {},
   "outputs": [
    {
     "name": "stdin",
     "output_type": "stream",
     "text": [
      " 10\n"
     ]
    }
   ],
   "source": [
    "x = input()"
   ]
  },
  {
   "cell_type": "code",
   "execution_count": 4,
   "id": "6b1b49e6-bcaa-452a-860a-51d06e71c24d",
   "metadata": {},
   "outputs": [
    {
     "data": {
      "text/plain": [
       "'10'"
      ]
     },
     "execution_count": 4,
     "metadata": {},
     "output_type": "execute_result"
    }
   ],
   "source": [
    "x"
   ]
  },
  {
   "cell_type": "markdown",
   "id": "cbb054f7-fe03-4a87-a64b-659f83bd9119",
   "metadata": {},
   "source": [
    "# Operações matemáticas"
   ]
  },
  {
   "cell_type": "code",
   "execution_count": 55,
   "id": "e496b203-fd1b-477f-a168-3b1fce4fd0e4",
   "metadata": {},
   "outputs": [],
   "source": [
    "x = 150\n",
    "y = 20"
   ]
  },
  {
   "cell_type": "code",
   "execution_count": 63,
   "id": "87500dfc-3c22-4455-ab81-34ca92bbe203",
   "metadata": {},
   "outputs": [
    {
     "name": "stdout",
     "output_type": "stream",
     "text": [
      "170\n",
      "130\n",
      "3000\n",
      "7.5\n",
      "7\n",
      "10\n",
      "8\n",
      "2.080083823051904\n"
     ]
    }
   ],
   "source": [
    "# adição\n",
    "print(x + y)\n",
    "# subtracao\n",
    "print(x - y)\n",
    "# multiplicacao\n",
    "print(x * y)\n",
    "# divisao\n",
    "print(x / y)\n",
    "# divisao inteira\n",
    "print(x // y)\n",
    "# resto da divisao\n",
    "print(x % y)\n",
    "# potencia\n",
    "print(2**3)\n",
    "# raiz\n",
    "print(9**(1/3))"
   ]
  },
  {
   "cell_type": "markdown",
   "id": "5c51c4c0-ff3f-41a8-b409-9dc5a0b89d62",
   "metadata": {},
   "source": [
    "# Missões"
   ]
  },
  {
   "cell_type": "markdown",
   "id": "bbef8029-6c97-41d4-a394-c229153c95ee",
   "metadata": {},
   "source": [
    "1- Converter euro para dolar e dolar para euro"
   ]
  },
  {
   "cell_type": "code",
   "execution_count": 1,
   "id": "48e4139c-fccc-402d-abf4-83d90d2c5ca7",
   "metadata": {},
   "outputs": [
    {
     "name": "stdout",
     "output_type": "stream",
     "text": [
      "Quantos dolars quer converter em euros?\n"
     ]
    },
    {
     "name": "stdin",
     "output_type": "stream",
     "text": [
      " 100\n"
     ]
    },
    {
     "name": "stdout",
     "output_type": "stream",
     "text": [
      "O valor em euros é:  101.247\n"
     ]
    }
   ],
   "source": [
    "valor_em_dolar = int(input(\"Quantos dolars quer converter em euros?\"))\n",
    "valor_em_euro = valor_em_dolar * 1.01247\n",
    "print(\"O valor em euros é: \", valor_em_euro)\n"
   ]
  },
  {
   "cell_type": "code",
   "execution_count": 2,
   "id": "364bdd08-b944-4300-890e-621e99d6af49",
   "metadata": {},
   "outputs": [
    {
     "name": "stdin",
     "output_type": "stream",
     "text": [
      "Quantos dolars quer converter em euros? 100\n"
     ]
    },
    {
     "name": "stdout",
     "output_type": "stream",
     "text": [
      "O valor em euros é:  101.247\n"
     ]
    }
   ],
   "source": [
    "valor_em_dolar = int(input(\"Quantos dolars quer converter em euros?\"))\n",
    "valor_em_euro = valor_em_dolar * 1.01247\n",
    "print(\"O valor em euros é: \", valor_em_euro)"
   ]
  },
  {
   "cell_type": "code",
   "execution_count": 16,
   "id": "a6fde067-fba7-46cd-9dec-b759c46908c7",
   "metadata": {},
   "outputs": [
    {
     "name": "stdout",
     "output_type": "stream",
     "text": [
      "Quantos euros quer converter em dolars?1\n",
      "O valor em dolar é:  0.98751\n"
     ]
    }
   ],
   "source": [
    "valor_em_euro = int(input(\"Quantos euros quer converter em dolars?\"))\n",
    "valor_em_dolar = valor_em_euro * 0.98751\n",
    "print(\"O valor em dolar é: \", valor_em_dolar)"
   ]
  },
  {
   "cell_type": "markdown",
   "id": "54bdc501-008c-4f24-8f30-3027e2162f6b",
   "metadata": {},
   "source": [
    "2 - Converter Cº para Fº e vice-versa"
   ]
  },
  {
   "cell_type": "code",
   "execution_count": 21,
   "id": "03c5a8e4-28ec-4acf-8ab5-24fb5d42944e",
   "metadata": {},
   "outputs": [
    {
     "name": "stdout",
     "output_type": "stream",
     "text": [
      "insira um valor em Cº para converter para Fº\n",
      "30\n",
      "O valor em Fº é:  86.0\n"
     ]
    }
   ],
   "source": [
    "valor_em_C = int(input(\"insira um valor em Cº para converter para Fº \"))\n",
    "valor_em_F = (valor_em_C * 1.8) + 32\n",
    "print(\"O valor em Fº é: \", valor_em_F)\n"
   ]
  },
  {
   "cell_type": "code",
   "execution_count": 4,
   "id": "da297579",
   "metadata": {},
   "outputs": [
    {
     "name": "stdout",
     "output_type": "stream",
     "text": [
      "Insira um valor em Fº para converter para Cº\n"
     ]
    },
    {
     "name": "stdin",
     "output_type": "stream",
     "text": [
      " 60\n"
     ]
    },
    {
     "name": "stdout",
     "output_type": "stream",
     "text": [
      "O valor em Cº é:  15.56\n"
     ]
    }
   ],
   "source": [
    "valor_em_F = int(input(\"Insira um valor em Fº para converter para Cº \"))\n",
    "valor_em_C = (valor_em_F - 32) * 0.5556\n",
    "print(\"O valor em Cº é: \", round(valor_em_C, 2))"
   ]
  },
  {
   "cell_type": "code",
   "execution_count": 6,
   "id": "98150097-ff5c-4245-b97a-31e6b47dcb73",
   "metadata": {},
   "outputs": [
    {
     "ename": "NameError",
     "evalue": "name 'ola' is not defined",
     "output_type": "error",
     "traceback": [
      "\u001b[1;31m---------------------------------------------------------------------------\u001b[0m",
      "\u001b[1;31mNameError\u001b[0m                                 Traceback (most recent call last)",
      "\u001b[1;32m~\\AppData\\Local\\Temp\\ipykernel_19244\\3927760301.py\u001b[0m in \u001b[0;36m<module>\u001b[1;34m\u001b[0m\n\u001b[1;32m----> 1\u001b[1;33m \u001b[0mlen\u001b[0m\u001b[1;33m(\u001b[0m\u001b[0mola\u001b[0m\u001b[1;33m)\u001b[0m\u001b[1;33m\u001b[0m\u001b[1;33m\u001b[0m\u001b[0m\n\u001b[0m",
      "\u001b[1;31mNameError\u001b[0m: name 'ola' is not defined"
     ]
    }
   ],
   "source": []
  },
  {
   "cell_type": "markdown",
   "id": "0a31488c-3361-42a4-b151-1b016461951b",
   "metadata": {},
   "source": [
    "3 - Criar uma conta neste site"
   ]
  },
  {
   "cell_type": "markdown",
   "id": "9db26faa-54d7-4e81-b655-dfd243c6774b",
   "metadata": {},
   "source": [
    "https://www.beecrowd.com.br/"
   ]
  }
 ],
 "metadata": {
  "kernelspec": {
   "display_name": "Python 3 (ipykernel)",
   "language": "python",
   "name": "python3"
  },
  "language_info": {
   "codemirror_mode": {
    "name": "ipython",
    "version": 3
   },
   "file_extension": ".py",
   "mimetype": "text/x-python",
   "name": "python",
   "nbconvert_exporter": "python",
   "pygments_lexer": "ipython3",
   "version": "3.9.13"
  }
 },
 "nbformat": 4,
 "nbformat_minor": 5
}
