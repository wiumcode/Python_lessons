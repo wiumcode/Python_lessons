{
 "cells": [
  {
   "cell_type": "markdown",
   "id": "96a6015c-4ab9-431e-9e77-7348af3ff5c8",
   "metadata": {},
   "source": [
    "# Imports"
   ]
  },
  {
   "cell_type": "code",
   "execution_count": 1,
   "id": "89887daa-85ac-4998-9b97-d767aa74de86",
   "metadata": {},
   "outputs": [],
   "source": [
    "import pandas as pd"
   ]
  },
  {
   "cell_type": "markdown",
   "id": "e05f1800-4aa5-4df3-8512-44354a9c43fe",
   "metadata": {},
   "source": [
    "# Inputs"
   ]
  },
  {
   "cell_type": "code",
   "execution_count": 2,
   "id": "3d529673-5de8-4f6a-b0bf-86a3cf0d5501",
   "metadata": {},
   "outputs": [
    {
     "ename": "FileNotFoundError",
     "evalue": "[Errno 2] No such file or directory: 'filmes_starwars.csv'",
     "output_type": "error",
     "traceback": [
      "\u001b[1;31m---------------------------------------------------------------------------\u001b[0m",
      "\u001b[1;31mFileNotFoundError\u001b[0m                         Traceback (most recent call last)",
      "Cell \u001b[1;32mIn[2], line 1\u001b[0m\n\u001b[1;32m----> 1\u001b[0m df_filmes_sw \u001b[38;5;241m=\u001b[39m \u001b[43mpd\u001b[49m\u001b[38;5;241;43m.\u001b[39;49m\u001b[43mread_csv\u001b[49m\u001b[43m(\u001b[49m\u001b[38;5;124;43m\"\u001b[39;49m\u001b[38;5;124;43mfilmes_starwars.csv\u001b[39;49m\u001b[38;5;124;43m\"\u001b[39;49m\u001b[43m,\u001b[49m\u001b[43m \u001b[49m\u001b[43msep\u001b[49m\u001b[38;5;241;43m=\u001b[39;49m\u001b[38;5;124;43m\"\u001b[39;49m\u001b[38;5;124;43m;\u001b[39;49m\u001b[38;5;124;43m\"\u001b[39;49m\u001b[43m)\u001b[49m\n",
      "File \u001b[1;32mc:\\Users\\Proprietario\\AppData\\Local\\Programs\\Python\\Python312\\Lib\\site-packages\\pandas\\io\\parsers\\readers.py:1026\u001b[0m, in \u001b[0;36mread_csv\u001b[1;34m(filepath_or_buffer, sep, delimiter, header, names, index_col, usecols, dtype, engine, converters, true_values, false_values, skipinitialspace, skiprows, skipfooter, nrows, na_values, keep_default_na, na_filter, verbose, skip_blank_lines, parse_dates, infer_datetime_format, keep_date_col, date_parser, date_format, dayfirst, cache_dates, iterator, chunksize, compression, thousands, decimal, lineterminator, quotechar, quoting, doublequote, escapechar, comment, encoding, encoding_errors, dialect, on_bad_lines, delim_whitespace, low_memory, memory_map, float_precision, storage_options, dtype_backend)\u001b[0m\n\u001b[0;32m   1013\u001b[0m kwds_defaults \u001b[38;5;241m=\u001b[39m _refine_defaults_read(\n\u001b[0;32m   1014\u001b[0m     dialect,\n\u001b[0;32m   1015\u001b[0m     delimiter,\n\u001b[1;32m   (...)\u001b[0m\n\u001b[0;32m   1022\u001b[0m     dtype_backend\u001b[38;5;241m=\u001b[39mdtype_backend,\n\u001b[0;32m   1023\u001b[0m )\n\u001b[0;32m   1024\u001b[0m kwds\u001b[38;5;241m.\u001b[39mupdate(kwds_defaults)\n\u001b[1;32m-> 1026\u001b[0m \u001b[38;5;28;01mreturn\u001b[39;00m \u001b[43m_read\u001b[49m\u001b[43m(\u001b[49m\u001b[43mfilepath_or_buffer\u001b[49m\u001b[43m,\u001b[49m\u001b[43m \u001b[49m\u001b[43mkwds\u001b[49m\u001b[43m)\u001b[49m\n",
      "File \u001b[1;32mc:\\Users\\Proprietario\\AppData\\Local\\Programs\\Python\\Python312\\Lib\\site-packages\\pandas\\io\\parsers\\readers.py:620\u001b[0m, in \u001b[0;36m_read\u001b[1;34m(filepath_or_buffer, kwds)\u001b[0m\n\u001b[0;32m    617\u001b[0m _validate_names(kwds\u001b[38;5;241m.\u001b[39mget(\u001b[38;5;124m\"\u001b[39m\u001b[38;5;124mnames\u001b[39m\u001b[38;5;124m\"\u001b[39m, \u001b[38;5;28;01mNone\u001b[39;00m))\n\u001b[0;32m    619\u001b[0m \u001b[38;5;66;03m# Create the parser.\u001b[39;00m\n\u001b[1;32m--> 620\u001b[0m parser \u001b[38;5;241m=\u001b[39m \u001b[43mTextFileReader\u001b[49m\u001b[43m(\u001b[49m\u001b[43mfilepath_or_buffer\u001b[49m\u001b[43m,\u001b[49m\u001b[43m \u001b[49m\u001b[38;5;241;43m*\u001b[39;49m\u001b[38;5;241;43m*\u001b[39;49m\u001b[43mkwds\u001b[49m\u001b[43m)\u001b[49m\n\u001b[0;32m    622\u001b[0m \u001b[38;5;28;01mif\u001b[39;00m chunksize \u001b[38;5;129;01mor\u001b[39;00m iterator:\n\u001b[0;32m    623\u001b[0m     \u001b[38;5;28;01mreturn\u001b[39;00m parser\n",
      "File \u001b[1;32mc:\\Users\\Proprietario\\AppData\\Local\\Programs\\Python\\Python312\\Lib\\site-packages\\pandas\\io\\parsers\\readers.py:1620\u001b[0m, in \u001b[0;36mTextFileReader.__init__\u001b[1;34m(self, f, engine, **kwds)\u001b[0m\n\u001b[0;32m   1617\u001b[0m     \u001b[38;5;28mself\u001b[39m\u001b[38;5;241m.\u001b[39moptions[\u001b[38;5;124m\"\u001b[39m\u001b[38;5;124mhas_index_names\u001b[39m\u001b[38;5;124m\"\u001b[39m] \u001b[38;5;241m=\u001b[39m kwds[\u001b[38;5;124m\"\u001b[39m\u001b[38;5;124mhas_index_names\u001b[39m\u001b[38;5;124m\"\u001b[39m]\n\u001b[0;32m   1619\u001b[0m \u001b[38;5;28mself\u001b[39m\u001b[38;5;241m.\u001b[39mhandles: IOHandles \u001b[38;5;241m|\u001b[39m \u001b[38;5;28;01mNone\u001b[39;00m \u001b[38;5;241m=\u001b[39m \u001b[38;5;28;01mNone\u001b[39;00m\n\u001b[1;32m-> 1620\u001b[0m \u001b[38;5;28mself\u001b[39m\u001b[38;5;241m.\u001b[39m_engine \u001b[38;5;241m=\u001b[39m \u001b[38;5;28;43mself\u001b[39;49m\u001b[38;5;241;43m.\u001b[39;49m\u001b[43m_make_engine\u001b[49m\u001b[43m(\u001b[49m\u001b[43mf\u001b[49m\u001b[43m,\u001b[49m\u001b[43m \u001b[49m\u001b[38;5;28;43mself\u001b[39;49m\u001b[38;5;241;43m.\u001b[39;49m\u001b[43mengine\u001b[49m\u001b[43m)\u001b[49m\n",
      "File \u001b[1;32mc:\\Users\\Proprietario\\AppData\\Local\\Programs\\Python\\Python312\\Lib\\site-packages\\pandas\\io\\parsers\\readers.py:1880\u001b[0m, in \u001b[0;36mTextFileReader._make_engine\u001b[1;34m(self, f, engine)\u001b[0m\n\u001b[0;32m   1878\u001b[0m     \u001b[38;5;28;01mif\u001b[39;00m \u001b[38;5;124m\"\u001b[39m\u001b[38;5;124mb\u001b[39m\u001b[38;5;124m\"\u001b[39m \u001b[38;5;129;01mnot\u001b[39;00m \u001b[38;5;129;01min\u001b[39;00m mode:\n\u001b[0;32m   1879\u001b[0m         mode \u001b[38;5;241m+\u001b[39m\u001b[38;5;241m=\u001b[39m \u001b[38;5;124m\"\u001b[39m\u001b[38;5;124mb\u001b[39m\u001b[38;5;124m\"\u001b[39m\n\u001b[1;32m-> 1880\u001b[0m \u001b[38;5;28mself\u001b[39m\u001b[38;5;241m.\u001b[39mhandles \u001b[38;5;241m=\u001b[39m \u001b[43mget_handle\u001b[49m\u001b[43m(\u001b[49m\n\u001b[0;32m   1881\u001b[0m \u001b[43m    \u001b[49m\u001b[43mf\u001b[49m\u001b[43m,\u001b[49m\n\u001b[0;32m   1882\u001b[0m \u001b[43m    \u001b[49m\u001b[43mmode\u001b[49m\u001b[43m,\u001b[49m\n\u001b[0;32m   1883\u001b[0m \u001b[43m    \u001b[49m\u001b[43mencoding\u001b[49m\u001b[38;5;241;43m=\u001b[39;49m\u001b[38;5;28;43mself\u001b[39;49m\u001b[38;5;241;43m.\u001b[39;49m\u001b[43moptions\u001b[49m\u001b[38;5;241;43m.\u001b[39;49m\u001b[43mget\u001b[49m\u001b[43m(\u001b[49m\u001b[38;5;124;43m\"\u001b[39;49m\u001b[38;5;124;43mencoding\u001b[39;49m\u001b[38;5;124;43m\"\u001b[39;49m\u001b[43m,\u001b[49m\u001b[43m \u001b[49m\u001b[38;5;28;43;01mNone\u001b[39;49;00m\u001b[43m)\u001b[49m\u001b[43m,\u001b[49m\n\u001b[0;32m   1884\u001b[0m \u001b[43m    \u001b[49m\u001b[43mcompression\u001b[49m\u001b[38;5;241;43m=\u001b[39;49m\u001b[38;5;28;43mself\u001b[39;49m\u001b[38;5;241;43m.\u001b[39;49m\u001b[43moptions\u001b[49m\u001b[38;5;241;43m.\u001b[39;49m\u001b[43mget\u001b[49m\u001b[43m(\u001b[49m\u001b[38;5;124;43m\"\u001b[39;49m\u001b[38;5;124;43mcompression\u001b[39;49m\u001b[38;5;124;43m\"\u001b[39;49m\u001b[43m,\u001b[49m\u001b[43m \u001b[49m\u001b[38;5;28;43;01mNone\u001b[39;49;00m\u001b[43m)\u001b[49m\u001b[43m,\u001b[49m\n\u001b[0;32m   1885\u001b[0m \u001b[43m    \u001b[49m\u001b[43mmemory_map\u001b[49m\u001b[38;5;241;43m=\u001b[39;49m\u001b[38;5;28;43mself\u001b[39;49m\u001b[38;5;241;43m.\u001b[39;49m\u001b[43moptions\u001b[49m\u001b[38;5;241;43m.\u001b[39;49m\u001b[43mget\u001b[49m\u001b[43m(\u001b[49m\u001b[38;5;124;43m\"\u001b[39;49m\u001b[38;5;124;43mmemory_map\u001b[39;49m\u001b[38;5;124;43m\"\u001b[39;49m\u001b[43m,\u001b[49m\u001b[43m \u001b[49m\u001b[38;5;28;43;01mFalse\u001b[39;49;00m\u001b[43m)\u001b[49m\u001b[43m,\u001b[49m\n\u001b[0;32m   1886\u001b[0m \u001b[43m    \u001b[49m\u001b[43mis_text\u001b[49m\u001b[38;5;241;43m=\u001b[39;49m\u001b[43mis_text\u001b[49m\u001b[43m,\u001b[49m\n\u001b[0;32m   1887\u001b[0m \u001b[43m    \u001b[49m\u001b[43merrors\u001b[49m\u001b[38;5;241;43m=\u001b[39;49m\u001b[38;5;28;43mself\u001b[39;49m\u001b[38;5;241;43m.\u001b[39;49m\u001b[43moptions\u001b[49m\u001b[38;5;241;43m.\u001b[39;49m\u001b[43mget\u001b[49m\u001b[43m(\u001b[49m\u001b[38;5;124;43m\"\u001b[39;49m\u001b[38;5;124;43mencoding_errors\u001b[39;49m\u001b[38;5;124;43m\"\u001b[39;49m\u001b[43m,\u001b[49m\u001b[43m \u001b[49m\u001b[38;5;124;43m\"\u001b[39;49m\u001b[38;5;124;43mstrict\u001b[39;49m\u001b[38;5;124;43m\"\u001b[39;49m\u001b[43m)\u001b[49m\u001b[43m,\u001b[49m\n\u001b[0;32m   1888\u001b[0m \u001b[43m    \u001b[49m\u001b[43mstorage_options\u001b[49m\u001b[38;5;241;43m=\u001b[39;49m\u001b[38;5;28;43mself\u001b[39;49m\u001b[38;5;241;43m.\u001b[39;49m\u001b[43moptions\u001b[49m\u001b[38;5;241;43m.\u001b[39;49m\u001b[43mget\u001b[49m\u001b[43m(\u001b[49m\u001b[38;5;124;43m\"\u001b[39;49m\u001b[38;5;124;43mstorage_options\u001b[39;49m\u001b[38;5;124;43m\"\u001b[39;49m\u001b[43m,\u001b[49m\u001b[43m \u001b[49m\u001b[38;5;28;43;01mNone\u001b[39;49;00m\u001b[43m)\u001b[49m\u001b[43m,\u001b[49m\n\u001b[0;32m   1889\u001b[0m \u001b[43m\u001b[49m\u001b[43m)\u001b[49m\n\u001b[0;32m   1890\u001b[0m \u001b[38;5;28;01massert\u001b[39;00m \u001b[38;5;28mself\u001b[39m\u001b[38;5;241m.\u001b[39mhandles \u001b[38;5;129;01mis\u001b[39;00m \u001b[38;5;129;01mnot\u001b[39;00m \u001b[38;5;28;01mNone\u001b[39;00m\n\u001b[0;32m   1891\u001b[0m f \u001b[38;5;241m=\u001b[39m \u001b[38;5;28mself\u001b[39m\u001b[38;5;241m.\u001b[39mhandles\u001b[38;5;241m.\u001b[39mhandle\n",
      "File \u001b[1;32mc:\\Users\\Proprietario\\AppData\\Local\\Programs\\Python\\Python312\\Lib\\site-packages\\pandas\\io\\common.py:873\u001b[0m, in \u001b[0;36mget_handle\u001b[1;34m(path_or_buf, mode, encoding, compression, memory_map, is_text, errors, storage_options)\u001b[0m\n\u001b[0;32m    868\u001b[0m \u001b[38;5;28;01melif\u001b[39;00m \u001b[38;5;28misinstance\u001b[39m(handle, \u001b[38;5;28mstr\u001b[39m):\n\u001b[0;32m    869\u001b[0m     \u001b[38;5;66;03m# Check whether the filename is to be opened in binary mode.\u001b[39;00m\n\u001b[0;32m    870\u001b[0m     \u001b[38;5;66;03m# Binary mode does not support 'encoding' and 'newline'.\u001b[39;00m\n\u001b[0;32m    871\u001b[0m     \u001b[38;5;28;01mif\u001b[39;00m ioargs\u001b[38;5;241m.\u001b[39mencoding \u001b[38;5;129;01mand\u001b[39;00m \u001b[38;5;124m\"\u001b[39m\u001b[38;5;124mb\u001b[39m\u001b[38;5;124m\"\u001b[39m \u001b[38;5;129;01mnot\u001b[39;00m \u001b[38;5;129;01min\u001b[39;00m ioargs\u001b[38;5;241m.\u001b[39mmode:\n\u001b[0;32m    872\u001b[0m         \u001b[38;5;66;03m# Encoding\u001b[39;00m\n\u001b[1;32m--> 873\u001b[0m         handle \u001b[38;5;241m=\u001b[39m \u001b[38;5;28;43mopen\u001b[39;49m\u001b[43m(\u001b[49m\n\u001b[0;32m    874\u001b[0m \u001b[43m            \u001b[49m\u001b[43mhandle\u001b[49m\u001b[43m,\u001b[49m\n\u001b[0;32m    875\u001b[0m \u001b[43m            \u001b[49m\u001b[43mioargs\u001b[49m\u001b[38;5;241;43m.\u001b[39;49m\u001b[43mmode\u001b[49m\u001b[43m,\u001b[49m\n\u001b[0;32m    876\u001b[0m \u001b[43m            \u001b[49m\u001b[43mencoding\u001b[49m\u001b[38;5;241;43m=\u001b[39;49m\u001b[43mioargs\u001b[49m\u001b[38;5;241;43m.\u001b[39;49m\u001b[43mencoding\u001b[49m\u001b[43m,\u001b[49m\n\u001b[0;32m    877\u001b[0m \u001b[43m            \u001b[49m\u001b[43merrors\u001b[49m\u001b[38;5;241;43m=\u001b[39;49m\u001b[43merrors\u001b[49m\u001b[43m,\u001b[49m\n\u001b[0;32m    878\u001b[0m \u001b[43m            \u001b[49m\u001b[43mnewline\u001b[49m\u001b[38;5;241;43m=\u001b[39;49m\u001b[38;5;124;43m\"\u001b[39;49m\u001b[38;5;124;43m\"\u001b[39;49m\u001b[43m,\u001b[49m\n\u001b[0;32m    879\u001b[0m \u001b[43m        \u001b[49m\u001b[43m)\u001b[49m\n\u001b[0;32m    880\u001b[0m     \u001b[38;5;28;01melse\u001b[39;00m:\n\u001b[0;32m    881\u001b[0m         \u001b[38;5;66;03m# Binary mode\u001b[39;00m\n\u001b[0;32m    882\u001b[0m         handle \u001b[38;5;241m=\u001b[39m \u001b[38;5;28mopen\u001b[39m(handle, ioargs\u001b[38;5;241m.\u001b[39mmode)\n",
      "\u001b[1;31mFileNotFoundError\u001b[0m: [Errno 2] No such file or directory: 'filmes_starwars.csv'"
     ]
    }
   ],
   "source": [
    "df_filmes_sw = pd.read_csv(\"filmes_starwars.csv\", sep=\";\")"
   ]
  },
  {
   "cell_type": "code",
   "execution_count": null,
   "id": "a347cef2-48da-437f-ad26-3eb446afc3ca",
   "metadata": {},
   "outputs": [
    {
     "data": {
      "text/html": [
       "<div>\n",
       "<style scoped>\n",
       "    .dataframe tbody tr th:only-of-type {\n",
       "        vertical-align: middle;\n",
       "    }\n",
       "\n",
       "    .dataframe tbody tr th {\n",
       "        vertical-align: top;\n",
       "    }\n",
       "\n",
       "    .dataframe thead th {\n",
       "        text-align: right;\n",
       "    }\n",
       "</style>\n",
       "<table border=\"1\" class=\"dataframe\">\n",
       "  <thead>\n",
       "    <tr style=\"text-align: right;\">\n",
       "      <th></th>\n",
       "      <th>titulo</th>\n",
       "      <th>ano</th>\n",
       "      <th>diretor</th>\n",
       "      <th>escritores</th>\n",
       "      <th>atores_principais</th>\n",
       "      <th>atores_principais2</th>\n",
       "      <th>atores_principais3</th>\n",
       "      <th>Unnamed: 7</th>\n",
       "      <th>avaliacao</th>\n",
       "      <th>budget</th>\n",
       "      <th>espectadores</th>\n",
       "    </tr>\n",
       "  </thead>\n",
       "  <tbody>\n",
       "    <tr>\n",
       "      <th>0</th>\n",
       "      <td>Episodio IV: Uma Nova Esperanca</td>\n",
       "      <td>1977</td>\n",
       "      <td>George Lucas</td>\n",
       "      <td>George Lucas</td>\n",
       "      <td>Mark Hamill</td>\n",
       "      <td>Harrison Ford</td>\n",
       "      <td>Carrie Fisher</td>\n",
       "      <td>NaN</td>\n",
       "      <td>6.5</td>\n",
       "      <td>1150000000</td>\n",
       "      <td>262227</td>\n",
       "    </tr>\n",
       "    <tr>\n",
       "      <th>1</th>\n",
       "      <td>Episodio V: O Imperio Contra-Ataca</td>\n",
       "      <td>1980</td>\n",
       "      <td>Irvin Kershner</td>\n",
       "      <td>Leigh Brackett</td>\n",
       "      <td>Mark Hamill</td>\n",
       "      <td>Harrison Ford</td>\n",
       "      <td>Carrie Fisher</td>\n",
       "      <td>NaN</td>\n",
       "      <td>6.6</td>\n",
       "      <td>1150000000</td>\n",
       "      <td>310676</td>\n",
       "    </tr>\n",
       "    <tr>\n",
       "      <th>2</th>\n",
       "      <td>Episodio VI: O Retorno de Jedi</td>\n",
       "      <td>1983</td>\n",
       "      <td>Richard Marquand</td>\n",
       "      <td>George Lucas</td>\n",
       "      <td>Mark Hamill</td>\n",
       "      <td>Harrison Ford</td>\n",
       "      <td>Carrie Fisher</td>\n",
       "      <td>NaN</td>\n",
       "      <td>7.5</td>\n",
       "      <td>1130000000</td>\n",
       "      <td>328802</td>\n",
       "    </tr>\n",
       "    <tr>\n",
       "      <th>3</th>\n",
       "      <td>Episodio I: A Ameaca Fantasma</td>\n",
       "      <td>1999</td>\n",
       "      <td>George Lucas</td>\n",
       "      <td>George Lucas</td>\n",
       "      <td>Liam Neeson</td>\n",
       "      <td>Ewan McGregor</td>\n",
       "      <td>Natalie Portman</td>\n",
       "      <td>NaN</td>\n",
       "      <td>8.6</td>\n",
       "      <td>11000000</td>\n",
       "      <td>775398007</td>\n",
       "    </tr>\n",
       "    <tr>\n",
       "      <th>4</th>\n",
       "      <td>Episodio II: Ataque dos Clones</td>\n",
       "      <td>2002</td>\n",
       "      <td>George Lucas</td>\n",
       "      <td>George Lucas</td>\n",
       "      <td>Hayden Christensen</td>\n",
       "      <td>Ewan McGregor</td>\n",
       "      <td>Natalie Portman</td>\n",
       "      <td>NaN</td>\n",
       "      <td>8.7</td>\n",
       "      <td>18000000</td>\n",
       "      <td>538375067</td>\n",
       "    </tr>\n",
       "  </tbody>\n",
       "</table>\n",
       "</div>"
      ],
      "text/plain": [
       "                               titulo   ano           diretor      escritores  \\\n",
       "0     Episodio IV: Uma Nova Esperanca  1977      George Lucas    George Lucas   \n",
       "1  Episodio V: O Imperio Contra-Ataca  1980    Irvin Kershner  Leigh Brackett   \n",
       "2      Episodio VI: O Retorno de Jedi  1983  Richard Marquand    George Lucas   \n",
       "3       Episodio I: A Ameaca Fantasma  1999      George Lucas    George Lucas   \n",
       "4      Episodio II: Ataque dos Clones  2002      George Lucas    George Lucas   \n",
       "\n",
       "     atores_principais atores_principais2 atores_principais3  Unnamed: 7  \\\n",
       "0          Mark Hamill      Harrison Ford      Carrie Fisher         NaN   \n",
       "1          Mark Hamill      Harrison Ford      Carrie Fisher         NaN   \n",
       "2          Mark Hamill      Harrison Ford      Carrie Fisher         NaN   \n",
       "3          Liam Neeson      Ewan McGregor    Natalie Portman         NaN   \n",
       "4   Hayden Christensen      Ewan McGregor    Natalie Portman         NaN   \n",
       "\n",
       "   avaliacao      budget  espectadores  \n",
       "0        6.5  1150000000        262227  \n",
       "1        6.6  1150000000        310676  \n",
       "2        7.5  1130000000        328802  \n",
       "3        8.6    11000000     775398007  \n",
       "4        8.7    18000000     538375067  "
      ]
     },
     "execution_count": 76,
     "metadata": {},
     "output_type": "execute_result"
    }
   ],
   "source": [
    "df_filmes_sw.head()"
   ]
  },
  {
   "cell_type": "code",
   "execution_count": null,
   "id": "e4c6c538-1d3d-4c96-a05f-864f2efb1104",
   "metadata": {},
   "outputs": [
    {
     "data": {
      "text/plain": [
       "(9, 10)"
      ]
     },
     "execution_count": 100,
     "metadata": {},
     "output_type": "execute_result"
    }
   ],
   "source": [
    "df_filmes_sw.shape"
   ]
  },
  {
   "cell_type": "code",
   "execution_count": null,
   "id": "986e2ad5-8d28-45c1-a13d-ca82c4013826",
   "metadata": {},
   "outputs": [],
   "source": [
    "df_curiosidades_sw = pd.read_csv(\"curiosidades_starwars.csv\")"
   ]
  },
  {
   "cell_type": "code",
   "execution_count": null,
   "id": "18190bce-708d-44e6-883c-f58a15fd832f",
   "metadata": {},
   "outputs": [
    {
     "data": {
      "text/html": [
       "<div>\n",
       "<style scoped>\n",
       "    .dataframe tbody tr th:only-of-type {\n",
       "        vertical-align: middle;\n",
       "    }\n",
       "\n",
       "    .dataframe tbody tr th {\n",
       "        vertical-align: top;\n",
       "    }\n",
       "\n",
       "    .dataframe thead th {\n",
       "        text-align: right;\n",
       "    }\n",
       "</style>\n",
       "<table border=\"1\" class=\"dataframe\">\n",
       "  <thead>\n",
       "    <tr style=\"text-align: right;\">\n",
       "      <th></th>\n",
       "      <th>nome</th>\n",
       "      <th>descricao</th>\n",
       "      <th>tipo</th>\n",
       "    </tr>\n",
       "  </thead>\n",
       "  <tbody>\n",
       "    <tr>\n",
       "      <th>0</th>\n",
       "      <td>Tatooine</td>\n",
       "      <td>Um deserto árido e remoto no sistema Tatoo</td>\n",
       "      <td>Planeta</td>\n",
       "    </tr>\n",
       "    <tr>\n",
       "      <th>1</th>\n",
       "      <td>Hoth</td>\n",
       "      <td>Um planeta gelado e inóspito</td>\n",
       "      <td>Planeta</td>\n",
       "    </tr>\n",
       "    <tr>\n",
       "      <th>2</th>\n",
       "      <td>Coruscant</td>\n",
       "      <td>Um planeta-cidade do centro da galáxia</td>\n",
       "      <td>Planeta</td>\n",
       "    </tr>\n",
       "    <tr>\n",
       "      <th>3</th>\n",
       "      <td>Naboo</td>\n",
       "      <td>Um planeta cheio de beleza natural e cultura s...</td>\n",
       "      <td>Planeta</td>\n",
       "    </tr>\n",
       "    <tr>\n",
       "      <th>4</th>\n",
       "      <td>Bespin</td>\n",
       "      <td>Um planeta gasoso com cidades flutuantes</td>\n",
       "      <td>Planeta</td>\n",
       "    </tr>\n",
       "  </tbody>\n",
       "</table>\n",
       "</div>"
      ],
      "text/plain": [
       "        nome                                          descricao     tipo\n",
       "0   Tatooine         Um deserto árido e remoto no sistema Tatoo  Planeta\n",
       "1       Hoth                       Um planeta gelado e inóspito  Planeta\n",
       "2  Coruscant             Um planeta-cidade do centro da galáxia  Planeta\n",
       "3      Naboo  Um planeta cheio de beleza natural e cultura s...  Planeta\n",
       "4     Bespin           Um planeta gasoso com cidades flutuantes  Planeta"
      ]
     },
     "execution_count": 78,
     "metadata": {},
     "output_type": "execute_result"
    }
   ],
   "source": [
    "df_curiosidades_sw.head()"
   ]
  },
  {
   "cell_type": "code",
   "execution_count": null,
   "id": "8336ae95-9bbf-4079-af44-3ed5ece0b3b3",
   "metadata": {},
   "outputs": [
    {
     "data": {
      "text/plain": [
       "(22, 3)"
      ]
     },
     "execution_count": 101,
     "metadata": {},
     "output_type": "execute_result"
    }
   ],
   "source": [
    "df_curiosidades_sw.shape"
   ]
  },
  {
   "cell_type": "markdown",
   "id": "0e7af4b8-5b40-4853-b09f-fccd1cebf6ba",
   "metadata": {},
   "source": [
    "# Deletando colunas"
   ]
  },
  {
   "cell_type": "code",
   "execution_count": null,
   "id": "69896196-18fd-47b2-bee8-97024fa21db2",
   "metadata": {
    "tags": []
   },
   "outputs": [],
   "source": [
    "df_filmes_sw.drop(\"Unnamed: 7\", axis=1, inplace=True)   # axis = co1umn e axis = r0w"
   ]
  },
  {
   "cell_type": "code",
   "execution_count": null,
   "id": "9f4abd18-f79b-4146-a015-eef0b22bd330",
   "metadata": {},
   "outputs": [
    {
     "data": {
      "text/html": [
       "<div>\n",
       "<style scoped>\n",
       "    .dataframe tbody tr th:only-of-type {\n",
       "        vertical-align: middle;\n",
       "    }\n",
       "\n",
       "    .dataframe tbody tr th {\n",
       "        vertical-align: top;\n",
       "    }\n",
       "\n",
       "    .dataframe thead th {\n",
       "        text-align: right;\n",
       "    }\n",
       "</style>\n",
       "<table border=\"1\" class=\"dataframe\">\n",
       "  <thead>\n",
       "    <tr style=\"text-align: right;\">\n",
       "      <th></th>\n",
       "      <th>titulo</th>\n",
       "      <th>ano</th>\n",
       "      <th>diretor</th>\n",
       "      <th>escritores</th>\n",
       "      <th>atores_principais</th>\n",
       "      <th>atores_principais2</th>\n",
       "      <th>atores_principais3</th>\n",
       "      <th>avaliacao</th>\n",
       "      <th>budget</th>\n",
       "      <th>espectadores</th>\n",
       "    </tr>\n",
       "  </thead>\n",
       "  <tbody>\n",
       "    <tr>\n",
       "      <th>0</th>\n",
       "      <td>Episodio IV: Uma Nova Esperanca</td>\n",
       "      <td>1977</td>\n",
       "      <td>George Lucas</td>\n",
       "      <td>George Lucas</td>\n",
       "      <td>Mark Hamill</td>\n",
       "      <td>Harrison Ford</td>\n",
       "      <td>Carrie Fisher</td>\n",
       "      <td>6.5</td>\n",
       "      <td>1150000000</td>\n",
       "      <td>262227</td>\n",
       "    </tr>\n",
       "    <tr>\n",
       "      <th>1</th>\n",
       "      <td>Episodio V: O Imperio Contra-Ataca</td>\n",
       "      <td>1980</td>\n",
       "      <td>Irvin Kershner</td>\n",
       "      <td>Leigh Brackett</td>\n",
       "      <td>Mark Hamill</td>\n",
       "      <td>Harrison Ford</td>\n",
       "      <td>Carrie Fisher</td>\n",
       "      <td>6.6</td>\n",
       "      <td>1150000000</td>\n",
       "      <td>310676</td>\n",
       "    </tr>\n",
       "    <tr>\n",
       "      <th>2</th>\n",
       "      <td>Episodio VI: O Retorno de Jedi</td>\n",
       "      <td>1983</td>\n",
       "      <td>Richard Marquand</td>\n",
       "      <td>George Lucas</td>\n",
       "      <td>Mark Hamill</td>\n",
       "      <td>Harrison Ford</td>\n",
       "      <td>Carrie Fisher</td>\n",
       "      <td>7.5</td>\n",
       "      <td>1130000000</td>\n",
       "      <td>328802</td>\n",
       "    </tr>\n",
       "    <tr>\n",
       "      <th>3</th>\n",
       "      <td>Episodio I: A Ameaca Fantasma</td>\n",
       "      <td>1999</td>\n",
       "      <td>George Lucas</td>\n",
       "      <td>George Lucas</td>\n",
       "      <td>Liam Neeson</td>\n",
       "      <td>Ewan McGregor</td>\n",
       "      <td>Natalie Portman</td>\n",
       "      <td>8.6</td>\n",
       "      <td>11000000</td>\n",
       "      <td>775398007</td>\n",
       "    </tr>\n",
       "    <tr>\n",
       "      <th>4</th>\n",
       "      <td>Episodio II: Ataque dos Clones</td>\n",
       "      <td>2002</td>\n",
       "      <td>George Lucas</td>\n",
       "      <td>George Lucas</td>\n",
       "      <td>Hayden Christensen</td>\n",
       "      <td>Ewan McGregor</td>\n",
       "      <td>Natalie Portman</td>\n",
       "      <td>8.7</td>\n",
       "      <td>18000000</td>\n",
       "      <td>538375067</td>\n",
       "    </tr>\n",
       "  </tbody>\n",
       "</table>\n",
       "</div>"
      ],
      "text/plain": [
       "                               titulo   ano           diretor      escritores  \\\n",
       "0     Episodio IV: Uma Nova Esperanca  1977      George Lucas    George Lucas   \n",
       "1  Episodio V: O Imperio Contra-Ataca  1980    Irvin Kershner  Leigh Brackett   \n",
       "2      Episodio VI: O Retorno de Jedi  1983  Richard Marquand    George Lucas   \n",
       "3       Episodio I: A Ameaca Fantasma  1999      George Lucas    George Lucas   \n",
       "4      Episodio II: Ataque dos Clones  2002      George Lucas    George Lucas   \n",
       "\n",
       "     atores_principais atores_principais2 atores_principais3  avaliacao  \\\n",
       "0          Mark Hamill      Harrison Ford      Carrie Fisher        6.5   \n",
       "1          Mark Hamill      Harrison Ford      Carrie Fisher        6.6   \n",
       "2          Mark Hamill      Harrison Ford      Carrie Fisher        7.5   \n",
       "3          Liam Neeson      Ewan McGregor    Natalie Portman        8.6   \n",
       "4   Hayden Christensen      Ewan McGregor    Natalie Portman        8.7   \n",
       "\n",
       "       budget  espectadores  \n",
       "0  1150000000        262227  \n",
       "1  1150000000        310676  \n",
       "2  1130000000        328802  \n",
       "3    11000000     775398007  \n",
       "4    18000000     538375067  "
      ]
     },
     "execution_count": 80,
     "metadata": {},
     "output_type": "execute_result"
    }
   ],
   "source": [
    "df_filmes_sw.head()"
   ]
  },
  {
   "cell_type": "markdown",
   "id": "fff13731-ee3b-41de-ac68-35b0feb2a26d",
   "metadata": {},
   "source": [
    "# Adicionando colunas"
   ]
  },
  {
   "cell_type": "code",
   "execution_count": null,
   "id": "fb689431-eb4c-4ecb-9034-b914e52f5721",
   "metadata": {},
   "outputs": [],
   "source": [
    "df_filmes_sw[\"oscars\"] = [10, 5, 2, 1, 0, 2, 3, 0, 0]"
   ]
  },
  {
   "cell_type": "code",
   "execution_count": null,
   "id": "4dfe93d5-09b5-4ef9-9962-cb1cc32f51c0",
   "metadata": {},
   "outputs": [
    {
     "data": {
      "text/html": [
       "<div>\n",
       "<style scoped>\n",
       "    .dataframe tbody tr th:only-of-type {\n",
       "        vertical-align: middle;\n",
       "    }\n",
       "\n",
       "    .dataframe tbody tr th {\n",
       "        vertical-align: top;\n",
       "    }\n",
       "\n",
       "    .dataframe thead th {\n",
       "        text-align: right;\n",
       "    }\n",
       "</style>\n",
       "<table border=\"1\" class=\"dataframe\">\n",
       "  <thead>\n",
       "    <tr style=\"text-align: right;\">\n",
       "      <th></th>\n",
       "      <th>titulo</th>\n",
       "      <th>ano</th>\n",
       "      <th>diretor</th>\n",
       "      <th>escritor_principal</th>\n",
       "      <th>ator_principal</th>\n",
       "      <th>coadjuvante1</th>\n",
       "      <th>coadjuvante2</th>\n",
       "      <th>avaliacao</th>\n",
       "      <th>budget</th>\n",
       "      <th>espectadores</th>\n",
       "      <th>oscars</th>\n",
       "    </tr>\n",
       "  </thead>\n",
       "  <tbody>\n",
       "    <tr>\n",
       "      <th>0</th>\n",
       "      <td>Episodio IV: Uma Nova Esperanca</td>\n",
       "      <td>1977</td>\n",
       "      <td>George Lucas</td>\n",
       "      <td>George Lucas</td>\n",
       "      <td>Mark Hamill</td>\n",
       "      <td>Harrison Ford</td>\n",
       "      <td>Carrie Fisher</td>\n",
       "      <td>6.5</td>\n",
       "      <td>1150000000</td>\n",
       "      <td>262227</td>\n",
       "      <td>10</td>\n",
       "    </tr>\n",
       "    <tr>\n",
       "      <th>1</th>\n",
       "      <td>Episodio V: O Imperio Contra-Ataca</td>\n",
       "      <td>1980</td>\n",
       "      <td>Irvin Kershner</td>\n",
       "      <td>Leigh Brackett</td>\n",
       "      <td>Mark Hamill</td>\n",
       "      <td>Harrison Ford</td>\n",
       "      <td>Carrie Fisher</td>\n",
       "      <td>6.6</td>\n",
       "      <td>1150000000</td>\n",
       "      <td>310676</td>\n",
       "      <td>5</td>\n",
       "    </tr>\n",
       "    <tr>\n",
       "      <th>2</th>\n",
       "      <td>Episodio VI: O Retorno de Jedi</td>\n",
       "      <td>1983</td>\n",
       "      <td>Richard Marquand</td>\n",
       "      <td>George Lucas</td>\n",
       "      <td>Mark Hamill</td>\n",
       "      <td>Harrison Ford</td>\n",
       "      <td>Carrie Fisher</td>\n",
       "      <td>7.5</td>\n",
       "      <td>1130000000</td>\n",
       "      <td>328802</td>\n",
       "      <td>2</td>\n",
       "    </tr>\n",
       "    <tr>\n",
       "      <th>3</th>\n",
       "      <td>Episodio I: A Ameaca Fantasma</td>\n",
       "      <td>1999</td>\n",
       "      <td>George Lucas</td>\n",
       "      <td>George Lucas</td>\n",
       "      <td>Liam Neeson</td>\n",
       "      <td>Ewan McGregor</td>\n",
       "      <td>Natalie Portman</td>\n",
       "      <td>8.6</td>\n",
       "      <td>11000000</td>\n",
       "      <td>775398007</td>\n",
       "      <td>1</td>\n",
       "    </tr>\n",
       "    <tr>\n",
       "      <th>4</th>\n",
       "      <td>Episodio II: Ataque dos Clones</td>\n",
       "      <td>2002</td>\n",
       "      <td>George Lucas</td>\n",
       "      <td>George Lucas</td>\n",
       "      <td>Hayden Christensen</td>\n",
       "      <td>Ewan McGregor</td>\n",
       "      <td>Natalie Portman</td>\n",
       "      <td>8.7</td>\n",
       "      <td>18000000</td>\n",
       "      <td>538375067</td>\n",
       "      <td>0</td>\n",
       "    </tr>\n",
       "  </tbody>\n",
       "</table>\n",
       "</div>"
      ],
      "text/plain": [
       "                               titulo   ano           diretor  \\\n",
       "0     Episodio IV: Uma Nova Esperanca  1977      George Lucas   \n",
       "1  Episodio V: O Imperio Contra-Ataca  1980    Irvin Kershner   \n",
       "2      Episodio VI: O Retorno de Jedi  1983  Richard Marquand   \n",
       "3       Episodio I: A Ameaca Fantasma  1999      George Lucas   \n",
       "4      Episodio II: Ataque dos Clones  2002      George Lucas   \n",
       "\n",
       "  escritor_principal       ator_principal    coadjuvante1      coadjuvante2  \\\n",
       "0       George Lucas          Mark Hamill   Harrison Ford     Carrie Fisher   \n",
       "1     Leigh Brackett          Mark Hamill   Harrison Ford     Carrie Fisher   \n",
       "2       George Lucas          Mark Hamill   Harrison Ford     Carrie Fisher   \n",
       "3       George Lucas          Liam Neeson   Ewan McGregor   Natalie Portman   \n",
       "4       George Lucas   Hayden Christensen   Ewan McGregor   Natalie Portman   \n",
       "\n",
       "   avaliacao      budget  espectadores  oscars  \n",
       "0        6.5  1150000000        262227      10  \n",
       "1        6.6  1150000000        310676       5  \n",
       "2        7.5  1130000000        328802       2  \n",
       "3        8.6    11000000     775398007       1  \n",
       "4        8.7    18000000     538375067       0  "
      ]
     },
     "execution_count": 103,
     "metadata": {},
     "output_type": "execute_result"
    }
   ],
   "source": [
    "df_filmes_sw.head()"
   ]
  },
  {
   "cell_type": "code",
   "execution_count": null,
   "id": "f1543172-6c1e-467c-a278-458b45b9e2b1",
   "metadata": {},
   "outputs": [],
   "source": [
    "df_filmes_sw[\"diferenca_ano_atual\"] =  2023-df_filmes_sw[\"ano\"]"
   ]
  },
  {
   "cell_type": "code",
   "execution_count": null,
   "id": "ec8c0aec-f846-4921-a377-378d7c29eabf",
   "metadata": {},
   "outputs": [
    {
     "data": {
      "text/html": [
       "<div>\n",
       "<style scoped>\n",
       "    .dataframe tbody tr th:only-of-type {\n",
       "        vertical-align: middle;\n",
       "    }\n",
       "\n",
       "    .dataframe tbody tr th {\n",
       "        vertical-align: top;\n",
       "    }\n",
       "\n",
       "    .dataframe thead th {\n",
       "        text-align: right;\n",
       "    }\n",
       "</style>\n",
       "<table border=\"1\" class=\"dataframe\">\n",
       "  <thead>\n",
       "    <tr style=\"text-align: right;\">\n",
       "      <th></th>\n",
       "      <th>titulo</th>\n",
       "      <th>ano</th>\n",
       "      <th>diretor</th>\n",
       "      <th>escritor_principal</th>\n",
       "      <th>ator_principal</th>\n",
       "      <th>coadjuvante1</th>\n",
       "      <th>coadjuvante2</th>\n",
       "      <th>avaliacao</th>\n",
       "      <th>budget</th>\n",
       "      <th>espectadores</th>\n",
       "      <th>oscars</th>\n",
       "      <th>diferenca_ano_atual</th>\n",
       "    </tr>\n",
       "  </thead>\n",
       "  <tbody>\n",
       "    <tr>\n",
       "      <th>0</th>\n",
       "      <td>Episodio IV: Uma Nova Esperanca</td>\n",
       "      <td>1977</td>\n",
       "      <td>George Lucas</td>\n",
       "      <td>George Lucas</td>\n",
       "      <td>Mark Hamill</td>\n",
       "      <td>Harrison Ford</td>\n",
       "      <td>Carrie Fisher</td>\n",
       "      <td>6.5</td>\n",
       "      <td>1150000000</td>\n",
       "      <td>262227</td>\n",
       "      <td>10</td>\n",
       "      <td>46</td>\n",
       "    </tr>\n",
       "    <tr>\n",
       "      <th>1</th>\n",
       "      <td>Episodio V: O Imperio Contra-Ataca</td>\n",
       "      <td>1980</td>\n",
       "      <td>Irvin Kershner</td>\n",
       "      <td>Leigh Brackett</td>\n",
       "      <td>Mark Hamill</td>\n",
       "      <td>Harrison Ford</td>\n",
       "      <td>Carrie Fisher</td>\n",
       "      <td>6.6</td>\n",
       "      <td>1150000000</td>\n",
       "      <td>310676</td>\n",
       "      <td>5</td>\n",
       "      <td>43</td>\n",
       "    </tr>\n",
       "    <tr>\n",
       "      <th>2</th>\n",
       "      <td>Episodio VI: O Retorno de Jedi</td>\n",
       "      <td>1983</td>\n",
       "      <td>Richard Marquand</td>\n",
       "      <td>George Lucas</td>\n",
       "      <td>Mark Hamill</td>\n",
       "      <td>Harrison Ford</td>\n",
       "      <td>Carrie Fisher</td>\n",
       "      <td>7.5</td>\n",
       "      <td>1130000000</td>\n",
       "      <td>328802</td>\n",
       "      <td>2</td>\n",
       "      <td>40</td>\n",
       "    </tr>\n",
       "    <tr>\n",
       "      <th>3</th>\n",
       "      <td>Episodio I: A Ameaca Fantasma</td>\n",
       "      <td>1999</td>\n",
       "      <td>George Lucas</td>\n",
       "      <td>George Lucas</td>\n",
       "      <td>Liam Neeson</td>\n",
       "      <td>Ewan McGregor</td>\n",
       "      <td>Natalie Portman</td>\n",
       "      <td>8.6</td>\n",
       "      <td>11000000</td>\n",
       "      <td>775398007</td>\n",
       "      <td>1</td>\n",
       "      <td>24</td>\n",
       "    </tr>\n",
       "    <tr>\n",
       "      <th>4</th>\n",
       "      <td>Episodio II: Ataque dos Clones</td>\n",
       "      <td>2002</td>\n",
       "      <td>George Lucas</td>\n",
       "      <td>George Lucas</td>\n",
       "      <td>Hayden Christensen</td>\n",
       "      <td>Ewan McGregor</td>\n",
       "      <td>Natalie Portman</td>\n",
       "      <td>8.7</td>\n",
       "      <td>18000000</td>\n",
       "      <td>538375067</td>\n",
       "      <td>0</td>\n",
       "      <td>21</td>\n",
       "    </tr>\n",
       "  </tbody>\n",
       "</table>\n",
       "</div>"
      ],
      "text/plain": [
       "                               titulo   ano           diretor  \\\n",
       "0     Episodio IV: Uma Nova Esperanca  1977      George Lucas   \n",
       "1  Episodio V: O Imperio Contra-Ataca  1980    Irvin Kershner   \n",
       "2      Episodio VI: O Retorno de Jedi  1983  Richard Marquand   \n",
       "3       Episodio I: A Ameaca Fantasma  1999      George Lucas   \n",
       "4      Episodio II: Ataque dos Clones  2002      George Lucas   \n",
       "\n",
       "  escritor_principal       ator_principal    coadjuvante1      coadjuvante2  \\\n",
       "0       George Lucas          Mark Hamill   Harrison Ford     Carrie Fisher   \n",
       "1     Leigh Brackett          Mark Hamill   Harrison Ford     Carrie Fisher   \n",
       "2       George Lucas          Mark Hamill   Harrison Ford     Carrie Fisher   \n",
       "3       George Lucas          Liam Neeson   Ewan McGregor   Natalie Portman   \n",
       "4       George Lucas   Hayden Christensen   Ewan McGregor   Natalie Portman   \n",
       "\n",
       "   avaliacao      budget  espectadores  oscars  diferenca_ano_atual  \n",
       "0        6.5  1150000000        262227      10                   46  \n",
       "1        6.6  1150000000        310676       5                   43  \n",
       "2        7.5  1130000000        328802       2                   40  \n",
       "3        8.6    11000000     775398007       1                   24  \n",
       "4        8.7    18000000     538375067       0                   21  "
      ]
     },
     "execution_count": 105,
     "metadata": {},
     "output_type": "execute_result"
    }
   ],
   "source": [
    "df_filmes_sw.head()"
   ]
  },
  {
   "cell_type": "markdown",
   "id": "087bc39a-496a-4480-bfbb-89fbed7b0dbb",
   "metadata": {
    "tags": []
   },
   "source": [
    "# Nomeando colunas"
   ]
  },
  {
   "cell_type": "code",
   "execution_count": null,
   "id": "f9583114-7d8c-4a6f-a31e-170596f080d2",
   "metadata": {},
   "outputs": [],
   "source": [
    "df_filmes_sw.columns = [\"titulo\", \"ano\", \"diretor\",\"escritores\",\"atores_principais\",\"coadjuvante1\", \"coadjuvante2\", \"avaliacao\",\t\"budget\", \t\"espectadores\" ] "
   ]
  },
  {
   "cell_type": "code",
   "execution_count": null,
   "id": "78ea97d0-332e-483f-9706-808454b562c5",
   "metadata": {},
   "outputs": [
    {
     "data": {
      "text/html": [
       "<div>\n",
       "<style scoped>\n",
       "    .dataframe tbody tr th:only-of-type {\n",
       "        vertical-align: middle;\n",
       "    }\n",
       "\n",
       "    .dataframe tbody tr th {\n",
       "        vertical-align: top;\n",
       "    }\n",
       "\n",
       "    .dataframe thead th {\n",
       "        text-align: right;\n",
       "    }\n",
       "</style>\n",
       "<table border=\"1\" class=\"dataframe\">\n",
       "  <thead>\n",
       "    <tr style=\"text-align: right;\">\n",
       "      <th></th>\n",
       "      <th>titulo</th>\n",
       "      <th>ano</th>\n",
       "      <th>diretor</th>\n",
       "      <th>escritores</th>\n",
       "      <th>atores_principais</th>\n",
       "      <th>coadjuvante1</th>\n",
       "      <th>coadjuvante2</th>\n",
       "      <th>avaliacao</th>\n",
       "      <th>budget</th>\n",
       "      <th>espectadores</th>\n",
       "    </tr>\n",
       "  </thead>\n",
       "  <tbody>\n",
       "    <tr>\n",
       "      <th>0</th>\n",
       "      <td>Episodio IV: Uma Nova Esperanca</td>\n",
       "      <td>1977</td>\n",
       "      <td>George Lucas</td>\n",
       "      <td>George Lucas</td>\n",
       "      <td>Mark Hamill</td>\n",
       "      <td>Harrison Ford</td>\n",
       "      <td>Carrie Fisher</td>\n",
       "      <td>6.5</td>\n",
       "      <td>1150000000</td>\n",
       "      <td>262227</td>\n",
       "    </tr>\n",
       "    <tr>\n",
       "      <th>1</th>\n",
       "      <td>Episodio V: O Imperio Contra-Ataca</td>\n",
       "      <td>1980</td>\n",
       "      <td>Irvin Kershner</td>\n",
       "      <td>Leigh Brackett</td>\n",
       "      <td>Mark Hamill</td>\n",
       "      <td>Harrison Ford</td>\n",
       "      <td>Carrie Fisher</td>\n",
       "      <td>6.6</td>\n",
       "      <td>1150000000</td>\n",
       "      <td>310676</td>\n",
       "    </tr>\n",
       "    <tr>\n",
       "      <th>2</th>\n",
       "      <td>Episodio VI: O Retorno de Jedi</td>\n",
       "      <td>1983</td>\n",
       "      <td>Richard Marquand</td>\n",
       "      <td>George Lucas</td>\n",
       "      <td>Mark Hamill</td>\n",
       "      <td>Harrison Ford</td>\n",
       "      <td>Carrie Fisher</td>\n",
       "      <td>7.5</td>\n",
       "      <td>1130000000</td>\n",
       "      <td>328802</td>\n",
       "    </tr>\n",
       "    <tr>\n",
       "      <th>3</th>\n",
       "      <td>Episodio I: A Ameaca Fantasma</td>\n",
       "      <td>1999</td>\n",
       "      <td>George Lucas</td>\n",
       "      <td>George Lucas</td>\n",
       "      <td>Liam Neeson</td>\n",
       "      <td>Ewan McGregor</td>\n",
       "      <td>Natalie Portman</td>\n",
       "      <td>8.6</td>\n",
       "      <td>11000000</td>\n",
       "      <td>775398007</td>\n",
       "    </tr>\n",
       "    <tr>\n",
       "      <th>4</th>\n",
       "      <td>Episodio II: Ataque dos Clones</td>\n",
       "      <td>2002</td>\n",
       "      <td>George Lucas</td>\n",
       "      <td>George Lucas</td>\n",
       "      <td>Hayden Christensen</td>\n",
       "      <td>Ewan McGregor</td>\n",
       "      <td>Natalie Portman</td>\n",
       "      <td>8.7</td>\n",
       "      <td>18000000</td>\n",
       "      <td>538375067</td>\n",
       "    </tr>\n",
       "  </tbody>\n",
       "</table>\n",
       "</div>"
      ],
      "text/plain": [
       "                               titulo   ano           diretor      escritores  \\\n",
       "0     Episodio IV: Uma Nova Esperanca  1977      George Lucas    George Lucas   \n",
       "1  Episodio V: O Imperio Contra-Ataca  1980    Irvin Kershner  Leigh Brackett   \n",
       "2      Episodio VI: O Retorno de Jedi  1983  Richard Marquand    George Lucas   \n",
       "3       Episodio I: A Ameaca Fantasma  1999      George Lucas    George Lucas   \n",
       "4      Episodio II: Ataque dos Clones  2002      George Lucas    George Lucas   \n",
       "\n",
       "     atores_principais    coadjuvante1      coadjuvante2  avaliacao  \\\n",
       "0          Mark Hamill   Harrison Ford     Carrie Fisher        6.5   \n",
       "1          Mark Hamill   Harrison Ford     Carrie Fisher        6.6   \n",
       "2          Mark Hamill   Harrison Ford     Carrie Fisher        7.5   \n",
       "3          Liam Neeson   Ewan McGregor   Natalie Portman        8.6   \n",
       "4   Hayden Christensen   Ewan McGregor   Natalie Portman        8.7   \n",
       "\n",
       "       budget  espectadores  \n",
       "0  1150000000        262227  \n",
       "1  1150000000        310676  \n",
       "2  1130000000        328802  \n",
       "3    11000000     775398007  \n",
       "4    18000000     538375067  "
      ]
     },
     "execution_count": 82,
     "metadata": {},
     "output_type": "execute_result"
    }
   ],
   "source": [
    "df_filmes_sw.head()"
   ]
  },
  {
   "cell_type": "code",
   "execution_count": null,
   "id": "4defa0a7-4607-4ff4-96a9-e4ad97f227f4",
   "metadata": {},
   "outputs": [],
   "source": [
    "df_filmes_sw.rename(columns={\"escritores\":\"escritor_principal\", \"atores_principais\":\"ator_principal\"}, inplace=True) "
   ]
  },
  {
   "cell_type": "code",
   "execution_count": null,
   "id": "c96fba11-93e8-4775-b794-503e15d3e2db",
   "metadata": {},
   "outputs": [
    {
     "data": {
      "text/html": [
       "<div>\n",
       "<style scoped>\n",
       "    .dataframe tbody tr th:only-of-type {\n",
       "        vertical-align: middle;\n",
       "    }\n",
       "\n",
       "    .dataframe tbody tr th {\n",
       "        vertical-align: top;\n",
       "    }\n",
       "\n",
       "    .dataframe thead th {\n",
       "        text-align: right;\n",
       "    }\n",
       "</style>\n",
       "<table border=\"1\" class=\"dataframe\">\n",
       "  <thead>\n",
       "    <tr style=\"text-align: right;\">\n",
       "      <th></th>\n",
       "      <th>titulo</th>\n",
       "      <th>ano</th>\n",
       "      <th>diretor</th>\n",
       "      <th>escritor_principal</th>\n",
       "      <th>ator_principal</th>\n",
       "      <th>coadjuvante1</th>\n",
       "      <th>coadjuvante2</th>\n",
       "      <th>avaliacao</th>\n",
       "      <th>budget</th>\n",
       "      <th>espectadores</th>\n",
       "    </tr>\n",
       "  </thead>\n",
       "  <tbody>\n",
       "    <tr>\n",
       "      <th>0</th>\n",
       "      <td>Episodio IV: Uma Nova Esperanca</td>\n",
       "      <td>1977</td>\n",
       "      <td>George Lucas</td>\n",
       "      <td>George Lucas</td>\n",
       "      <td>Mark Hamill</td>\n",
       "      <td>Harrison Ford</td>\n",
       "      <td>Carrie Fisher</td>\n",
       "      <td>6.5</td>\n",
       "      <td>1150000000</td>\n",
       "      <td>262227</td>\n",
       "    </tr>\n",
       "    <tr>\n",
       "      <th>1</th>\n",
       "      <td>Episodio V: O Imperio Contra-Ataca</td>\n",
       "      <td>1980</td>\n",
       "      <td>Irvin Kershner</td>\n",
       "      <td>Leigh Brackett</td>\n",
       "      <td>Mark Hamill</td>\n",
       "      <td>Harrison Ford</td>\n",
       "      <td>Carrie Fisher</td>\n",
       "      <td>6.6</td>\n",
       "      <td>1150000000</td>\n",
       "      <td>310676</td>\n",
       "    </tr>\n",
       "    <tr>\n",
       "      <th>2</th>\n",
       "      <td>Episodio VI: O Retorno de Jedi</td>\n",
       "      <td>1983</td>\n",
       "      <td>Richard Marquand</td>\n",
       "      <td>George Lucas</td>\n",
       "      <td>Mark Hamill</td>\n",
       "      <td>Harrison Ford</td>\n",
       "      <td>Carrie Fisher</td>\n",
       "      <td>7.5</td>\n",
       "      <td>1130000000</td>\n",
       "      <td>328802</td>\n",
       "    </tr>\n",
       "    <tr>\n",
       "      <th>3</th>\n",
       "      <td>Episodio I: A Ameaca Fantasma</td>\n",
       "      <td>1999</td>\n",
       "      <td>George Lucas</td>\n",
       "      <td>George Lucas</td>\n",
       "      <td>Liam Neeson</td>\n",
       "      <td>Ewan McGregor</td>\n",
       "      <td>Natalie Portman</td>\n",
       "      <td>8.6</td>\n",
       "      <td>11000000</td>\n",
       "      <td>775398007</td>\n",
       "    </tr>\n",
       "    <tr>\n",
       "      <th>4</th>\n",
       "      <td>Episodio II: Ataque dos Clones</td>\n",
       "      <td>2002</td>\n",
       "      <td>George Lucas</td>\n",
       "      <td>George Lucas</td>\n",
       "      <td>Hayden Christensen</td>\n",
       "      <td>Ewan McGregor</td>\n",
       "      <td>Natalie Portman</td>\n",
       "      <td>8.7</td>\n",
       "      <td>18000000</td>\n",
       "      <td>538375067</td>\n",
       "    </tr>\n",
       "  </tbody>\n",
       "</table>\n",
       "</div>"
      ],
      "text/plain": [
       "                               titulo   ano           diretor  \\\n",
       "0     Episodio IV: Uma Nova Esperanca  1977      George Lucas   \n",
       "1  Episodio V: O Imperio Contra-Ataca  1980    Irvin Kershner   \n",
       "2      Episodio VI: O Retorno de Jedi  1983  Richard Marquand   \n",
       "3       Episodio I: A Ameaca Fantasma  1999      George Lucas   \n",
       "4      Episodio II: Ataque dos Clones  2002      George Lucas   \n",
       "\n",
       "  escritor_principal       ator_principal    coadjuvante1      coadjuvante2  \\\n",
       "0       George Lucas          Mark Hamill   Harrison Ford     Carrie Fisher   \n",
       "1     Leigh Brackett          Mark Hamill   Harrison Ford     Carrie Fisher   \n",
       "2       George Lucas          Mark Hamill   Harrison Ford     Carrie Fisher   \n",
       "3       George Lucas          Liam Neeson   Ewan McGregor   Natalie Portman   \n",
       "4       George Lucas   Hayden Christensen   Ewan McGregor   Natalie Portman   \n",
       "\n",
       "   avaliacao      budget  espectadores  \n",
       "0        6.5  1150000000        262227  \n",
       "1        6.6  1150000000        310676  \n",
       "2        7.5  1130000000        328802  \n",
       "3        8.6    11000000     775398007  \n",
       "4        8.7    18000000     538375067  "
      ]
     },
     "execution_count": 84,
     "metadata": {},
     "output_type": "execute_result"
    }
   ],
   "source": [
    "df_filmes_sw.head()"
   ]
  },
  {
   "cell_type": "markdown",
   "id": "97346fc3-d4b3-4c49-a879-2b70e96a1056",
   "metadata": {},
   "source": [
    "# Selecionar uma coluna"
   ]
  },
  {
   "cell_type": "code",
   "execution_count": null,
   "id": "6f510a46-fa87-43e1-af21-504cb1d480f1",
   "metadata": {},
   "outputs": [],
   "source": [
    "diretor = df_filmes_sw[\"diretor\"]"
   ]
  },
  {
   "cell_type": "code",
   "execution_count": null,
   "id": "7c25c108-16d7-49a0-a975-3bd9e19b6e0b",
   "metadata": {},
   "outputs": [
    {
     "data": {
      "text/plain": [
       "0        George Lucas\n",
       "1      Irvin Kershner\n",
       "2    Richard Marquand\n",
       "3        George Lucas\n",
       "4        George Lucas\n",
       "5        George Lucas\n",
       "6         J.J. Abrams\n",
       "7        Rian Johnson\n",
       "8         J.J. Abrams\n",
       "Name: diretor, dtype: object"
      ]
     },
     "execution_count": 86,
     "metadata": {},
     "output_type": "execute_result"
    }
   ],
   "source": [
    "diretor"
   ]
  },
  {
   "cell_type": "code",
   "execution_count": null,
   "id": "98c65feb-7078-4c49-a663-74e72d6d3870",
   "metadata": {},
   "outputs": [],
   "source": [
    "df_diretor_titulo = df_filmes_sw[[\"diretor\", \"titulo\"]]"
   ]
  },
  {
   "cell_type": "code",
   "execution_count": null,
   "id": "a2de0524-c646-419e-93ea-9389563056a7",
   "metadata": {},
   "outputs": [
    {
     "data": {
      "text/html": [
       "<div>\n",
       "<style scoped>\n",
       "    .dataframe tbody tr th:only-of-type {\n",
       "        vertical-align: middle;\n",
       "    }\n",
       "\n",
       "    .dataframe tbody tr th {\n",
       "        vertical-align: top;\n",
       "    }\n",
       "\n",
       "    .dataframe thead th {\n",
       "        text-align: right;\n",
       "    }\n",
       "</style>\n",
       "<table border=\"1\" class=\"dataframe\">\n",
       "  <thead>\n",
       "    <tr style=\"text-align: right;\">\n",
       "      <th></th>\n",
       "      <th>diretor</th>\n",
       "      <th>titulo</th>\n",
       "    </tr>\n",
       "  </thead>\n",
       "  <tbody>\n",
       "    <tr>\n",
       "      <th>0</th>\n",
       "      <td>George Lucas</td>\n",
       "      <td>Episodio IV: Uma Nova Esperanca</td>\n",
       "    </tr>\n",
       "    <tr>\n",
       "      <th>1</th>\n",
       "      <td>Irvin Kershner</td>\n",
       "      <td>Episodio V: O Imperio Contra-Ataca</td>\n",
       "    </tr>\n",
       "    <tr>\n",
       "      <th>2</th>\n",
       "      <td>Richard Marquand</td>\n",
       "      <td>Episodio VI: O Retorno de Jedi</td>\n",
       "    </tr>\n",
       "    <tr>\n",
       "      <th>3</th>\n",
       "      <td>George Lucas</td>\n",
       "      <td>Episodio I: A Ameaca Fantasma</td>\n",
       "    </tr>\n",
       "    <tr>\n",
       "      <th>4</th>\n",
       "      <td>George Lucas</td>\n",
       "      <td>Episodio II: Ataque dos Clones</td>\n",
       "    </tr>\n",
       "    <tr>\n",
       "      <th>5</th>\n",
       "      <td>George Lucas</td>\n",
       "      <td>Episodio III: A Vinganca dos Sith</td>\n",
       "    </tr>\n",
       "    <tr>\n",
       "      <th>6</th>\n",
       "      <td>J.J. Abrams</td>\n",
       "      <td>Episodio VII: O Despertar da Forca</td>\n",
       "    </tr>\n",
       "    <tr>\n",
       "      <th>7</th>\n",
       "      <td>Rian Johnson</td>\n",
       "      <td>Episodio VIII: Os Ultimos Jedi</td>\n",
       "    </tr>\n",
       "    <tr>\n",
       "      <th>8</th>\n",
       "      <td>J.J. Abrams</td>\n",
       "      <td>Episodio IX: A Ascensao Skywalker</td>\n",
       "    </tr>\n",
       "  </tbody>\n",
       "</table>\n",
       "</div>"
      ],
      "text/plain": [
       "            diretor                              titulo\n",
       "0      George Lucas     Episodio IV: Uma Nova Esperanca\n",
       "1    Irvin Kershner  Episodio V: O Imperio Contra-Ataca\n",
       "2  Richard Marquand      Episodio VI: O Retorno de Jedi\n",
       "3      George Lucas       Episodio I: A Ameaca Fantasma\n",
       "4      George Lucas      Episodio II: Ataque dos Clones\n",
       "5      George Lucas   Episodio III: A Vinganca dos Sith\n",
       "6       J.J. Abrams  Episodio VII: O Despertar da Forca\n",
       "7      Rian Johnson      Episodio VIII: Os Ultimos Jedi\n",
       "8       J.J. Abrams   Episodio IX: A Ascensao Skywalker"
      ]
     },
     "execution_count": 88,
     "metadata": {},
     "output_type": "execute_result"
    }
   ],
   "source": [
    "df_diretor_titulo"
   ]
  },
  {
   "cell_type": "markdown",
   "id": "61472a9f-5d7f-4457-b852-729bd6245646",
   "metadata": {},
   "source": [
    "# Selecionando uma linha"
   ]
  },
  {
   "cell_type": "code",
   "execution_count": null,
   "id": "72146fa5-1277-442f-bf2f-1ae7cd5e10f5",
   "metadata": {},
   "outputs": [],
   "source": [
    "filme1 = df_filmes_sw.iloc[0]"
   ]
  },
  {
   "cell_type": "code",
   "execution_count": null,
   "id": "2b3a13d3-405c-4863-9748-285e02209921",
   "metadata": {},
   "outputs": [
    {
     "data": {
      "text/plain": [
       "titulo                Episodio IV: Uma Nova Esperanca\n",
       "ano                                              1977\n",
       "diretor                                  George Lucas\n",
       "escritor_principal                       George Lucas\n",
       "ator_principal                            Mark Hamill\n",
       "coadjuvante1                            Harrison Ford\n",
       "coadjuvante2                            Carrie Fisher\n",
       "avaliacao                                         6.5\n",
       "budget                                     1150000000\n",
       "espectadores                                   262227\n",
       "Name: 0, dtype: object"
      ]
     },
     "execution_count": 90,
     "metadata": {},
     "output_type": "execute_result"
    }
   ],
   "source": [
    "filme1"
   ]
  },
  {
   "cell_type": "markdown",
   "id": "421f8099-3602-48f0-8168-7eb3910a67b0",
   "metadata": {},
   "source": [
    "# Selecionando várias linhas"
   ]
  },
  {
   "cell_type": "code",
   "execution_count": null,
   "id": "6bf3f3ba-89aa-4688-9973-db19cbb23660",
   "metadata": {},
   "outputs": [],
   "source": [
    "primeira_trilogia = df_filmes_sw.iloc[0:3]"
   ]
  },
  {
   "cell_type": "code",
   "execution_count": null,
   "id": "8c3a34a3-5482-4ed9-b2c5-c24bb7840758",
   "metadata": {},
   "outputs": [
    {
     "data": {
      "text/plain": [
       "1980.0"
      ]
     },
     "execution_count": 92,
     "metadata": {},
     "output_type": "execute_result"
    }
   ],
   "source": [
    "primeira_trilogia.ano.mean()"
   ]
  },
  {
   "cell_type": "code",
   "execution_count": null,
   "id": "86de7eb0-d071-46f7-877f-49d614483724",
   "metadata": {},
   "outputs": [],
   "source": [
    "segunda_trilogia = df_filmes_sw.iloc[3:6]"
   ]
  },
  {
   "cell_type": "code",
   "execution_count": null,
   "id": "4210f4a6-b998-41d7-bf74-5d2a676a25e0",
   "metadata": {},
   "outputs": [
    {
     "data": {
      "text/plain": [
       "2002.0"
      ]
     },
     "execution_count": 94,
     "metadata": {},
     "output_type": "execute_result"
    }
   ],
   "source": [
    "segunda_trilogia.ano.mean()"
   ]
  },
  {
   "cell_type": "code",
   "execution_count": null,
   "id": "5835848f-e741-40dd-96d7-69596d37b134",
   "metadata": {},
   "outputs": [
    {
     "data": {
      "text/plain": [
       "22"
      ]
     },
     "execution_count": 95,
     "metadata": {},
     "output_type": "execute_result"
    }
   ],
   "source": [
    "segunda_trilogia.iloc[2].ano - primeira_trilogia.iloc[2].ano"
   ]
  },
  {
   "cell_type": "markdown",
   "id": "07fee5b2-f3fc-40f3-a62f-959722743455",
   "metadata": {},
   "source": [
    "# Selicionando com loc"
   ]
  },
  {
   "cell_type": "code",
   "execution_count": null,
   "id": "a82700aa-5a40-4602-8389-76171ad530e3",
   "metadata": {},
   "outputs": [
    {
     "data": {
      "text/html": [
       "<div>\n",
       "<style scoped>\n",
       "    .dataframe tbody tr th:only-of-type {\n",
       "        vertical-align: middle;\n",
       "    }\n",
       "\n",
       "    .dataframe tbody tr th {\n",
       "        vertical-align: top;\n",
       "    }\n",
       "\n",
       "    .dataframe thead th {\n",
       "        text-align: right;\n",
       "    }\n",
       "</style>\n",
       "<table border=\"1\" class=\"dataframe\">\n",
       "  <thead>\n",
       "    <tr style=\"text-align: right;\">\n",
       "      <th></th>\n",
       "      <th>titulo</th>\n",
       "      <th>ano</th>\n",
       "      <th>diretor</th>\n",
       "      <th>escritor_principal</th>\n",
       "      <th>ator_principal</th>\n",
       "      <th>coadjuvante1</th>\n",
       "      <th>coadjuvante2</th>\n",
       "      <th>avaliacao</th>\n",
       "      <th>budget</th>\n",
       "      <th>espectadores</th>\n",
       "    </tr>\n",
       "  </thead>\n",
       "  <tbody>\n",
       "    <tr>\n",
       "      <th>0</th>\n",
       "      <td>Episodio IV: Uma Nova Esperanca</td>\n",
       "      <td>1977</td>\n",
       "      <td>George Lucas</td>\n",
       "      <td>George Lucas</td>\n",
       "      <td>Mark Hamill</td>\n",
       "      <td>Harrison Ford</td>\n",
       "      <td>Carrie Fisher</td>\n",
       "      <td>6.5</td>\n",
       "      <td>1150000000</td>\n",
       "      <td>262227</td>\n",
       "    </tr>\n",
       "    <tr>\n",
       "      <th>3</th>\n",
       "      <td>Episodio I: A Ameaca Fantasma</td>\n",
       "      <td>1999</td>\n",
       "      <td>George Lucas</td>\n",
       "      <td>George Lucas</td>\n",
       "      <td>Liam Neeson</td>\n",
       "      <td>Ewan McGregor</td>\n",
       "      <td>Natalie Portman</td>\n",
       "      <td>8.6</td>\n",
       "      <td>11000000</td>\n",
       "      <td>775398007</td>\n",
       "    </tr>\n",
       "    <tr>\n",
       "      <th>4</th>\n",
       "      <td>Episodio II: Ataque dos Clones</td>\n",
       "      <td>2002</td>\n",
       "      <td>George Lucas</td>\n",
       "      <td>George Lucas</td>\n",
       "      <td>Hayden Christensen</td>\n",
       "      <td>Ewan McGregor</td>\n",
       "      <td>Natalie Portman</td>\n",
       "      <td>8.7</td>\n",
       "      <td>18000000</td>\n",
       "      <td>538375067</td>\n",
       "    </tr>\n",
       "    <tr>\n",
       "      <th>5</th>\n",
       "      <td>Episodio III: A Vinganca dos Sith</td>\n",
       "      <td>2005</td>\n",
       "      <td>George Lucas</td>\n",
       "      <td>George Lucas</td>\n",
       "      <td>Hayden Christensen</td>\n",
       "      <td>Ewan McGregor</td>\n",
       "      <td>Natalie Portman</td>\n",
       "      <td>8.3</td>\n",
       "      <td>32500000</td>\n",
       "      <td>475106177</td>\n",
       "    </tr>\n",
       "  </tbody>\n",
       "</table>\n",
       "</div>"
      ],
      "text/plain": [
       "                              titulo   ano       diretor escritor_principal  \\\n",
       "0    Episodio IV: Uma Nova Esperanca  1977  George Lucas       George Lucas   \n",
       "3      Episodio I: A Ameaca Fantasma  1999  George Lucas       George Lucas   \n",
       "4     Episodio II: Ataque dos Clones  2002  George Lucas       George Lucas   \n",
       "5  Episodio III: A Vinganca dos Sith  2005  George Lucas       George Lucas   \n",
       "\n",
       "        ator_principal    coadjuvante1      coadjuvante2  avaliacao  \\\n",
       "0          Mark Hamill   Harrison Ford     Carrie Fisher        6.5   \n",
       "3          Liam Neeson   Ewan McGregor   Natalie Portman        8.6   \n",
       "4   Hayden Christensen   Ewan McGregor   Natalie Portman        8.7   \n",
       "5   Hayden Christensen   Ewan McGregor   Natalie Portman        8.3   \n",
       "\n",
       "       budget  espectadores  \n",
       "0  1150000000        262227  \n",
       "3    11000000     775398007  \n",
       "4    18000000     538375067  \n",
       "5    32500000     475106177  "
      ]
     },
     "execution_count": 96,
     "metadata": {},
     "output_type": "execute_result"
    }
   ],
   "source": [
    "df_filmes_sw.loc[df_filmes_sw[\"diretor\"]==\"George Lucas\"]"
   ]
  },
  {
   "cell_type": "markdown",
   "id": "224edec0-a45b-40db-9f61-19961494a140",
   "metadata": {},
   "source": [
    "# Filtros"
   ]
  },
  {
   "cell_type": "code",
   "execution_count": null,
   "id": "4dcb1474-9015-4ae5-8514-bc68d7830458",
   "metadata": {},
   "outputs": [
    {
     "data": {
      "text/html": [
       "<div>\n",
       "<style scoped>\n",
       "    .dataframe tbody tr th:only-of-type {\n",
       "        vertical-align: middle;\n",
       "    }\n",
       "\n",
       "    .dataframe tbody tr th {\n",
       "        vertical-align: top;\n",
       "    }\n",
       "\n",
       "    .dataframe thead th {\n",
       "        text-align: right;\n",
       "    }\n",
       "</style>\n",
       "<table border=\"1\" class=\"dataframe\">\n",
       "  <thead>\n",
       "    <tr style=\"text-align: right;\">\n",
       "      <th></th>\n",
       "      <th>titulo</th>\n",
       "      <th>ano</th>\n",
       "      <th>diretor</th>\n",
       "      <th>escritor_principal</th>\n",
       "      <th>ator_principal</th>\n",
       "      <th>coadjuvante1</th>\n",
       "      <th>coadjuvante2</th>\n",
       "      <th>avaliacao</th>\n",
       "      <th>budget</th>\n",
       "      <th>espectadores</th>\n",
       "    </tr>\n",
       "  </thead>\n",
       "  <tbody>\n",
       "    <tr>\n",
       "      <th>4</th>\n",
       "      <td>Episodio II: Ataque dos Clones</td>\n",
       "      <td>2002</td>\n",
       "      <td>George Lucas</td>\n",
       "      <td>George Lucas</td>\n",
       "      <td>Hayden Christensen</td>\n",
       "      <td>Ewan McGregor</td>\n",
       "      <td>Natalie Portman</td>\n",
       "      <td>8.7</td>\n",
       "      <td>18000000</td>\n",
       "      <td>538375067</td>\n",
       "    </tr>\n",
       "    <tr>\n",
       "      <th>5</th>\n",
       "      <td>Episodio III: A Vinganca dos Sith</td>\n",
       "      <td>2005</td>\n",
       "      <td>George Lucas</td>\n",
       "      <td>George Lucas</td>\n",
       "      <td>Hayden Christensen</td>\n",
       "      <td>Ewan McGregor</td>\n",
       "      <td>Natalie Portman</td>\n",
       "      <td>8.3</td>\n",
       "      <td>32500000</td>\n",
       "      <td>475106177</td>\n",
       "    </tr>\n",
       "    <tr>\n",
       "      <th>6</th>\n",
       "      <td>Episodio VII: O Despertar da Forca</td>\n",
       "      <td>2015</td>\n",
       "      <td>J.J. Abrams</td>\n",
       "      <td>Lawrence Kasdan</td>\n",
       "      <td>Daisy Ridley</td>\n",
       "      <td>John Boyega</td>\n",
       "      <td>Oscar Isaac</td>\n",
       "      <td>7.9</td>\n",
       "      <td>200000000</td>\n",
       "      <td>936662225</td>\n",
       "    </tr>\n",
       "    <tr>\n",
       "      <th>7</th>\n",
       "      <td>Episodio VIII: Os Ultimos Jedi</td>\n",
       "      <td>2017</td>\n",
       "      <td>Rian Johnson</td>\n",
       "      <td>Rian Johnson</td>\n",
       "      <td>Mark Hamill</td>\n",
       "      <td>Daisy Ridley</td>\n",
       "      <td>Adam Driver</td>\n",
       "      <td>7.0</td>\n",
       "      <td>200000000</td>\n",
       "      <td>1332539889</td>\n",
       "    </tr>\n",
       "    <tr>\n",
       "      <th>8</th>\n",
       "      <td>Episodio IX: A Ascensao Skywalker</td>\n",
       "      <td>2019</td>\n",
       "      <td>J.J. Abrams</td>\n",
       "      <td>Chris Terrio</td>\n",
       "      <td>Daisy Ridley</td>\n",
       "      <td>Adam Driver</td>\n",
       "      <td>John Boyega</td>\n",
       "      <td>6.5</td>\n",
       "      <td>275000000</td>\n",
       "      <td>1074144242</td>\n",
       "    </tr>\n",
       "  </tbody>\n",
       "</table>\n",
       "</div>"
      ],
      "text/plain": [
       "                               titulo   ano       diretor escritor_principal  \\\n",
       "4      Episodio II: Ataque dos Clones  2002  George Lucas       George Lucas   \n",
       "5   Episodio III: A Vinganca dos Sith  2005  George Lucas       George Lucas   \n",
       "6  Episodio VII: O Despertar da Forca  2015   J.J. Abrams    Lawrence Kasdan   \n",
       "7      Episodio VIII: Os Ultimos Jedi  2017  Rian Johnson       Rian Johnson   \n",
       "8   Episodio IX: A Ascensao Skywalker  2019   J.J. Abrams       Chris Terrio   \n",
       "\n",
       "        ator_principal    coadjuvante1      coadjuvante2  avaliacao  \\\n",
       "4   Hayden Christensen   Ewan McGregor   Natalie Portman        8.7   \n",
       "5   Hayden Christensen   Ewan McGregor   Natalie Portman        8.3   \n",
       "6         Daisy Ridley     John Boyega       Oscar Isaac        7.9   \n",
       "7          Mark Hamill    Daisy Ridley       Adam Driver        7.0   \n",
       "8         Daisy Ridley     Adam Driver       John Boyega        6.5   \n",
       "\n",
       "      budget  espectadores  \n",
       "4   18000000     538375067  \n",
       "5   32500000     475106177  \n",
       "6  200000000     936662225  \n",
       "7  200000000    1332539889  \n",
       "8  275000000    1074144242  "
      ]
     },
     "execution_count": 97,
     "metadata": {},
     "output_type": "execute_result"
    }
   ],
   "source": [
    "df_filmes_sw.loc[(df_filmes_sw[\"ano\"]>2000)]"
   ]
  },
  {
   "cell_type": "code",
   "execution_count": null,
   "id": "b12531e6-ce2f-4ac3-a9ef-9c8964dbbfe8",
   "metadata": {},
   "outputs": [
    {
     "data": {
      "text/html": [
       "<div>\n",
       "<style scoped>\n",
       "    .dataframe tbody tr th:only-of-type {\n",
       "        vertical-align: middle;\n",
       "    }\n",
       "\n",
       "    .dataframe tbody tr th {\n",
       "        vertical-align: top;\n",
       "    }\n",
       "\n",
       "    .dataframe thead th {\n",
       "        text-align: right;\n",
       "    }\n",
       "</style>\n",
       "<table border=\"1\" class=\"dataframe\">\n",
       "  <thead>\n",
       "    <tr style=\"text-align: right;\">\n",
       "      <th></th>\n",
       "      <th>titulo</th>\n",
       "      <th>ano</th>\n",
       "      <th>diretor</th>\n",
       "      <th>escritor_principal</th>\n",
       "      <th>ator_principal</th>\n",
       "      <th>coadjuvante1</th>\n",
       "      <th>coadjuvante2</th>\n",
       "      <th>avaliacao</th>\n",
       "      <th>budget</th>\n",
       "      <th>espectadores</th>\n",
       "    </tr>\n",
       "  </thead>\n",
       "  <tbody>\n",
       "    <tr>\n",
       "      <th>4</th>\n",
       "      <td>Episodio II: Ataque dos Clones</td>\n",
       "      <td>2002</td>\n",
       "      <td>George Lucas</td>\n",
       "      <td>George Lucas</td>\n",
       "      <td>Hayden Christensen</td>\n",
       "      <td>Ewan McGregor</td>\n",
       "      <td>Natalie Portman</td>\n",
       "      <td>8.7</td>\n",
       "      <td>18000000</td>\n",
       "      <td>538375067</td>\n",
       "    </tr>\n",
       "    <tr>\n",
       "      <th>5</th>\n",
       "      <td>Episodio III: A Vinganca dos Sith</td>\n",
       "      <td>2005</td>\n",
       "      <td>George Lucas</td>\n",
       "      <td>George Lucas</td>\n",
       "      <td>Hayden Christensen</td>\n",
       "      <td>Ewan McGregor</td>\n",
       "      <td>Natalie Portman</td>\n",
       "      <td>8.3</td>\n",
       "      <td>32500000</td>\n",
       "      <td>475106177</td>\n",
       "    </tr>\n",
       "  </tbody>\n",
       "</table>\n",
       "</div>"
      ],
      "text/plain": [
       "                              titulo   ano       diretor escritor_principal  \\\n",
       "4     Episodio II: Ataque dos Clones  2002  George Lucas       George Lucas   \n",
       "5  Episodio III: A Vinganca dos Sith  2005  George Lucas       George Lucas   \n",
       "\n",
       "        ator_principal    coadjuvante1      coadjuvante2  avaliacao    budget  \\\n",
       "4   Hayden Christensen   Ewan McGregor   Natalie Portman        8.7  18000000   \n",
       "5   Hayden Christensen   Ewan McGregor   Natalie Portman        8.3  32500000   \n",
       "\n",
       "   espectadores  \n",
       "4     538375067  \n",
       "5     475106177  "
      ]
     },
     "execution_count": 98,
     "metadata": {},
     "output_type": "execute_result"
    }
   ],
   "source": [
    "df_filmes_sw.loc[(df_filmes_sw[\"ano\"]>2000) & (df_filmes_sw[\"ano\"]<=2010)]"
   ]
  },
  {
   "cell_type": "code",
   "execution_count": null,
   "id": "07c0cc8a-bde6-4c79-931c-4bed20db2f08",
   "metadata": {},
   "outputs": [
    {
     "data": {
      "text/html": [
       "<div>\n",
       "<style scoped>\n",
       "    .dataframe tbody tr th:only-of-type {\n",
       "        vertical-align: middle;\n",
       "    }\n",
       "\n",
       "    .dataframe tbody tr th {\n",
       "        vertical-align: top;\n",
       "    }\n",
       "\n",
       "    .dataframe thead th {\n",
       "        text-align: right;\n",
       "    }\n",
       "</style>\n",
       "<table border=\"1\" class=\"dataframe\">\n",
       "  <thead>\n",
       "    <tr style=\"text-align: right;\">\n",
       "      <th></th>\n",
       "      <th>titulo</th>\n",
       "      <th>ano</th>\n",
       "      <th>diretor</th>\n",
       "      <th>escritor_principal</th>\n",
       "      <th>ator_principal</th>\n",
       "      <th>coadjuvante1</th>\n",
       "      <th>coadjuvante2</th>\n",
       "      <th>avaliacao</th>\n",
       "      <th>budget</th>\n",
       "      <th>espectadores</th>\n",
       "    </tr>\n",
       "  </thead>\n",
       "  <tbody>\n",
       "    <tr>\n",
       "      <th>0</th>\n",
       "      <td>Episodio IV: Uma Nova Esperanca</td>\n",
       "      <td>1977</td>\n",
       "      <td>George Lucas</td>\n",
       "      <td>George Lucas</td>\n",
       "      <td>Mark Hamill</td>\n",
       "      <td>Harrison Ford</td>\n",
       "      <td>Carrie Fisher</td>\n",
       "      <td>6.5</td>\n",
       "      <td>1150000000</td>\n",
       "      <td>262227</td>\n",
       "    </tr>\n",
       "    <tr>\n",
       "      <th>3</th>\n",
       "      <td>Episodio I: A Ameaca Fantasma</td>\n",
       "      <td>1999</td>\n",
       "      <td>George Lucas</td>\n",
       "      <td>George Lucas</td>\n",
       "      <td>Liam Neeson</td>\n",
       "      <td>Ewan McGregor</td>\n",
       "      <td>Natalie Portman</td>\n",
       "      <td>8.6</td>\n",
       "      <td>11000000</td>\n",
       "      <td>775398007</td>\n",
       "    </tr>\n",
       "    <tr>\n",
       "      <th>4</th>\n",
       "      <td>Episodio II: Ataque dos Clones</td>\n",
       "      <td>2002</td>\n",
       "      <td>George Lucas</td>\n",
       "      <td>George Lucas</td>\n",
       "      <td>Hayden Christensen</td>\n",
       "      <td>Ewan McGregor</td>\n",
       "      <td>Natalie Portman</td>\n",
       "      <td>8.7</td>\n",
       "      <td>18000000</td>\n",
       "      <td>538375067</td>\n",
       "    </tr>\n",
       "    <tr>\n",
       "      <th>5</th>\n",
       "      <td>Episodio III: A Vinganca dos Sith</td>\n",
       "      <td>2005</td>\n",
       "      <td>George Lucas</td>\n",
       "      <td>George Lucas</td>\n",
       "      <td>Hayden Christensen</td>\n",
       "      <td>Ewan McGregor</td>\n",
       "      <td>Natalie Portman</td>\n",
       "      <td>8.3</td>\n",
       "      <td>32500000</td>\n",
       "      <td>475106177</td>\n",
       "    </tr>\n",
       "    <tr>\n",
       "      <th>6</th>\n",
       "      <td>Episodio VII: O Despertar da Forca</td>\n",
       "      <td>2015</td>\n",
       "      <td>J.J. Abrams</td>\n",
       "      <td>Lawrence Kasdan</td>\n",
       "      <td>Daisy Ridley</td>\n",
       "      <td>John Boyega</td>\n",
       "      <td>Oscar Isaac</td>\n",
       "      <td>7.9</td>\n",
       "      <td>200000000</td>\n",
       "      <td>936662225</td>\n",
       "    </tr>\n",
       "    <tr>\n",
       "      <th>8</th>\n",
       "      <td>Episodio IX: A Ascensao Skywalker</td>\n",
       "      <td>2019</td>\n",
       "      <td>J.J. Abrams</td>\n",
       "      <td>Chris Terrio</td>\n",
       "      <td>Daisy Ridley</td>\n",
       "      <td>Adam Driver</td>\n",
       "      <td>John Boyega</td>\n",
       "      <td>6.5</td>\n",
       "      <td>275000000</td>\n",
       "      <td>1074144242</td>\n",
       "    </tr>\n",
       "  </tbody>\n",
       "</table>\n",
       "</div>"
      ],
      "text/plain": [
       "                               titulo   ano       diretor escritor_principal  \\\n",
       "0     Episodio IV: Uma Nova Esperanca  1977  George Lucas       George Lucas   \n",
       "3       Episodio I: A Ameaca Fantasma  1999  George Lucas       George Lucas   \n",
       "4      Episodio II: Ataque dos Clones  2002  George Lucas       George Lucas   \n",
       "5   Episodio III: A Vinganca dos Sith  2005  George Lucas       George Lucas   \n",
       "6  Episodio VII: O Despertar da Forca  2015   J.J. Abrams    Lawrence Kasdan   \n",
       "8   Episodio IX: A Ascensao Skywalker  2019   J.J. Abrams       Chris Terrio   \n",
       "\n",
       "        ator_principal    coadjuvante1      coadjuvante2  avaliacao  \\\n",
       "0          Mark Hamill   Harrison Ford     Carrie Fisher        6.5   \n",
       "3          Liam Neeson   Ewan McGregor   Natalie Portman        8.6   \n",
       "4   Hayden Christensen   Ewan McGregor   Natalie Portman        8.7   \n",
       "5   Hayden Christensen   Ewan McGregor   Natalie Portman        8.3   \n",
       "6         Daisy Ridley     John Boyega       Oscar Isaac        7.9   \n",
       "8         Daisy Ridley     Adam Driver       John Boyega        6.5   \n",
       "\n",
       "       budget  espectadores  \n",
       "0  1150000000        262227  \n",
       "3    11000000     775398007  \n",
       "4    18000000     538375067  \n",
       "5    32500000     475106177  \n",
       "6   200000000     936662225  \n",
       "8   275000000    1074144242  "
      ]
     },
     "execution_count": 99,
     "metadata": {},
     "output_type": "execute_result"
    }
   ],
   "source": [
    "df_filmes_sw.loc[(df_filmes_sw[\"diretor\"]==\"George Lucas\") | (df_filmes_sw[\"diretor\"]==\"J.J. Abrams\")]"
   ]
  },
  {
   "cell_type": "markdown",
   "id": "26d29ec4-67e3-466f-8fab-22206dcac14f",
   "metadata": {},
   "source": [
    "# Agrupamento"
   ]
  },
  {
   "cell_type": "code",
   "execution_count": null,
   "id": "e233e8c2-5a98-457b-a039-83314f902715",
   "metadata": {},
   "outputs": [
    {
     "data": {
      "text/plain": [
       "diretor\n",
       "George Lucas        13\n",
       "Irvin Kershner       5\n",
       "J.J. Abrams          3\n",
       "Rian Johnson         0\n",
       "Richard Marquand     2\n",
       "Name: oscars, dtype: int64"
      ]
     },
     "execution_count": 106,
     "metadata": {},
     "output_type": "execute_result"
    }
   ],
   "source": [
    "df_filmes_sw.groupby(\"diretor\")[\"oscars\"].sum()"
   ]
  },
  {
   "cell_type": "code",
   "execution_count": null,
   "id": "cf33636b-d111-44c0-b7c1-db59c3dbcf9e",
   "metadata": {},
   "outputs": [
    {
     "data": {
      "text/plain": [
       "diretor\n",
       "George Lucas        8.025\n",
       "Irvin Kershner      6.600\n",
       "J.J. Abrams         7.200\n",
       "Rian Johnson        7.000\n",
       "Richard Marquand    7.500\n",
       "Name: avaliacao, dtype: float64"
      ]
     },
     "execution_count": 107,
     "metadata": {},
     "output_type": "execute_result"
    }
   ],
   "source": [
    "df_filmes_sw.groupby(\"diretor\")[\"avaliacao\"].mean()"
   ]
  },
  {
   "cell_type": "code",
   "execution_count": null,
   "id": "0bfd9e88-2a27-4335-9fc6-526a2ff26241",
   "metadata": {},
   "outputs": [
    {
     "data": {
      "text/plain": [
       "diretor           ator_principal     \n",
       "George Lucas       Hayden Christensen    8.5\n",
       "                  Liam Neeson            8.6\n",
       "                  Mark Hamill            6.5\n",
       "Irvin Kershner    Mark Hamill            6.6\n",
       "J.J. Abrams       Daisy Ridley           7.2\n",
       "Rian Johnson      Mark Hamill            7.0\n",
       "Richard Marquand  Mark Hamill            7.5\n",
       "Name: avaliacao, dtype: float64"
      ]
     },
     "execution_count": 108,
     "metadata": {},
     "output_type": "execute_result"
    }
   ],
   "source": [
    "df_filmes_sw.groupby([\"diretor\", \"ator_principal\"])[\"avaliacao\"].mean()"
   ]
  },
  {
   "cell_type": "code",
   "execution_count": null,
   "id": "5a4f0304-7277-4310-9bf2-0642896e532d",
   "metadata": {},
   "outputs": [
    {
     "data": {
      "text/html": [
       "<div>\n",
       "<style scoped>\n",
       "    .dataframe tbody tr th:only-of-type {\n",
       "        vertical-align: middle;\n",
       "    }\n",
       "\n",
       "    .dataframe tbody tr th {\n",
       "        vertical-align: top;\n",
       "    }\n",
       "\n",
       "    .dataframe thead th {\n",
       "        text-align: right;\n",
       "    }\n",
       "</style>\n",
       "<table border=\"1\" class=\"dataframe\">\n",
       "  <thead>\n",
       "    <tr style=\"text-align: right;\">\n",
       "      <th></th>\n",
       "      <th>ano</th>\n",
       "      <th>avaliacao</th>\n",
       "      <th>budget</th>\n",
       "      <th>espectadores</th>\n",
       "      <th>oscars</th>\n",
       "      <th>diferenca_ano_atual</th>\n",
       "    </tr>\n",
       "    <tr>\n",
       "      <th>diretor</th>\n",
       "      <th></th>\n",
       "      <th></th>\n",
       "      <th></th>\n",
       "      <th></th>\n",
       "      <th></th>\n",
       "      <th></th>\n",
       "    </tr>\n",
       "  </thead>\n",
       "  <tbody>\n",
       "    <tr>\n",
       "      <th>George Lucas</th>\n",
       "      <td>1995.75</td>\n",
       "      <td>8.025</td>\n",
       "      <td>3.028750e+08</td>\n",
       "      <td>4.472854e+08</td>\n",
       "      <td>3.25</td>\n",
       "      <td>27.25</td>\n",
       "    </tr>\n",
       "    <tr>\n",
       "      <th>Irvin Kershner</th>\n",
       "      <td>1980.00</td>\n",
       "      <td>6.600</td>\n",
       "      <td>1.150000e+09</td>\n",
       "      <td>3.106760e+05</td>\n",
       "      <td>5.00</td>\n",
       "      <td>43.00</td>\n",
       "    </tr>\n",
       "    <tr>\n",
       "      <th>J.J. Abrams</th>\n",
       "      <td>2017.00</td>\n",
       "      <td>7.200</td>\n",
       "      <td>2.375000e+08</td>\n",
       "      <td>1.005403e+09</td>\n",
       "      <td>1.50</td>\n",
       "      <td>6.00</td>\n",
       "    </tr>\n",
       "    <tr>\n",
       "      <th>Rian Johnson</th>\n",
       "      <td>2017.00</td>\n",
       "      <td>7.000</td>\n",
       "      <td>2.000000e+08</td>\n",
       "      <td>1.332540e+09</td>\n",
       "      <td>0.00</td>\n",
       "      <td>6.00</td>\n",
       "    </tr>\n",
       "    <tr>\n",
       "      <th>Richard Marquand</th>\n",
       "      <td>1983.00</td>\n",
       "      <td>7.500</td>\n",
       "      <td>1.130000e+09</td>\n",
       "      <td>3.288020e+05</td>\n",
       "      <td>2.00</td>\n",
       "      <td>40.00</td>\n",
       "    </tr>\n",
       "  </tbody>\n",
       "</table>\n",
       "</div>"
      ],
      "text/plain": [
       "                      ano  avaliacao        budget  espectadores  oscars  \\\n",
       "diretor                                                                    \n",
       "George Lucas      1995.75      8.025  3.028750e+08  4.472854e+08    3.25   \n",
       "Irvin Kershner    1980.00      6.600  1.150000e+09  3.106760e+05    5.00   \n",
       "J.J. Abrams       2017.00      7.200  2.375000e+08  1.005403e+09    1.50   \n",
       "Rian Johnson      2017.00      7.000  2.000000e+08  1.332540e+09    0.00   \n",
       "Richard Marquand  1983.00      7.500  1.130000e+09  3.288020e+05    2.00   \n",
       "\n",
       "                  diferenca_ano_atual  \n",
       "diretor                                \n",
       "George Lucas                    27.25  \n",
       "Irvin Kershner                  43.00  \n",
       "J.J. Abrams                      6.00  \n",
       "Rian Johnson                     6.00  \n",
       "Richard Marquand                40.00  "
      ]
     },
     "execution_count": 109,
     "metadata": {},
     "output_type": "execute_result"
    }
   ],
   "source": [
    "df_filmes_sw.groupby(\"diretor\").mean()"
   ]
  },
  {
   "cell_type": "markdown",
   "id": "2c29cb8c-be6d-4206-927a-d6846d2bedf8",
   "metadata": {},
   "source": [
    "# Ordenar"
   ]
  },
  {
   "cell_type": "code",
   "execution_count": null,
   "id": "77f8f6ff-ee96-446b-9930-40e6ea0e7d26",
   "metadata": {},
   "outputs": [],
   "source": [
    "avaliacao_diretores = df_filmes_sw.groupby(\"diretor\")[\"oscars\"].mean()"
   ]
  },
  {
   "cell_type": "code",
   "execution_count": null,
   "id": "9b0768ae-6b4e-47db-8c8f-2b0489906703",
   "metadata": {},
   "outputs": [
    {
     "data": {
      "text/plain": [
       "pandas.core.series.Series"
      ]
     },
     "execution_count": 121,
     "metadata": {},
     "output_type": "execute_result"
    }
   ],
   "source": [
    "type(avaliacao_diretores)"
   ]
  },
  {
   "cell_type": "code",
   "execution_count": null,
   "id": "1021dcc4-ff8a-495f-a718-f7ddc16d5efd",
   "metadata": {},
   "outputs": [],
   "source": [
    "avaliacao_diretores = pd.DataFrame(avaliacao_diretores)"
   ]
  },
  {
   "cell_type": "code",
   "execution_count": null,
   "id": "8fea7fe4-747d-488d-a2e7-a6795f4bb2f5",
   "metadata": {},
   "outputs": [
    {
     "data": {
      "text/html": [
       "<div>\n",
       "<style scoped>\n",
       "    .dataframe tbody tr th:only-of-type {\n",
       "        vertical-align: middle;\n",
       "    }\n",
       "\n",
       "    .dataframe tbody tr th {\n",
       "        vertical-align: top;\n",
       "    }\n",
       "\n",
       "    .dataframe thead th {\n",
       "        text-align: right;\n",
       "    }\n",
       "</style>\n",
       "<table border=\"1\" class=\"dataframe\">\n",
       "  <thead>\n",
       "    <tr style=\"text-align: right;\">\n",
       "      <th></th>\n",
       "      <th>oscars</th>\n",
       "    </tr>\n",
       "    <tr>\n",
       "      <th>diretor</th>\n",
       "      <th></th>\n",
       "    </tr>\n",
       "  </thead>\n",
       "  <tbody>\n",
       "    <tr>\n",
       "      <th>George Lucas</th>\n",
       "      <td>3.25</td>\n",
       "    </tr>\n",
       "    <tr>\n",
       "      <th>Irvin Kershner</th>\n",
       "      <td>5.00</td>\n",
       "    </tr>\n",
       "    <tr>\n",
       "      <th>J.J. Abrams</th>\n",
       "      <td>1.50</td>\n",
       "    </tr>\n",
       "    <tr>\n",
       "      <th>Rian Johnson</th>\n",
       "      <td>0.00</td>\n",
       "    </tr>\n",
       "    <tr>\n",
       "      <th>Richard Marquand</th>\n",
       "      <td>2.00</td>\n",
       "    </tr>\n",
       "  </tbody>\n",
       "</table>\n",
       "</div>"
      ],
      "text/plain": [
       "                  oscars\n",
       "diretor                 \n",
       "George Lucas        3.25\n",
       "Irvin Kershner      5.00\n",
       "J.J. Abrams         1.50\n",
       "Rian Johnson        0.00\n",
       "Richard Marquand    2.00"
      ]
     },
     "execution_count": 123,
     "metadata": {},
     "output_type": "execute_result"
    }
   ],
   "source": [
    "avaliacao_diretores.sort_values(by='diretor')"
   ]
  },
  {
   "cell_type": "code",
   "execution_count": null,
   "id": "36e14369-228a-46f1-94b1-bf1c0586762f",
   "metadata": {},
   "outputs": [],
   "source": [
    "x = df_filmes_sw.sort_values(by='oscars', ascending=False)"
   ]
  },
  {
   "cell_type": "markdown",
   "id": "c02d0402-68c8-40ce-8226-53ef7406ba79",
   "metadata": {},
   "source": [
    "# Missão"
   ]
  },
  {
   "cell_type": "markdown",
   "id": "a026477e-1651-4a39-8d84-55ec1f0b81b0",
   "metadata": {},
   "source": [
    "Manipular um dataframe qualquer e após isso gerar um report do dataframe manipulado. Não é um report do original!"
   ]
  },
  {
   "cell_type": "code",
   "execution_count": null,
   "id": "1d2b4506-a401-404c-b45e-d6a470dd4bda",
   "metadata": {},
   "outputs": [],
   "source": []
  }
 ],
 "metadata": {
  "kernelspec": {
   "display_name": "Python 3 (ipykernel)",
   "language": "python",
   "name": "python3"
  },
  "language_info": {
   "codemirror_mode": {
    "name": "ipython",
    "version": 3
   },
   "file_extension": ".py",
   "mimetype": "text/x-python",
   "name": "python",
   "nbconvert_exporter": "python",
   "pygments_lexer": "ipython3",
   "version": "3.12.3"
  }
 },
 "nbformat": 4,
 "nbformat_minor": 5
}
