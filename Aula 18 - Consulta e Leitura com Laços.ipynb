{
 "cells": [
  {
   "cell_type": "markdown",
   "id": "5462be7b-806f-43c0-b3b1-f6e0a1994f69",
   "metadata": {},
   "source": [
    "# Escondendo as credenciais utilizando um arquivo txt ou json"
   ]
  },
  {
   "cell_type": "code",
   "execution_count": 6,
   "id": "e7ab86c2-a2c0-465d-8c89-18037dd3d3f0",
   "metadata": {},
   "outputs": [],
   "source": [
    "import mysql.connector\n",
    "\n",
    "arquivo = open(\"login_root_mysql.txt\", \"r\")\n",
    "\n",
    "h = arquivo.readline().replace(\"\\n\", \"\")\n",
    "u = arquivo.readline().replace(\"\\n\", \"\")\n",
    "p = arquivo.readline().replace(\"\\n\", \"\")\n",
    "d = arquivo.readline().replace(\"\\n\", \"\")\n",
    "\n",
    "mydb = mysql.connector.connect(host=h , user= u  , password= p  , database=d )"
   ]
  },
  {
   "cell_type": "code",
   "execution_count": 22,
   "id": "d1ec50bd-32cc-4dd9-90e9-4741eb2507c0",
   "metadata": {},
   "outputs": [],
   "source": [
    "import mysql.connector\n",
    "import json\n",
    "\n",
    "arquivo = open(\"credenciais_db_mysql.json\", \"r\")\n",
    "\n",
    "dict_credenciais = json.load(arquivo)\n",
    "\n",
    "mydb = mysql.connector.connect(\n",
    "    host= dict_credenciais[\"meu_db_favorito\"][\"host\"] , \n",
    "    user= dict_credenciais[\"meu_db_favorito\"][\"user\"] , \n",
    "    password= dict_credenciais[\"meu_db_favorito\"][\"password\"] , \n",
    "    database= dict_credenciais[\"meu_db_favorito\"][\"database\"]\n",
    ")"
   ]
  },
  {
   "cell_type": "code",
   "execution_count": 23,
   "id": "66e3a49d-ca8a-46a1-97cf-bcc27ab3a9b6",
   "metadata": {},
   "outputs": [
    {
     "data": {
      "text/plain": [
       "<mysql.connector.connection_cext.CMySQLConnection at 0x166e1ce4d30>"
      ]
     },
     "execution_count": 23,
     "metadata": {},
     "output_type": "execute_result"
    }
   ],
   "source": [
    "mydb"
   ]
  },
  {
   "cell_type": "code",
   "execution_count": null,
   "id": "4e4e4873-b6bd-426d-b54b-529c1fcbfc46",
   "metadata": {},
   "outputs": [],
   "source": []
  }
 ],
 "metadata": {
  "kernelspec": {
   "display_name": "Python 3 (ipykernel)",
   "language": "python",
   "name": "python3"
  },
  "language_info": {
   "codemirror_mode": {
    "name": "ipython",
    "version": 3
   },
   "file_extension": ".py",
   "mimetype": "text/x-python",
   "name": "python",
   "nbconvert_exporter": "python",
   "pygments_lexer": "ipython3",
   "version": "3.9.12"
  }
 },
 "nbformat": 4,
 "nbformat_minor": 5
}
