{
 "cells": [
  {
   "cell_type": "markdown",
   "id": "69447e14-6de1-41cc-8d80-10ce4a754325",
   "metadata": {},
   "source": [
    "# Dicionarios"
   ]
  },
  {
   "cell_type": "markdown",
   "id": "55de6ebc-96c3-43e4-8586-876c29b25881",
   "metadata": {},
   "source": [
    "dic = {key: value, key1:value1, key2:value2...}"
   ]
  },
  {
   "cell_type": "markdown",
   "id": "cddd8df1-e243-4c56-81ce-389f24d9821c",
   "metadata": {},
   "source": [
    "## criando"
   ]
  },
  {
   "cell_type": "code",
   "execution_count": 2,
   "id": "69318a63-08b2-4882-a6da-00a7fb64ab35",
   "metadata": {},
   "outputs": [],
   "source": [
    "dic_ptEn = {\"cao\": \"dog\", \"gato\":\"cat\", \"papagaio\":\"parrot\"}"
   ]
  },
  {
   "cell_type": "code",
   "execution_count": 5,
   "id": "10991cfe-7af8-4c10-b024-ee7b7d589656",
   "metadata": {},
   "outputs": [],
   "source": [
    "dic_codigo_endereco = {\n",
    "        123:\"Rua Feliz\",\n",
    "        345:\"Rua Alegre\",\n",
    "        678:\"Rua Risada\"\n",
    "}"
   ]
  },
  {
   "cell_type": "markdown",
   "id": "3c731cf4-fa27-4751-8be2-d1c85b9d5746",
   "metadata": {
    "tags": []
   },
   "source": [
    "## acessando\n",
    "pela chave"
   ]
  },
  {
   "cell_type": "code",
   "execution_count": 3,
   "id": "7f921534-393d-412e-97a8-f4e75bdd1afc",
   "metadata": {},
   "outputs": [
    {
     "data": {
      "text/plain": [
       "'dog'"
      ]
     },
     "execution_count": 3,
     "metadata": {},
     "output_type": "execute_result"
    }
   ],
   "source": [
    "dic_ptEn[\"cao\"]"
   ]
  },
  {
   "cell_type": "code",
   "execution_count": 6,
   "id": "e36628f4-6e81-41fc-990a-d6b6d325c163",
   "metadata": {},
   "outputs": [
    {
     "data": {
      "text/plain": [
       "'Rua Feliz'"
      ]
     },
     "execution_count": 6,
     "metadata": {},
     "output_type": "execute_result"
    }
   ],
   "source": [
    "dic_codigo_endereco[123]"
   ]
  },
  {
   "cell_type": "markdown",
   "id": "f4d5d74c-3fd8-4509-9b47-7596b02d7c2e",
   "metadata": {},
   "source": [
    "## mais de uma chave para o mesmo valor"
   ]
  },
  {
   "cell_type": "code",
   "execution_count": 7,
   "id": "f10f9dfd-9f3c-45b6-9c37-47b806601885",
   "metadata": {},
   "outputs": [],
   "source": [
    "dic_ptEn = {\"cao\": \"dog\", \"gato\":\"cat\", \"papagaio\":\"parrot\", \"cachorro\":\"dog\"}"
   ]
  },
  {
   "cell_type": "code",
   "execution_count": 8,
   "id": "d6a8f5a4-eaa0-4d6c-9fee-f886e17c420c",
   "metadata": {},
   "outputs": [
    {
     "data": {
      "text/plain": [
       "'dog'"
      ]
     },
     "execution_count": 8,
     "metadata": {},
     "output_type": "execute_result"
    }
   ],
   "source": [
    "dic_ptEn[\"cao\"]"
   ]
  },
  {
   "cell_type": "code",
   "execution_count": 9,
   "id": "cb0420d6-bf18-4fb4-b9ee-b528ef1efd58",
   "metadata": {},
   "outputs": [
    {
     "data": {
      "text/plain": [
       "'dog'"
      ]
     },
     "execution_count": 9,
     "metadata": {},
     "output_type": "execute_result"
    }
   ],
   "source": [
    "dic_ptEn[\"cachorro\"]"
   ]
  },
  {
   "cell_type": "markdown",
   "id": "aa588bab-abf8-44ee-a0c8-519b4d552630",
   "metadata": {},
   "source": [
    "## uma chave com dois valores não é possivel"
   ]
  },
  {
   "cell_type": "code",
   "execution_count": 11,
   "id": "0ae63645-0511-4896-9683-12939b008229",
   "metadata": {},
   "outputs": [],
   "source": [
    "dic_Enpt = {\"dog\": \"cao\", \"cat\":\"gato\", \"parrot\":\"papagaio\", \"dog\":\"cachorro\"}"
   ]
  },
  {
   "cell_type": "code",
   "execution_count": 12,
   "id": "32af0dc4-b4fa-48b1-8b6d-02a888e1a842",
   "metadata": {},
   "outputs": [
    {
     "data": {
      "text/plain": [
       "'cachorro'"
      ]
     },
     "execution_count": 12,
     "metadata": {},
     "output_type": "execute_result"
    }
   ],
   "source": [
    "dic_Enpt[\"dog\"]"
   ]
  },
  {
   "cell_type": "markdown",
   "id": "0282513a-2b74-4cb4-9231-d1098daba094",
   "metadata": {},
   "source": [
    "## uma chave com uma lista com n valores "
   ]
  },
  {
   "cell_type": "code",
   "execution_count": 17,
   "id": "fbcd6313-4db5-48ba-a1f0-3db6ff77b611",
   "metadata": {},
   "outputs": [],
   "source": [
    "dic_Enpt = {\"dog\": [\"cao\", \"cachorro\", \"puppy\", \"filhote\"], \"cat\":\"gato\", \"parrot\":\"papagaio\"}"
   ]
  },
  {
   "cell_type": "code",
   "execution_count": 18,
   "id": "74a38155-d154-4410-bc62-310bcff46da4",
   "metadata": {},
   "outputs": [
    {
     "data": {
      "text/plain": [
       "['cao', 'cachorro', 'puppy', 'filhote']"
      ]
     },
     "execution_count": 18,
     "metadata": {},
     "output_type": "execute_result"
    }
   ],
   "source": [
    "dic_Enpt[\"dog\"]"
   ]
  },
  {
   "cell_type": "code",
   "execution_count": 19,
   "id": "4d6ec2da-c47b-49bd-8714-182317ebed81",
   "metadata": {},
   "outputs": [
    {
     "data": {
      "text/plain": [
       "'cachorro'"
      ]
     },
     "execution_count": 19,
     "metadata": {},
     "output_type": "execute_result"
    }
   ],
   "source": [
    "dic_Enpt[\"dog\"][1]"
   ]
  },
  {
   "cell_type": "markdown",
   "id": "c6945d6e-ff59-4f7e-a7d5-9d587e42e19d",
   "metadata": {},
   "source": [
    "## resumindo chaves são unicas, valores não"
   ]
  },
  {
   "cell_type": "markdown",
   "id": "d7aee867-76f5-4835-a58d-6ec65d79de80",
   "metadata": {},
   "source": [
    "# Adicionando"
   ]
  },
  {
   "cell_type": "code",
   "execution_count": 20,
   "id": "720128fc-8232-48f2-a3a1-c496fa4603d5",
   "metadata": {},
   "outputs": [],
   "source": [
    "dic_Enpt = {\"dog\": \"cao\", \"cat\":\"gato\", \"parrot\":\"papagaio\"}"
   ]
  },
  {
   "cell_type": "code",
   "execution_count": 22,
   "id": "66b5cfc3-ddd1-472d-8eaa-f9bd488baff4",
   "metadata": {},
   "outputs": [],
   "source": [
    "dic_Enpt[\"fish\"] = \"peixe\""
   ]
  },
  {
   "cell_type": "code",
   "execution_count": 23,
   "id": "a148fd8b-16ca-4bf2-9495-b52bf8f56a4f",
   "metadata": {},
   "outputs": [
    {
     "data": {
      "text/plain": [
       "{'dog': 'cao', 'cat': 'gato', 'parrot': 'papagaio', 'fish': 'peixe'}"
      ]
     },
     "execution_count": 23,
     "metadata": {},
     "output_type": "execute_result"
    }
   ],
   "source": [
    "dic_Enpt"
   ]
  },
  {
   "cell_type": "markdown",
   "id": "8bf7d0ae-69e7-4ed1-bbe7-ebafa7082346",
   "metadata": {},
   "source": [
    "# Alterando"
   ]
  },
  {
   "cell_type": "code",
   "execution_count": 24,
   "id": "73e3589a-414f-4e00-9bb6-169183513f3c",
   "metadata": {},
   "outputs": [],
   "source": [
    "dic_Enpt = {\"dog\": \"cao\", \"cat\":\"gato\", \"parrot\":\"papagaio\"}"
   ]
  },
  {
   "cell_type": "code",
   "execution_count": 25,
   "id": "db13ab88-d669-4460-b4fc-50f2b49c210f",
   "metadata": {},
   "outputs": [],
   "source": [
    "dic_Enpt[\"cat\"] = \"felino\""
   ]
  },
  {
   "cell_type": "code",
   "execution_count": 26,
   "id": "e9955780-a6d6-417b-b5c1-c2a28ee3eb37",
   "metadata": {},
   "outputs": [
    {
     "data": {
      "text/plain": [
       "{'dog': 'cao', 'cat': 'felino', 'parrot': 'papagaio'}"
      ]
     },
     "execution_count": 26,
     "metadata": {},
     "output_type": "execute_result"
    }
   ],
   "source": [
    "dic_Enpt"
   ]
  },
  {
   "cell_type": "markdown",
   "id": "2ecf506e-4ba1-406e-8357-143eef0a748d",
   "metadata": {},
   "source": [
    "# Removendo"
   ]
  },
  {
   "cell_type": "code",
   "execution_count": 31,
   "id": "7f5b7385-0256-4c85-8323-427d47d852b0",
   "metadata": {},
   "outputs": [],
   "source": [
    "dic_Enpt = {\"dog\": \"cao\", \"cat\":\"gato\", \"parrot\":\"papagaio\"}"
   ]
  },
  {
   "cell_type": "code",
   "execution_count": 32,
   "id": "4512dbb3-97c5-46ce-9e2c-df72609f7470",
   "metadata": {},
   "outputs": [
    {
     "data": {
      "text/plain": [
       "'gato'"
      ]
     },
     "execution_count": 32,
     "metadata": {},
     "output_type": "execute_result"
    }
   ],
   "source": [
    "dic_Enpt.pop(\"cat\") # removo pela chave"
   ]
  },
  {
   "cell_type": "code",
   "execution_count": 33,
   "id": "538ab2c9-4f5a-4bfd-90f6-f277f0d30788",
   "metadata": {},
   "outputs": [
    {
     "data": {
      "text/plain": [
       "{'dog': 'cao', 'parrot': 'papagaio'}"
      ]
     },
     "execution_count": 33,
     "metadata": {},
     "output_type": "execute_result"
    }
   ],
   "source": [
    "dic_Enpt"
   ]
  },
  {
   "cell_type": "markdown",
   "id": "3fddacd9-e4fb-4901-bbce-e5e260cc35eb",
   "metadata": {},
   "source": [
    "# Dicionário dentro de Dicionários"
   ]
  },
  {
   "cell_type": "code",
   "execution_count": 34,
   "id": "bfd2414f-9d9b-4473-a366-4748b696f24c",
   "metadata": {},
   "outputs": [],
   "source": [
    "dic_en_pt = {\"dog\":\"cao\", \"cat\":\"gato\", \"bird\":\"passaro\"}\n",
    "dic_pt_en = {\"cao\":\"dog\", \"gato\":\"cat\", \"passaro\":\"bird\"}\n",
    "dic_pt_es = {\"cao\":\"perro\", \"gato\":\"gato\", \"passaro\":\"pajaro\"}"
   ]
  },
  {
   "cell_type": "code",
   "execution_count": 36,
   "id": "84b89d3f-def8-4085-a492-143725e774d3",
   "metadata": {},
   "outputs": [],
   "source": [
    "dic_global = {\n",
    "    \"en_pt\":dic_en_pt,\n",
    "    \"pt_en\":dic_pt_en,\n",
    "    \"pt_es\":dic_pt_es\n",
    "}"
   ]
  },
  {
   "cell_type": "code",
   "execution_count": 37,
   "id": "4493187b-a34d-4903-875f-b2d3127f03fd",
   "metadata": {},
   "outputs": [
    {
     "data": {
      "text/plain": [
       "'cao'"
      ]
     },
     "execution_count": 37,
     "metadata": {},
     "output_type": "execute_result"
    }
   ],
   "source": [
    "dic_global[\"en_pt\"][\"dog\"]"
   ]
  },
  {
   "cell_type": "code",
   "execution_count": 38,
   "id": "2fc1dcbe-4534-446f-a440-3344b3498680",
   "metadata": {},
   "outputs": [
    {
     "data": {
      "text/plain": [
       "'perro'"
      ]
     },
     "execution_count": 38,
     "metadata": {},
     "output_type": "execute_result"
    }
   ],
   "source": [
    "dic_global[\"pt_es\"][\"cao\"]"
   ]
  },
  {
   "cell_type": "code",
   "execution_count": 41,
   "id": "d15f731f-0163-4b48-a7c7-8095b8506411",
   "metadata": {},
   "outputs": [],
   "source": [
    "cadastro = {\n",
    "    30511111:{\"nome\":\"Marcio\",\"idade\":34},\n",
    "    31155555:{\"nome\":\"Willem\",\"data_nascimento\":\"11/30/2000\", \"profissao\":\"bancario\"}\n",
    "}"
   ]
  },
  {
   "cell_type": "code",
   "execution_count": 42,
   "id": "04e7cd20-b16a-4854-890f-255dd05e9d50",
   "metadata": {},
   "outputs": [
    {
     "data": {
      "text/plain": [
       "{'nome': 'Willem', 'data_nascimento': '11/30/2000', 'profissao': 'bancario'}"
      ]
     },
     "execution_count": 42,
     "metadata": {},
     "output_type": "execute_result"
    }
   ],
   "source": [
    "cadastro[31155555]"
   ]
  },
  {
   "cell_type": "code",
   "execution_count": 44,
   "id": "5a5c871c-0fe6-498f-9d18-7ad5eb9318b8",
   "metadata": {},
   "outputs": [
    {
     "data": {
      "text/plain": [
       "'Marcio'"
      ]
     },
     "execution_count": 44,
     "metadata": {},
     "output_type": "execute_result"
    }
   ],
   "source": [
    "cadastro[30511111][\"nome\"]"
   ]
  },
  {
   "cell_type": "markdown",
   "id": "42c47d76-54c5-4f5d-9a75-84fe13132f8e",
   "metadata": {},
   "source": [
    "# Missão"
   ]
  },
  {
   "cell_type": "markdown",
   "id": "96679f62-4ea2-4b47-87de-70990ebe8096",
   "metadata": {},
   "source": [
    "DDD"
   ]
  },
  {
   "cell_type": "markdown",
   "id": "571a0550-3443-4f79-9cae-045eebfc1c6b",
   "metadata": {},
   "source": [
    "#Lanche"
   ]
  },
  {
   "cell_type": "code",
   "execution_count": null,
   "id": "1c8c186a-b57a-40e5-859b-57d702ece344",
   "metadata": {},
   "outputs": [],
   "source": [
    "precos = {1:4.00, 2:4.50, 3:5.00, 4:2.00, 5:1.50}\n",
    "\n",
    "codigo, quantidade = map(float, input().split(\" \"))\n",
    "\n",
    "print(\"Total: R$ {:.2f}\".format(precos[codigo]*quantidade))"
   ]
  },
  {
   "cell_type": "code",
   "execution_count": null,
   "id": "3d3da032-4fe2-4d3d-bfca-3fc9b00e7526",
   "metadata": {
    "tags": []
   },
   "outputs": [],
   "source": [
    "#DDD"
   ]
  },
  {
   "cell_type": "code",
   "execution_count": 4,
   "id": "ea8d94bf-8d0a-44ae-a66c-17519052ecb7",
   "metadata": {},
   "outputs": [
    {
     "name": "stdin",
     "output_type": "stream",
     "text": [
      " 81\n"
     ]
    },
    {
     "name": "stdout",
     "output_type": "stream",
     "text": [
      "DDD nao cadastrado\n"
     ]
    }
   ],
   "source": [
    "destino = {61:\"Brasilia\", 71:\"Salvador\", 11:\"São Paulo\", 21:\"Rio de Janeiro\", 32:\"Juiz de Fora\", 19:\"Campinas\", 27:\"Vitoria\", 31:\"Belo Horizonte\"}\n",
    "numero = int(input())\n",
    "if numero in destino.keys():\n",
    "    print(destino[numero])\n",
    "else:\n",
    "    print(\"DDD nao cadastrado\")"
   ]
  },
  {
   "cell_type": "code",
   "execution_count": 3,
   "id": "05d49fd7-e5ec-4e28-b205-9d6503e20e76",
   "metadata": {},
   "outputs": [
    {
     "data": {
      "text/plain": [
       "dict_keys([61, 71, 11, 21, 32, 19, 27, 31])"
      ]
     },
     "execution_count": 3,
     "metadata": {},
     "output_type": "execute_result"
    }
   ],
   "source": [
    "destino.keys()"
   ]
  },
  {
   "cell_type": "code",
   "execution_count": null,
   "id": "b5ba07b8-f8c1-4631-9a28-e8318d74cf18",
   "metadata": {},
   "outputs": [],
   "source": []
  }
 ],
 "metadata": {
  "kernelspec": {
   "display_name": "Python 3 (ipykernel)",
   "language": "python",
   "name": "python3"
  },
  "language_info": {
   "codemirror_mode": {
    "name": "ipython",
    "version": 3
   },
   "file_extension": ".py",
   "mimetype": "text/x-python",
   "name": "python",
   "nbconvert_exporter": "python",
   "pygments_lexer": "ipython3",
   "version": "3.9.13"
  }
 },
 "nbformat": 4,
 "nbformat_minor": 5
}
