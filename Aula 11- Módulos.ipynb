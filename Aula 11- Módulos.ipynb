{
 "cells": [
  {
   "cell_type": "markdown",
   "id": "42046557-f481-41de-84f3-809c07277989",
   "metadata": {},
   "source": [
    "# Importando bibliotecas"
   ]
  },
  {
   "cell_type": "code",
   "execution_count": null,
   "id": "0a5941b2-260c-4e5c-8673-706b8f058476",
   "metadata": {},
   "outputs": [],
   "source": [
    "import random\n",
    "\n",
    "print(random.randint(1,50))"
   ]
  },
  {
   "cell_type": "code",
   "execution_count": null,
   "id": "8505d29a-5ba0-4fa3-8cdc-148f103b069e",
   "metadata": {},
   "outputs": [],
   "source": [
    "import math\n",
    "\n",
    "print(math.pow(2,3))\n",
    "print(math.ceil(2.1))\n",
    "print(math.trunc(2.8))\n",
    "print(math.pi)"
   ]
  },
  {
   "cell_type": "code",
   "execution_count": null,
   "id": "e4168535-861c-49ec-ad99-8b13b1e57984",
   "metadata": {},
   "outputs": [],
   "source": [
    "import os\n",
    "\n",
    "if os.path.exists(\"valor_intervalo.txt\"):\n",
    "    os.remove(\"valor_intervalo.txt\")\n",
    "else:\n",
    "    print(\"O arquivo nao encontrado\")"
   ]
  },
  {
   "cell_type": "markdown",
   "id": "e6d0c11a-1e4f-44a6-9e2f-30bfcef3d7da",
   "metadata": {},
   "source": [
    "# Explorar módulos embutidos"
   ]
  },
  {
   "cell_type": "code",
   "execution_count": null,
   "id": "0b19411b-4090-4894-afa6-8e6a06743ddc",
   "metadata": {
    "tags": []
   },
   "outputs": [],
   "source": [
    "import math\n",
    "\n",
    "print(dir(math))"
   ]
  },
  {
   "cell_type": "code",
   "execution_count": null,
   "id": "65dfff9b-d76a-4212-82c4-61258376a996",
   "metadata": {
    "tags": []
   },
   "outputs": [],
   "source": [
    "import os\n",
    "\n",
    "print(dir(os))"
   ]
  },
  {
   "cell_type": "code",
   "execution_count": null,
   "id": "023f5f25-0056-44ce-8739-8d1ee305a388",
   "metadata": {
    "tags": []
   },
   "outputs": [],
   "source": [
    "import os\n",
    "\n",
    "print(help(os.path))"
   ]
  },
  {
   "cell_type": "markdown",
   "id": "9cf85712-1ad6-409f-96c5-be04380ba02e",
   "metadata": {},
   "source": [
    "# Criando nossos módulos (conjunto de funções de um mesmo tema)"
   ]
  },
  {
   "cell_type": "code",
   "execution_count": null,
   "id": "33befcab-a382-43ca-b946-755388936859",
   "metadata": {},
   "outputs": [],
   "source": [
    "import caixa_cambio"
   ]
  },
  {
   "cell_type": "code",
   "execution_count": null,
   "id": "0c8822bc-d775-4de2-ab76-93611c575d6e",
   "metadata": {},
   "outputs": [],
   "source": [
    "caixa_cambio.euro_real(100)"
   ]
  },
  {
   "cell_type": "code",
   "execution_count": null,
   "id": "53270d0d-9ec5-468f-984c-ac372484a34a",
   "metadata": {},
   "outputs": [],
   "source": [
    "caixa_cambio.real_euro(100)"
   ]
  },
  {
   "cell_type": "markdown",
   "id": "0f7e5446-a326-4af4-b5f0-5d00a65c3b53",
   "metadata": {},
   "source": [
    "# Criando um pacote (conjunto de módulos)"
   ]
  },
  {
   "cell_type": "code",
   "execution_count": null,
   "id": "c0a57c4f-3883-4912-ad26-9a2e1944f563",
   "metadata": {},
   "outputs": [],
   "source": [
    "from banco import caixa_cambio"
   ]
  },
  {
   "cell_type": "code",
   "execution_count": null,
   "id": "76f5f986-2311-4364-b83a-1997380bca5d",
   "metadata": {},
   "outputs": [],
   "source": [
    "caixa_cambio.real_euro(3000)"
   ]
  },
  {
   "cell_type": "markdown",
   "id": "c66eb96d-3745-470e-8718-b6b0fce1ccc5",
   "metadata": {},
   "source": [
    "# Alcunhas"
   ]
  },
  {
   "cell_type": "code",
   "execution_count": null,
   "id": "83f11a9d-8110-47d8-837a-8d26f8777f76",
   "metadata": {},
   "outputs": [],
   "source": [
    "from banco import caixa_cambio as cc\n",
    "\n",
    "cc.real_euro(1000)"
   ]
  },
  {
   "cell_type": "code",
   "execution_count": null,
   "id": "9a4e3ce0-2e4d-4d83-914a-c156f12ccb85",
   "metadata": {},
   "outputs": [],
   "source": [
    "import random as sorteio\n",
    "\n",
    "sorteio.randint(5,25)"
   ]
  },
  {
   "cell_type": "markdown",
   "id": "72cb3968-6e22-4b97-adb1-613e9776e0a7",
   "metadata": {},
   "source": [
    "# Exemplos"
   ]
  },
  {
   "cell_type": "code",
   "execution_count": 1,
   "id": "761b9810-b2ed-4739-8142-b4ae84a017e8",
   "metadata": {},
   "outputs": [
    {
     "name": "stdout",
     "output_type": "stream",
     "text": [
      "([11, 15, 16, 18, 19, 8, 30], [5, 9])\n"
     ]
    }
   ],
   "source": [
    "from banco import euroMilhoes\n",
    "\n",
    "print(euroMilhoes.sorteio_euromilhoes())"
   ]
  },
  {
   "cell_type": "markdown",
   "id": "eec9a61f-24ac-45b8-a1a4-78ad11816d38",
   "metadata": {},
   "source": [
    "# Missão"
   ]
  },
  {
   "cell_type": "markdown",
   "id": "938c6c4e-a1b2-43bb-bf56-5d2264493322",
   "metadata": {},
   "source": [
    "Criar a biblioteca areas_matematica para resolver esta questão"
   ]
  },
  {
   "cell_type": "markdown",
   "id": "2fd3f0f5-9118-4209-a11d-28cd26bbe111",
   "metadata": {},
   "source": [
    "https://www.beecrowd.com.br/judge/pt/problems/view/1012"
   ]
  },
  {
   "cell_type": "code",
   "execution_count": null,
   "id": "a9a7e593-c8b1-4d48-ac04-b9ea7d5d2a81",
   "metadata": {},
   "outputs": [],
   "source": [
    "import areas_matematica\n",
    "\n",
    "a,b,c = map(int,input().split())\n",
    "\n",
    "print(areas_matematica.triangulo(a, c))\n",
    "print(areas_matematica.circulo(c))\n",
    "print(areas_matematica.trapezio(a,b,c))\n",
    "print(areas_matematica.quadrado(b))\n",
    "print(areas_matematica.retangulo(a,b))"
   ]
  },
  {
   "cell_type": "markdown",
   "id": "e3a90e4f-3f7f-412d-a604-390836b1a44f",
   "metadata": {},
   "source": [
    "Criar uma biblioteca com as funções de salario para resolver essas duas questoes"
   ]
  },
  {
   "cell_type": "markdown",
   "id": "28efa8e0-6301-4ff6-8786-513191878bcf",
   "metadata": {},
   "source": [
    "https://www.beecrowd.com.br/judge/pt/problems/view/1008"
   ]
  },
  {
   "cell_type": "code",
   "execution_count": 7,
   "id": "2d6b0178-f755-426a-9986-820ba4079144",
   "metadata": {},
   "outputs": [
    {
     "ename": "ModuleNotFoundError",
     "evalue": "No module named 'salario'",
     "output_type": "error",
     "traceback": [
      "\u001b[1;31m---------------------------------------------------------------------------\u001b[0m",
      "\u001b[1;31mModuleNotFoundError\u001b[0m                       Traceback (most recent call last)",
      "\u001b[1;32m~\\AppData\\Local\\Temp\\ipykernel_2084\\2914769635.py\u001b[0m in \u001b[0;36m<module>\u001b[1;34m\u001b[0m\n\u001b[1;32m----> 1\u001b[1;33m \u001b[1;32mfrom\u001b[0m \u001b[0msalario\u001b[0m \u001b[1;32mimport\u001b[0m \u001b[0msalario\u001b[0m\u001b[1;33m\u001b[0m\u001b[1;33m\u001b[0m\u001b[0m\n\u001b[0m",
      "\u001b[1;31mModuleNotFoundError\u001b[0m: No module named 'salario'"
     ]
    }
   ],
   "source": [
    "from salario import salario\n"
   ]
  },
  {
   "cell_type": "markdown",
   "id": "7e7e519f-2c34-48e3-9921-6ef3689cb122",
   "metadata": {},
   "source": [
    "https://www.beecrowd.com.br/judge/pt/problems/view/1009"
   ]
  },
  {
   "cell_type": "code",
   "execution_count": null,
   "id": "bf23d12c-fbce-4e69-bf2e-553a670734c9",
   "metadata": {},
   "outputs": [],
   "source": []
  }
 ],
 "metadata": {
  "kernelspec": {
   "display_name": "Python 3 (ipykernel)",
   "language": "python",
   "name": "python3"
  },
  "language_info": {
   "codemirror_mode": {
    "name": "ipython",
    "version": 3
   },
   "file_extension": ".py",
   "mimetype": "text/x-python",
   "name": "python",
   "nbconvert_exporter": "python",
   "pygments_lexer": "ipython3",
   "version": "3.9.13"
  }
 },
 "nbformat": 4,
 "nbformat_minor": 5
}
