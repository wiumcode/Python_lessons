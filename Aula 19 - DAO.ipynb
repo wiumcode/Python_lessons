{
 "cells": [
  {
   "cell_type": "markdown",
   "id": "86e6942d-30d0-4881-b906-95eefd74c2ce",
   "metadata": {},
   "source": [
    "# Import"
   ]
  },
  {
   "cell_type": "code",
   "execution_count": 1,
   "id": "0a9f6b4e-fee7-49dc-ae21-2e40e77f8b42",
   "metadata": {},
   "outputs": [],
   "source": [
    "from conexaoBD import CRUD_DAO"
   ]
  },
  {
   "cell_type": "markdown",
   "id": "feedd994-d3d7-475b-9d19-a1b819aaf8de",
   "metadata": {
    "tags": []
   },
   "source": [
    "# Interface com Usuario"
   ]
  },
  {
   "cell_type": "code",
   "execution_count": 6,
   "id": "332719d1-5c7c-4b61-b2a7-43ac64fe1f6c",
   "metadata": {
    "tags": []
   },
   "outputs": [
    {
     "name": "stdout",
     "output_type": "stream",
     "text": [
      "\n"
     ]
    },
    {
     "name": "stdin",
     "output_type": "stream",
     "text": [
      "Choose a option: \n",
      "(1) Create table \n",
      "(2) Insert \n",
      "(3) Select \n",
      "(4) Alter \n",
      "(5) Delete \n",
      "(6) Drop table \n",
      "or type 'exit'\n",
      " 3\n",
      "Enter the name of the table:  city\n",
      "Enter the list of columns for the select: *\n",
      "Enter the limit of results: 20\n"
     ]
    },
    {
     "name": "stdout",
     "output_type": "stream",
     "text": [
      "(1, 'Kabul', 'AFG', 'Kabol', 1780000)\n",
      "(2, 'Qandahar', 'AFG', 'Qandahar', 237500)\n",
      "(3, 'Herat', 'AFG', 'Herat', 186800)\n",
      "(4, 'Mazar-e-Sharif', 'AFG', 'Balkh', 127800)\n",
      "(5, 'Amsterdam', 'NLD', 'Noord-Holland', 731200)\n",
      "(6, 'Rotterdam', 'NLD', 'Zuid-Holland', 593321)\n",
      "(7, 'Haag', 'NLD', 'Zuid-Holland', 440900)\n",
      "(8, 'Utrecht', 'NLD', 'Utrecht', 234323)\n",
      "(9, 'Eindhoven', 'NLD', 'Noord-Brabant', 201843)\n",
      "(10, 'Tilburg', 'NLD', 'Noord-Brabant', 193238)\n",
      "(11, 'Groningen', 'NLD', 'Groningen', 172701)\n",
      "(12, 'Breda', 'NLD', 'Noord-Brabant', 160398)\n",
      "(13, 'Apeldoorn', 'NLD', 'Gelderland', 153491)\n",
      "(14, 'Nijmegen', 'NLD', 'Gelderland', 152463)\n",
      "(15, 'Enschede', 'NLD', 'Overijssel', 149544)\n",
      "(16, 'Haarlem', 'NLD', 'Noord-Holland', 148772)\n",
      "(17, 'Almere', 'NLD', 'Flevoland', 142465)\n",
      "(18, 'Arnhem', 'NLD', 'Gelderland', 138020)\n",
      "(19, 'Zaanstad', 'NLD', 'Noord-Holland', 135621)\n",
      "(20, '´s-Hertogenbosch', 'NLD', 'Noord-Brabant', 129170)\n",
      "\n"
     ]
    },
    {
     "name": "stdin",
     "output_type": "stream",
     "text": [
      "Choose a option: \n",
      "(1) Create table \n",
      "(2) Insert \n",
      "(3) Select \n",
      "(4) Alter \n",
      "(5) Delete \n",
      "(6) Drop table \n",
      "or type 'exit'\n",
      " 4\n",
      "Enter the name of the table:  city\n",
      "Would you like to 'ADD COLUMN', 'DROP COLUMN', 'RENAME COLUMN', or 'MODIFY COLUMN'?  rename column\n",
      "Enter the name of the column to rename:  countrylanguage\n",
      "Enter the new name for the column:  country_language\n"
     ]
    },
    {
     "name": "stdout",
     "output_type": "stream",
     "text": [
      "ID\n",
      "Name\n",
      "CountryCode\n",
      "District\n",
      "Population\n",
      "1054 (42S22): Unknown column 'countrylanguage' in 'city' \n",
      "\n"
     ]
    },
    {
     "name": "stdin",
     "output_type": "stream",
     "text": [
      "Choose a option: \n",
      "(1) Create table \n",
      "(2) Insert \n",
      "(3) Select \n",
      "(4) Alter \n",
      "(5) Delete \n",
      "(6) Drop table \n",
      "or type 'exit'\n",
      " 4\n",
      "Enter the name of the table:  city\n",
      "Would you like to 'ADD COLUMN', 'DROP COLUMN', 'RENAME COLUMN', or 'MODIFY COLUMN'?  rename column\n",
      "Enter the name of the column to rename:  countrylanguage\n",
      "Enter the new name for the column:  country_language\n"
     ]
    },
    {
     "name": "stdout",
     "output_type": "stream",
     "text": [
      "ID\n",
      "Name\n",
      "CountryCode\n",
      "District\n",
      "Population\n",
      "1054 (42S22): Unknown column 'countrylanguage' in 'city' \n",
      "\n"
     ]
    },
    {
     "name": "stdin",
     "output_type": "stream",
     "text": [
      "Choose a option: \n",
      "(1) Create table \n",
      "(2) Insert \n",
      "(3) Select \n",
      "(4) Alter \n",
      "(5) Delete \n",
      "(6) Drop table \n",
      "or type 'exit'\n",
      " exit\n"
     ]
    }
   ],
   "source": [
    "conexao_escola = CRUD_DAO(\"root\", \"#SQLiscool1\", \"world\")\n",
    "\n",
    "mensagem = \"Choose a option: \\n(1) Create table \\n(2) Insert \\n(3) Select \\n(4) Alter \\n(5) Delete \\n(6) Drop table \\nor type 'exit'\\n\"\n",
    "\n",
    "print()\n",
    "opcao = input(mensagem)\n",
    "\n",
    "while opcao!=\"exit\":\n",
    "    \n",
    "    try:\n",
    "        if opcao == \"1\":\n",
    "            table_name = input(\"Enter the name of the new table: \")\n",
    "            conexao_escola.create_table(table_name)\n",
    "            print(f\"Table {table_name} created successfully!\")\n",
    "    \n",
    "        elif opcao ==\"2\":\n",
    "            table_name = input(\"Enter the name of the table: \")\n",
    "            list_values = input(\"Enter the list of columns for the insert: \")\n",
    "            data = input(\"Enter the data for insert: \")\n",
    "            conexao_escola.insert_into_table(table_name, list_values, data)\n",
    "            \n",
    "            \n",
    "        elif opcao ==\"3\":\n",
    "            table_name = input(\"Enter the name of the table: \")\n",
    "            list_select = input(\"Enter the list of columns for the select:\")\n",
    "            limit = input(\"Enter the limit of results:\")\n",
    "            conexao_escola.select_from_table(table_name, list_select, limit)\n",
    "\n",
    "        elif opcao ==\"4\":\n",
    "            erro = False\n",
    "            table_name = input(\"Enter the name of the table: \")\n",
    "            action = input(\"Would you like to 'ADD COLUMN', 'DROP COLUMN', 'RENAME COLUMN', or 'MODIFY COLUMN'? \").upper()\n",
    "            \n",
    "            if action == \"ADD COLUMN\":\n",
    "                column_name = input(\"Enter the name of the new column: \")\n",
    "                column_type = input(\"Enter the data type of the new column: \")\n",
    "                conexao_escola.add_column(table_name, column_name, column_type)\n",
    "            \n",
    "            elif action == \"DROP COLUMN\":\n",
    "                column_name = input(\"Enter the name of the column to drop: \")\n",
    "                conexao_escola.drop_column(table_name, column_name)\n",
    "            \n",
    "            elif action == \"RENAME COLUMN\":\n",
    "                old_column_name = input(\"Enter the name of the column to rename: \")\n",
    "                new_column_name = input(\"Enter the new name for the column: \")\n",
    "                conexao_escola.rename_column(table_name, old_column_name, new_column_name)\n",
    "            \n",
    "            elif action == \"MODIFY COLUMN\":\n",
    "                column_name = input(\"Enter the name of the column to modify: \")\n",
    "                new_column_type = input(\"Enter the new data type for the column: \")\n",
    "                conexao_escola.modify_column(table_name, column_name, new_column_name)\n",
    "            \n",
    "            else:\n",
    "                print(\"Invalid action.\")\n",
    "                erro = True\n",
    "            \n",
    "            if not(erro):\n",
    "                print(\"Alter table completed successfully.\")\n",
    "            \n",
    "            \n",
    "        elif opcao==\"5\":\n",
    "            table_name = input(\"Enter the name of the table: \")\n",
    "            conditions = input(\"Enter the conditions for the delete: \")\n",
    "            conexao_escola.delete_rows(table_name, conditions)\n",
    "            \n",
    "        elif opcao==\"6\":\n",
    "            table_name = input(\"Enter the name of the table: \")\n",
    "            conexao_escola.drop_table(table_name)\n",
    "            \n",
    "    except Exception as e:\n",
    "        print(e,\"\\n\")\n",
    "        \n",
    "    \n",
    "    \n",
    "    opcao = input(mensagem) "
   ]
  },
  {
   "cell_type": "markdown",
   "id": "0e477aec-3c48-4903-b1e9-afe7767e78c1",
   "metadata": {},
   "source": [
    "# Trabalhando com outro BD"
   ]
  },
  {
   "cell_type": "code",
   "execution_count": 3,
   "id": "d0fb831b-898a-4c60-8cb0-f666c9a10a97",
   "metadata": {},
   "outputs": [],
   "source": [
    "from conexaoBD import CRUD_DAO"
   ]
  },
  {
   "cell_type": "code",
   "execution_count": 4,
   "id": "6b95f064-d0fc-44da-847a-88e2b70e90a6",
   "metadata": {},
   "outputs": [],
   "source": [
    "conexao_bd_movies = CRUD_DAO(\"root\", \"root\", \"sakila\")"
   ]
  },
  {
   "cell_type": "code",
   "execution_count": 5,
   "id": "0d678c68-0bae-46fb-86cc-20c819c1646d",
   "metadata": {},
   "outputs": [
    {
     "name": "stdout",
     "output_type": "stream",
     "text": [
      "(1, 'PENELOPE', 'GUINESS', datetime.datetime(2006, 2, 15, 4, 34, 33))\n",
      "(2, 'NICK', 'WAHLBERG', datetime.datetime(2006, 2, 15, 4, 34, 33))\n",
      "(3, 'ED', 'CHASE', datetime.datetime(2006, 2, 15, 4, 34, 33))\n",
      "(4, 'JENNIFER', 'DAVIS', datetime.datetime(2006, 2, 15, 4, 34, 33))\n",
      "(5, 'JOHNNY', 'LOLLOBRIGIDA', datetime.datetime(2006, 2, 15, 4, 34, 33))\n",
      "\n"
     ]
    },
    {
     "data": {
      "text/plain": [
       "[(1, 'PENELOPE', 'GUINESS', datetime.datetime(2006, 2, 15, 4, 34, 33)),\n",
       " (2, 'NICK', 'WAHLBERG', datetime.datetime(2006, 2, 15, 4, 34, 33)),\n",
       " (3, 'ED', 'CHASE', datetime.datetime(2006, 2, 15, 4, 34, 33)),\n",
       " (4, 'JENNIFER', 'DAVIS', datetime.datetime(2006, 2, 15, 4, 34, 33)),\n",
       " (5, 'JOHNNY', 'LOLLOBRIGIDA', datetime.datetime(2006, 2, 15, 4, 34, 33))]"
      ]
     },
     "execution_count": 5,
     "metadata": {},
     "output_type": "execute_result"
    }
   ],
   "source": [
    "conexao_bd_movies.select_from_table(\"actor\", \"*\")"
   ]
  },
  {
   "cell_type": "code",
   "execution_count": 6,
   "id": "ebdbe19f-3a1f-4ab5-8423-a634fd4bdc14",
   "metadata": {},
   "outputs": [
    {
     "name": "stdout",
     "output_type": "stream",
     "text": [
      "actor_id\n",
      "first_name\n",
      "last_name\n",
      "last_update\n"
     ]
    }
   ],
   "source": [
    "conexao_bd_movies.descrever_tabela(\"actor\")"
   ]
  },
  {
   "cell_type": "code",
   "execution_count": null,
   "id": "ef8f1ebe-02ba-45e3-8b81-f4be0fd9dea6",
   "metadata": {},
   "outputs": [],
   "source": []
  }
 ],
 "metadata": {
  "kernelspec": {
   "display_name": "Python 3 (ipykernel)",
   "language": "python",
   "name": "python3"
  },
  "language_info": {
   "codemirror_mode": {
    "name": "ipython",
    "version": 3
   },
   "file_extension": ".py",
   "mimetype": "text/x-python",
   "name": "python",
   "nbconvert_exporter": "python",
   "pygments_lexer": "ipython3",
   "version": "3.9.13"
  }
 },
 "nbformat": 4,
 "nbformat_minor": 5
}
