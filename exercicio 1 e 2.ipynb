{
 "cells": [
  {
   "cell_type": "code",
   "execution_count": 1,
   "id": "d5e23dbf-8e3b-4aac-84f8-ab4e4b35d3ce",
   "metadata": {},
   "outputs": [],
   "source": [
    "from Vencimentos import salary"
   ]
  },
  {
   "cell_type": "code",
   "execution_count": 2,
   "id": "30286378-74d5-4eda-b7b4-afef6d6e1fcd",
   "metadata": {},
   "outputs": [
    {
     "name": "stdin",
     "output_type": "stream",
     "text": [
      "Indique seu numero de colaborador 100\n",
      "Indique quantidade de horas de trabalho semanal 40\n",
      "vencimento por hora 13\n"
     ]
    },
    {
     "name": "stdout",
     "output_type": "stream",
     "text": [
      "Numero = 100\n",
      "Salario = R$ 520.00\n"
     ]
    }
   ],
   "source": [
    "salary.salario()"
   ]
  },
  {
   "cell_type": "code",
   "execution_count": 4,
   "id": "99b85f2b-c59e-40ef-8c21-89db4471c44d",
   "metadata": {},
   "outputs": [
    {
     "name": "stdout",
     "output_type": "stream",
     "text": [
      "Numero = 100\n",
      "Salario = R$ 1320.00\n"
     ]
    }
   ],
   "source": [
    "salary.salario2(100, 40, 33)"
   ]
  },
  {
   "cell_type": "code",
   "execution_count": null,
   "id": "08fc3af1-6ac9-4e58-8d5d-1170f72ff6f4",
   "metadata": {},
   "outputs": [],
   "source": [
    "salary.salario_bonus2(\"andre\", 1000, 500)"
   ]
  },
  {
   "cell_type": "code",
   "execution_count": null,
   "id": "7f5cd5e7-d3c7-4ed3-9423-b17a628d3748",
   "metadata": {},
   "outputs": [],
   "source": [
    "nome = input(\"Como se chama?\")\n",
    "salario = float(input(\"Indique seu salario mensal\"))\n",
    "vendas = float(input(\"Indique quantidade de vendas mensal\"))\n",
    "salary.salario_bonus2(nome, salario, vendas)"
   ]
  },
  {
   "cell_type": "code",
   "execution_count": null,
   "id": "741dc7e4-60ea-44a8-9210-544de8dc3699",
   "metadata": {},
   "outputs": [],
   "source": [
    "print(\"Como se chama?\")\n",
    "print(\"Indique seu salario mensal\")\n",
    "print(\"Indique quantidade de vendas mensal\")\n",
    "salary.salario_bonus2(\"andre\", 1000, 500)"
   ]
  }
 ],
 "metadata": {
  "kernelspec": {
   "display_name": "Python 3 (ipykernel)",
   "language": "python",
   "name": "python3"
  },
  "language_info": {
   "codemirror_mode": {
    "name": "ipython",
    "version": 3
   },
   "file_extension": ".py",
   "mimetype": "text/x-python",
   "name": "python",
   "nbconvert_exporter": "python",
   "pygments_lexer": "ipython3",
   "version": "3.9.13"
  }
 },
 "nbformat": 4,
 "nbformat_minor": 5
}
